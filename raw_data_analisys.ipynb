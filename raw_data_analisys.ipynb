{
 "cells": [
  {
   "cell_type": "code",
   "execution_count": 1,
   "metadata": {},
   "outputs": [],
   "source": [
    "%load_ext autoreload\n",
    "%autoreload 2"
   ]
  },
  {
   "cell_type": "code",
   "execution_count": 2,
   "metadata": {
    "pycharm": {
     "is_executing": false
    }
   },
   "outputs": [],
   "source": [
    "import numpy as np\n",
    "import pandas as pd\n",
    "import matplotlib\n",
    "matplotlib.use('Qt5Agg')\n",
    "import matplotlib.pyplot as plt\n",
    "from wind_tools import *\n",
    "\n",
    "proc_dir = Path(\"/run/media/simone/Simone DATI/TRISONICA_DATA/Processed/\")\n",
    "wm1_path = proc_dir / \"WM1_ago_sept\" / \"eddypro_WM1_full_output_2019-12-20T105458_exp.csv\"\n",
    "root_dir = Path(\"test_data/test_rot\")\n",
    "raw_p = Path(\"test_data/20180809-2030_WM_174605_com1.raw\")\n",
    "\n",
    "proc_series_name = \"20180809-2100_raw_dataset_2020-01-20T185022_adv.txt\"\n"
   ]
  },
  {
   "cell_type": "code",
   "execution_count": 3,
   "metadata": {},
   "outputs": [
    {
     "name": "stdout",
     "output_type": "stream",
     "text": [
      "Using matplotlib backend: Qt5Agg\n"
     ]
    }
   ],
   "source": [
    "%matplotlib "
   ]
  },
  {
   "cell_type": "code",
   "execution_count": 3,
   "metadata": {
    "pycharm": {
     "is_executing": false
    }
   },
   "outputs": [],
   "source": [
    "n_samples = 30 / 5\n",
    "\n",
    "wind_df = pd.read_csv(raw_p, usecols=(0,2,3,4,6), names=['tstmp','u', 'v', 'w', 't'], header=None)"
   ]
  },
  {
   "cell_type": "code",
   "execution_count": 5,
   "metadata": {},
   "outputs": [
    {
     "data": {
      "text/html": [
       "<div>\n",
       "<style scoped>\n",
       "    .dataframe tbody tr th:only-of-type {\n",
       "        vertical-align: middle;\n",
       "    }\n",
       "\n",
       "    .dataframe tbody tr th {\n",
       "        vertical-align: top;\n",
       "    }\n",
       "\n",
       "    .dataframe thead th {\n",
       "        text-align: right;\n",
       "    }\n",
       "</style>\n",
       "<table border=\"1\" class=\"dataframe\">\n",
       "  <thead>\n",
       "    <tr style=\"text-align: right;\">\n",
       "      <th></th>\n",
       "      <th>tstmp</th>\n",
       "      <th>u</th>\n",
       "      <th>v</th>\n",
       "      <th>w</th>\n",
       "      <th>t</th>\n",
       "    </tr>\n",
       "  </thead>\n",
       "  <tbody>\n",
       "    <tr>\n",
       "      <th>0</th>\n",
       "      <td>203000</td>\n",
       "      <td>0.13</td>\n",
       "      <td>0.20</td>\n",
       "      <td>0.20</td>\n",
       "      <td>28.33</td>\n",
       "    </tr>\n",
       "    <tr>\n",
       "      <th>1</th>\n",
       "      <td>203000</td>\n",
       "      <td>0.06</td>\n",
       "      <td>0.18</td>\n",
       "      <td>0.16</td>\n",
       "      <td>28.35</td>\n",
       "    </tr>\n",
       "    <tr>\n",
       "      <th>2</th>\n",
       "      <td>203000</td>\n",
       "      <td>0.05</td>\n",
       "      <td>0.19</td>\n",
       "      <td>0.15</td>\n",
       "      <td>28.38</td>\n",
       "    </tr>\n",
       "    <tr>\n",
       "      <th>3</th>\n",
       "      <td>203000</td>\n",
       "      <td>0.10</td>\n",
       "      <td>0.18</td>\n",
       "      <td>0.20</td>\n",
       "      <td>28.43</td>\n",
       "    </tr>\n",
       "    <tr>\n",
       "      <th>4</th>\n",
       "      <td>203000</td>\n",
       "      <td>0.23</td>\n",
       "      <td>0.13</td>\n",
       "      <td>0.22</td>\n",
       "      <td>28.47</td>\n",
       "    </tr>\n",
       "    <tr>\n",
       "      <th>...</th>\n",
       "      <td>...</td>\n",
       "      <td>...</td>\n",
       "      <td>...</td>\n",
       "      <td>...</td>\n",
       "      <td>...</td>\n",
       "    </tr>\n",
       "    <tr>\n",
       "      <th>18001</th>\n",
       "      <td>205959</td>\n",
       "      <td>0.43</td>\n",
       "      <td>0.55</td>\n",
       "      <td>0.18</td>\n",
       "      <td>27.52</td>\n",
       "    </tr>\n",
       "    <tr>\n",
       "      <th>18002</th>\n",
       "      <td>205959</td>\n",
       "      <td>0.32</td>\n",
       "      <td>0.69</td>\n",
       "      <td>-0.04</td>\n",
       "      <td>27.50</td>\n",
       "    </tr>\n",
       "    <tr>\n",
       "      <th>18003</th>\n",
       "      <td>205959</td>\n",
       "      <td>0.36</td>\n",
       "      <td>0.54</td>\n",
       "      <td>-0.08</td>\n",
       "      <td>27.52</td>\n",
       "    </tr>\n",
       "    <tr>\n",
       "      <th>18004</th>\n",
       "      <td>205959</td>\n",
       "      <td>0.53</td>\n",
       "      <td>0.48</td>\n",
       "      <td>-0.28</td>\n",
       "      <td>27.50</td>\n",
       "    </tr>\n",
       "    <tr>\n",
       "      <th>18005</th>\n",
       "      <td>210000</td>\n",
       "      <td>0.51</td>\n",
       "      <td>0.42</td>\n",
       "      <td>-0.37</td>\n",
       "      <td>27.50</td>\n",
       "    </tr>\n",
       "  </tbody>\n",
       "</table>\n",
       "<p>18006 rows × 5 columns</p>\n",
       "</div>"
      ],
      "text/plain": [
       "        tstmp     u     v     w      t\n",
       "0      203000  0.13  0.20  0.20  28.33\n",
       "1      203000  0.06  0.18  0.16  28.35\n",
       "2      203000  0.05  0.19  0.15  28.38\n",
       "3      203000  0.10  0.18  0.20  28.43\n",
       "4      203000  0.23  0.13  0.22  28.47\n",
       "...       ...   ...   ...   ...    ...\n",
       "18001  205959  0.43  0.55  0.18  27.52\n",
       "18002  205959  0.32  0.69 -0.04  27.50\n",
       "18003  205959  0.36  0.54 -0.08  27.52\n",
       "18004  205959  0.53  0.48 -0.28  27.50\n",
       "18005  210000  0.51  0.42 -0.37  27.50\n",
       "\n",
       "[18006 rows x 5 columns]"
      ]
     },
     "execution_count": 5,
     "metadata": {},
     "output_type": "execute_result"
    }
   ],
   "source": [
    "wind_df"
   ]
  },
  {
   "cell_type": "code",
   "execution_count": 6,
   "metadata": {},
   "outputs": [
    {
     "data": {
      "text/html": [
       "<div>\n",
       "<style scoped>\n",
       "    .dataframe tbody tr th:only-of-type {\n",
       "        vertical-align: middle;\n",
       "    }\n",
       "\n",
       "    .dataframe tbody tr th {\n",
       "        vertical-align: top;\n",
       "    }\n",
       "\n",
       "    .dataframe thead th {\n",
       "        text-align: right;\n",
       "    }\n",
       "</style>\n",
       "<table border=\"1\" class=\"dataframe\">\n",
       "  <thead>\n",
       "    <tr style=\"text-align: right;\">\n",
       "      <th></th>\n",
       "      <th>tstmp</th>\n",
       "      <th>u</th>\n",
       "      <th>v</th>\n",
       "      <th>w</th>\n",
       "      <th>t</th>\n",
       "    </tr>\n",
       "  </thead>\n",
       "  <tbody>\n",
       "    <tr>\n",
       "      <th>count</th>\n",
       "      <td>18006.000000</td>\n",
       "      <td>18006.000000</td>\n",
       "      <td>18006.000000</td>\n",
       "      <td>18006.000000</td>\n",
       "      <td>18006.000000</td>\n",
       "    </tr>\n",
       "    <tr>\n",
       "      <th>mean</th>\n",
       "      <td>204479.857770</td>\n",
       "      <td>0.247699</td>\n",
       "      <td>0.310869</td>\n",
       "      <td>-0.016067</td>\n",
       "      <td>27.946013</td>\n",
       "    </tr>\n",
       "    <tr>\n",
       "      <th>std</th>\n",
       "      <td>866.650933</td>\n",
       "      <td>0.477576</td>\n",
       "      <td>0.431987</td>\n",
       "      <td>0.311568</td>\n",
       "      <td>0.227592</td>\n",
       "    </tr>\n",
       "    <tr>\n",
       "      <th>min</th>\n",
       "      <td>203000.000000</td>\n",
       "      <td>-1.320000</td>\n",
       "      <td>-1.540000</td>\n",
       "      <td>-1.530000</td>\n",
       "      <td>27.170000</td>\n",
       "    </tr>\n",
       "    <tr>\n",
       "      <th>25%</th>\n",
       "      <td>203730.000000</td>\n",
       "      <td>-0.100000</td>\n",
       "      <td>0.070000</td>\n",
       "      <td>-0.210000</td>\n",
       "      <td>27.790000</td>\n",
       "    </tr>\n",
       "    <tr>\n",
       "      <th>50%</th>\n",
       "      <td>204500.000000</td>\n",
       "      <td>0.250000</td>\n",
       "      <td>0.380000</td>\n",
       "      <td>0.020000</td>\n",
       "      <td>27.970000</td>\n",
       "    </tr>\n",
       "    <tr>\n",
       "      <th>75%</th>\n",
       "      <td>205229.750000</td>\n",
       "      <td>0.610000</td>\n",
       "      <td>0.600000</td>\n",
       "      <td>0.190000</td>\n",
       "      <td>28.140000</td>\n",
       "    </tr>\n",
       "    <tr>\n",
       "      <th>max</th>\n",
       "      <td>210000.000000</td>\n",
       "      <td>1.960000</td>\n",
       "      <td>1.590000</td>\n",
       "      <td>1.020000</td>\n",
       "      <td>28.470000</td>\n",
       "    </tr>\n",
       "  </tbody>\n",
       "</table>\n",
       "</div>"
      ],
      "text/plain": [
       "               tstmp             u             v             w             t\n",
       "count   18006.000000  18006.000000  18006.000000  18006.000000  18006.000000\n",
       "mean   204479.857770      0.247699      0.310869     -0.016067     27.946013\n",
       "std       866.650933      0.477576      0.431987      0.311568      0.227592\n",
       "min    203000.000000     -1.320000     -1.540000     -1.530000     27.170000\n",
       "25%    203730.000000     -0.100000      0.070000     -0.210000     27.790000\n",
       "50%    204500.000000      0.250000      0.380000      0.020000     27.970000\n",
       "75%    205229.750000      0.610000      0.600000      0.190000     28.140000\n",
       "max    210000.000000      1.960000      1.590000      1.020000     28.470000"
      ]
     },
     "execution_count": 6,
     "metadata": {},
     "output_type": "execute_result"
    }
   ],
   "source": [
    "wind_df.describe()"
   ]
  },
  {
   "cell_type": "code",
   "execution_count": 45,
   "metadata": {},
   "outputs": [
    {
     "data": {
      "text/plain": [
       "tstmp         204479.857770\n",
       "u                  0.247699\n",
       "v                  0.310869\n",
       "w                 -0.016067\n",
       "t                 27.946013\n",
       "wind_speed         0.397809\n",
       "dtype: float64"
      ]
     },
     "execution_count": 45,
     "metadata": {},
     "output_type": "execute_result"
    }
   ],
   "source": [
    "add_wind_speed(wind_df.mean())"
   ]
  },
  {
   "cell_type": "code",
   "execution_count": 113,
   "metadata": {},
   "outputs": [],
   "source": [
    "raw_idx = pd.timedelta_range(start=\"20180809203000\", end=\"20180809210000\", periods=18006)"
   ]
  },
  {
   "cell_type": "code",
   "execution_count": 115,
   "metadata": {},
   "outputs": [
    {
     "data": {
      "text/html": [
       "<div>\n",
       "<style scoped>\n",
       "    .dataframe tbody tr th:only-of-type {\n",
       "        vertical-align: middle;\n",
       "    }\n",
       "\n",
       "    .dataframe tbody tr th {\n",
       "        vertical-align: top;\n",
       "    }\n",
       "\n",
       "    .dataframe thead th {\n",
       "        text-align: right;\n",
       "    }\n",
       "</style>\n",
       "<table border=\"1\" class=\"dataframe\">\n",
       "  <thead>\n",
       "    <tr style=\"text-align: right;\">\n",
       "      <th></th>\n",
       "      <th>tstmp</th>\n",
       "      <th>u</th>\n",
       "      <th>v</th>\n",
       "      <th>w</th>\n",
       "      <th>t</th>\n",
       "    </tr>\n",
       "  </thead>\n",
       "  <tbody>\n",
       "    <tr>\n",
       "      <th>05:36:20.809203</th>\n",
       "      <td>203000</td>\n",
       "      <td>0.13</td>\n",
       "      <td>0.20</td>\n",
       "      <td>0.20</td>\n",
       "      <td>28.33</td>\n",
       "    </tr>\n",
       "    <tr>\n",
       "      <th>05:36:20.809203</th>\n",
       "      <td>203000</td>\n",
       "      <td>0.06</td>\n",
       "      <td>0.18</td>\n",
       "      <td>0.16</td>\n",
       "      <td>28.35</td>\n",
       "    </tr>\n",
       "    <tr>\n",
       "      <th>05:36:20.809203</th>\n",
       "      <td>203000</td>\n",
       "      <td>0.05</td>\n",
       "      <td>0.19</td>\n",
       "      <td>0.15</td>\n",
       "      <td>28.38</td>\n",
       "    </tr>\n",
       "    <tr>\n",
       "      <th>05:36:20.809203</th>\n",
       "      <td>203000</td>\n",
       "      <td>0.10</td>\n",
       "      <td>0.18</td>\n",
       "      <td>0.20</td>\n",
       "      <td>28.43</td>\n",
       "    </tr>\n",
       "    <tr>\n",
       "      <th>05:36:20.809203</th>\n",
       "      <td>203000</td>\n",
       "      <td>0.23</td>\n",
       "      <td>0.13</td>\n",
       "      <td>0.22</td>\n",
       "      <td>28.47</td>\n",
       "    </tr>\n",
       "    <tr>\n",
       "      <th>...</th>\n",
       "      <td>...</td>\n",
       "      <td>...</td>\n",
       "      <td>...</td>\n",
       "      <td>...</td>\n",
       "      <td>...</td>\n",
       "    </tr>\n",
       "    <tr>\n",
       "      <th>05:36:20.809209</th>\n",
       "      <td>205959</td>\n",
       "      <td>0.43</td>\n",
       "      <td>0.55</td>\n",
       "      <td>0.18</td>\n",
       "      <td>27.52</td>\n",
       "    </tr>\n",
       "    <tr>\n",
       "      <th>05:36:20.809209</th>\n",
       "      <td>205959</td>\n",
       "      <td>0.32</td>\n",
       "      <td>0.69</td>\n",
       "      <td>-0.04</td>\n",
       "      <td>27.50</td>\n",
       "    </tr>\n",
       "    <tr>\n",
       "      <th>05:36:20.809209</th>\n",
       "      <td>205959</td>\n",
       "      <td>0.36</td>\n",
       "      <td>0.54</td>\n",
       "      <td>-0.08</td>\n",
       "      <td>27.52</td>\n",
       "    </tr>\n",
       "    <tr>\n",
       "      <th>05:36:20.809209</th>\n",
       "      <td>205959</td>\n",
       "      <td>0.53</td>\n",
       "      <td>0.48</td>\n",
       "      <td>-0.28</td>\n",
       "      <td>27.50</td>\n",
       "    </tr>\n",
       "    <tr>\n",
       "      <th>05:36:20.809210</th>\n",
       "      <td>210000</td>\n",
       "      <td>0.51</td>\n",
       "      <td>0.42</td>\n",
       "      <td>-0.37</td>\n",
       "      <td>27.50</td>\n",
       "    </tr>\n",
       "  </tbody>\n",
       "</table>\n",
       "<p>18006 rows × 5 columns</p>\n",
       "</div>"
      ],
      "text/plain": [
       "                  tstmp     u     v     w      t\n",
       "05:36:20.809203  203000  0.13  0.20  0.20  28.33\n",
       "05:36:20.809203  203000  0.06  0.18  0.16  28.35\n",
       "05:36:20.809203  203000  0.05  0.19  0.15  28.38\n",
       "05:36:20.809203  203000  0.10  0.18  0.20  28.43\n",
       "05:36:20.809203  203000  0.23  0.13  0.22  28.47\n",
       "...                 ...   ...   ...   ...    ...\n",
       "05:36:20.809209  205959  0.43  0.55  0.18  27.52\n",
       "05:36:20.809209  205959  0.32  0.69 -0.04  27.50\n",
       "05:36:20.809209  205959  0.36  0.54 -0.08  27.52\n",
       "05:36:20.809209  205959  0.53  0.48 -0.28  27.50\n",
       "05:36:20.809210  210000  0.51  0.42 -0.37  27.50\n",
       "\n",
       "[18006 rows x 5 columns]"
      ]
     },
     "execution_count": 115,
     "metadata": {},
     "output_type": "execute_result"
    }
   ],
   "source": [
    "wind_df = wind_df.set_index(raw_idx); wind_df"
   ]
  },
  {
   "cell_type": "code",
   "execution_count": 151,
   "metadata": {},
   "outputs": [
    {
     "data": {
      "text/html": [
       "<div>\n",
       "<style scoped>\n",
       "    .dataframe tbody tr th:only-of-type {\n",
       "        vertical-align: middle;\n",
       "    }\n",
       "\n",
       "    .dataframe tbody tr th {\n",
       "        vertical-align: top;\n",
       "    }\n",
       "\n",
       "    .dataframe thead th {\n",
       "        text-align: right;\n",
       "    }\n",
       "</style>\n",
       "<table border=\"1\" class=\"dataframe\">\n",
       "  <thead>\n",
       "    <tr style=\"text-align: right;\">\n",
       "      <th></th>\n",
       "      <th>tstmp</th>\n",
       "      <th>u</th>\n",
       "      <th>v</th>\n",
       "      <th>w</th>\n",
       "      <th>t</th>\n",
       "    </tr>\n",
       "  </thead>\n",
       "  <tbody>\n",
       "    <tr>\n",
       "      <th>count</th>\n",
       "      <td>18006.000000</td>\n",
       "      <td>18006.000000</td>\n",
       "      <td>18006.000000</td>\n",
       "      <td>18006.000000</td>\n",
       "      <td>18006.000000</td>\n",
       "    </tr>\n",
       "    <tr>\n",
       "      <th>mean</th>\n",
       "      <td>204479.857770</td>\n",
       "      <td>0.247699</td>\n",
       "      <td>0.310869</td>\n",
       "      <td>-0.016067</td>\n",
       "      <td>27.946013</td>\n",
       "    </tr>\n",
       "    <tr>\n",
       "      <th>std</th>\n",
       "      <td>866.650933</td>\n",
       "      <td>0.477576</td>\n",
       "      <td>0.431987</td>\n",
       "      <td>0.311568</td>\n",
       "      <td>0.227592</td>\n",
       "    </tr>\n",
       "    <tr>\n",
       "      <th>min</th>\n",
       "      <td>203000.000000</td>\n",
       "      <td>-1.320000</td>\n",
       "      <td>-1.540000</td>\n",
       "      <td>-1.530000</td>\n",
       "      <td>27.170000</td>\n",
       "    </tr>\n",
       "    <tr>\n",
       "      <th>25%</th>\n",
       "      <td>203730.000000</td>\n",
       "      <td>-0.100000</td>\n",
       "      <td>0.070000</td>\n",
       "      <td>-0.210000</td>\n",
       "      <td>27.790000</td>\n",
       "    </tr>\n",
       "    <tr>\n",
       "      <th>50%</th>\n",
       "      <td>204500.000000</td>\n",
       "      <td>0.250000</td>\n",
       "      <td>0.380000</td>\n",
       "      <td>0.020000</td>\n",
       "      <td>27.970000</td>\n",
       "    </tr>\n",
       "    <tr>\n",
       "      <th>75%</th>\n",
       "      <td>205229.750000</td>\n",
       "      <td>0.610000</td>\n",
       "      <td>0.600000</td>\n",
       "      <td>0.190000</td>\n",
       "      <td>28.140000</td>\n",
       "    </tr>\n",
       "    <tr>\n",
       "      <th>max</th>\n",
       "      <td>210000.000000</td>\n",
       "      <td>1.960000</td>\n",
       "      <td>1.590000</td>\n",
       "      <td>1.020000</td>\n",
       "      <td>28.470000</td>\n",
       "    </tr>\n",
       "  </tbody>\n",
       "</table>\n",
       "</div>"
      ],
      "text/plain": [
       "               tstmp             u             v             w             t\n",
       "count   18006.000000  18006.000000  18006.000000  18006.000000  18006.000000\n",
       "mean   204479.857770      0.247699      0.310869     -0.016067     27.946013\n",
       "std       866.650933      0.477576      0.431987      0.311568      0.227592\n",
       "min    203000.000000     -1.320000     -1.540000     -1.530000     27.170000\n",
       "25%    203730.000000     -0.100000      0.070000     -0.210000     27.790000\n",
       "50%    204500.000000      0.250000      0.380000      0.020000     27.970000\n",
       "75%    205229.750000      0.610000      0.600000      0.190000     28.140000\n",
       "max    210000.000000      1.960000      1.590000      1.020000     28.470000"
      ]
     },
     "execution_count": 151,
     "metadata": {},
     "output_type": "execute_result"
    }
   ],
   "source": [
    "wind_df.describe()"
   ]
  },
  {
   "cell_type": "code",
   "execution_count": 109,
   "metadata": {},
   "outputs": [
    {
     "data": {
      "text/html": [
       "<div>\n",
       "<style scoped>\n",
       "    .dataframe tbody tr th:only-of-type {\n",
       "        vertical-align: middle;\n",
       "    }\n",
       "\n",
       "    .dataframe tbody tr th {\n",
       "        vertical-align: top;\n",
       "    }\n",
       "\n",
       "    .dataframe thead th {\n",
       "        text-align: right;\n",
       "    }\n",
       "</style>\n",
       "<table border=\"1\" class=\"dataframe\">\n",
       "  <thead>\n",
       "    <tr style=\"text-align: right;\">\n",
       "      <th></th>\n",
       "      <th>tstmp</th>\n",
       "      <th>u</th>\n",
       "      <th>v</th>\n",
       "      <th>w</th>\n",
       "      <th>t</th>\n",
       "    </tr>\n",
       "  </thead>\n",
       "  <tbody>\n",
       "    <tr>\n",
       "      <th>20:30:00</th>\n",
       "      <td>203000</td>\n",
       "      <td>0.095</td>\n",
       "      <td>0.19</td>\n",
       "      <td>0.18</td>\n",
       "      <td>28.34</td>\n",
       "    </tr>\n",
       "    <tr>\n",
       "      <th>20:30:00.100000</th>\n",
       "      <td>203000</td>\n",
       "      <td>0.050</td>\n",
       "      <td>0.19</td>\n",
       "      <td>0.15</td>\n",
       "      <td>28.38</td>\n",
       "    </tr>\n",
       "    <tr>\n",
       "      <th>20:30:00.200000</th>\n",
       "      <td>203000</td>\n",
       "      <td>0.100</td>\n",
       "      <td>0.18</td>\n",
       "      <td>0.20</td>\n",
       "      <td>28.43</td>\n",
       "    </tr>\n",
       "    <tr>\n",
       "      <th>20:30:00.300000</th>\n",
       "      <td>203000</td>\n",
       "      <td>0.230</td>\n",
       "      <td>0.13</td>\n",
       "      <td>0.22</td>\n",
       "      <td>28.47</td>\n",
       "    </tr>\n",
       "    <tr>\n",
       "      <th>20:30:00.400000</th>\n",
       "      <td>203000</td>\n",
       "      <td>0.280</td>\n",
       "      <td>0.26</td>\n",
       "      <td>0.28</td>\n",
       "      <td>28.47</td>\n",
       "    </tr>\n",
       "    <tr>\n",
       "      <th>...</th>\n",
       "      <td>...</td>\n",
       "      <td>...</td>\n",
       "      <td>...</td>\n",
       "      <td>...</td>\n",
       "      <td>...</td>\n",
       "    </tr>\n",
       "    <tr>\n",
       "      <th>20:59:59.600000</th>\n",
       "      <td>205959</td>\n",
       "      <td>0.430</td>\n",
       "      <td>0.55</td>\n",
       "      <td>0.18</td>\n",
       "      <td>27.52</td>\n",
       "    </tr>\n",
       "    <tr>\n",
       "      <th>20:59:59.700000</th>\n",
       "      <td>205959</td>\n",
       "      <td>0.320</td>\n",
       "      <td>0.69</td>\n",
       "      <td>-0.04</td>\n",
       "      <td>27.50</td>\n",
       "    </tr>\n",
       "    <tr>\n",
       "      <th>20:59:59.800000</th>\n",
       "      <td>205959</td>\n",
       "      <td>0.360</td>\n",
       "      <td>0.54</td>\n",
       "      <td>-0.08</td>\n",
       "      <td>27.52</td>\n",
       "    </tr>\n",
       "    <tr>\n",
       "      <th>20:59:59.900000</th>\n",
       "      <td>205959</td>\n",
       "      <td>0.530</td>\n",
       "      <td>0.48</td>\n",
       "      <td>-0.28</td>\n",
       "      <td>27.50</td>\n",
       "    </tr>\n",
       "    <tr>\n",
       "      <th>21:00:00</th>\n",
       "      <td>210000</td>\n",
       "      <td>0.510</td>\n",
       "      <td>0.42</td>\n",
       "      <td>-0.37</td>\n",
       "      <td>27.50</td>\n",
       "    </tr>\n",
       "  </tbody>\n",
       "</table>\n",
       "<p>18001 rows × 5 columns</p>\n",
       "</div>"
      ],
      "text/plain": [
       "                  tstmp      u     v     w      t\n",
       "20:30:00         203000  0.095  0.19  0.18  28.34\n",
       "20:30:00.100000  203000  0.050  0.19  0.15  28.38\n",
       "20:30:00.200000  203000  0.100  0.18  0.20  28.43\n",
       "20:30:00.300000  203000  0.230  0.13  0.22  28.47\n",
       "20:30:00.400000  203000  0.280  0.26  0.28  28.47\n",
       "...                 ...    ...   ...   ...    ...\n",
       "20:59:59.600000  205959  0.430  0.55  0.18  27.52\n",
       "20:59:59.700000  205959  0.320  0.69 -0.04  27.50\n",
       "20:59:59.800000  205959  0.360  0.54 -0.08  27.52\n",
       "20:59:59.900000  205959  0.530  0.48 -0.28  27.50\n",
       "21:00:00         210000  0.510  0.42 -0.37  27.50\n",
       "\n",
       "[18001 rows x 5 columns]"
      ]
     },
     "execution_count": 109,
     "metadata": {},
     "output_type": "execute_result"
    }
   ],
   "source": [
    "wind_df.resample('100ms').mean()"
   ]
  },
  {
   "cell_type": "markdown",
   "metadata": {},
   "source": [
    "# Open raw EP datasets"
   ]
  },
  {
   "cell_type": "code",
   "execution_count": 8,
   "metadata": {},
   "outputs": [],
   "source": [
    "def open_ep_level(root_dir, level, fname):\n",
    "    path = root_dir / f\"eddypro_raw_datasets/level_{level}\" / fname\n",
    "    return pd.read_csv(path, skiprows=9, sep=' ', skipinitialspace=True, index_col=False)"
   ]
  },
  {
   "cell_type": "code",
   "execution_count": 9,
   "metadata": {},
   "outputs": [],
   "source": [
    "wm1l1 = open_ep_level(root_dir, 1, proc_series_name)"
   ]
  },
  {
   "cell_type": "code",
   "execution_count": 10,
   "metadata": {},
   "outputs": [
    {
     "data": {
      "text/html": [
       "<div>\n",
       "<style scoped>\n",
       "    .dataframe tbody tr th:only-of-type {\n",
       "        vertical-align: middle;\n",
       "    }\n",
       "\n",
       "    .dataframe tbody tr th {\n",
       "        vertical-align: top;\n",
       "    }\n",
       "\n",
       "    .dataframe thead th {\n",
       "        text-align: right;\n",
       "    }\n",
       "</style>\n",
       "<table border=\"1\" class=\"dataframe\">\n",
       "  <thead>\n",
       "    <tr style=\"text-align: right;\">\n",
       "      <th></th>\n",
       "      <th>u</th>\n",
       "      <th>v</th>\n",
       "      <th>w</th>\n",
       "      <th>ts</th>\n",
       "    </tr>\n",
       "  </thead>\n",
       "  <tbody>\n",
       "    <tr>\n",
       "      <th>count</th>\n",
       "      <td>18000.000000</td>\n",
       "      <td>18000.000000</td>\n",
       "      <td>18000.000000</td>\n",
       "      <td>18000.000000</td>\n",
       "    </tr>\n",
       "    <tr>\n",
       "      <th>mean</th>\n",
       "      <td>0.247627</td>\n",
       "      <td>0.310791</td>\n",
       "      <td>-0.016058</td>\n",
       "      <td>301.096155</td>\n",
       "    </tr>\n",
       "    <tr>\n",
       "      <th>std</th>\n",
       "      <td>0.477635</td>\n",
       "      <td>0.432036</td>\n",
       "      <td>0.311587</td>\n",
       "      <td>0.227485</td>\n",
       "    </tr>\n",
       "    <tr>\n",
       "      <th>min</th>\n",
       "      <td>-1.320000</td>\n",
       "      <td>-1.540000</td>\n",
       "      <td>-1.530000</td>\n",
       "      <td>300.320007</td>\n",
       "    </tr>\n",
       "    <tr>\n",
       "      <th>25%</th>\n",
       "      <td>-0.100000</td>\n",
       "      <td>0.070000</td>\n",
       "      <td>-0.210000</td>\n",
       "      <td>300.940002</td>\n",
       "    </tr>\n",
       "    <tr>\n",
       "      <th>50%</th>\n",
       "      <td>0.250000</td>\n",
       "      <td>0.380000</td>\n",
       "      <td>0.020000</td>\n",
       "      <td>301.119995</td>\n",
       "    </tr>\n",
       "    <tr>\n",
       "      <th>75%</th>\n",
       "      <td>0.610000</td>\n",
       "      <td>0.600000</td>\n",
       "      <td>0.190000</td>\n",
       "      <td>301.289978</td>\n",
       "    </tr>\n",
       "    <tr>\n",
       "      <th>max</th>\n",
       "      <td>1.960000</td>\n",
       "      <td>1.590000</td>\n",
       "      <td>1.020000</td>\n",
       "      <td>301.619995</td>\n",
       "    </tr>\n",
       "  </tbody>\n",
       "</table>\n",
       "</div>"
      ],
      "text/plain": [
       "                  u             v             w            ts\n",
       "count  18000.000000  18000.000000  18000.000000  18000.000000\n",
       "mean       0.247627      0.310791     -0.016058    301.096155\n",
       "std        0.477635      0.432036      0.311587      0.227485\n",
       "min       -1.320000     -1.540000     -1.530000    300.320007\n",
       "25%       -0.100000      0.070000     -0.210000    300.940002\n",
       "50%        0.250000      0.380000      0.020000    301.119995\n",
       "75%        0.610000      0.600000      0.190000    301.289978\n",
       "max        1.960000      1.590000      1.020000    301.619995"
      ]
     },
     "execution_count": 10,
     "metadata": {},
     "output_type": "execute_result"
    }
   ],
   "source": [
    "wm1l1.describe()"
   ]
  },
  {
   "cell_type": "code",
   "execution_count": 43,
   "metadata": {},
   "outputs": [
    {
     "data": {
      "text/plain": [
       "u               1.960000\n",
       "v               1.590000\n",
       "w               1.020000\n",
       "ts            301.619995\n",
       "wind_speed      2.595804\n",
       "dtype: float64"
      ]
     },
     "execution_count": 43,
     "metadata": {},
     "output_type": "execute_result"
    }
   ],
   "source": [
    "add_wind_speed(wm1l1).max()"
   ]
  },
  {
   "cell_type": "code",
   "execution_count": 37,
   "metadata": {},
   "outputs": [],
   "source": [
    "wm1l = []\n",
    "for i in range(1,8):\n",
    "    wm1l.append(open_ep_level(root_dir, i, proc_series_name))"
   ]
  },
  {
   "cell_type": "code",
   "execution_count": null,
   "metadata": {},
   "outputs": [],
   "source": [
    "[(f\"level{i}\", wm1l[i].describe()) for i in range(7)]"
   ]
  },
  {
   "cell_type": "code",
   "execution_count": 17,
   "metadata": {},
   "outputs": [
    {
     "name": "stdout",
     "output_type": "stream",
     "text": [
      "warning add_wind_dir is not the same of EddyPro\n"
     ]
    },
    {
     "data": {
      "text/plain": [
       "u               0.247627\n",
       "v               0.310791\n",
       "w              -0.016058\n",
       "ts            301.096155\n",
       "wind_speed      0.397703\n",
       "wind_dir       51.453481\n",
       "dtype: float64"
      ]
     },
     "execution_count": 17,
     "metadata": {},
     "output_type": "execute_result"
    }
   ],
   "source": [
    "wm1l1.mean().pipe(add_wind_speed)"
   ]
  },
  {
   "cell_type": "code",
   "execution_count": 24,
   "metadata": {},
   "outputs": [],
   "source": [
    "def wind_dir(df, offset=0):\n",
    "    \"\"\"try to mimic behaviour of EP SingleWindDirection\"\"\"\n",
    "    return (180 - np.rad2deg(np.arctan2(df.v, df.u)) + offset) % 360 "
   ]
  },
  {
   "cell_type": "code",
   "execution_count": 62,
   "metadata": {},
   "outputs": [],
   "source": [
    "def SingleWindDirection(wind, offset=0):\n",
    "    u, v, w = range(3) # for better name of wind variables    \n",
    "    wind_dir = 180 - (np.arctan2(wind[v], wind[u]) *180 / np.pi)\n",
    "    if wind_dir >= 360: wind_dir = wind_dir - 360\n",
    "    if wind_dir < 0: wind_dir = 360 + wind_dir\n",
    "    return wind_dir"
   ]
  },
  {
   "cell_type": "code",
   "execution_count": 63,
   "metadata": {},
   "outputs": [
    {
     "data": {
      "text/plain": [
       "123.02386620536382"
      ]
     },
     "execution_count": 63,
     "metadata": {},
     "output_type": "execute_result"
    }
   ],
   "source": [
    "wind_dir(wm1l1.iloc[0])"
   ]
  },
  {
   "cell_type": "code",
   "execution_count": 64,
   "metadata": {},
   "outputs": [
    {
     "data": {
      "text/plain": [
       "123.02386620536382"
      ]
     },
     "execution_count": 64,
     "metadata": {},
     "output_type": "execute_result"
    }
   ],
   "source": [
    "SingleWindDirection(wm1l1.iloc[0])"
   ]
  },
  {
   "cell_type": "code",
   "execution_count": 20,
   "metadata": {},
   "outputs": [],
   "source": [
    "def angular_average(ar):\n",
    "    ar = np.deg2rad(ar)\n",
    "    x = (-np.cos(ar)).sum()\n",
    "    y = (-np.sin(ar)).sum()\n",
    "    return np.rad2deg(np.arctan2(y,x)) + 180"
   ]
  },
  {
   "cell_type": "code",
   "execution_count": 22,
   "metadata": {},
   "outputs": [
    {
     "data": {
      "text/plain": [
       "0        123.023866\n",
       "1        108.434948\n",
       "2        104.743563\n",
       "3        119.054603\n",
       "4        150.524112\n",
       "            ...    \n",
       "17995    131.121476\n",
       "17996    132.089162\n",
       "17997    133.667779\n",
       "17998    137.060111\n",
       "17999    134.501789\n",
       "Length: 18000, dtype: float64"
      ]
     },
     "execution_count": 22,
     "metadata": {},
     "output_type": "execute_result"
    }
   ],
   "source": [
    "wm1wd1 = wind_dir(wm1l1); wm1wd1"
   ]
  },
  {
   "cell_type": "code",
   "execution_count": 27,
   "metadata": {},
   "outputs": [
    {
     "data": {
      "text/plain": [
       "120.16902208140151"
      ]
     },
     "execution_count": 27,
     "metadata": {},
     "output_type": "execute_result"
    }
   ],
   "source": [
    "angular_average(wm1wd1)"
   ]
  },
  {
   "cell_type": "markdown",
   "metadata": {},
   "source": [
    "### rotate this ... well even if it is not rotated at all ..."
   ]
  },
  {
   "cell_type": "code",
   "execution_count": 4,
   "metadata": {},
   "outputs": [],
   "source": [
    "def rotate_matrix(df, ang):\n",
    "    ang = np.deg2rad(ang)\n",
    "    rot_mat = np.array([[np.cos(ang), -np.sin(ang)],\n",
    "                       [np.sin(ang), np.cos(ang)]])\n",
    "    return np.matmul(df[['u', 'v']], rot_mat)"
   ]
  },
  {
   "cell_type": "code",
   "execution_count": 5,
   "metadata": {},
   "outputs": [],
   "source": [
    "def rotate_ang(df, ang):\n",
    "    wind_dir, wind_speed = cart2pol(df.u, df.v)\n",
    "    wind_dir += np.deg2rad(ang)\n",
    "    return pol2cart(wind_dir, wind_speed)"
   ]
  },
  {
   "cell_type": "code",
   "execution_count": 26,
   "metadata": {},
   "outputs": [],
   "source": [
    "wd1rot = pd.concat(rotate_ang(wind_df, -310), axis=1).rename(columns={0:\"u\",1:\"v\"})"
   ]
  },
  {
   "cell_type": "code",
   "execution_count": 27,
   "metadata": {},
   "outputs": [
    {
     "data": {
      "text/html": [
       "<div>\n",
       "<style scoped>\n",
       "    .dataframe tbody tr th:only-of-type {\n",
       "        vertical-align: middle;\n",
       "    }\n",
       "\n",
       "    .dataframe tbody tr th {\n",
       "        vertical-align: top;\n",
       "    }\n",
       "\n",
       "    .dataframe thead th {\n",
       "        text-align: right;\n",
       "    }\n",
       "</style>\n",
       "<table border=\"1\" class=\"dataframe\">\n",
       "  <thead>\n",
       "    <tr style=\"text-align: right;\">\n",
       "      <th></th>\n",
       "      <th>u</th>\n",
       "      <th>v</th>\n",
       "    </tr>\n",
       "  </thead>\n",
       "  <tbody>\n",
       "    <tr>\n",
       "      <th>count</th>\n",
       "      <td>18006.000000</td>\n",
       "      <td>18006.000000</td>\n",
       "    </tr>\n",
       "    <tr>\n",
       "      <th>mean</th>\n",
       "      <td>-0.078921</td>\n",
       "      <td>0.389571</td>\n",
       "    </tr>\n",
       "    <tr>\n",
       "      <th>std</th>\n",
       "      <td>0.340697</td>\n",
       "      <td>0.546459</td>\n",
       "    </tr>\n",
       "    <tr>\n",
       "      <th>min</th>\n",
       "      <td>-1.446512</td>\n",
       "      <td>-1.594710</td>\n",
       "    </tr>\n",
       "    <tr>\n",
       "      <th>25%</th>\n",
       "      <td>-0.303760</td>\n",
       "      <td>0.006693</td>\n",
       "    </tr>\n",
       "    <tr>\n",
       "      <th>50%</th>\n",
       "      <td>-0.085312</td>\n",
       "      <td>0.449461</td>\n",
       "    </tr>\n",
       "    <tr>\n",
       "      <th>75%</th>\n",
       "      <td>0.114038</td>\n",
       "      <td>0.796736</td>\n",
       "    </tr>\n",
       "    <tr>\n",
       "      <th>max</th>\n",
       "      <td>2.153141</td>\n",
       "      <td>1.869254</td>\n",
       "    </tr>\n",
       "  </tbody>\n",
       "</table>\n",
       "</div>"
      ],
      "text/plain": [
       "                  u             v\n",
       "count  18006.000000  18006.000000\n",
       "mean      -0.078921      0.389571\n",
       "std        0.340697      0.546459\n",
       "min       -1.446512     -1.594710\n",
       "25%       -0.303760      0.006693\n",
       "50%       -0.085312      0.449461\n",
       "75%        0.114038      0.796736\n",
       "max        2.153141      1.869254"
      ]
     },
     "execution_count": 27,
     "metadata": {},
     "output_type": "execute_result"
    }
   ],
   "source": [
    "wd1rot.describe()"
   ]
  },
  {
   "cell_type": "code",
   "execution_count": 8,
   "metadata": {},
   "outputs": [
    {
     "data": {
      "text/html": [
       "<div>\n",
       "<style scoped>\n",
       "    .dataframe tbody tr th:only-of-type {\n",
       "        vertical-align: middle;\n",
       "    }\n",
       "\n",
       "    .dataframe tbody tr th {\n",
       "        vertical-align: top;\n",
       "    }\n",
       "\n",
       "    .dataframe thead th {\n",
       "        text-align: right;\n",
       "    }\n",
       "</style>\n",
       "<table border=\"1\" class=\"dataframe\">\n",
       "  <thead>\n",
       "    <tr style=\"text-align: right;\">\n",
       "      <th></th>\n",
       "      <th>tstmp</th>\n",
       "      <th>u</th>\n",
       "      <th>v</th>\n",
       "      <th>w</th>\n",
       "      <th>t</th>\n",
       "    </tr>\n",
       "  </thead>\n",
       "  <tbody>\n",
       "    <tr>\n",
       "      <th>count</th>\n",
       "      <td>18006.000000</td>\n",
       "      <td>18006.000000</td>\n",
       "      <td>18006.000000</td>\n",
       "      <td>18006.000000</td>\n",
       "      <td>18006.000000</td>\n",
       "    </tr>\n",
       "    <tr>\n",
       "      <th>mean</th>\n",
       "      <td>204479.857770</td>\n",
       "      <td>0.247699</td>\n",
       "      <td>0.310869</td>\n",
       "      <td>-0.016067</td>\n",
       "      <td>27.946013</td>\n",
       "    </tr>\n",
       "    <tr>\n",
       "      <th>std</th>\n",
       "      <td>866.650933</td>\n",
       "      <td>0.477576</td>\n",
       "      <td>0.431987</td>\n",
       "      <td>0.311568</td>\n",
       "      <td>0.227592</td>\n",
       "    </tr>\n",
       "    <tr>\n",
       "      <th>min</th>\n",
       "      <td>203000.000000</td>\n",
       "      <td>-1.320000</td>\n",
       "      <td>-1.540000</td>\n",
       "      <td>-1.530000</td>\n",
       "      <td>27.170000</td>\n",
       "    </tr>\n",
       "    <tr>\n",
       "      <th>25%</th>\n",
       "      <td>203730.000000</td>\n",
       "      <td>-0.100000</td>\n",
       "      <td>0.070000</td>\n",
       "      <td>-0.210000</td>\n",
       "      <td>27.790000</td>\n",
       "    </tr>\n",
       "    <tr>\n",
       "      <th>50%</th>\n",
       "      <td>204500.000000</td>\n",
       "      <td>0.250000</td>\n",
       "      <td>0.380000</td>\n",
       "      <td>0.020000</td>\n",
       "      <td>27.970000</td>\n",
       "    </tr>\n",
       "    <tr>\n",
       "      <th>75%</th>\n",
       "      <td>205229.750000</td>\n",
       "      <td>0.610000</td>\n",
       "      <td>0.600000</td>\n",
       "      <td>0.190000</td>\n",
       "      <td>28.140000</td>\n",
       "    </tr>\n",
       "    <tr>\n",
       "      <th>max</th>\n",
       "      <td>210000.000000</td>\n",
       "      <td>1.960000</td>\n",
       "      <td>1.590000</td>\n",
       "      <td>1.020000</td>\n",
       "      <td>28.470000</td>\n",
       "    </tr>\n",
       "  </tbody>\n",
       "</table>\n",
       "</div>"
      ],
      "text/plain": [
       "               tstmp             u             v             w             t\n",
       "count   18006.000000  18006.000000  18006.000000  18006.000000  18006.000000\n",
       "mean   204479.857770      0.247699      0.310869     -0.016067     27.946013\n",
       "std       866.650933      0.477576      0.431987      0.311568      0.227592\n",
       "min    203000.000000     -1.320000     -1.540000     -1.530000     27.170000\n",
       "25%    203730.000000     -0.100000      0.070000     -0.210000     27.790000\n",
       "50%    204500.000000      0.250000      0.380000      0.020000     27.970000\n",
       "75%    205229.750000      0.610000      0.600000      0.190000     28.140000\n",
       "max    210000.000000      1.960000      1.590000      1.020000     28.470000"
      ]
     },
     "execution_count": 8,
     "metadata": {},
     "output_type": "execute_result"
    }
   ],
   "source": [
    "wind_df.describe()"
   ]
  },
  {
   "cell_type": "code",
   "execution_count": 25,
   "metadata": {},
   "outputs": [
    {
     "data": {
      "text/plain": [
       "70.17741426693152"
      ]
     },
     "execution_count": 25,
     "metadata": {},
     "output_type": "execute_result"
    }
   ],
   "source": [
    "angular_average(wind_dir(wd1rot))"
   ]
  },
  {
   "cell_type": "code",
   "execution_count": 29,
   "metadata": {},
   "outputs": [
    {
     "data": {
      "text/plain": [
       "70.17741426693152"
      ]
     },
     "execution_count": 29,
     "metadata": {},
     "output_type": "execute_result"
    }
   ],
   "source": [
    "rotate_matrix(wind_df, 310).pipe(wind_dir).pipe(angular_average)"
   ]
  },
  {
   "cell_type": "code",
   "execution_count": 92,
   "metadata": {},
   "outputs": [
    {
     "data": {
      "text/plain": [
       "<matplotlib.axes._subplots.AxesSubplot at 0x7f946e582210>"
      ]
     },
     "execution_count": 92,
     "metadata": {},
     "output_type": "execute_result"
    },
    {
     "data": {
      "image/png": "[encoded data removed]",
      "text/plain": [
       "<Figure size 432x288 with 1 Axes>"
      ]
     },
     "metadata": {
      "needs_background": "light"
     },
     "output_type": "display_data"
    }
   ],
   "source": [
    " "
   ]
  },
  {
   "cell_type": "markdown",
   "metadata": {},
   "source": [
    "dropping 6 random elements from wind_df in order to make possible to have a scatter ot the two series, not an really good hack"
   ]
  },
  {
   "cell_type": "code",
   "execution_count": 126,
   "metadata": {},
   "outputs": [
    {
     "data": {
      "text/html": [
       "<div>\n",
       "<style scoped>\n",
       "    .dataframe tbody tr th:only-of-type {\n",
       "        vertical-align: middle;\n",
       "    }\n",
       "\n",
       "    .dataframe tbody tr th {\n",
       "        vertical-align: top;\n",
       "    }\n",
       "\n",
       "    .dataframe thead th {\n",
       "        text-align: right;\n",
       "    }\n",
       "</style>\n",
       "<table border=\"1\" class=\"dataframe\">\n",
       "  <thead>\n",
       "    <tr style=\"text-align: right;\">\n",
       "      <th></th>\n",
       "      <th>tstmp</th>\n",
       "      <th>u</th>\n",
       "      <th>v</th>\n",
       "      <th>w</th>\n",
       "      <th>t</th>\n",
       "    </tr>\n",
       "  </thead>\n",
       "  <tbody>\n",
       "    <tr>\n",
       "      <th>count</th>\n",
       "      <td>18000.000000</td>\n",
       "      <td>18000.000000</td>\n",
       "      <td>18000.000000</td>\n",
       "      <td>18000.000000</td>\n",
       "      <td>18000.000000</td>\n",
       "    </tr>\n",
       "    <tr>\n",
       "      <th>mean</th>\n",
       "      <td>204479.819833</td>\n",
       "      <td>0.247646</td>\n",
       "      <td>0.310864</td>\n",
       "      <td>-0.016089</td>\n",
       "      <td>27.946027</td>\n",
       "    </tr>\n",
       "    <tr>\n",
       "      <th>std</th>\n",
       "      <td>866.726403</td>\n",
       "      <td>0.477551</td>\n",
       "      <td>0.431918</td>\n",
       "      <td>0.311536</td>\n",
       "      <td>0.227585</td>\n",
       "    </tr>\n",
       "    <tr>\n",
       "      <th>min</th>\n",
       "      <td>203000.000000</td>\n",
       "      <td>-1.320000</td>\n",
       "      <td>-1.540000</td>\n",
       "      <td>-1.530000</td>\n",
       "      <td>27.170000</td>\n",
       "    </tr>\n",
       "    <tr>\n",
       "      <th>25%</th>\n",
       "      <td>203729.000000</td>\n",
       "      <td>-0.100000</td>\n",
       "      <td>0.070000</td>\n",
       "      <td>-0.210000</td>\n",
       "      <td>27.790000</td>\n",
       "    </tr>\n",
       "    <tr>\n",
       "      <th>50%</th>\n",
       "      <td>204500.000000</td>\n",
       "      <td>0.250000</td>\n",
       "      <td>0.380000</td>\n",
       "      <td>0.020000</td>\n",
       "      <td>27.970000</td>\n",
       "    </tr>\n",
       "    <tr>\n",
       "      <th>75%</th>\n",
       "      <td>205230.000000</td>\n",
       "      <td>0.610000</td>\n",
       "      <td>0.600000</td>\n",
       "      <td>0.190000</td>\n",
       "      <td>28.140000</td>\n",
       "    </tr>\n",
       "    <tr>\n",
       "      <th>max</th>\n",
       "      <td>210000.000000</td>\n",
       "      <td>1.960000</td>\n",
       "      <td>1.590000</td>\n",
       "      <td>1.020000</td>\n",
       "      <td>28.470000</td>\n",
       "    </tr>\n",
       "  </tbody>\n",
       "</table>\n",
       "</div>"
      ],
      "text/plain": [
       "               tstmp             u             v             w             t\n",
       "count   18000.000000  18000.000000  18000.000000  18000.000000  18000.000000\n",
       "mean   204479.819833      0.247646      0.310864     -0.016089     27.946027\n",
       "std       866.726403      0.477551      0.431918      0.311536      0.227585\n",
       "min    203000.000000     -1.320000     -1.540000     -1.530000     27.170000\n",
       "25%    203729.000000     -0.100000      0.070000     -0.210000     27.790000\n",
       "50%    204500.000000      0.250000      0.380000      0.020000     27.970000\n",
       "75%    205230.000000      0.610000      0.600000      0.190000     28.140000\n",
       "max    210000.000000      1.960000      1.590000      1.020000     28.470000"
      ]
     },
     "execution_count": 126,
     "metadata": {},
     "output_type": "execute_result"
    }
   ],
   "source": [
    "# cioè fa proprio pena, ma parecchio pure\n",
    "wind_dfd = wind_df.drop(wind_df.sample(6).index); wind_dfd.describe()"
   ]
  },
  {
   "cell_type": "code",
   "execution_count": 134,
   "metadata": {},
   "outputs": [],
   "source": [
    "plot_components_scatter(wm1l1, wm1l1, \"w\")"
   ]
  },
  {
   "cell_type": "code",
   "execution_count": 144,
   "metadata": {},
   "outputs": [
    {
     "data": {
      "text/plain": [
       "u    1.922602e-16\n",
       "v    1.817678e-16\n",
       "w    6.200459e-17\n",
       "dtype: float64"
      ]
     },
     "execution_count": 144,
     "metadata": {},
     "output_type": "execute_result"
    }
   ],
   "source": [
    "(wind_df - wm1l1)[['u','v','w']].pow(2).mean()"
   ]
  },
  {
   "cell_type": "code",
   "execution_count": 147,
   "metadata": {},
   "outputs": [
    {
     "data": {
      "text/html": [
       "<div>\n",
       "<style scoped>\n",
       "    .dataframe tbody tr th:only-of-type {\n",
       "        vertical-align: middle;\n",
       "    }\n",
       "\n",
       "    .dataframe tbody tr th {\n",
       "        vertical-align: top;\n",
       "    }\n",
       "\n",
       "    .dataframe thead th {\n",
       "        text-align: right;\n",
       "    }\n",
       "</style>\n",
       "<table border=\"1\" class=\"dataframe\">\n",
       "  <thead>\n",
       "    <tr style=\"text-align: right;\">\n",
       "      <th></th>\n",
       "      <th>tstmp</th>\n",
       "      <th>u</th>\n",
       "      <th>v</th>\n",
       "      <th>w</th>\n",
       "      <th>t</th>\n",
       "    </tr>\n",
       "  </thead>\n",
       "  <tbody>\n",
       "    <tr>\n",
       "      <th>count</th>\n",
       "      <td>18006.000000</td>\n",
       "      <td>18006.000000</td>\n",
       "      <td>18006.000000</td>\n",
       "      <td>18006.000000</td>\n",
       "      <td>18006.000000</td>\n",
       "    </tr>\n",
       "    <tr>\n",
       "      <th>mean</th>\n",
       "      <td>204479.857770</td>\n",
       "      <td>0.247699</td>\n",
       "      <td>0.310869</td>\n",
       "      <td>-0.016067</td>\n",
       "      <td>27.946013</td>\n",
       "    </tr>\n",
       "    <tr>\n",
       "      <th>std</th>\n",
       "      <td>866.650933</td>\n",
       "      <td>0.477576</td>\n",
       "      <td>0.431987</td>\n",
       "      <td>0.311568</td>\n",
       "      <td>0.227592</td>\n",
       "    </tr>\n",
       "    <tr>\n",
       "      <th>min</th>\n",
       "      <td>203000.000000</td>\n",
       "      <td>-1.320000</td>\n",
       "      <td>-1.540000</td>\n",
       "      <td>-1.530000</td>\n",
       "      <td>27.170000</td>\n",
       "    </tr>\n",
       "    <tr>\n",
       "      <th>25%</th>\n",
       "      <td>203730.000000</td>\n",
       "      <td>-0.100000</td>\n",
       "      <td>0.070000</td>\n",
       "      <td>-0.210000</td>\n",
       "      <td>27.790000</td>\n",
       "    </tr>\n",
       "    <tr>\n",
       "      <th>50%</th>\n",
       "      <td>204500.000000</td>\n",
       "      <td>0.250000</td>\n",
       "      <td>0.380000</td>\n",
       "      <td>0.020000</td>\n",
       "      <td>27.970000</td>\n",
       "    </tr>\n",
       "    <tr>\n",
       "      <th>75%</th>\n",
       "      <td>205229.750000</td>\n",
       "      <td>0.610000</td>\n",
       "      <td>0.600000</td>\n",
       "      <td>0.190000</td>\n",
       "      <td>28.140000</td>\n",
       "    </tr>\n",
       "    <tr>\n",
       "      <th>max</th>\n",
       "      <td>210000.000000</td>\n",
       "      <td>1.960000</td>\n",
       "      <td>1.590000</td>\n",
       "      <td>1.020000</td>\n",
       "      <td>28.470000</td>\n",
       "    </tr>\n",
       "  </tbody>\n",
       "</table>\n",
       "</div>"
      ],
      "text/plain": [
       "               tstmp             u             v             w             t\n",
       "count   18006.000000  18006.000000  18006.000000  18006.000000  18006.000000\n",
       "mean   204479.857770      0.247699      0.310869     -0.016067     27.946013\n",
       "std       866.650933      0.477576      0.431987      0.311568      0.227592\n",
       "min    203000.000000     -1.320000     -1.540000     -1.530000     27.170000\n",
       "25%    203730.000000     -0.100000      0.070000     -0.210000     27.790000\n",
       "50%    204500.000000      0.250000      0.380000      0.020000     27.970000\n",
       "75%    205229.750000      0.610000      0.600000      0.190000     28.140000\n",
       "max    210000.000000      1.960000      1.590000      1.020000     28.470000"
      ]
     },
     "execution_count": 147,
     "metadata": {},
     "output_type": "execute_result"
    }
   ],
   "source": [
    "wind_df.describe()"
   ]
  },
  {
   "cell_type": "code",
   "execution_count": 148,
   "metadata": {},
   "outputs": [
    {
     "data": {
      "text/html": [
       "<div>\n",
       "<style scoped>\n",
       "    .dataframe tbody tr th:only-of-type {\n",
       "        vertical-align: middle;\n",
       "    }\n",
       "\n",
       "    .dataframe tbody tr th {\n",
       "        vertical-align: top;\n",
       "    }\n",
       "\n",
       "    .dataframe thead th {\n",
       "        text-align: right;\n",
       "    }\n",
       "</style>\n",
       "<table border=\"1\" class=\"dataframe\">\n",
       "  <thead>\n",
       "    <tr style=\"text-align: right;\">\n",
       "      <th></th>\n",
       "      <th>u</th>\n",
       "      <th>v</th>\n",
       "      <th>w</th>\n",
       "      <th>ts</th>\n",
       "    </tr>\n",
       "  </thead>\n",
       "  <tbody>\n",
       "    <tr>\n",
       "      <th>count</th>\n",
       "      <td>18000.000000</td>\n",
       "      <td>18000.000000</td>\n",
       "      <td>18000.000000</td>\n",
       "      <td>18000.000000</td>\n",
       "    </tr>\n",
       "    <tr>\n",
       "      <th>mean</th>\n",
       "      <td>0.247627</td>\n",
       "      <td>0.310791</td>\n",
       "      <td>-0.016058</td>\n",
       "      <td>301.096155</td>\n",
       "    </tr>\n",
       "    <tr>\n",
       "      <th>std</th>\n",
       "      <td>0.477635</td>\n",
       "      <td>0.432036</td>\n",
       "      <td>0.311587</td>\n",
       "      <td>0.227485</td>\n",
       "    </tr>\n",
       "    <tr>\n",
       "      <th>min</th>\n",
       "      <td>-1.320000</td>\n",
       "      <td>-1.540000</td>\n",
       "      <td>-1.530000</td>\n",
       "      <td>300.320007</td>\n",
       "    </tr>\n",
       "    <tr>\n",
       "      <th>25%</th>\n",
       "      <td>-0.100000</td>\n",
       "      <td>0.070000</td>\n",
       "      <td>-0.210000</td>\n",
       "      <td>300.940002</td>\n",
       "    </tr>\n",
       "    <tr>\n",
       "      <th>50%</th>\n",
       "      <td>0.250000</td>\n",
       "      <td>0.380000</td>\n",
       "      <td>0.020000</td>\n",
       "      <td>301.119995</td>\n",
       "    </tr>\n",
       "    <tr>\n",
       "      <th>75%</th>\n",
       "      <td>0.610000</td>\n",
       "      <td>0.600000</td>\n",
       "      <td>0.190000</td>\n",
       "      <td>301.289978</td>\n",
       "    </tr>\n",
       "    <tr>\n",
       "      <th>max</th>\n",
       "      <td>1.960000</td>\n",
       "      <td>1.590000</td>\n",
       "      <td>1.020000</td>\n",
       "      <td>301.619995</td>\n",
       "    </tr>\n",
       "  </tbody>\n",
       "</table>\n",
       "</div>"
      ],
      "text/plain": [
       "                  u             v             w            ts\n",
       "count  18000.000000  18000.000000  18000.000000  18000.000000\n",
       "mean       0.247627      0.310791     -0.016058    301.096155\n",
       "std        0.477635      0.432036      0.311587      0.227485\n",
       "min       -1.320000     -1.540000     -1.530000    300.320007\n",
       "25%       -0.100000      0.070000     -0.210000    300.940002\n",
       "50%        0.250000      0.380000      0.020000    301.119995\n",
       "75%        0.610000      0.600000      0.190000    301.289978\n",
       "max        1.960000      1.590000      1.020000    301.619995"
      ]
     },
     "execution_count": 148,
     "metadata": {},
     "output_type": "execute_result"
    }
   ],
   "source": [
    "wm1l1.describe()"
   ]
  },
  {
   "cell_type": "code",
   "execution_count": 72,
   "metadata": {},
   "outputs": [
    {
     "name": "stdout",
     "output_type": "stream",
     "text": [
      "warning add_wind_dir is not the same of EddyPro\n"
     ]
    }
   ],
   "source": [
    "wind_df = add_wind_speed(wind_df)\n",
    "wind_df = add_wind_dir(wind_df)"
   ]
  },
  {
   "cell_type": "code",
   "execution_count": 81,
   "metadata": {},
   "outputs": [
    {
     "data": {
      "text/plain": [
       "[<matplotlib.lines.Line2D at 0x7f7dcc0b6ad0>]"
      ]
     },
     "execution_count": 81,
     "metadata": {},
     "output_type": "execute_result"
    }
   ],
   "source": [
    "plt.plot(wind_df[:3000].wind_dir, color=\"lightblue\")\n",
    "plt.plot(wind_df[:3000].wind_dir, marker=\"o\", linestyle=\"\", color=\"green\")"
   ]
  },
  {
   "cell_type": "code",
   "execution_count": 8,
   "metadata": {},
   "outputs": [],
   "source": [
    "def get__wind_dir_pd(df, offset=0): return (180 - np.rad2deg(np.arctan2(df.v, df.u)) + offset) % 360"
   ]
  },
  {
   "cell_type": "code",
   "execution_count": 9,
   "metadata": {},
   "outputs": [],
   "source": [
    "#trying to reimplement as closely as possible EP implementation of SingleWindDirection\n",
    "def get_wind_dir(ar, offset=0): return (180 - np.rad2deg(np.arctan2(ar[:,1], ar[:,0])) + offset) % 360"
   ]
  },
  {
   "cell_type": "code",
   "execution_count": 54,
   "metadata": {},
   "outputs": [
    {
     "data": {
      "text/plain": [
       "(array([[ 6.506737  ,  1.51233371],\n",
       "        [ 2.79833112, -0.46786261],\n",
       "        [ 7.64566602,  6.76923138],\n",
       "        ...,\n",
       "        [ 5.80804322,  7.71459353],\n",
       "        [ 1.12022834,  0.91787389],\n",
       "        [ 4.78723927,  1.05812879]]),\n",
       " 3.9560230471959184,\n",
       " 2.893551775360677,\n",
       " -0.9998883895405044,\n",
       " 8.998797696709211)"
      ]
     },
     "execution_count": 54,
     "metadata": {},
     "output_type": "execute_result"
    }
   ],
   "source": [
    "#fake wind data for testing\n",
    "tw = 10 *np.random.random((10000,2)) -1\n",
    "tw, tw.mean(), tw.std(), tw.min(), tw.max()"
   ]
  },
  {
   "cell_type": "code",
   "execution_count": 10,
   "metadata": {},
   "outputs": [],
   "source": [
    "wind = wind_df[['u', 'v']].to_numpy()"
   ]
  },
  {
   "cell_type": "code",
   "execution_count": 12,
   "metadata": {},
   "outputs": [
    {
     "data": {
      "text/plain": [
       "array([123.02386756, 108.43494882, 104.74356284, ..., 123.69006753,\n",
       "       137.83411102, 140.52754015])"
      ]
     },
     "execution_count": 12,
     "metadata": {},
     "output_type": "execute_result"
    }
   ],
   "source": [
    "wd = get_wind_dir(wind); wd"
   ]
  },
  {
   "cell_type": "code",
   "execution_count": null,
   "metadata": {},
   "outputs": [],
   "source": [
    "def fix_quadrant(wd): return (180 - wd)%360"
   ]
  },
  {
   "cell_type": "code",
   "execution_count": 58,
   "metadata": {
    "jupyter": {
     "source_hidden": true
    }
   },
   "outputs": [],
   "source": [
    "def get_mean_wind_dir(wd):\n",
    "    # not dividing by len(wind_dir) due to atan2\n",
    "    # correct back to correct quadrant ...following ep \n",
    "    wd = (180 - wd) % 360 \n",
    "    wd = np.deg2rad(wd)\n",
    "    u = np.cos(wd)\n",
    "    v = np.sin(wd)\n",
    "    cossum = u.sum() \n",
    "    sinsum = v.sum() \n",
    "    return np.rad2deg(np.arctan2(sinsum, cossum) + np.pi)\n",
    "    "
   ]
  },
  {
   "cell_type": "code",
   "execution_count": 27,
   "metadata": {},
   "outputs": [],
   "source": [
    "def get_wind_speed(wind):\n",
    "    return np.sqrt(wind[:,0]**2+wind[:,1]**2)"
   ]
  },
  {
   "cell_type": "code",
   "execution_count": 100,
   "metadata": {},
   "outputs": [
    {
     "data": {
      "text/plain": [
       "(array([0.54498835, 0.31622777, 0.2544933 , ..., 0.5547002 , 0.74120437,\n",
       "        0.77193024]),\n",
       " array([-0.83844362, -0.9486833 , -0.96707454, ..., -0.83205029,\n",
       "        -0.67127943, -0.63570725]))"
      ]
     },
     "execution_count": 100,
     "metadata": {},
     "output_type": "execute_result"
    }
   ],
   "source": [
    "wd = np.deg2rad(wd)\n",
    "-np.cos(wd), -np.sin(wd)"
   ]
  },
  {
   "cell_type": "code",
   "execution_count": 55,
   "metadata": {},
   "outputs": [
    {
     "data": {
      "text/plain": [
       "(10000,)"
      ]
     },
     "execution_count": 55,
     "metadata": {},
     "output_type": "execute_result"
    }
   ],
   "source": [
    "twd = get_wind_dir(tw); twd.shape"
   ]
  },
  {
   "cell_type": "code",
   "execution_count": 59,
   "metadata": {},
   "outputs": [
    {
     "data": {
      "text/plain": [
       "224.8658835413182"
      ]
     },
     "execution_count": 59,
     "metadata": {},
     "output_type": "execute_result"
    }
   ],
   "source": [
    "get_mean_wind_dir(twd)"
   ]
  },
  {
   "cell_type": "code",
   "execution_count": 47,
   "metadata": {
    "jupyter": {
     "source_hidden": true
    }
   },
   "outputs": [],
   "source": [
    "m, ud, vd = get_mean_wind_dir(twd)"
   ]
  },
  {
   "cell_type": "code",
   "execution_count": null,
   "metadata": {
    "jupyter": {
     "source_hidden": true
    }
   },
   "outputs": [],
   "source": [
    "test_close(tw[:,0]/ud, tw[:,1]/vd) #great it means decomposition in mean_wind_dir is working as expected!!"
   ]
  },
  {
   "cell_type": "code",
   "execution_count": 51,
   "metadata": {},
   "outputs": [
    {
     "data": {
      "text/plain": [
       "array([-0.01862726, -0.01152165])"
      ]
     },
     "execution_count": 51,
     "metadata": {},
     "output_type": "execute_result"
    }
   ],
   "source": [
    "tw.mean(axis=0)"
   ]
  },
  {
   "cell_type": "code",
   "execution_count": 53,
   "metadata": {},
   "outputs": [
    {
     "data": {
      "text/plain": [
       "(239.82407535852397,\n",
       " array([0.54498835, 0.31622777, 0.2544933 , ..., 0.5547002 , 0.74120437,\n",
       "        0.77193024]),\n",
       " array([0.83844362, 0.9486833 , 0.96707454, ..., 0.83205029, 0.67127943,\n",
       "        0.63570725]))"
      ]
     },
     "execution_count": 53,
     "metadata": {},
     "output_type": "execute_result"
    }
   ],
   "source": [
    "mwd = get_mean_wind_dir(wd); mwd"
   ]
  },
  {
   "cell_type": "code",
   "execution_count": 52,
   "metadata": {},
   "outputs": [
    {
     "data": {
      "text/plain": [
       "array([128.54772427])"
      ]
     },
     "execution_count": 52,
     "metadata": {},
     "output_type": "execute_result"
    }
   ],
   "source": [
    "get_wind_dir(wind.mean(axis=0)[None, :])"
   ]
  },
  {
   "cell_type": "code",
   "execution_count": 3,
   "metadata": {},
   "outputs": [],
   "source": [
    "\n",
    "df.groupby('tstmp').count().query('u == 9').count()\n",
    "\n",
    "df.groupby(pd.cut(df.index, n_samples)).mean()\n",
    "\n",
    "wm1 = load_ep_cache(wm1_path).rename(columns=wind_comp_rename)\n",
    "\n",
    "rot = rotate_u_v(df, -310)\n",
    "\n",
    "rotg = rot.groupby(pd.cut(df.index, n_samples)).mean()"
   ]
  },
  {
   "cell_type": "code",
   "execution_count": null,
   "metadata": {},
   "outputs": [],
   "source": []
  }
 ],
 "metadata": {
  "kernelspec": {
   "display_name": "Python [conda env:trisonica-anemometer-comparison]",
   "language": "python",
   "name": "conda-env-trisonica-anemometer-comparison-py"
  },
  "language_info": {
   "codemirror_mode": {
    "name": "ipython",
    "version": 3
   },
   "file_extension": ".py",
   "mimetype": "text/x-python",
   "name": "python",
   "nbconvert_exporter": "python",
   "pygments_lexer": "ipython3",
   "version": "3.7.5"
  }
 },
 "nbformat": 4,
 "nbformat_minor": 4
}
