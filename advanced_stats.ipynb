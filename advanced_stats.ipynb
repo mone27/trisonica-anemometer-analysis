{
 "cells": [
  {
   "cell_type": "markdown",
   "metadata": {},
   "source": [
    "# Fluxes analysis\n"
   ]
  },
  {
   "cell_type": "code",
   "execution_count": null,
   "metadata": {},
   "outputs": [],
   "source": [
    "%load_ext autoreload\n",
    "%autoreload 2\n",
    "%matplotlib inline"
   ]
  },
  {
   "cell_type": "code",
   "execution_count": null,
   "metadata": {},
   "outputs": [],
   "source": [
    "from wind_tools import *\n",
    "import pandas as pd\n",
    "import numpy as np\n",
    "from pathlib import Path\n",
    "import seaborn as sns\n",
    "import matplotlib\n",
    "#matplotlib.use('Qt5Agg')\n",
    "\n",
    "import matplotlib.pyplot as plt\n",
    "sns.set(style='ticks')\n",
    "import plotly.express as px\n",
    "\n",
    "matplotlib.rcParams['figure.figsize'] = (18,10)"
   ]
  },
  {
   "cell_type": "markdown",
   "metadata": {},
   "source": [
    "## Load data"
   ]
  },
  {
   "cell_type": "code",
   "execution_count": null,
   "metadata": {},
   "outputs": [],
   "source": [
    "proc_dir = Path(\"2020_data/data_field_v2_from_20208010/processed/30min\")\n",
    "\n",
    "wm1_path = proc_dir / \"eddypro_WM1_30min_full_output_2020-08-13T135809_adv.csv\"\n",
    "m6_path = proc_dir / \"eddypro_TRS_M506_30min_full_output_2020-08-13T140908_adv.csv\"\n",
    "m7unf_path = proc_dir / \"eddypro_TRS_M507_30min_full_output_2020-08-13T140214_adv.csv\"\n",
    "\n",
    "\n",
    "cache_dir = Path(\"data_cache\")\n",
    "\n",
    "\n",
    "wind_cols = ['u_unrot','v_unrot', 'w_unrot', 'wind_speed', 'wind_dir', 'Tau', 'H', 'air_temperature', 'u*']\n",
    "wind_comp_rename = {'u_unrot': 'u', 'v_unrot': 'v', 'w_unrot': 'w', 'air_temperature': 't'}"
   ]
  },
  {
   "cell_type": "code",
   "execution_count": null,
   "metadata": {},
   "outputs": [],
   "source": [
    "wm1, m6, m7unf, mytrs = map(\n",
    "    lambda p: load_ep_cache(p, cache_dir= cache_dir)\n",
    "#     .loc[start_date:end_date]\n",
    "    .loc[:,wind_cols]\n",
    "    .rename(columns=wind_comp_rename),\n",
    "    [wm1_path, m6_path, m7unf_path, mytrs_path])"
   ]
  },
  {
   "cell_type": "code",
   "execution_count": null,
   "metadata": {},
   "outputs": [],
   "source": [
    "data = pd.concat(\n",
    "    map(\n",
    "    lambda x: x[0].assign(anem=x[1]),\n",
    "    zip([wm1, m6, m7unf, mytrs], ['wm1', 'm6', 'm7unf', 'mytrs']))\n",
    ")\n",
    "data.anem = pd.Categorical(data.anem)"
   ]
  },
  {
   "cell_type": "code",
   "execution_count": null,
   "metadata": {},
   "outputs": [
    {
     "data": {
      "text/html": [
       "<div>\n",
       "<style scoped>\n",
       "    .dataframe tbody tr th:only-of-type {\n",
       "        vertical-align: middle;\n",
       "    }\n",
       "\n",
       "    .dataframe tbody tr th {\n",
       "        vertical-align: top;\n",
       "    }\n",
       "\n",
       "    .dataframe thead th {\n",
       "        text-align: right;\n",
       "    }\n",
       "</style>\n",
       "<table border=\"1\" class=\"dataframe\">\n",
       "  <thead>\n",
       "    <tr style=\"text-align: right;\">\n",
       "      <th></th>\n",
       "      <th>u</th>\n",
       "      <th>v</th>\n",
       "      <th>w</th>\n",
       "      <th>wind_speed</th>\n",
       "      <th>wind_dir</th>\n",
       "      <th>Tau</th>\n",
       "      <th>H</th>\n",
       "      <th>t</th>\n",
       "      <th>u*</th>\n",
       "      <th>anem</th>\n",
       "    </tr>\n",
       "    <tr>\n",
       "      <th>date_time</th>\n",
       "      <th></th>\n",
       "      <th></th>\n",
       "      <th></th>\n",
       "      <th></th>\n",
       "      <th></th>\n",
       "      <th></th>\n",
       "      <th></th>\n",
       "      <th></th>\n",
       "      <th></th>\n",
       "      <th></th>\n",
       "    </tr>\n",
       "  </thead>\n",
       "  <tbody>\n",
       "    <tr>\n",
       "      <th>2020-08-10 15:00:00</th>\n",
       "      <td>0.592734</td>\n",
       "      <td>-1.856710</td>\n",
       "      <td>-0.117873</td>\n",
       "      <td>1.952660</td>\n",
       "      <td>254.84700</td>\n",
       "      <td>-0.161664</td>\n",
       "      <td>164.35200</td>\n",
       "      <td>309.123</td>\n",
       "      <td>0.383649</td>\n",
       "      <td>wm1</td>\n",
       "    </tr>\n",
       "    <tr>\n",
       "      <th>2020-08-10 15:30:00</th>\n",
       "      <td>-0.137880</td>\n",
       "      <td>-2.195340</td>\n",
       "      <td>0.004207</td>\n",
       "      <td>2.199810</td>\n",
       "      <td>274.36000</td>\n",
       "      <td>-0.200517</td>\n",
       "      <td>236.72800</td>\n",
       "      <td>309.208</td>\n",
       "      <td>0.427329</td>\n",
       "      <td>wm1</td>\n",
       "    </tr>\n",
       "    <tr>\n",
       "      <th>2020-08-10 16:00:00</th>\n",
       "      <td>0.145467</td>\n",
       "      <td>-2.095640</td>\n",
       "      <td>-0.013016</td>\n",
       "      <td>2.100830</td>\n",
       "      <td>268.09400</td>\n",
       "      <td>-0.286764</td>\n",
       "      <td>245.74700</td>\n",
       "      <td>309.173</td>\n",
       "      <td>0.511003</td>\n",
       "      <td>wm1</td>\n",
       "    </tr>\n",
       "    <tr>\n",
       "      <th>2020-08-10 16:30:00</th>\n",
       "      <td>0.697851</td>\n",
       "      <td>-1.936100</td>\n",
       "      <td>-0.069184</td>\n",
       "      <td>2.059290</td>\n",
       "      <td>253.07900</td>\n",
       "      <td>-0.255489</td>\n",
       "      <td>215.33300</td>\n",
       "      <td>309.105</td>\n",
       "      <td>0.482281</td>\n",
       "      <td>wm1</td>\n",
       "    </tr>\n",
       "    <tr>\n",
       "      <th>2020-08-10 17:00:00</th>\n",
       "      <td>0.591637</td>\n",
       "      <td>-1.714100</td>\n",
       "      <td>-0.138436</td>\n",
       "      <td>1.818680</td>\n",
       "      <td>253.39700</td>\n",
       "      <td>-0.142132</td>\n",
       "      <td>145.27300</td>\n",
       "      <td>308.722</td>\n",
       "      <td>0.359494</td>\n",
       "      <td>wm1</td>\n",
       "    </tr>\n",
       "    <tr>\n",
       "      <th>...</th>\n",
       "      <td>...</td>\n",
       "      <td>...</td>\n",
       "      <td>...</td>\n",
       "      <td>...</td>\n",
       "      <td>...</td>\n",
       "      <td>...</td>\n",
       "      <td>...</td>\n",
       "      <td>...</td>\n",
       "      <td>...</td>\n",
       "      <td>...</td>\n",
       "    </tr>\n",
       "    <tr>\n",
       "      <th>2020-08-13 07:30:00</th>\n",
       "      <td>-0.105325</td>\n",
       "      <td>-0.058721</td>\n",
       "      <td>0.009327</td>\n",
       "      <td>0.120963</td>\n",
       "      <td>310.26500</td>\n",
       "      <td>0.005041</td>\n",
       "      <td>-10.42640</td>\n",
       "      <td>295.563</td>\n",
       "      <td>0.066246</td>\n",
       "      <td>wm1</td>\n",
       "    </tr>\n",
       "    <tr>\n",
       "      <th>2020-08-13 08:00:00</th>\n",
       "      <td>-0.454590</td>\n",
       "      <td>-0.013477</td>\n",
       "      <td>0.046994</td>\n",
       "      <td>0.457242</td>\n",
       "      <td>352.02500</td>\n",
       "      <td>-0.004903</td>\n",
       "      <td>2.74689</td>\n",
       "      <td>297.631</td>\n",
       "      <td>0.065560</td>\n",
       "      <td>wm1</td>\n",
       "    </tr>\n",
       "    <tr>\n",
       "      <th>2020-08-13 08:30:00</th>\n",
       "      <td>-0.851852</td>\n",
       "      <td>0.167279</td>\n",
       "      <td>0.037235</td>\n",
       "      <td>0.868980</td>\n",
       "      <td>9.82383</td>\n",
       "      <td>0.004899</td>\n",
       "      <td>3.55261</td>\n",
       "      <td>299.246</td>\n",
       "      <td>0.065712</td>\n",
       "      <td>wm1</td>\n",
       "    </tr>\n",
       "    <tr>\n",
       "      <th>2020-08-13 09:00:00</th>\n",
       "      <td>-0.653185</td>\n",
       "      <td>-0.018999</td>\n",
       "      <td>0.037815</td>\n",
       "      <td>0.654593</td>\n",
       "      <td>359.11700</td>\n",
       "      <td>-0.005327</td>\n",
       "      <td>50.94520</td>\n",
       "      <td>301.695</td>\n",
       "      <td>0.068798</td>\n",
       "      <td>wm1</td>\n",
       "    </tr>\n",
       "    <tr>\n",
       "      <th>2020-08-13 09:30:00</th>\n",
       "      <td>-0.392124</td>\n",
       "      <td>-0.075528</td>\n",
       "      <td>0.069159</td>\n",
       "      <td>0.405329</td>\n",
       "      <td>347.61400</td>\n",
       "      <td>-0.029831</td>\n",
       "      <td>130.06500</td>\n",
       "      <td>303.557</td>\n",
       "      <td>0.163311</td>\n",
       "      <td>wm1</td>\n",
       "    </tr>\n",
       "  </tbody>\n",
       "</table>\n",
       "<p>134 rows × 10 columns</p>\n",
       "</div>"
      ],
      "text/plain": [
       "                            u         v         w  wind_speed   wind_dir  \\\n",
       "date_time                                                                  \n",
       "2020-08-10 15:00:00  0.592734 -1.856710 -0.117873    1.952660  254.84700   \n",
       "2020-08-10 15:30:00 -0.137880 -2.195340  0.004207    2.199810  274.36000   \n",
       "2020-08-10 16:00:00  0.145467 -2.095640 -0.013016    2.100830  268.09400   \n",
       "2020-08-10 16:30:00  0.697851 -1.936100 -0.069184    2.059290  253.07900   \n",
       "2020-08-10 17:00:00  0.591637 -1.714100 -0.138436    1.818680  253.39700   \n",
       "...                       ...       ...       ...         ...        ...   \n",
       "2020-08-13 07:30:00 -0.105325 -0.058721  0.009327    0.120963  310.26500   \n",
       "2020-08-13 08:00:00 -0.454590 -0.013477  0.046994    0.457242  352.02500   \n",
       "2020-08-13 08:30:00 -0.851852  0.167279  0.037235    0.868980    9.82383   \n",
       "2020-08-13 09:00:00 -0.653185 -0.018999  0.037815    0.654593  359.11700   \n",
       "2020-08-13 09:30:00 -0.392124 -0.075528  0.069159    0.405329  347.61400   \n",
       "\n",
       "                          Tau          H        t        u* anem  \n",
       "date_time                                                         \n",
       "2020-08-10 15:00:00 -0.161664  164.35200  309.123  0.383649  wm1  \n",
       "2020-08-10 15:30:00 -0.200517  236.72800  309.208  0.427329  wm1  \n",
       "2020-08-10 16:00:00 -0.286764  245.74700  309.173  0.511003  wm1  \n",
       "2020-08-10 16:30:00 -0.255489  215.33300  309.105  0.482281  wm1  \n",
       "2020-08-10 17:00:00 -0.142132  145.27300  308.722  0.359494  wm1  \n",
       "...                       ...        ...      ...       ...  ...  \n",
       "2020-08-13 07:30:00  0.005041  -10.42640  295.563  0.066246  wm1  \n",
       "2020-08-13 08:00:00 -0.004903    2.74689  297.631  0.065560  wm1  \n",
       "2020-08-13 08:30:00  0.004899    3.55261  299.246  0.065712  wm1  \n",
       "2020-08-13 09:00:00 -0.005327   50.94520  301.695  0.068798  wm1  \n",
       "2020-08-13 09:30:00 -0.029831  130.06500  303.557  0.163311  wm1  \n",
       "\n",
       "[134 rows x 10 columns]"
      ]
     },
     "execution_count": null,
     "metadata": {},
     "output_type": "execute_result"
    }
   ],
   "source": [
    "data.query('anem == \"wm1\"')"
   ]
  },
  {
   "cell_type": "markdown",
   "metadata": {},
   "source": [
    "**Rotate WM1 components** EP does not rotate them according to installation offset"
   ]
  },
  {
   "cell_type": "code",
   "execution_count": null,
   "metadata": {},
   "outputs": [
    {
     "data": {
      "text/plain": [
       "u              float64\n",
       "v              float64\n",
       "w              float64\n",
       "wind_speed     float64\n",
       "wind_dir       float64\n",
       "Tau            float64\n",
       "H              float64\n",
       "t              float64\n",
       "u*             float64\n",
       "anem          category\n",
       "dtype: object"
      ]
     },
     "execution_count": null,
     "metadata": {},
     "output_type": "execute_result"
    }
   ],
   "source": [
    "data.dtypes"
   ]
  },
  {
   "cell_type": "code",
   "execution_count": null,
   "metadata": {},
   "outputs": [],
   "source": []
  },
  {
   "cell_type": "code",
   "execution_count": null,
   "metadata": {},
   "outputs": [
    {
     "data": {
      "text/html": [
       "<div>\n",
       "<style scoped>\n",
       "    .dataframe tbody tr th:only-of-type {\n",
       "        vertical-align: middle;\n",
       "    }\n",
       "\n",
       "    .dataframe tbody tr th {\n",
       "        vertical-align: top;\n",
       "    }\n",
       "\n",
       "    .dataframe thead th {\n",
       "        text-align: right;\n",
       "    }\n",
       "</style>\n",
       "<table border=\"1\" class=\"dataframe\">\n",
       "  <thead>\n",
       "    <tr style=\"text-align: right;\">\n",
       "      <th></th>\n",
       "      <th>u</th>\n",
       "      <th>v</th>\n",
       "      <th>w</th>\n",
       "      <th>wind_speed</th>\n",
       "      <th>wind_dir</th>\n",
       "      <th>Tau</th>\n",
       "      <th>H</th>\n",
       "      <th>t</th>\n",
       "      <th>u*</th>\n",
       "      <th>anem</th>\n",
       "      <th>time_day</th>\n",
       "      <th>wind_dir_binned</th>\n",
       "    </tr>\n",
       "    <tr>\n",
       "      <th>date_time</th>\n",
       "      <th></th>\n",
       "      <th></th>\n",
       "      <th></th>\n",
       "      <th></th>\n",
       "      <th></th>\n",
       "      <th></th>\n",
       "      <th></th>\n",
       "      <th></th>\n",
       "      <th></th>\n",
       "      <th></th>\n",
       "      <th></th>\n",
       "      <th></th>\n",
       "    </tr>\n",
       "  </thead>\n",
       "  <tbody>\n",
       "    <tr>\n",
       "      <th>2020-08-10 15:00:00</th>\n",
       "      <td>0.592734</td>\n",
       "      <td>-1.856710</td>\n",
       "      <td>-0.117873</td>\n",
       "      <td>1.952660</td>\n",
       "      <td>254.84700</td>\n",
       "      <td>-0.161664</td>\n",
       "      <td>164.3520</td>\n",
       "      <td>309.123</td>\n",
       "      <td>0.383649</td>\n",
       "      <td>wm1</td>\n",
       "      <td>15:00</td>\n",
       "      <td>(224.635, 269.462]</td>\n",
       "    </tr>\n",
       "    <tr>\n",
       "      <th>2020-08-10 15:30:00</th>\n",
       "      <td>-0.137880</td>\n",
       "      <td>-2.195340</td>\n",
       "      <td>0.004207</td>\n",
       "      <td>2.199810</td>\n",
       "      <td>274.36000</td>\n",
       "      <td>-0.200517</td>\n",
       "      <td>236.7280</td>\n",
       "      <td>309.208</td>\n",
       "      <td>0.427329</td>\n",
       "      <td>wm1</td>\n",
       "      <td>15:30</td>\n",
       "      <td>(269.462, 314.29]</td>\n",
       "    </tr>\n",
       "    <tr>\n",
       "      <th>2020-08-10 16:00:00</th>\n",
       "      <td>0.145467</td>\n",
       "      <td>-2.095640</td>\n",
       "      <td>-0.013016</td>\n",
       "      <td>2.100830</td>\n",
       "      <td>268.09400</td>\n",
       "      <td>-0.286764</td>\n",
       "      <td>245.7470</td>\n",
       "      <td>309.173</td>\n",
       "      <td>0.511003</td>\n",
       "      <td>wm1</td>\n",
       "      <td>16:00</td>\n",
       "      <td>(224.635, 269.462]</td>\n",
       "    </tr>\n",
       "    <tr>\n",
       "      <th>2020-08-10 16:30:00</th>\n",
       "      <td>0.697851</td>\n",
       "      <td>-1.936100</td>\n",
       "      <td>-0.069184</td>\n",
       "      <td>2.059290</td>\n",
       "      <td>253.07900</td>\n",
       "      <td>-0.255489</td>\n",
       "      <td>215.3330</td>\n",
       "      <td>309.105</td>\n",
       "      <td>0.482281</td>\n",
       "      <td>wm1</td>\n",
       "      <td>16:30</td>\n",
       "      <td>(224.635, 269.462]</td>\n",
       "    </tr>\n",
       "    <tr>\n",
       "      <th>2020-08-10 17:00:00</th>\n",
       "      <td>0.591637</td>\n",
       "      <td>-1.714100</td>\n",
       "      <td>-0.138436</td>\n",
       "      <td>1.818680</td>\n",
       "      <td>253.39700</td>\n",
       "      <td>-0.142132</td>\n",
       "      <td>145.2730</td>\n",
       "      <td>308.722</td>\n",
       "      <td>0.359494</td>\n",
       "      <td>wm1</td>\n",
       "      <td>17:00</td>\n",
       "      <td>(224.635, 269.462]</td>\n",
       "    </tr>\n",
       "    <tr>\n",
       "      <th>...</th>\n",
       "      <td>...</td>\n",
       "      <td>...</td>\n",
       "      <td>...</td>\n",
       "      <td>...</td>\n",
       "      <td>...</td>\n",
       "      <td>...</td>\n",
       "      <td>...</td>\n",
       "      <td>...</td>\n",
       "      <td>...</td>\n",
       "      <td>...</td>\n",
       "      <td>...</td>\n",
       "      <td>...</td>\n",
       "    </tr>\n",
       "    <tr>\n",
       "      <th>2020-08-13 07:30:00</th>\n",
       "      <td>-0.073485</td>\n",
       "      <td>-0.195485</td>\n",
       "      <td>0.079466</td>\n",
       "      <td>0.223478</td>\n",
       "      <td>293.64200</td>\n",
       "      <td>0.021742</td>\n",
       "      <td>-16.5669</td>\n",
       "      <td>296.907</td>\n",
       "      <td>0.135245</td>\n",
       "      <td>mytrs</td>\n",
       "      <td>07:30</td>\n",
       "      <td>(269.462, 314.29]</td>\n",
       "    </tr>\n",
       "    <tr>\n",
       "      <th>2020-08-13 08:00:00</th>\n",
       "      <td>-0.061273</td>\n",
       "      <td>-0.341399</td>\n",
       "      <td>0.122776</td>\n",
       "      <td>0.367974</td>\n",
       "      <td>284.44000</td>\n",
       "      <td>-0.063508</td>\n",
       "      <td>-28.0143</td>\n",
       "      <td>298.315</td>\n",
       "      <td>0.231695</td>\n",
       "      <td>mytrs</td>\n",
       "      <td>08:00</td>\n",
       "      <td>(269.462, 314.29]</td>\n",
       "    </tr>\n",
       "    <tr>\n",
       "      <th>2020-08-13 08:30:00</th>\n",
       "      <td>-0.641903</td>\n",
       "      <td>0.287413</td>\n",
       "      <td>0.107620</td>\n",
       "      <td>0.711584</td>\n",
       "      <td>22.13170</td>\n",
       "      <td>0.023925</td>\n",
       "      <td>-40.6602</td>\n",
       "      <td>298.970</td>\n",
       "      <td>0.142367</td>\n",
       "      <td>mytrs</td>\n",
       "      <td>08:30</td>\n",
       "      <td>(0.139, 45.325]</td>\n",
       "    </tr>\n",
       "    <tr>\n",
       "      <th>2020-08-13 09:00:00</th>\n",
       "      <td>-0.350018</td>\n",
       "      <td>0.311671</td>\n",
       "      <td>0.042034</td>\n",
       "      <td>0.470569</td>\n",
       "      <td>38.73340</td>\n",
       "      <td>-0.021403</td>\n",
       "      <td>16.3595</td>\n",
       "      <td>300.193</td>\n",
       "      <td>0.134928</td>\n",
       "      <td>mytrs</td>\n",
       "      <td>09:00</td>\n",
       "      <td>(0.139, 45.325]</td>\n",
       "    </tr>\n",
       "    <tr>\n",
       "      <th>2020-08-13 09:30:00</th>\n",
       "      <td>-0.164409</td>\n",
       "      <td>0.040407</td>\n",
       "      <td>0.091730</td>\n",
       "      <td>0.192584</td>\n",
       "      <td>9.58732</td>\n",
       "      <td>-0.044599</td>\n",
       "      <td>35.4965</td>\n",
       "      <td>300.565</td>\n",
       "      <td>0.194894</td>\n",
       "      <td>mytrs</td>\n",
       "      <td>09:30</td>\n",
       "      <td>(0.139, 45.325]</td>\n",
       "    </tr>\n",
       "  </tbody>\n",
       "</table>\n",
       "<p>528 rows × 12 columns</p>\n",
       "</div>"
      ],
      "text/plain": [
       "                            u         v         w  wind_speed   wind_dir  \\\n",
       "date_time                                                                  \n",
       "2020-08-10 15:00:00  0.592734 -1.856710 -0.117873    1.952660  254.84700   \n",
       "2020-08-10 15:30:00 -0.137880 -2.195340  0.004207    2.199810  274.36000   \n",
       "2020-08-10 16:00:00  0.145467 -2.095640 -0.013016    2.100830  268.09400   \n",
       "2020-08-10 16:30:00  0.697851 -1.936100 -0.069184    2.059290  253.07900   \n",
       "2020-08-10 17:00:00  0.591637 -1.714100 -0.138436    1.818680  253.39700   \n",
       "...                       ...       ...       ...         ...        ...   \n",
       "2020-08-13 07:30:00 -0.073485 -0.195485  0.079466    0.223478  293.64200   \n",
       "2020-08-13 08:00:00 -0.061273 -0.341399  0.122776    0.367974  284.44000   \n",
       "2020-08-13 08:30:00 -0.641903  0.287413  0.107620    0.711584   22.13170   \n",
       "2020-08-13 09:00:00 -0.350018  0.311671  0.042034    0.470569   38.73340   \n",
       "2020-08-13 09:30:00 -0.164409  0.040407  0.091730    0.192584    9.58732   \n",
       "\n",
       "                          Tau         H        t        u*   anem time_day  \\\n",
       "date_time                                                                    \n",
       "2020-08-10 15:00:00 -0.161664  164.3520  309.123  0.383649    wm1    15:00   \n",
       "2020-08-10 15:30:00 -0.200517  236.7280  309.208  0.427329    wm1    15:30   \n",
       "2020-08-10 16:00:00 -0.286764  245.7470  309.173  0.511003    wm1    16:00   \n",
       "2020-08-10 16:30:00 -0.255489  215.3330  309.105  0.482281    wm1    16:30   \n",
       "2020-08-10 17:00:00 -0.142132  145.2730  308.722  0.359494    wm1    17:00   \n",
       "...                       ...       ...      ...       ...    ...      ...   \n",
       "2020-08-13 07:30:00  0.021742  -16.5669  296.907  0.135245  mytrs    07:30   \n",
       "2020-08-13 08:00:00 -0.063508  -28.0143  298.315  0.231695  mytrs    08:00   \n",
       "2020-08-13 08:30:00  0.023925  -40.6602  298.970  0.142367  mytrs    08:30   \n",
       "2020-08-13 09:00:00 -0.021403   16.3595  300.193  0.134928  mytrs    09:00   \n",
       "2020-08-13 09:30:00 -0.044599   35.4965  300.565  0.194894  mytrs    09:30   \n",
       "\n",
       "                        wind_dir_binned  \n",
       "date_time                                \n",
       "2020-08-10 15:00:00  (224.635, 269.462]  \n",
       "2020-08-10 15:30:00   (269.462, 314.29]  \n",
       "2020-08-10 16:00:00  (224.635, 269.462]  \n",
       "2020-08-10 16:30:00  (224.635, 269.462]  \n",
       "2020-08-10 17:00:00  (224.635, 269.462]  \n",
       "...                                 ...  \n",
       "2020-08-13 07:30:00   (269.462, 314.29]  \n",
       "2020-08-13 08:00:00   (269.462, 314.29]  \n",
       "2020-08-13 08:30:00     (0.139, 45.325]  \n",
       "2020-08-13 09:00:00     (0.139, 45.325]  \n",
       "2020-08-13 09:30:00     (0.139, 45.325]  \n",
       "\n",
       "[528 rows x 12 columns]"
      ]
     },
     "execution_count": null,
     "metadata": {},
     "output_type": "execute_result"
    }
   ],
   "source": [
    "data"
   ]
  },
  {
   "cell_type": "code",
   "execution_count": null,
   "metadata": {},
   "outputs": [],
   "source": [
    "data = add_time_of_day(data)"
   ]
  },
  {
   "cell_type": "code",
   "execution_count": null,
   "metadata": {},
   "outputs": [
    {
     "data": {
      "text/plain": [
       "<AxesSubplot:xlabel='time_day', ylabel='wind_speed'>"
      ]
     },
     "execution_count": null,
     "metadata": {},
     "output_type": "execute_result"
    },
    {
     "data": {
      "image/png": "[encoded data removed]",
      "text/plain": [
       "<Figure size 1296x720 with 1 Axes>"
      ]
     },
     "metadata": {},
     "output_type": "display_data"
    }
   ],
   "source": [
    "sns.lineplot(x='time_day', y='wind_speed', hue='anem', ci='sd', data=data.query('anem == \"wm1\" or anem == \"m6\"'), ax=get_ax())"
   ]
  },
  {
   "cell_type": "code",
   "execution_count": null,
   "metadata": {},
   "outputs": [],
   "source": [
    "data = add_wind_dir_binned(data, 16)"
   ]
  },
  {
   "cell_type": "code",
   "execution_count": null,
   "metadata": {},
   "outputs": [
    {
     "data": {
      "text/plain": [
       "<AxesSubplot:xlabel='wind_dir_binned', ylabel='wind_speed'>"
      ]
     },
     "execution_count": null,
     "metadata": {},
     "output_type": "execute_result"
    },
    {
     "data": {
      "image/png": "[encoded data removed]",
      "text/plain": [
       "<Figure size 1296x720 with 1 Axes>"
      ]
     },
     "metadata": {},
     "output_type": "display_data"
    }
   ],
   "source": [
    "sns.boxplot(x='wind_dir_binned', y='wind_speed',data=data.query('anem == \"wm1\"'), ax=get_ax())"
   ]
  },
  {
   "cell_type": "code",
   "execution_count": null,
   "metadata": {},
   "outputs": [],
   "source": []
  },
  {
   "cell_type": "code",
   "execution_count": null,
   "metadata": {},
   "outputs": [
    {
     "data": {
      "text/plain": [
       "u              float64\n",
       "v              float64\n",
       "w              float64\n",
       "wind_speed     float64\n",
       "wind_dir       float64\n",
       "Tau            float64\n",
       "H              float64\n",
       "t              float64\n",
       "u*             float64\n",
       "anemometer      object\n",
       "time_day      category\n",
       "dtype: object"
      ]
     },
     "execution_count": null,
     "metadata": {},
     "output_type": "execute_result"
    }
   ],
   "source": [
    "wind.dtypes"
   ]
  },
  {
   "cell_type": "markdown",
   "metadata": {},
   "source": [
    "# Fluxes"
   ]
  },
  {
   "cell_type": "code",
   "execution_count": null,
   "metadata": {},
   "outputs": [
    {
     "data": {
      "application/vnd.jupyter.widget-view+json": {
       "model_id": "a8b6beb52387429d8cd74e397bb35ece",
       "version_major": 2,
       "version_minor": 0
      },
      "text/plain": [
       "Canvas(toolbar=Toolbar(toolitems=[('Home', 'Reset original view', 'home', 'home'), ('Back', 'Back to previous …"
      ]
     },
     "metadata": {},
     "output_type": "display_data"
    },
    {
     "data": {
      "text/plain": [
       "array([<AxesSubplot:title={'center':'H'}, xlabel='date_time'>],\n",
       "      dtype=object)"
      ]
     },
     "execution_count": null,
     "metadata": {},
     "output_type": "execute_result"
    }
   ],
   "source": [
    "plot_components([wm1, m6, m7unf], ['H'])"
   ]
  },
  {
   "cell_type": "code",
   "execution_count": null,
   "metadata": {},
   "outputs": [
    {
     "data": {
      "text/html": [
       "<div>\n",
       "<style scoped>\n",
       "    .dataframe tbody tr th:only-of-type {\n",
       "        vertical-align: middle;\n",
       "    }\n",
       "\n",
       "    .dataframe tbody tr th {\n",
       "        vertical-align: top;\n",
       "    }\n",
       "\n",
       "    .dataframe thead th {\n",
       "        text-align: right;\n",
       "    }\n",
       "</style>\n",
       "<table border=\"1\" class=\"dataframe\">\n",
       "  <thead>\n",
       "    <tr style=\"text-align: right;\">\n",
       "      <th></th>\n",
       "      <th>u</th>\n",
       "      <th>v</th>\n",
       "      <th>w</th>\n",
       "      <th>wind_speed</th>\n",
       "      <th>wind_dir</th>\n",
       "      <th>Tau</th>\n",
       "      <th>H</th>\n",
       "      <th>t</th>\n",
       "    </tr>\n",
       "    <tr>\n",
       "      <th>date_time</th>\n",
       "      <th></th>\n",
       "      <th></th>\n",
       "      <th></th>\n",
       "      <th></th>\n",
       "      <th></th>\n",
       "      <th></th>\n",
       "      <th></th>\n",
       "      <th></th>\n",
       "    </tr>\n",
       "  </thead>\n",
       "  <tbody>\n",
       "    <tr>\n",
       "      <th>2020-08-10 15:00:00</th>\n",
       "      <td>0.592734</td>\n",
       "      <td>-1.856710</td>\n",
       "      <td>-0.117873</td>\n",
       "      <td>1.952660</td>\n",
       "      <td>254.84700</td>\n",
       "      <td>-0.161664</td>\n",
       "      <td>164.35200</td>\n",
       "      <td>309.123</td>\n",
       "    </tr>\n",
       "    <tr>\n",
       "      <th>2020-08-10 15:30:00</th>\n",
       "      <td>-0.137880</td>\n",
       "      <td>-2.195340</td>\n",
       "      <td>0.004207</td>\n",
       "      <td>2.199810</td>\n",
       "      <td>274.36000</td>\n",
       "      <td>-0.200517</td>\n",
       "      <td>236.72800</td>\n",
       "      <td>309.208</td>\n",
       "    </tr>\n",
       "    <tr>\n",
       "      <th>2020-08-10 16:00:00</th>\n",
       "      <td>0.145467</td>\n",
       "      <td>-2.095640</td>\n",
       "      <td>-0.013016</td>\n",
       "      <td>2.100830</td>\n",
       "      <td>268.09400</td>\n",
       "      <td>-0.286764</td>\n",
       "      <td>245.74700</td>\n",
       "      <td>309.173</td>\n",
       "    </tr>\n",
       "    <tr>\n",
       "      <th>2020-08-10 16:30:00</th>\n",
       "      <td>0.697851</td>\n",
       "      <td>-1.936100</td>\n",
       "      <td>-0.069184</td>\n",
       "      <td>2.059290</td>\n",
       "      <td>253.07900</td>\n",
       "      <td>-0.255489</td>\n",
       "      <td>215.33300</td>\n",
       "      <td>309.105</td>\n",
       "    </tr>\n",
       "    <tr>\n",
       "      <th>2020-08-10 17:00:00</th>\n",
       "      <td>0.591637</td>\n",
       "      <td>-1.714100</td>\n",
       "      <td>-0.138436</td>\n",
       "      <td>1.818680</td>\n",
       "      <td>253.39700</td>\n",
       "      <td>-0.142132</td>\n",
       "      <td>145.27300</td>\n",
       "      <td>308.722</td>\n",
       "    </tr>\n",
       "    <tr>\n",
       "      <th>...</th>\n",
       "      <td>...</td>\n",
       "      <td>...</td>\n",
       "      <td>...</td>\n",
       "      <td>...</td>\n",
       "      <td>...</td>\n",
       "      <td>...</td>\n",
       "      <td>...</td>\n",
       "      <td>...</td>\n",
       "    </tr>\n",
       "    <tr>\n",
       "      <th>2020-08-13 07:30:00</th>\n",
       "      <td>-0.105325</td>\n",
       "      <td>-0.058721</td>\n",
       "      <td>0.009327</td>\n",
       "      <td>0.120963</td>\n",
       "      <td>310.26500</td>\n",
       "      <td>0.005041</td>\n",
       "      <td>-10.42640</td>\n",
       "      <td>295.563</td>\n",
       "    </tr>\n",
       "    <tr>\n",
       "      <th>2020-08-13 08:00:00</th>\n",
       "      <td>-0.454590</td>\n",
       "      <td>-0.013477</td>\n",
       "      <td>0.046994</td>\n",
       "      <td>0.457242</td>\n",
       "      <td>352.02500</td>\n",
       "      <td>-0.004903</td>\n",
       "      <td>2.74689</td>\n",
       "      <td>297.631</td>\n",
       "    </tr>\n",
       "    <tr>\n",
       "      <th>2020-08-13 08:30:00</th>\n",
       "      <td>-0.851852</td>\n",
       "      <td>0.167279</td>\n",
       "      <td>0.037235</td>\n",
       "      <td>0.868980</td>\n",
       "      <td>9.82383</td>\n",
       "      <td>0.004899</td>\n",
       "      <td>3.55261</td>\n",
       "      <td>299.246</td>\n",
       "    </tr>\n",
       "    <tr>\n",
       "      <th>2020-08-13 09:00:00</th>\n",
       "      <td>-0.653185</td>\n",
       "      <td>-0.018999</td>\n",
       "      <td>0.037815</td>\n",
       "      <td>0.654593</td>\n",
       "      <td>359.11700</td>\n",
       "      <td>-0.005327</td>\n",
       "      <td>50.94520</td>\n",
       "      <td>301.695</td>\n",
       "    </tr>\n",
       "    <tr>\n",
       "      <th>2020-08-13 09:30:00</th>\n",
       "      <td>-0.392124</td>\n",
       "      <td>-0.075528</td>\n",
       "      <td>0.069159</td>\n",
       "      <td>0.405329</td>\n",
       "      <td>347.61400</td>\n",
       "      <td>-0.029831</td>\n",
       "      <td>130.06500</td>\n",
       "      <td>303.557</td>\n",
       "    </tr>\n",
       "  </tbody>\n",
       "</table>\n",
       "<p>134 rows × 8 columns</p>\n",
       "</div>"
      ],
      "text/plain": [
       "                            u         v         w  wind_speed   wind_dir  \\\n",
       "date_time                                                                  \n",
       "2020-08-10 15:00:00  0.592734 -1.856710 -0.117873    1.952660  254.84700   \n",
       "2020-08-10 15:30:00 -0.137880 -2.195340  0.004207    2.199810  274.36000   \n",
       "2020-08-10 16:00:00  0.145467 -2.095640 -0.013016    2.100830  268.09400   \n",
       "2020-08-10 16:30:00  0.697851 -1.936100 -0.069184    2.059290  253.07900   \n",
       "2020-08-10 17:00:00  0.591637 -1.714100 -0.138436    1.818680  253.39700   \n",
       "...                       ...       ...       ...         ...        ...   \n",
       "2020-08-13 07:30:00 -0.105325 -0.058721  0.009327    0.120963  310.26500   \n",
       "2020-08-13 08:00:00 -0.454590 -0.013477  0.046994    0.457242  352.02500   \n",
       "2020-08-13 08:30:00 -0.851852  0.167279  0.037235    0.868980    9.82383   \n",
       "2020-08-13 09:00:00 -0.653185 -0.018999  0.037815    0.654593  359.11700   \n",
       "2020-08-13 09:30:00 -0.392124 -0.075528  0.069159    0.405329  347.61400   \n",
       "\n",
       "                          Tau          H        t  \n",
       "date_time                                          \n",
       "2020-08-10 15:00:00 -0.161664  164.35200  309.123  \n",
       "2020-08-10 15:30:00 -0.200517  236.72800  309.208  \n",
       "2020-08-10 16:00:00 -0.286764  245.74700  309.173  \n",
       "2020-08-10 16:30:00 -0.255489  215.33300  309.105  \n",
       "2020-08-10 17:00:00 -0.142132  145.27300  308.722  \n",
       "...                       ...        ...      ...  \n",
       "2020-08-13 07:30:00  0.005041  -10.42640  295.563  \n",
       "2020-08-13 08:00:00 -0.004903    2.74689  297.631  \n",
       "2020-08-13 08:30:00  0.004899    3.55261  299.246  \n",
       "2020-08-13 09:00:00 -0.005327   50.94520  301.695  \n",
       "2020-08-13 09:30:00 -0.029831  130.06500  303.557  \n",
       "\n",
       "[134 rows x 8 columns]"
      ]
     },
     "execution_count": null,
     "metadata": {},
     "output_type": "execute_result"
    }
   ],
   "source": [
    "wm1"
   ]
  },
  {
   "cell_type": "code",
   "execution_count": null,
   "metadata": {},
   "outputs": [
    {
     "data": {
      "text/html": [
       "<div>\n",
       "<style scoped>\n",
       "    .dataframe tbody tr th:only-of-type {\n",
       "        vertical-align: middle;\n",
       "    }\n",
       "\n",
       "    .dataframe tbody tr th {\n",
       "        vertical-align: top;\n",
       "    }\n",
       "\n",
       "    .dataframe thead th {\n",
       "        text-align: right;\n",
       "    }\n",
       "</style>\n",
       "<table border=\"1\" class=\"dataframe\">\n",
       "  <thead>\n",
       "    <tr style=\"text-align: right;\">\n",
       "      <th></th>\n",
       "      <th>u</th>\n",
       "      <th>v</th>\n",
       "      <th>w</th>\n",
       "      <th>wind_speed</th>\n",
       "      <th>wind_dir</th>\n",
       "      <th>Tau</th>\n",
       "      <th>H</th>\n",
       "      <th>t</th>\n",
       "    </tr>\n",
       "    <tr>\n",
       "      <th>date_time</th>\n",
       "      <th></th>\n",
       "      <th></th>\n",
       "      <th></th>\n",
       "      <th></th>\n",
       "      <th></th>\n",
       "      <th></th>\n",
       "      <th></th>\n",
       "      <th></th>\n",
       "    </tr>\n",
       "  </thead>\n",
       "  <tbody>\n",
       "    <tr>\n",
       "      <th>2020-08-10 15:00:00</th>\n",
       "      <td>0.592734</td>\n",
       "      <td>-1.856710</td>\n",
       "      <td>-0.117873</td>\n",
       "      <td>1.952660</td>\n",
       "      <td>254.84700</td>\n",
       "      <td>-0.161664</td>\n",
       "      <td>164.35200</td>\n",
       "      <td>309.123</td>\n",
       "    </tr>\n",
       "    <tr>\n",
       "      <th>2020-08-10 15:30:00</th>\n",
       "      <td>-0.137880</td>\n",
       "      <td>-2.195340</td>\n",
       "      <td>0.004207</td>\n",
       "      <td>2.199810</td>\n",
       "      <td>274.36000</td>\n",
       "      <td>-0.200517</td>\n",
       "      <td>236.72800</td>\n",
       "      <td>309.208</td>\n",
       "    </tr>\n",
       "    <tr>\n",
       "      <th>2020-08-10 16:00:00</th>\n",
       "      <td>0.145467</td>\n",
       "      <td>-2.095640</td>\n",
       "      <td>-0.013016</td>\n",
       "      <td>2.100830</td>\n",
       "      <td>268.09400</td>\n",
       "      <td>-0.286764</td>\n",
       "      <td>245.74700</td>\n",
       "      <td>309.173</td>\n",
       "    </tr>\n",
       "    <tr>\n",
       "      <th>2020-08-10 16:30:00</th>\n",
       "      <td>0.697851</td>\n",
       "      <td>-1.936100</td>\n",
       "      <td>-0.069184</td>\n",
       "      <td>2.059290</td>\n",
       "      <td>253.07900</td>\n",
       "      <td>-0.255489</td>\n",
       "      <td>215.33300</td>\n",
       "      <td>309.105</td>\n",
       "    </tr>\n",
       "    <tr>\n",
       "      <th>2020-08-10 17:00:00</th>\n",
       "      <td>0.591637</td>\n",
       "      <td>-1.714100</td>\n",
       "      <td>-0.138436</td>\n",
       "      <td>1.818680</td>\n",
       "      <td>253.39700</td>\n",
       "      <td>-0.142132</td>\n",
       "      <td>145.27300</td>\n",
       "      <td>308.722</td>\n",
       "    </tr>\n",
       "    <tr>\n",
       "      <th>...</th>\n",
       "      <td>...</td>\n",
       "      <td>...</td>\n",
       "      <td>...</td>\n",
       "      <td>...</td>\n",
       "      <td>...</td>\n",
       "      <td>...</td>\n",
       "      <td>...</td>\n",
       "      <td>...</td>\n",
       "    </tr>\n",
       "    <tr>\n",
       "      <th>2020-08-13 07:30:00</th>\n",
       "      <td>-0.105325</td>\n",
       "      <td>-0.058721</td>\n",
       "      <td>0.009327</td>\n",
       "      <td>0.120963</td>\n",
       "      <td>310.26500</td>\n",
       "      <td>0.005041</td>\n",
       "      <td>-10.42640</td>\n",
       "      <td>295.563</td>\n",
       "    </tr>\n",
       "    <tr>\n",
       "      <th>2020-08-13 08:00:00</th>\n",
       "      <td>-0.454590</td>\n",
       "      <td>-0.013477</td>\n",
       "      <td>0.046994</td>\n",
       "      <td>0.457242</td>\n",
       "      <td>352.02500</td>\n",
       "      <td>-0.004903</td>\n",
       "      <td>2.74689</td>\n",
       "      <td>297.631</td>\n",
       "    </tr>\n",
       "    <tr>\n",
       "      <th>2020-08-13 08:30:00</th>\n",
       "      <td>-0.851852</td>\n",
       "      <td>0.167279</td>\n",
       "      <td>0.037235</td>\n",
       "      <td>0.868980</td>\n",
       "      <td>9.82383</td>\n",
       "      <td>0.004899</td>\n",
       "      <td>3.55261</td>\n",
       "      <td>299.246</td>\n",
       "    </tr>\n",
       "    <tr>\n",
       "      <th>2020-08-13 09:00:00</th>\n",
       "      <td>-0.653185</td>\n",
       "      <td>-0.018999</td>\n",
       "      <td>0.037815</td>\n",
       "      <td>0.654593</td>\n",
       "      <td>359.11700</td>\n",
       "      <td>-0.005327</td>\n",
       "      <td>50.94520</td>\n",
       "      <td>301.695</td>\n",
       "    </tr>\n",
       "    <tr>\n",
       "      <th>2020-08-13 09:30:00</th>\n",
       "      <td>-0.392124</td>\n",
       "      <td>-0.075528</td>\n",
       "      <td>0.069159</td>\n",
       "      <td>0.405329</td>\n",
       "      <td>347.61400</td>\n",
       "      <td>-0.029831</td>\n",
       "      <td>130.06500</td>\n",
       "      <td>303.557</td>\n",
       "    </tr>\n",
       "  </tbody>\n",
       "</table>\n",
       "<p>126 rows × 8 columns</p>\n",
       "</div>"
      ],
      "text/plain": [
       "                            u         v         w  wind_speed   wind_dir  \\\n",
       "date_time                                                                  \n",
       "2020-08-10 15:00:00  0.592734 -1.856710 -0.117873    1.952660  254.84700   \n",
       "2020-08-10 15:30:00 -0.137880 -2.195340  0.004207    2.199810  274.36000   \n",
       "2020-08-10 16:00:00  0.145467 -2.095640 -0.013016    2.100830  268.09400   \n",
       "2020-08-10 16:30:00  0.697851 -1.936100 -0.069184    2.059290  253.07900   \n",
       "2020-08-10 17:00:00  0.591637 -1.714100 -0.138436    1.818680  253.39700   \n",
       "...                       ...       ...       ...         ...        ...   \n",
       "2020-08-13 07:30:00 -0.105325 -0.058721  0.009327    0.120963  310.26500   \n",
       "2020-08-13 08:00:00 -0.454590 -0.013477  0.046994    0.457242  352.02500   \n",
       "2020-08-13 08:30:00 -0.851852  0.167279  0.037235    0.868980    9.82383   \n",
       "2020-08-13 09:00:00 -0.653185 -0.018999  0.037815    0.654593  359.11700   \n",
       "2020-08-13 09:30:00 -0.392124 -0.075528  0.069159    0.405329  347.61400   \n",
       "\n",
       "                          Tau          H        t  \n",
       "date_time                                          \n",
       "2020-08-10 15:00:00 -0.161664  164.35200  309.123  \n",
       "2020-08-10 15:30:00 -0.200517  236.72800  309.208  \n",
       "2020-08-10 16:00:00 -0.286764  245.74700  309.173  \n",
       "2020-08-10 16:30:00 -0.255489  215.33300  309.105  \n",
       "2020-08-10 17:00:00 -0.142132  145.27300  308.722  \n",
       "...                       ...        ...      ...  \n",
       "2020-08-13 07:30:00  0.005041  -10.42640  295.563  \n",
       "2020-08-13 08:00:00 -0.004903    2.74689  297.631  \n",
       "2020-08-13 08:30:00  0.004899    3.55261  299.246  \n",
       "2020-08-13 09:00:00 -0.005327   50.94520  301.695  \n",
       "2020-08-13 09:30:00 -0.029831  130.06500  303.557  \n",
       "\n",
       "[126 rows x 8 columns]"
      ]
     },
     "execution_count": null,
     "metadata": {},
     "output_type": "execute_result"
    }
   ],
   "source": [
    "wm1.loc[m7unf.index]"
   ]
  },
  {
   "cell_type": "code",
   "execution_count": null,
   "metadata": {},
   "outputs": [
    {
     "data": {
      "text/html": [
       "<div>\n",
       "<style scoped>\n",
       "    .dataframe tbody tr th:only-of-type {\n",
       "        vertical-align: middle;\n",
       "    }\n",
       "\n",
       "    .dataframe tbody tr th {\n",
       "        vertical-align: top;\n",
       "    }\n",
       "\n",
       "    .dataframe thead th {\n",
       "        text-align: right;\n",
       "    }\n",
       "</style>\n",
       "<table border=\"1\" class=\"dataframe\">\n",
       "  <thead>\n",
       "    <tr style=\"text-align: right;\">\n",
       "      <th></th>\n",
       "      <th>u</th>\n",
       "      <th>v</th>\n",
       "      <th>w</th>\n",
       "      <th>wind_speed</th>\n",
       "      <th>wind_dir</th>\n",
       "      <th>Tau</th>\n",
       "      <th>H</th>\n",
       "      <th>t</th>\n",
       "    </tr>\n",
       "    <tr>\n",
       "      <th>date_time</th>\n",
       "      <th></th>\n",
       "      <th></th>\n",
       "      <th></th>\n",
       "      <th></th>\n",
       "      <th></th>\n",
       "      <th></th>\n",
       "      <th></th>\n",
       "      <th></th>\n",
       "    </tr>\n",
       "  </thead>\n",
       "  <tbody>\n",
       "    <tr>\n",
       "      <th>2020-08-10 15:00:00</th>\n",
       "      <td>0.682959</td>\n",
       "      <td>-1.439430</td>\n",
       "      <td>-0.023794</td>\n",
       "      <td>1.593420</td>\n",
       "      <td>240.8250</td>\n",
       "      <td>-0.184758</td>\n",
       "      <td>139.12000</td>\n",
       "      <td>303.810</td>\n",
       "    </tr>\n",
       "    <tr>\n",
       "      <th>2020-08-10 15:30:00</th>\n",
       "      <td>0.664223</td>\n",
       "      <td>-1.503900</td>\n",
       "      <td>-0.006563</td>\n",
       "      <td>1.644160</td>\n",
       "      <td>241.8810</td>\n",
       "      <td>-0.137658</td>\n",
       "      <td>227.47300</td>\n",
       "      <td>303.580</td>\n",
       "    </tr>\n",
       "    <tr>\n",
       "      <th>2020-08-10 16:00:00</th>\n",
       "      <td>0.709294</td>\n",
       "      <td>-1.465060</td>\n",
       "      <td>-0.004215</td>\n",
       "      <td>1.627800</td>\n",
       "      <td>239.9280</td>\n",
       "      <td>-0.234330</td>\n",
       "      <td>292.94500</td>\n",
       "      <td>303.491</td>\n",
       "    </tr>\n",
       "    <tr>\n",
       "      <th>2020-08-10 16:30:00</th>\n",
       "      <td>0.740483</td>\n",
       "      <td>-1.518140</td>\n",
       "      <td>0.060155</td>\n",
       "      <td>1.690270</td>\n",
       "      <td>239.6510</td>\n",
       "      <td>-0.220881</td>\n",
       "      <td>209.81100</td>\n",
       "      <td>303.535</td>\n",
       "    </tr>\n",
       "    <tr>\n",
       "      <th>2020-08-10 17:00:00</th>\n",
       "      <td>0.700245</td>\n",
       "      <td>-1.292050</td>\n",
       "      <td>0.031048</td>\n",
       "      <td>1.469980</td>\n",
       "      <td>235.8260</td>\n",
       "      <td>-0.060407</td>\n",
       "      <td>137.13900</td>\n",
       "      <td>303.377</td>\n",
       "    </tr>\n",
       "    <tr>\n",
       "      <th>...</th>\n",
       "      <td>...</td>\n",
       "      <td>...</td>\n",
       "      <td>...</td>\n",
       "      <td>...</td>\n",
       "      <td>...</td>\n",
       "      <td>...</td>\n",
       "      <td>...</td>\n",
       "      <td>...</td>\n",
       "    </tr>\n",
       "    <tr>\n",
       "      <th>2020-08-13 07:30:00</th>\n",
       "      <td>0.034670</td>\n",
       "      <td>-0.014166</td>\n",
       "      <td>0.079466</td>\n",
       "      <td>0.087852</td>\n",
       "      <td>211.9930</td>\n",
       "      <td>-0.033687</td>\n",
       "      <td>-54.03920</td>\n",
       "      <td>296.907</td>\n",
       "    </tr>\n",
       "    <tr>\n",
       "      <th>2020-08-13 08:00:00</th>\n",
       "      <td>0.066062</td>\n",
       "      <td>0.014123</td>\n",
       "      <td>0.122776</td>\n",
       "      <td>0.140132</td>\n",
       "      <td>175.6530</td>\n",
       "      <td>0.023724</td>\n",
       "      <td>-18.50710</td>\n",
       "      <td>298.315</td>\n",
       "    </tr>\n",
       "    <tr>\n",
       "      <th>2020-08-13 08:30:00</th>\n",
       "      <td>-0.008698</td>\n",
       "      <td>0.287280</td>\n",
       "      <td>0.107620</td>\n",
       "      <td>0.306924</td>\n",
       "      <td>95.4134</td>\n",
       "      <td>-0.059135</td>\n",
       "      <td>-27.20960</td>\n",
       "      <td>298.970</td>\n",
       "    </tr>\n",
       "    <tr>\n",
       "      <th>2020-08-13 09:00:00</th>\n",
       "      <td>0.056379</td>\n",
       "      <td>0.155465</td>\n",
       "      <td>0.042034</td>\n",
       "      <td>0.170612</td>\n",
       "      <td>115.0310</td>\n",
       "      <td>-0.044677</td>\n",
       "      <td>22.95360</td>\n",
       "      <td>300.193</td>\n",
       "    </tr>\n",
       "    <tr>\n",
       "      <th>2020-08-13 09:30:00</th>\n",
       "      <td>0.089711</td>\n",
       "      <td>0.035354</td>\n",
       "      <td>0.091730</td>\n",
       "      <td>0.133085</td>\n",
       "      <td>156.1360</td>\n",
       "      <td>0.073824</td>\n",
       "      <td>9.30061</td>\n",
       "      <td>300.565</td>\n",
       "    </tr>\n",
       "  </tbody>\n",
       "</table>\n",
       "<p>126 rows × 8 columns</p>\n",
       "</div>"
      ],
      "text/plain": [
       "                            u         v         w  wind_speed  wind_dir  \\\n",
       "date_time                                                                 \n",
       "2020-08-10 15:00:00  0.682959 -1.439430 -0.023794    1.593420  240.8250   \n",
       "2020-08-10 15:30:00  0.664223 -1.503900 -0.006563    1.644160  241.8810   \n",
       "2020-08-10 16:00:00  0.709294 -1.465060 -0.004215    1.627800  239.9280   \n",
       "2020-08-10 16:30:00  0.740483 -1.518140  0.060155    1.690270  239.6510   \n",
       "2020-08-10 17:00:00  0.700245 -1.292050  0.031048    1.469980  235.8260   \n",
       "...                       ...       ...       ...         ...       ...   \n",
       "2020-08-13 07:30:00  0.034670 -0.014166  0.079466    0.087852  211.9930   \n",
       "2020-08-13 08:00:00  0.066062  0.014123  0.122776    0.140132  175.6530   \n",
       "2020-08-13 08:30:00 -0.008698  0.287280  0.107620    0.306924   95.4134   \n",
       "2020-08-13 09:00:00  0.056379  0.155465  0.042034    0.170612  115.0310   \n",
       "2020-08-13 09:30:00  0.089711  0.035354  0.091730    0.133085  156.1360   \n",
       "\n",
       "                          Tau          H        t  \n",
       "date_time                                          \n",
       "2020-08-10 15:00:00 -0.184758  139.12000  303.810  \n",
       "2020-08-10 15:30:00 -0.137658  227.47300  303.580  \n",
       "2020-08-10 16:00:00 -0.234330  292.94500  303.491  \n",
       "2020-08-10 16:30:00 -0.220881  209.81100  303.535  \n",
       "2020-08-10 17:00:00 -0.060407  137.13900  303.377  \n",
       "...                       ...        ...      ...  \n",
       "2020-08-13 07:30:00 -0.033687  -54.03920  296.907  \n",
       "2020-08-13 08:00:00  0.023724  -18.50710  298.315  \n",
       "2020-08-13 08:30:00 -0.059135  -27.20960  298.970  \n",
       "2020-08-13 09:00:00 -0.044677   22.95360  300.193  \n",
       "2020-08-13 09:30:00  0.073824    9.30061  300.565  \n",
       "\n",
       "[126 rows x 8 columns]"
      ]
     },
     "execution_count": null,
     "metadata": {},
     "output_type": "execute_result"
    }
   ],
   "source": [
    "m7unf"
   ]
  },
  {
   "cell_type": "code",
   "execution_count": null,
   "metadata": {},
   "outputs": [
    {
     "data": {
      "application/vnd.jupyter.widget-view+json": {
       "model_id": "41873e410c284ccfbbc8f998bb334c3d",
       "version_major": 2,
       "version_minor": 0
      },
      "text/plain": [
       "Canvas(toolbar=Toolbar(toolitems=[('Home', 'Reset original view', 'home', 'home'), ('Back', 'Back to previous …"
      ]
     },
     "metadata": {},
     "output_type": "display_data"
    }
   ],
   "source": [
    "plot_components_scatter([wm1.loc[m7unf.index],m7unf], ['H'])"
   ]
  },
  {
   "cell_type": "code",
   "execution_count": null,
   "metadata": {},
   "outputs": [
    {
     "data": {
      "text/plain": [
       "7124.168926"
      ]
     },
     "execution_count": null,
     "metadata": {},
     "output_type": "execute_result"
    }
   ],
   "source": [
    "wm1.H.sum()"
   ]
  },
  {
   "cell_type": "code",
   "execution_count": null,
   "metadata": {},
   "outputs": [
    {
     "data": {
      "application/vnd.jupyter.widget-view+json": {
       "model_id": "f43395c43ec142278f017f1148822d42",
       "version_major": 2,
       "version_minor": 0
      },
      "text/plain": [
       "Canvas(toolbar=Toolbar(toolitems=[('Home', 'Reset original view', 'home', 'home'), ('Back', 'Back to previous …"
      ]
     },
     "metadata": {},
     "output_type": "display_data"
    },
    {
     "data": {
      "text/plain": [
       "array([<AxesSubplot:title={'center':'Tau'}, xlabel='date_time'>],\n",
       "      dtype=object)"
      ]
     },
     "execution_count": null,
     "metadata": {},
     "output_type": "execute_result"
    }
   ],
   "source": [
    "plot_components([wm1, m6, m7unf],  ['Tau'])"
   ]
  },
  {
   "cell_type": "code",
   "execution_count": null,
   "metadata": {},
   "outputs": [
    {
     "data": {
      "application/vnd.jupyter.widget-view+json": {
       "model_id": "8bfca8bb909342dea2fa1935fb566f83",
       "version_major": 2,
       "version_minor": 0
      },
      "text/plain": [
       "Canvas(toolbar=Toolbar(toolitems=[('Home', 'Reset original view', 'home', 'home'), ('Back', 'Back to previous …"
      ]
     },
     "metadata": {},
     "output_type": "display_data"
    },
    {
     "data": {
      "text/plain": [
       "array([<AxesSubplot:title={'center':'Tau'}, xlabel='date_time'>],\n",
       "      dtype=object)"
      ]
     },
     "execution_count": null,
     "metadata": {},
     "output_type": "execute_result"
    }
   ],
   "source": [
    "plot_components([wm1, m7unf],  ['Tau'])"
   ]
  },
  {
   "cell_type": "code",
   "execution_count": null,
   "metadata": {},
   "outputs": [
    {
     "data": {
      "application/vnd.jupyter.widget-view+json": {
       "model_id": "a2a6acbd5a9d4e37990870e8555fda21",
       "version_major": 2,
       "version_minor": 0
      },
      "text/plain": [
       "Canvas(toolbar=Toolbar(toolitems=[('Home', 'Reset original view', 'home', 'home'), ('Back', 'Back to previous …"
      ]
     },
     "metadata": {},
     "output_type": "display_data"
    },
    {
     "data": {
      "text/plain": [
       "array([<AxesSubplot:title={'center':'Tau'}, xlabel='date_time'>],\n",
       "      dtype=object)"
      ]
     },
     "execution_count": null,
     "metadata": {},
     "output_type": "execute_result"
    }
   ],
   "source": [
    "plot_components([wm1, m6],  ['Tau'])"
   ]
  },
  {
   "cell_type": "code",
   "execution_count": null,
   "metadata": {},
   "outputs": [],
   "source": [
    "smw."
   ]
  },
  {
   "cell_type": "code",
   "execution_count": null,
   "metadata": {},
   "outputs": [
    {
     "data": {
      "application/vnd.jupyter.widget-view+json": {
       "model_id": "c3704f6048b04d3f8e10e21c3f7e22e2",
       "version_major": 2,
       "version_minor": 0
      },
      "text/plain": [
       "Canvas(toolbar=Toolbar(toolitems=[('Home', 'Reset original view', 'home', 'home'), ('Back', 'Back to previous …"
      ]
     },
     "metadata": {},
     "output_type": "display_data"
    }
   ],
   "source": [
    "plot_components_scatter([wm1.interpolate(), m6.interpolate()],  ['Tau'])"
   ]
  },
  {
   "cell_type": "code",
   "execution_count": null,
   "metadata": {},
   "outputs": [
    {
     "data": {
      "application/vnd.jupyter.widget-view+json": {
       "model_id": "9c045d4d8c1946d39675549e85d5d500",
       "version_major": 2,
       "version_minor": 0
      },
      "text/plain": [
       "Canvas(toolbar=Toolbar(toolitems=[('Home', 'Reset original view', 'home', 'home'), ('Back', 'Back to previous …"
      ]
     },
     "metadata": {},
     "output_type": "display_data"
    },
    {
     "data": {
      "text/plain": [
       "array([<AxesSubplot:title={'center':'t'}, xlabel='date_time'>],\n",
       "      dtype=object)"
      ]
     },
     "execution_count": null,
     "metadata": {},
     "output_type": "execute_result"
    }
   ],
   "source": [
    "plot_components([wm1, m6, m7unf],  ['t'])"
   ]
  },
  {
   "cell_type": "code",
   "execution_count": null,
   "metadata": {},
   "outputs": [
    {
     "data": {
      "application/vnd.jupyter.widget-view+json": {
       "model_id": "36621a0da2904c9bac98a3d45782bf57",
       "version_major": 2,
       "version_minor": 0
      },
      "text/plain": [
       "Canvas(toolbar=Toolbar(toolitems=[('Home', 'Reset original view', 'home', 'home'), ('Back', 'Back to previous …"
      ]
     },
     "metadata": {},
     "output_type": "display_data"
    },
    {
     "data": {
      "text/plain": [
       "array([<AxesSubplot:title={'center':'t'}, xlabel='date_time'>,\n",
       "       <AxesSubplot:title={'center':'wind_speed'}, xlabel='date_time'>],\n",
       "      dtype=object)"
      ]
     },
     "execution_count": null,
     "metadata": {},
     "output_type": "execute_result"
    }
   ],
   "source": [
    "plot_components([wm1, m6, m7unf],  ['t', 'wind_speed'], vertical=False)"
   ]
  },
  {
   "cell_type": "code",
   "execution_count": null,
   "metadata": {},
   "outputs": [
    {
     "data": {
      "application/vnd.jupyter.widget-view+json": {
       "model_id": "853c476323704d1c8968435a0dbaef0e",
       "version_major": 2,
       "version_minor": 0
      },
      "text/plain": [
       "Canvas(toolbar=Toolbar(toolitems=[('Home', 'Reset original view', 'home', 'home'), ('Back', 'Back to previous …"
      ]
     },
     "metadata": {},
     "output_type": "display_data"
    },
    {
     "data": {
      "text/plain": [
       "array([<AxesSubplot:title={'center':'u*'}, xlabel='date_time'>],\n",
       "      dtype=object)"
      ]
     },
     "execution_count": null,
     "metadata": {},
     "output_type": "execute_result"
    }
   ],
   "source": [
    "plot_components([wm1, m6],  ['u*'], vertical=False)"
   ]
  },
  {
   "cell_type": "code",
   "execution_count": null,
   "metadata": {},
   "outputs": [
    {
     "name": "stdout",
     "output_type": "stream",
     "text": [
      "                u           v           w  wind_speed    wind_dir         Tau  \\                    u           v           w  wind_speed    wind_dir         Tau  \\\n",
      "count  128.000000  128.000000  128.000000  128.000000  128.000000  128.000000       count  128.000000  128.000000  128.000000  128.000000  128.000000  128.000000   \n",
      "mean    -0.028105   -0.520810   -0.013382    0.758874  219.924742   -0.044288       mean     0.123806   -0.692517    0.018364    0.838857  240.798774   -0.019636   \n",
      "std      0.375960    0.780466    0.055690    0.669024  119.669254    0.089102       std      0.343007    0.843959    0.064485    0.790010   86.578277    0.064831   \n",
      "min     -0.952375   -2.195340   -0.202719    0.021668    0.497949   -0.286763       min     -0.641903   -2.507800   -0.137405    0.041743    9.590220   -0.184643   \n",
      "25%     -0.264274   -1.141692   -0.044442    0.214403   93.241200   -0.108400       25%     -0.083226   -1.360222   -0.022180    0.267350  243.151500   -0.047679   \n",
      "50%     -0.034928   -0.118430   -0.003791    0.459717  259.439000   -0.008028       50%      0.024449   -0.342028    0.001825    0.430876  260.803500   -0.008379   \n",
      "75%      0.223828    0.036322    0.025359    1.184515  308.444500    0.005120       75%      0.396349   -0.077388    0.055195    1.490975  285.713000    0.016120   \n",
      "max      0.803740    0.535774    0.092424    2.260380  359.117000    0.178778       max      0.892747    0.442865    0.187456    2.552740  357.073000    0.137151   \n",
      "                                                                                                                                                                    \n",
      "                H           t                                                                       H           t                                                   \n",
      "count  128.000000  128.000000                                                       count  128.000000  128.000000                                                   \n",
      "mean    58.158997  301.647898                                                       mean    19.170657  298.171078                                                   \n",
      "std     96.859090    4.847079                                                       std     32.105713    2.599750                                                   \n",
      "min    -45.200800  295.130000                                                       min    -36.141300  294.501000                                                   \n",
      "25%     -9.120138  297.401500                                                       25%      1.702670  295.875250                                                   \n",
      "50%     -0.140690  300.483000                                                       50%      8.956875  297.668000                                                   \n",
      "75%    123.339000  306.408000                                                       75%     27.845600  300.471250                                                   \n",
      "max    305.648000  310.203000                                                       max    202.587000  303.220000                                                   \n"
     ]
    }
   ],
   "source": [
    "side_by_side(wm1.describe(), m6.describe())"
   ]
  },
  {
   "cell_type": "code",
   "execution_count": null,
   "metadata": {},
   "outputs": [
    {
     "data": {
      "text/plain": [
       "-5.668814026"
      ]
     },
     "execution_count": null,
     "metadata": {},
     "output_type": "execute_result"
    }
   ],
   "source": [
    "wm1.Tau.sum()"
   ]
  },
  {
   "cell_type": "code",
   "execution_count": null,
   "metadata": {},
   "outputs": [
    {
     "data": {
      "text/plain": [
       "-2.5134322200000008"
      ]
     },
     "execution_count": null,
     "metadata": {},
     "output_type": "execute_result"
    }
   ],
   "source": [
    "m6.Tau.sum()"
   ]
  },
  {
   "cell_type": "markdown",
   "metadata": {},
   "source": [
    "## MyTrs (FrankeStonica)"
   ]
  },
  {
   "cell_type": "code",
   "execution_count": null,
   "metadata": {},
   "outputs": [
    {
     "data": {
      "application/vnd.jupyter.widget-view+json": {
       "model_id": "ee2897676e65488092c3ebf82da032b3",
       "version_major": 2,
       "version_minor": 0
      },
      "text/plain": [
       "Canvas(toolbar=Toolbar(toolitems=[('Home', 'Reset original view', 'home', 'home'), ('Back', 'Back to previous …"
      ]
     },
     "metadata": {},
     "output_type": "display_data"
    },
    {
     "data": {
      "text/plain": [
       "array([<AxesSubplot:title={'center':'Tau'}, xlabel='date_time'>],\n",
       "      dtype=object)"
      ]
     },
     "execution_count": null,
     "metadata": {},
     "output_type": "execute_result"
    }
   ],
   "source": [
    "plot_components([wm1, mytrs, m6], ['Tau'])"
   ]
  },
  {
   "cell_type": "code",
   "execution_count": null,
   "metadata": {},
   "outputs": [],
   "source": []
  }
 ],
 "metadata": {
  "kernelspec": {
   "display_name": "Python [conda env:root] *",
   "language": "python",
   "name": "conda-root-py"
  }
 },
 "nbformat": 4,
 "nbformat_minor": 4
}
