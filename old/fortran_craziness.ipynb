{
 "cells": [
  {
   "cell_type": "code",
   "execution_count": null,
   "metadata": {},
   "outputs": [
    {
     "name": "stderr",
     "output_type": "stream",
     "text": [
      "/home/simone/anaconda3/envs/trisonica-anemometer-comparison/lib/python3.7/site-packages/fortranmagic.py:147: UserWarning: get_ipython_cache_dir has moved to the IPython.paths module since IPython 4.0.\n",
      "  self._lib_dir = os.path.join(get_ipython_cache_dir(), 'fortran')\n"
     ]
    },
    {
     "data": {
      "application/javascript": [
       "new Promise(function(resolve, reject) {\n",
       "\tvar script = document.createElement(\"script\");\n",
       "\tscript.onload = resolve;\n",
       "\tscript.onerror = reject;\n",
       "\tscript.src = \"https://raw.github.com/marijnh/CodeMirror/master/mode/fortran/fortran.js\";\n",
       "\tdocument.head.appendChild(script);\n",
       "}).then(() => {\n",
       "IPython.config.cell_magic_highlight['magic_fortran'] = {'reg':[/^%%fortran/]};\n",
       "});"
      ]
     },
     "metadata": {},
     "output_type": "display_data"
    }
   ],
   "source": [
    "%load_ext autoreload\n",
    "%autoreload 2\n",
    "%load_ext fortranmagic"
   ]
  },
  {
   "cell_type": "code",
   "execution_count": null,
   "metadata": {},
   "outputs": [],
   "source": [
    "import numpy as np"
   ]
  },
  {
   "cell_type": "code",
   "execution_count": null,
   "metadata": {},
   "outputs": [],
   "source": [
    "%%fortran\n",
    "\n",
    "subroutine f1(x, y, z)\n",
    "    real, intent(in) :: x,y\n",
    "    real, intent(out) :: z\n",
    "\n",
    "    z = sin(x+y)\n",
    "\n",
    "end subroutine f1"
   ]
  },
  {
   "cell_type": "code",
   "execution_count": null,
   "metadata": {},
   "outputs": [
    {
     "data": {
      "text/plain": [
       "-0.9589242935180664"
      ]
     },
     "execution_count": null,
     "metadata": {},
     "output_type": "execute_result"
    }
   ],
   "source": [
    "f1(2,3)"
   ]
  },
  {
   "cell_type": "code",
   "execution_count": null,
   "metadata": {},
   "outputs": [],
   "source": [
    "from wind_tools import *\n",
    "\n",
    "fpath = Path(\"test_data/20180809-2030_WM_174605_com1.raw\")"
   ]
  },
  {
   "cell_type": "code",
   "execution_count": null,
   "metadata": {},
   "outputs": [],
   "source": [
    "n_samples = 30 / 5\n",
    "\n",
    "df = pd.read_csv(fpath, usecols=(0,2,3,4,6), names=['tstmp','u', 'v', 'w', 't'], header=None)"
   ]
  },
  {
   "cell_type": "code",
   "execution_count": null,
   "metadata": {},
   "outputs": [
    {
     "data": {
      "text/html": [
       "<div>\n",
       "<style scoped>\n",
       "    .dataframe tbody tr th:only-of-type {\n",
       "        vertical-align: middle;\n",
       "    }\n",
       "\n",
       "    .dataframe tbody tr th {\n",
       "        vertical-align: top;\n",
       "    }\n",
       "\n",
       "    .dataframe thead th {\n",
       "        text-align: right;\n",
       "    }\n",
       "</style>\n",
       "<table border=\"1\" class=\"dataframe\">\n",
       "  <thead>\n",
       "    <tr style=\"text-align: right;\">\n",
       "      <th></th>\n",
       "      <th>tstmp</th>\n",
       "      <th>u</th>\n",
       "      <th>v</th>\n",
       "      <th>w</th>\n",
       "      <th>t</th>\n",
       "    </tr>\n",
       "  </thead>\n",
       "  <tbody>\n",
       "    <tr>\n",
       "      <th>0</th>\n",
       "      <td>203000</td>\n",
       "      <td>0.13</td>\n",
       "      <td>0.20</td>\n",
       "      <td>0.20</td>\n",
       "      <td>28.33</td>\n",
       "    </tr>\n",
       "    <tr>\n",
       "      <th>1</th>\n",
       "      <td>203000</td>\n",
       "      <td>0.06</td>\n",
       "      <td>0.18</td>\n",
       "      <td>0.16</td>\n",
       "      <td>28.35</td>\n",
       "    </tr>\n",
       "    <tr>\n",
       "      <th>2</th>\n",
       "      <td>203000</td>\n",
       "      <td>0.05</td>\n",
       "      <td>0.19</td>\n",
       "      <td>0.15</td>\n",
       "      <td>28.38</td>\n",
       "    </tr>\n",
       "    <tr>\n",
       "      <th>3</th>\n",
       "      <td>203000</td>\n",
       "      <td>0.10</td>\n",
       "      <td>0.18</td>\n",
       "      <td>0.20</td>\n",
       "      <td>28.43</td>\n",
       "    </tr>\n",
       "    <tr>\n",
       "      <th>4</th>\n",
       "      <td>203000</td>\n",
       "      <td>0.23</td>\n",
       "      <td>0.13</td>\n",
       "      <td>0.22</td>\n",
       "      <td>28.47</td>\n",
       "    </tr>\n",
       "    <tr>\n",
       "      <th>...</th>\n",
       "      <td>...</td>\n",
       "      <td>...</td>\n",
       "      <td>...</td>\n",
       "      <td>...</td>\n",
       "      <td>...</td>\n",
       "    </tr>\n",
       "    <tr>\n",
       "      <th>18001</th>\n",
       "      <td>205959</td>\n",
       "      <td>0.43</td>\n",
       "      <td>0.55</td>\n",
       "      <td>0.18</td>\n",
       "      <td>27.52</td>\n",
       "    </tr>\n",
       "    <tr>\n",
       "      <th>18002</th>\n",
       "      <td>205959</td>\n",
       "      <td>0.32</td>\n",
       "      <td>0.69</td>\n",
       "      <td>-0.04</td>\n",
       "      <td>27.50</td>\n",
       "    </tr>\n",
       "    <tr>\n",
       "      <th>18003</th>\n",
       "      <td>205959</td>\n",
       "      <td>0.36</td>\n",
       "      <td>0.54</td>\n",
       "      <td>-0.08</td>\n",
       "      <td>27.52</td>\n",
       "    </tr>\n",
       "    <tr>\n",
       "      <th>18004</th>\n",
       "      <td>205959</td>\n",
       "      <td>0.53</td>\n",
       "      <td>0.48</td>\n",
       "      <td>-0.28</td>\n",
       "      <td>27.50</td>\n",
       "    </tr>\n",
       "    <tr>\n",
       "      <th>18005</th>\n",
       "      <td>210000</td>\n",
       "      <td>0.51</td>\n",
       "      <td>0.42</td>\n",
       "      <td>-0.37</td>\n",
       "      <td>27.50</td>\n",
       "    </tr>\n",
       "  </tbody>\n",
       "</table>\n",
       "<p>18006 rows × 5 columns</p>\n",
       "</div>"
      ],
      "text/plain": [
       "        tstmp     u     v     w      t\n",
       "0      203000  0.13  0.20  0.20  28.33\n",
       "1      203000  0.06  0.18  0.16  28.35\n",
       "2      203000  0.05  0.19  0.15  28.38\n",
       "3      203000  0.10  0.18  0.20  28.43\n",
       "4      203000  0.23  0.13  0.22  28.47\n",
       "...       ...   ...   ...   ...    ...\n",
       "18001  205959  0.43  0.55  0.18  27.52\n",
       "18002  205959  0.32  0.69 -0.04  27.50\n",
       "18003  205959  0.36  0.54 -0.08  27.52\n",
       "18004  205959  0.53  0.48 -0.28  27.50\n",
       "18005  210000  0.51  0.42 -0.37  27.50\n",
       "\n",
       "[18006 rows x 5 columns]"
      ]
     },
     "execution_count": null,
     "metadata": {},
     "output_type": "execute_result"
    }
   ],
   "source": [
    "df"
   ]
  },
  {
   "cell_type": "code",
   "execution_count": null,
   "metadata": {},
   "outputs": [],
   "source": [
    "proc_dir = Path(\"/run/media/simone/Simone DATI/TRISONICA_DATA/Processed/\")\n",
    "wm1_path = proc_dir / \"WM1_ago_sept\" / \"eddypro_WM1_full_output_2019-12-20T105458_exp.csv\"\n",
    "\n",
    "df.groupby('tstmp').count().query('u == 9').count()\n",
    "\n",
    "df.groupby(pd.cut(df.index, n_samples)).mean()\n",
    "\n",
    "wm1 = load_ep_cache(wm1_path).rename(columns=wind_comp_rename)\n",
    "\n",
    "rot = rotate_u_v(df, -310)\n",
    "\n",
    "rotg = rot.groupby(pd.cut(df.index, n_samples)).mean()"
   ]
  },
  {
   "cell_type": "code",
   "execution_count": null,
   "metadata": {},
   "outputs": [],
   "source": [
    "m = df.mean()"
   ]
  },
  {
   "cell_type": "code",
   "execution_count": null,
   "metadata": {},
   "outputs": [
    {
     "data": {
      "text/plain": [
       "tstmp    204479.857770\n",
       "u             0.247699\n",
       "v             0.310869\n",
       "w            -0.016067\n",
       "t            27.946013\n",
       "dtype: float64"
      ]
     },
     "execution_count": null,
     "metadata": {},
     "output_type": "execute_result"
    }
   ],
   "source": [
    "np.mean(df)"
   ]
  },
  {
   "cell_type": "code",
   "execution_count": null,
   "metadata": {},
   "outputs": [
    {
     "data": {
      "text/plain": [
       "tstmp    204479.857770\n",
       "u             0.247699\n",
       "v             0.310869\n",
       "w            -0.016067\n",
       "t            27.946013\n",
       "dtype: float64"
      ]
     },
     "execution_count": null,
     "metadata": {},
     "output_type": "execute_result"
    }
   ],
   "source": [
    "df.mean().T"
   ]
  },
  {
   "cell_type": "code",
   "execution_count": null,
   "metadata": {},
   "outputs": [],
   "source": [
    "df = add_wind_speed(df)"
   ]
  },
  {
   "cell_type": "code",
   "execution_count": null,
   "metadata": {},
   "outputs": [
    {
     "data": {
      "text/plain": [
       "tstmp         210000.000000\n",
       "u                  1.960000\n",
       "v                  1.590000\n",
       "w                  1.020000\n",
       "t                 28.470000\n",
       "wind_speed         2.595804\n",
       "dtype: float64"
      ]
     },
     "execution_count": null,
     "metadata": {},
     "output_type": "execute_result"
    }
   ],
   "source": [
    "df.max()"
   ]
  },
  {
   "cell_type": "code",
   "execution_count": null,
   "metadata": {},
   "outputs": [
    {
     "data": {
      "text/plain": [
       "tstmp         204479.857770\n",
       "u                  0.247699\n",
       "v                  0.310869\n",
       "w                 -0.016067\n",
       "t                 27.946013\n",
       "wind_speed         0.757498\n",
       "dtype: float64"
      ]
     },
     "execution_count": null,
     "metadata": {},
     "output_type": "execute_result"
    }
   ],
   "source": [
    "df.mean()"
   ]
  },
  {
   "cell_type": "code",
   "execution_count": null,
   "metadata": {},
   "outputs": [
    {
     "data": {
      "text/plain": [
       "Index(['tstmp', 'u', 'v', 'w', 't', 'wind_speed'], dtype='object')"
      ]
     },
     "execution_count": null,
     "metadata": {},
     "output_type": "execute_result"
    }
   ],
   "source": [
    "df.mean().index"
   ]
  },
  {
   "cell_type": "code",
   "execution_count": null,
   "metadata": {},
   "outputs": [
    {
     "data": {
      "text/plain": [
       "array([ 2.04479858e+05,  2.47699100e-01,  3.10868599e-01, -1.60668666e-02,\n",
       "        2.79460130e+01,  7.57497780e-01])"
      ]
     },
     "execution_count": null,
     "metadata": {},
     "output_type": "execute_result"
    }
   ],
   "source": [
    "df.mean().to_numpy()"
   ]
  },
  {
   "cell_type": "code",
   "execution_count": null,
   "metadata": {},
   "outputs": [],
   "source": [
    "m = pd.DataFrame(df.mean().to_numpy()[None], columns=df.mean().index)"
   ]
  },
  {
   "cell_type": "code",
   "execution_count": null,
   "metadata": {},
   "outputs": [
    {
     "name": "stdout",
     "output_type": "stream",
     "text": [
      "warning add_wind_dir is not the same of EddyPro\n"
     ]
    },
    {
     "data": {
      "text/html": [
       "<div>\n",
       "<style scoped>\n",
       "    .dataframe tbody tr th:only-of-type {\n",
       "        vertical-align: middle;\n",
       "    }\n",
       "\n",
       "    .dataframe tbody tr th {\n",
       "        vertical-align: top;\n",
       "    }\n",
       "\n",
       "    .dataframe thead th {\n",
       "        text-align: right;\n",
       "    }\n",
       "</style>\n",
       "<table border=\"1\" class=\"dataframe\">\n",
       "  <thead>\n",
       "    <tr style=\"text-align: right;\">\n",
       "      <th></th>\n",
       "      <th>tstmp</th>\n",
       "      <th>u</th>\n",
       "      <th>v</th>\n",
       "      <th>w</th>\n",
       "      <th>t</th>\n",
       "      <th>wind_speed</th>\n",
       "      <th>wind_dir</th>\n",
       "    </tr>\n",
       "  </thead>\n",
       "  <tbody>\n",
       "    <tr>\n",
       "      <th>0</th>\n",
       "      <td>204479.85777</td>\n",
       "      <td>0.247699</td>\n",
       "      <td>0.310869</td>\n",
       "      <td>-0.016067</td>\n",
       "      <td>27.946013</td>\n",
       "      <td>0.757498</td>\n",
       "      <td>198.357909</td>\n",
       "    </tr>\n",
       "  </tbody>\n",
       "</table>\n",
       "</div>"
      ],
      "text/plain": [
       "          tstmp         u         v         w          t  wind_speed  \\\n",
       "0  204479.85777  0.247699  0.310869 -0.016067  27.946013    0.757498   \n",
       "\n",
       "     wind_dir  \n",
       "0  198.357909  "
      ]
     },
     "execution_count": null,
     "metadata": {},
     "output_type": "execute_result"
    }
   ],
   "source": [
    "add_wind_dir(m)"
   ]
  },
  {
   "cell_type": "code",
   "execution_count": null,
   "metadata": {},
   "outputs": [
    {
     "data": {
      "text/html": [
       "<div>\n",
       "<style scoped>\n",
       "    .dataframe tbody tr th:only-of-type {\n",
       "        vertical-align: middle;\n",
       "    }\n",
       "\n",
       "    .dataframe tbody tr th {\n",
       "        vertical-align: top;\n",
       "    }\n",
       "\n",
       "    .dataframe thead th {\n",
       "        text-align: right;\n",
       "    }\n",
       "</style>\n",
       "<table border=\"1\" class=\"dataframe\">\n",
       "  <thead>\n",
       "    <tr style=\"text-align: right;\">\n",
       "      <th></th>\n",
       "      <th>tstmp</th>\n",
       "      <th>u</th>\n",
       "      <th>v</th>\n",
       "      <th>w</th>\n",
       "      <th>t</th>\n",
       "      <th>wind_speed</th>\n",
       "    </tr>\n",
       "  </thead>\n",
       "  <tbody>\n",
       "    <tr>\n",
       "      <th>0</th>\n",
       "      <td>204479.85777</td>\n",
       "      <td>0.247699</td>\n",
       "      <td>0.310869</td>\n",
       "      <td>-0.016067</td>\n",
       "      <td>27.946013</td>\n",
       "      <td>0.397809</td>\n",
       "    </tr>\n",
       "  </tbody>\n",
       "</table>\n",
       "</div>"
      ],
      "text/plain": [
       "          tstmp         u         v         w          t  wind_speed\n",
       "0  204479.85777  0.247699  0.310869 -0.016067  27.946013    0.397809"
      ]
     },
     "execution_count": null,
     "metadata": {},
     "output_type": "execute_result"
    }
   ],
   "source": [
    "add_wind_speed(m)"
   ]
  },
  {
   "cell_type": "code",
   "execution_count": null,
   "metadata": {},
   "outputs": [],
   "source": [
    "%%fortran --extra \"-I/home/simone/Downloads/applications/eddypro-engine/src/src_common\" --extra \"-I/home/simone/Downloads/applications/eddypro-engine/obj/linux\"\n",
    "\n",
    "\n",
    "\n",
    "!***************************************************************************\n",
    "! wind_direction.f90\n",
    "! ------------------\n",
    "! Copyright (C) 2007-2011, Eco2s team, Gerardo Fratini\n",
    "! Copyright (C) 2011-2019, LI-COR Biosciences, Inc.  All Rights Reserved.\n",
    "! Author: Gerardo Fratini\n",
    "!\n",
    "! This file is part of EddyPro®.\n",
    "!\n",
    "! NON-COMMERCIAL RESEARCH PURPOSES ONLY - EDDYPRO® is licensed for \n",
    "! non-commercial academic and government research purposes only, \n",
    "! as provided in the EDDYPRO® End User License Agreement. \n",
    "! EDDYPRO® may only be used as provided in the End User License Agreement\n",
    "! and may not be used or accessed for any commercial purposes.\n",
    "! You may view a copy of the End User License Agreement in the file\n",
    "! EULA_NON_COMMERCIAL.rtf.\n",
    "!\n",
    "! Commercial companies that are LI-COR flux system customers \n",
    "! are encouraged to contact LI-COR directly for our commercial \n",
    "! EDDYPRO® End User License Agreement.\n",
    "!\n",
    "! EDDYPRO® contains Open Source Components (as defined in the \n",
    "! End User License Agreement). The licenses and/or notices for the \n",
    "! Open Source Components can be found in the file LIBRARIES-ENGINE.txt.\n",
    "!\n",
    "! EddyPro® is distributed in the hope that it will be useful,\n",
    "! but WITHOUT ANY WARRANTY; without even the implied warranty of\n",
    "! MERCHANTABILITY or FITNESS FOR A PARTICULAR PURPOSE.\n",
    "!\n",
    "!***************************************************************************\n",
    "!\n",
    "! \\brief       Calculates wind direction from single wind components pair and offset\n",
    "! \\brief       It's essentially a vector direction + offset\n",
    "! \\author      Gerardo Fratini\n",
    "! \\note\n",
    "! \\sa\n",
    "! \\bug\n",
    "! \\deprecated\n",
    "! \\test\n",
    "! \\todo\n",
    "!***************************************************************************\n",
    "subroutine SingleWindDirection(Wind, offset, WindDir)\n",
    "    use m_common_global_var\n",
    "    implicit none\n",
    "    !> in/out variables\n",
    "    real(kind = dbl), intent(in) :: Wind(3)\n",
    "    real(kind = dbl), intent(in) :: offset\n",
    "    real(kind = dbl), intent(out) :: WindDir\n",
    "\n",
    "\n",
    "    if (Wind(U) /= error .and. Wind(V) /= error)  then \n",
    "        !> Calculate raw wind direction from wind vector\n",
    "        WindDir = 180 - (datan2(Wind(V), Wind(U)) * 180d0 / p)\n",
    "\n",
    "        !> accounts for user-supplied anemometer mis-alignment\n",
    "        WindDir = WindDir + offset\n",
    "\n",
    "        !> wrap within 0 - 360\n",
    "        if (WindDir >= 360d0) WindDir = WindDir - 360d0\n",
    "        if (WindDir < 0d0)   WindDir = 360d0 + WindDir\n",
    "    else\n",
    "        WindDir = error\n",
    "    end if\n",
    "end subroutine SingleWindDirection\n",
    "\n",
    "!***************************************************************************\n",
    "!\n",
    "! \\brief       Calculates mean wind direction and compensates offset\n",
    "! \\author      Gerardo Fratini\n",
    "! \\note        \n",
    "! \\sa\n",
    "! \\bug\n",
    "! \\deprecated\n",
    "! \\test\n",
    "! \\todo\n",
    "!***************************************************************************\n",
    "subroutine AverageWindDirection(Set, nrow, ncol, offset, WindDir, err_float)\n",
    "    use m_common_global_var\n",
    "    implicit none\n",
    "    !> in/out variables\n",
    "    integer, intent(in) :: nrow, ncol\n",
    "    real(kind = dbl), intent(in) :: err_float\n",
    "    real(kind = dbl), intent(in) :: Set(nrow, ncol)\n",
    "    real(kind = dbl), intent(in) :: offset\n",
    "    real(kind = dbl), intent(out) :: WindDir\n",
    "    !> Local variables\n",
    "    real(kind = dbl):: wd(nrow)\n",
    "    integer :: i\n",
    "\n",
    "\n",
    "    !> Compute raw-level wind-direction\n",
    "    do i = 1, nrow\n",
    "        call SingleWindDirection(Set(i, u:w), offset, wd(i))\n",
    "    end do\n",
    "    \n",
    "    !> Compute mean wind direction\n",
    "    call AngularAverageNoError(wd, nrow, 1, WindDir, err_float)\n",
    "\n",
    "end subroutine AverageWindDirection\n",
    "\n",
    "\n",
    "!***************************************************************************\n",
    "!\n",
    "! \\brief       Calculates standard deviation of wind direction\n",
    "! \\author      Gerardo Fratini\n",
    "! \\note        \n",
    "! \\sa\n",
    "! \\bug\n",
    "! \\deprecated\n",
    "! \\test\n",
    "! \\todo\n",
    "!***************************************************************************\n",
    "subroutine WindDirectionStDev(Set, nrow, ncol, WindDirStDev, err_float)\n",
    "    use m_common_global_var\n",
    "    implicit none\n",
    "    !> in/out variables\n",
    "    integer, intent(in) :: nrow, ncol\n",
    "    real(kind = dbl), intent(in) :: err_float\n",
    "    real(kind = dbl), intent(in) :: Set(nrow, ncol)\n",
    "    real(kind = dbl), intent(out) :: WindDirStDev\n",
    "    !> Local variables\n",
    "    real(kind = dbl):: wd(nrow)\n",
    "    integer :: i\n",
    "\n",
    "\n",
    "    !> Compute raw-level wind-direction\n",
    "    do i = 1, nrow\n",
    "        call SingleWindDirection(Set(i, u:w), 0d0, wd(i))\n",
    "    end do\n",
    "    \n",
    "    !> Compute mean wind direction\n",
    "    call AngularStDevApproxNoError(wd, nrow, 1, WindDirStDev, err_float)\n",
    "\n",
    "end subroutine WindDirectionStDev\n",
    "\n",
    "\n",
    "!***************************************************************************\n",
    "!\n",
    "! \\brief       Calculate column-wise averages on a 2d array \\n\n",
    "!              ignoring specified error values \\n\n",
    "! \\author      Gerardo Fratini\n",
    "! \\note\n",
    "! \\sa\n",
    "! \\bug\n",
    "! \\deprecated\n",
    "! \\test\n",
    "! \\todo\n",
    "!***************************************************************************\n",
    "subroutine AverageNoError(Set, nrow, ncol, Mean, err_float)\n",
    "    use m_common_global_var\n",
    "    implicit none\n",
    "    !> in/out variables\n",
    "    integer, intent(in) :: nrow, ncol\n",
    "    real(kind = dbl), intent(in) :: err_float\n",
    "    real(kind = dbl), intent(in) :: Set(nrow, ncol)\n",
    "    real(kind = dbl), intent(out) :: Mean(ncol)\n",
    "    !> local variables\n",
    "    integer :: i = 0\n",
    "    integer :: j = 0\n",
    "    integer :: Nact = 0\n",
    "    real(kind = dbl) :: RawMean(ncol)\n",
    "\n",
    "\n",
    "    RawMean = 0d0\n",
    "    do j = 1, ncol\n",
    "        Nact = 0\n",
    "        do i = 1, nrow\n",
    "            if (Set(i, j) /= err_float) then\n",
    "                Nact = Nact + 1\n",
    "                RawMean(j) = RawMean(j) + Set(i, j)\n",
    "            end if\n",
    "        end do\n",
    "        if (Nact /= 0) then\n",
    "            RawMean(j) = RawMean(j) / dble(Nact)\n",
    "        else\n",
    "            RawMean(j) = err_float\n",
    "        end if\n",
    "    end do\n",
    "    Mean = 0.d0\n",
    "    do j = 1, ncol\n",
    "        if (RawMean(j) /= err_float) then\n",
    "            Nact = 0\n",
    "            do i = 1, nrow\n",
    "                if (Set(i, j) /= err_float) then\n",
    "                    Nact = Nact + 1\n",
    "                    Mean(j) = Mean(j) + Set(i, j) - RawMean(j)\n",
    "                end if\n",
    "            end do\n",
    "            if (Nact /= 0) then\n",
    "                Mean(j) = Mean(j) / dble(Nact)\n",
    "            else\n",
    "                Mean(j) = err_float\n",
    "            end if\n",
    "        else\n",
    "            Mean(j) = err_float\n",
    "        end if\n",
    "    end do\n",
    "\n",
    "    where (Mean(:) /= err_float)\n",
    "        Mean(:) = Mean(:) + RawMean(:)\n",
    "    elsewhere\n",
    "        Mean(:) = err_float\n",
    "    end where\n",
    "end subroutine AverageNoError\n",
    "\n",
    "!***************************************************************************\n",
    "!\n",
    "! \\brief       Calculate column-wise angular averages on a 2d array \\n\n",
    "!              ignoring specified error values. In EddyPro, mainly meant for \\n\n",
    "!              calculation of mean wind direction given a set of wind direction \\n\n",
    "!              measurements.\n",
    "!\n",
    "!              Implementation reference:\n",
    "!              \"Circular Statistics in R\"\n",
    "!              by A. Pewsey, M. Neuhaeuser and G. D. Ruxton.\n",
    "!              Yamartino, 1984:\n",
    "!              https://journals.ametsoc.org/doi/pdf/10.1175/1520-0450%281984%29023%3C1362%3AACOSPE%3E2.0.CO%3B2\n",
    "! \\author      Gerardo Fratini\n",
    "! \\note\n",
    "! \\sa\n",
    "! \\bug\n",
    "! \\deprecated\n",
    "! \\test\n",
    "! \\todo\n",
    "!***************************************************************************\n",
    "subroutine AngularAverageNoError(Set, nrow, ncol, Mean, err_float)\n",
    "    use m_common_global_var\n",
    "    implicit none\n",
    "    !> in/out variables\n",
    "    integer, intent(in) :: nrow, ncol\n",
    "    real(kind = dbl), intent(in) :: err_float\n",
    "    real(kind = dbl), intent(in) :: Set(nrow, ncol)\n",
    "    real(kind = dbl), intent(out) :: Mean(ncol)\n",
    "    !> local variables\n",
    "    integer :: i = 0\n",
    "    integer :: j = 0\n",
    "    integer :: Nact = 0\n",
    "    real(kind = dbl) :: CosSum\n",
    "    real(kind = dbl) :: SinSum\n",
    "\n",
    "\n",
    "    do j = 1, ncol\n",
    "\n",
    "        !> Calculate a (CosSum) and b (SinSum)\n",
    "        CosSum = 0d0\n",
    "        SinSum = 0d0\n",
    "        Nact = 0\n",
    "        do i = 1, nrow\n",
    "            if (Set(i, j) /= err_float) then\n",
    "                Nact = Nact + 1\n",
    "                CosSum = CosSum - dcos(Set(i, j) / 180d0 * p)\n",
    "                SinSum = SinSum - dsin(Set(i, j) / 180d0 * p)\n",
    "            end if\n",
    "        end do\n",
    "        if (Nact /= 0) then\n",
    "            CosSum = CosSum / dble(Nact)\n",
    "            SinSum = SinSum / dble(Nact)\n",
    "        else\n",
    "            Mean(j) = err_float\n",
    "            cycle\n",
    "        end if\n",
    "\n",
    "        !> Angular average is atan2 of b and a\n",
    "        !> \"+p\" adjust quadrant, then express in degrees\n",
    "        Mean(j) = (datan2(SinSum, CosSum) + p) * 180d0 / p\n",
    "    end do\n",
    "end subroutine AngularAverageNoError\n",
    "\n",
    "!***************************************************************************\n",
    "!\n",
    "! \\brief       Calculate column-wise angular stdev on a 2d array \\n\n",
    "!              ignoring specified error values. In EddyPro, mainly meant for \\n\n",
    "!              calculation of wind direction standard deviation given a set of wind direction. \\n\n",
    "!\n",
    "!              Implementation reference:\n",
    "!              Yamartino, 1984:\n",
    "!              https://journals.ametsoc.org/doi/pdf/10.1175/1520-0450%281984%29023%3C1362%3AACOSPE%3E2.0.CO%3B2\n",
    "! \\author      Gerardo Fratini\n",
    "! \\note\n",
    "! \\sa\n",
    "! \\bug\n",
    "! \\deprecated\n",
    "! \\test\n",
    "! \\todo\n",
    "!***************************************************************************\n",
    "subroutine AngularStDevApproxNoError(Set, nrow, ncol, AngStDev, err_float)\n",
    "    use m_common_global_var\n",
    "    implicit none\n",
    "    !> in/out variables\n",
    "    integer, intent(in) :: nrow, ncol\n",
    "    real(kind = dbl), intent(in) :: err_float\n",
    "    real(kind = dbl), intent(in) :: Set(nrow, ncol)\n",
    "    real(kind = dbl), intent(out) :: AngStDev(ncol)\n",
    "    !> local variables\n",
    "    integer :: i = 0\n",
    "    integer :: j = 0\n",
    "    integer :: Nact = 0\n",
    "    real(kind = dbl) :: CosSum\n",
    "    real(kind = dbl) :: SinSum\n",
    "    real(kind = dbl) :: eps\n",
    "\n",
    "\n",
    "    do j = 1, ncol\n",
    "\n",
    "        !> Calculate a (CosSum) and b (SinSum)\n",
    "        CosSum = 0d0\n",
    "        SinSum = 0d0\n",
    "        Nact = 0\n",
    "        do i = 1, nrow\n",
    "            if (Set(i, j) /= err_float) then\n",
    "                Nact = Nact + 1\n",
    "                CosSum = CosSum - dcos(Set(i, j) / 180d0 * p)\n",
    "                SinSum = SinSum - dsin(Set(i, j) / 180d0 * p)\n",
    "            end if\n",
    "        end do\n",
    "        if (Nact /= 0) then\n",
    "            CosSum = CosSum / dble(Nact)\n",
    "            SinSum = SinSum / dble(Nact)\n",
    "        else\n",
    "            AngStDev(j) = err_float\n",
    "            cycle\n",
    "        end if\n",
    "\n",
    "        !> Approximate standard deviation of wind direction (see Yamartino, 1984:\n",
    "        !> https://journals.ametsoc.org/doi/pdf/10.1175/1520-0450%281984%29023%3C1362%3AACOSPE%3E2.0.CO%3B2)\n",
    "        eps = dsqrt(1. - (CosSum**2 + SinSum**2))\n",
    "        AngStDev = (dasin(eps) * (1. + (2 / sqrt(3.) - 1) * eps**3)) * 180d0 / p\n",
    "    end do\n",
    "end subroutine AngularStDevApproxNoError\n",
    "\n",
    "   "
   ]
  },
  {
   "cell_type": "code",
   "execution_count": null,
   "metadata": {},
   "outputs": [
    {
     "data": {
      "text/plain": [
       "0.0"
      ]
     },
     "execution_count": null,
     "metadata": {},
     "output_type": "execute_result"
    }
   ],
   "source": [
    "singlewinddirection(np.array([0,0,0]),50)"
   ]
  },
  {
   "cell_type": "code",
   "execution_count": null,
   "metadata": {},
   "outputs": [],
   "source": []
  },
  {
   "cell_type": "code",
   "execution_count": null,
   "metadata": {},
   "outputs": [],
   "source": [
    "def ang_mean(ar):\n",
    "    x = np.cos(np.deg2rad(ar))\n",
    "    y = np.cos(np.deg2rad(ar))\n",
    "    return np.arctan2(y.sum(), x.sum())\n",
    "    "
   ]
  },
  {
   "cell_type": "code",
   "execution_count": null,
   "metadata": {},
   "outputs": [
    {
     "data": {
      "text/plain": [
       "array([13.29504673])"
      ]
     },
     "execution_count": null,
     "metadata": {},
     "output_type": "execute_result"
    }
   ],
   "source": [
    "ta = np.array([30,0,10])\n",
    "angularaveragenoerror(np.array(ta), 0.001)"
   ]
  },
  {
   "cell_type": "code",
   "execution_count": null,
   "metadata": {},
   "outputs": [
    {
     "data": {
      "text/plain": [
       "0.7853981633974483"
      ]
     },
     "execution_count": null,
     "metadata": {},
     "output_type": "execute_result"
    }
   ],
   "source": [
    "ang_mean(ta)"
   ]
  },
  {
   "cell_type": "code",
   "execution_count": null,
   "metadata": {},
   "outputs": [],
   "source": []
  }
 ],
 "metadata": {
  "kernelspec": {
   "display_name": "Python [conda env:trisonica-anemometer-comparison]",
   "language": "python",
   "name": "conda-env-trisonica-anemometer-comparison-py"
  }
 },
 "nbformat": 4,
 "nbformat_minor": 4
}
