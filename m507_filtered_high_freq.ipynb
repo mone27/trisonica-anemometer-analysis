{
 "cells": [
  {
   "cell_type": "markdown",
   "metadata": {},
   "source": [
    "Both wm1 and m7 has been filtered at high frequency for wind at 230+/- 30 aggregated at 5 mins"
   ]
  },
  {
   "cell_type": "code",
   "execution_count": null,
   "metadata": {},
   "outputs": [
    {
     "name": "stdout",
     "output_type": "stream",
     "text": [
      "The autoreload extension is already loaded. To reload it, use:\n",
      "  %reload_ext autoreload\n"
     ]
    }
   ],
   "source": [
    "%load_ext autoreload\n",
    "%autoreload 2\n",
    "%matplotlib widget"
   ]
  },
  {
   "cell_type": "code",
   "execution_count": null,
   "metadata": {},
   "outputs": [],
   "source": [
    "from wind_tools import *  \n",
    "import pandas as pd\n",
    "import numpy as np\n",
    "from pathlib import Path\n",
    "import seaborn as sns\n",
    "import matplotlib\n",
    "#matplotlib.use('Qt5Agg')\n",
    "\n",
    "import matplotlib.pyplot as plt\n",
    "sns.set()\n",
    "import plotly.express as px\n",
    "\n",
    "matplotlib.rcParams['figure.figsize'] = (16,10)"
   ]
  },
  {
   "cell_type": "code",
   "execution_count": null,
   "metadata": {},
   "outputs": [],
   "source": [
    "from scipy.spatial.transform import Rotation as R\n",
    "from scipy.optimize import minimize"
   ]
  },
  {
   "cell_type": "markdown",
   "metadata": {},
   "source": [
    "## Load data"
   ]
  },
  {
   "cell_type": "code",
   "execution_count": null,
   "metadata": {},
   "outputs": [],
   "source": [
    "proc_dir = Path(\"2020_data/data_20200724_final_field_install/processed\")\n",
    "\n",
    "# default is 2 mins aggregated data\n",
    "wm1_path = proc_dir / \"eddypro_WM1_filtered_full_output_2020-08-07T171756_adv.csv\"\n",
    "m7_path = proc_dir / \"eddypro_TRS_M507_filtered_230_30_full_output_2020-08-07T122855_exp.csv\"\n",
    "\n",
    "\n",
    "\n",
    "cache_dir = Path(\"data_cache\")\n",
    "start_date = '2020-07-24 13:00:00'\n",
    "end_date = '2020-08-07 09:00:00'\n",
    "\n",
    "wind_cols = ['u_unrot','v_unrot', 'w_unrot', 'wind_speed', 'wind_dir', 'Tau']\n",
    "wind_comp_rename = {'u_unrot': 'u', 'v_unrot': 'v', 'w_unrot': 'w'}"
   ]
  },
  {
   "cell_type": "code",
   "execution_count": null,
   "metadata": {},
   "outputs": [],
   "source": [
    "wm1, m7= map(\n",
    "    lambda p: load_ep_cache(p, cache_dir= cache_dir)\n",
    "    .loc[start_date:end_date]\n",
    "    .loc[:,wind_cols]\n",
    "    .rename(columns=wind_comp_rename),\n",
    "    [wm1_path, m7_path])"
   ]
  },
  {
   "cell_type": "code",
   "execution_count": null,
   "metadata": {},
   "outputs": [
    {
     "data": {
      "text/html": [
       "<div>\n",
       "<style scoped>\n",
       "    .dataframe tbody tr th:only-of-type {\n",
       "        vertical-align: middle;\n",
       "    }\n",
       "\n",
       "    .dataframe tbody tr th {\n",
       "        vertical-align: top;\n",
       "    }\n",
       "\n",
       "    .dataframe thead th {\n",
       "        text-align: right;\n",
       "    }\n",
       "</style>\n",
       "<table border=\"1\" class=\"dataframe\">\n",
       "  <thead>\n",
       "    <tr style=\"text-align: right;\">\n",
       "      <th></th>\n",
       "      <th>u</th>\n",
       "      <th>v</th>\n",
       "      <th>w</th>\n",
       "      <th>wind_speed</th>\n",
       "      <th>wind_dir</th>\n",
       "      <th>Tau</th>\n",
       "    </tr>\n",
       "  </thead>\n",
       "  <tbody>\n",
       "    <tr>\n",
       "      <th>count</th>\n",
       "      <td>743.000000</td>\n",
       "      <td>743.000000</td>\n",
       "      <td>743.000000</td>\n",
       "      <td>743.000000</td>\n",
       "      <td>743.000000</td>\n",
       "      <td>743.000000</td>\n",
       "    </tr>\n",
       "    <tr>\n",
       "      <th>mean</th>\n",
       "      <td>-0.517188</td>\n",
       "      <td>-0.524190</td>\n",
       "      <td>-0.037841</td>\n",
       "      <td>1.685539</td>\n",
       "      <td>139.091328</td>\n",
       "      <td>-0.064023</td>\n",
       "    </tr>\n",
       "    <tr>\n",
       "      <th>std</th>\n",
       "      <td>0.386897</td>\n",
       "      <td>1.720484</td>\n",
       "      <td>0.130332</td>\n",
       "      <td>0.909007</td>\n",
       "      <td>107.407128</td>\n",
       "      <td>0.126779</td>\n",
       "    </tr>\n",
       "    <tr>\n",
       "      <th>min</th>\n",
       "      <td>-1.501140</td>\n",
       "      <td>-3.832720</td>\n",
       "      <td>-0.545024</td>\n",
       "      <td>0.078846</td>\n",
       "      <td>3.449320</td>\n",
       "      <td>-0.631983</td>\n",
       "    </tr>\n",
       "    <tr>\n",
       "      <th>25%</th>\n",
       "      <td>-0.834501</td>\n",
       "      <td>-2.125830</td>\n",
       "      <td>-0.122343</td>\n",
       "      <td>0.875562</td>\n",
       "      <td>28.999150</td>\n",
       "      <td>-0.130880</td>\n",
       "    </tr>\n",
       "    <tr>\n",
       "      <th>50%</th>\n",
       "      <td>-0.475743</td>\n",
       "      <td>-0.273689</td>\n",
       "      <td>-0.017784</td>\n",
       "      <td>1.690980</td>\n",
       "      <td>236.165000</td>\n",
       "      <td>-0.045772</td>\n",
       "    </tr>\n",
       "    <tr>\n",
       "      <th>75%</th>\n",
       "      <td>-0.179550</td>\n",
       "      <td>0.865159</td>\n",
       "      <td>0.049331</td>\n",
       "      <td>2.402770</td>\n",
       "      <td>241.143500</td>\n",
       "      <td>0.003154</td>\n",
       "    </tr>\n",
       "    <tr>\n",
       "      <th>max</th>\n",
       "      <td>0.157657</td>\n",
       "      <td>3.246810</td>\n",
       "      <td>0.381188</td>\n",
       "      <td>4.107640</td>\n",
       "      <td>358.528000</td>\n",
       "      <td>0.484350</td>\n",
       "    </tr>\n",
       "  </tbody>\n",
       "</table>\n",
       "</div>"
      ],
      "text/plain": [
       "                u           v           w  wind_speed    wind_dir         Tau\n",
       "count  743.000000  743.000000  743.000000  743.000000  743.000000  743.000000\n",
       "mean    -0.517188   -0.524190   -0.037841    1.685539  139.091328   -0.064023\n",
       "std      0.386897    1.720484    0.130332    0.909007  107.407128    0.126779\n",
       "min     -1.501140   -3.832720   -0.545024    0.078846    3.449320   -0.631983\n",
       "25%     -0.834501   -2.125830   -0.122343    0.875562   28.999150   -0.130880\n",
       "50%     -0.475743   -0.273689   -0.017784    1.690980  236.165000   -0.045772\n",
       "75%     -0.179550    0.865159    0.049331    2.402770  241.143500    0.003154\n",
       "max      0.157657    3.246810    0.381188    4.107640  358.528000    0.484350"
      ]
     },
     "execution_count": null,
     "metadata": {},
     "output_type": "execute_result"
    }
   ],
   "source": [
    "wm1.describe()"
   ]
  },
  {
   "cell_type": "code",
   "execution_count": null,
   "metadata": {},
   "outputs": [
    {
     "data": {
      "text/html": [
       "<div>\n",
       "<style scoped>\n",
       "    .dataframe tbody tr th:only-of-type {\n",
       "        vertical-align: middle;\n",
       "    }\n",
       "\n",
       "    .dataframe tbody tr th {\n",
       "        vertical-align: top;\n",
       "    }\n",
       "\n",
       "    .dataframe thead th {\n",
       "        text-align: right;\n",
       "    }\n",
       "</style>\n",
       "<table border=\"1\" class=\"dataframe\">\n",
       "  <thead>\n",
       "    <tr style=\"text-align: right;\">\n",
       "      <th></th>\n",
       "      <th>u</th>\n",
       "      <th>v</th>\n",
       "      <th>w</th>\n",
       "      <th>wind_speed</th>\n",
       "      <th>wind_dir</th>\n",
       "      <th>Tau</th>\n",
       "    </tr>\n",
       "  </thead>\n",
       "  <tbody>\n",
       "    <tr>\n",
       "      <th>count</th>\n",
       "      <td>396.000000</td>\n",
       "      <td>396.000000</td>\n",
       "      <td>396.000000</td>\n",
       "      <td>396.000000</td>\n",
       "      <td>396.000000</td>\n",
       "      <td>396.000000</td>\n",
       "    </tr>\n",
       "    <tr>\n",
       "      <th>mean</th>\n",
       "      <td>1.860107</td>\n",
       "      <td>0.337184</td>\n",
       "      <td>0.103020</td>\n",
       "      <td>1.997371</td>\n",
       "      <td>56.137663</td>\n",
       "      <td>-0.077071</td>\n",
       "    </tr>\n",
       "    <tr>\n",
       "      <th>std</th>\n",
       "      <td>0.974987</td>\n",
       "      <td>0.126241</td>\n",
       "      <td>0.183205</td>\n",
       "      <td>0.737355</td>\n",
       "      <td>59.390475</td>\n",
       "      <td>0.157672</td>\n",
       "    </tr>\n",
       "    <tr>\n",
       "      <th>min</th>\n",
       "      <td>-2.144150</td>\n",
       "      <td>-0.305491</td>\n",
       "      <td>-0.594317</td>\n",
       "      <td>0.116625</td>\n",
       "      <td>1.772560</td>\n",
       "      <td>-0.614078</td>\n",
       "    </tr>\n",
       "    <tr>\n",
       "      <th>25%</th>\n",
       "      <td>1.550875</td>\n",
       "      <td>0.258949</td>\n",
       "      <td>-0.028386</td>\n",
       "      <td>1.574158</td>\n",
       "      <td>37.105525</td>\n",
       "      <td>-0.183433</td>\n",
       "    </tr>\n",
       "    <tr>\n",
       "      <th>50%</th>\n",
       "      <td>2.065565</td>\n",
       "      <td>0.345121</td>\n",
       "      <td>0.088177</td>\n",
       "      <td>2.104115</td>\n",
       "      <td>39.120650</td>\n",
       "      <td>-0.089294</td>\n",
       "    </tr>\n",
       "    <tr>\n",
       "      <th>75%</th>\n",
       "      <td>2.455600</td>\n",
       "      <td>0.423061</td>\n",
       "      <td>0.204474</td>\n",
       "      <td>2.485350</td>\n",
       "      <td>40.574450</td>\n",
       "      <td>0.018820</td>\n",
       "    </tr>\n",
       "    <tr>\n",
       "      <th>max</th>\n",
       "      <td>3.558320</td>\n",
       "      <td>0.683249</td>\n",
       "      <td>0.679841</td>\n",
       "      <td>3.628410</td>\n",
       "      <td>337.866000</td>\n",
       "      <td>0.361436</td>\n",
       "    </tr>\n",
       "  </tbody>\n",
       "</table>\n",
       "</div>"
      ],
      "text/plain": [
       "                u           v           w  wind_speed    wind_dir         Tau\n",
       "count  396.000000  396.000000  396.000000  396.000000  396.000000  396.000000\n",
       "mean     1.860107    0.337184    0.103020    1.997371   56.137663   -0.077071\n",
       "std      0.974987    0.126241    0.183205    0.737355   59.390475    0.157672\n",
       "min     -2.144150   -0.305491   -0.594317    0.116625    1.772560   -0.614078\n",
       "25%      1.550875    0.258949   -0.028386    1.574158   37.105525   -0.183433\n",
       "50%      2.065565    0.345121    0.088177    2.104115   39.120650   -0.089294\n",
       "75%      2.455600    0.423061    0.204474    2.485350   40.574450    0.018820\n",
       "max      3.558320    0.683249    0.679841    3.628410  337.866000    0.361436"
      ]
     },
     "execution_count": null,
     "metadata": {},
     "output_type": "execute_result"
    }
   ],
   "source": [
    "m7.describe()"
   ]
  },
  {
   "cell_type": "code",
   "execution_count": null,
   "metadata": {},
   "outputs": [
    {
     "data": {
      "text/plain": [
       "DatetimeIndex(['2020-07-24 13:05:00', '2020-07-24 13:10:00',\n",
       "               '2020-07-24 13:15:00', '2020-07-24 13:20:00',\n",
       "               '2020-07-24 13:25:00', '2020-07-24 13:30:00',\n",
       "               '2020-07-24 13:35:00', '2020-07-24 13:40:00',\n",
       "               '2020-07-24 13:45:00', '2020-07-24 13:50:00',\n",
       "               ...\n",
       "               '2020-08-07 08:15:00', '2020-08-07 08:20:00',\n",
       "               '2020-08-07 08:25:00', '2020-08-07 08:30:00',\n",
       "               '2020-08-07 08:35:00', '2020-08-07 08:40:00',\n",
       "               '2020-08-07 08:45:00', '2020-08-07 08:50:00',\n",
       "               '2020-08-07 08:55:00', '2020-08-07 09:00:00'],\n",
       "              dtype='datetime64[ns]', name='date_time', length=3984, freq=None)"
      ]
     },
     "execution_count": null,
     "metadata": {},
     "output_type": "execute_result"
    }
   ],
   "source": [
    "wm1.index"
   ]
  },
  {
   "cell_type": "code",
   "execution_count": null,
   "metadata": {},
   "outputs": [
    {
     "data": {
      "text/plain": [
       "DatetimeIndex(['2020-07-24 13:05:00', '2020-07-24 13:10:00',\n",
       "               '2020-07-24 13:15:00', '2020-07-24 13:20:00',\n",
       "               '2020-07-24 13:25:00', '2020-07-24 13:30:00',\n",
       "               '2020-07-24 13:35:00', '2020-07-24 13:40:00',\n",
       "               '2020-07-24 13:45:00', '2020-07-24 13:50:00',\n",
       "               ...\n",
       "               '2020-08-07 08:15:00', '2020-08-07 08:20:00',\n",
       "               '2020-08-07 08:25:00', '2020-08-07 08:30:00',\n",
       "               '2020-08-07 08:35:00', '2020-08-07 08:40:00',\n",
       "               '2020-08-07 08:45:00', '2020-08-07 08:50:00',\n",
       "               '2020-08-07 08:55:00', '2020-08-07 09:00:00'],\n",
       "              dtype='datetime64[ns]', name='date_time', length=3984, freq=None)"
      ]
     },
     "execution_count": null,
     "metadata": {},
     "output_type": "execute_result"
    }
   ],
   "source": [
    "m7.index"
   ]
  },
  {
   "cell_type": "code",
   "execution_count": null,
   "metadata": {},
   "outputs": [
    {
     "data": {
      "text/plain": [
       "DatetimeIndex(['2020-07-24 13:05:00', '2020-07-24 13:10:00',\n",
       "               '2020-07-24 13:15:00', '2020-07-24 13:20:00',\n",
       "               '2020-07-24 13:25:00', '2020-07-24 13:30:00',\n",
       "               '2020-07-24 13:35:00', '2020-07-24 13:40:00',\n",
       "               '2020-07-24 13:45:00', '2020-07-24 13:50:00',\n",
       "               ...\n",
       "               '2020-08-06 23:15:00', '2020-08-06 23:20:00',\n",
       "               '2020-08-06 23:25:00', '2020-08-06 23:30:00',\n",
       "               '2020-08-06 23:35:00', '2020-08-06 23:40:00',\n",
       "               '2020-08-06 23:45:00', '2020-08-06 23:50:00',\n",
       "               '2020-08-06 23:55:00', '2020-08-07 00:00:00'],\n",
       "              dtype='datetime64[ns]', name='date_time', length=3876, freq=None)"
      ]
     },
     "execution_count": null,
     "metadata": {},
     "output_type": "execute_result"
    }
   ],
   "source": [
    "m7.index"
   ]
  },
  {
   "cell_type": "code",
   "execution_count": null,
   "metadata": {},
   "outputs": [
    {
     "data": {
      "application/vnd.jupyter.widget-view+json": {
       "model_id": "27ac52579d3a483481c59455b8f1d091",
       "version_major": 2,
       "version_minor": 0
      },
      "text/plain": [
       "Canvas(toolbar=Toolbar(toolitems=[('Home', 'Reset original view', 'home', 'home'), ('Back', 'Back to previous …"
      ]
     },
     "metadata": {},
     "output_type": "display_data"
    },
    {
     "data": {
      "text/plain": [
       "array([<AxesSubplot:title={'center':'wind_speed'}, xlabel='date_time'>],\n",
       "      dtype=object)"
      ]
     },
     "execution_count": null,
     "metadata": {},
     "output_type": "execute_result"
    }
   ],
   "source": [
    "plot_components([wm1, m7], ['wind_speed'])"
   ]
  },
  {
   "cell_type": "code",
   "execution_count": null,
   "metadata": {},
   "outputs": [],
   "source": [
    "wm1r = rotate_wind_ang(wm1, 310)\n",
    "wm1r = add_hor_wind_speed(wm1r)"
   ]
  }
 ],
 "metadata": {
  "kernelspec": {
   "display_name": "Python [conda env:root] *",
   "language": "python",
   "name": "conda-root-py"
  }
 },
 "nbformat": 4,
 "nbformat_minor": 4
}
