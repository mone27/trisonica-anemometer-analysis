{
 "cells": [
  {
   "cell_type": "markdown",
   "metadata": {},
   "source": [
    "Both wm1 and m7 has been filtered at high frequency for wind at 230+/- 30 aggregated at 5 mins"
   ]
  },
  {
   "cell_type": "code",
   "execution_count": null,
   "metadata": {},
   "outputs": [],
   "source": [
    "%load_ext autoreload\n",
    "%autoreload 2\n",
    "%matplotlib widget"
   ]
  },
  {
   "cell_type": "code",
   "execution_count": null,
   "metadata": {},
   "outputs": [],
   "source": [
    "from wind_tools import *  \n",
    "import pandas as pd\n",
    "import numpy as np\n",
    "from pathlib import Path\n",
    "import seaborn as sns\n",
    "import matplotlib\n",
    "#matplotlib.use('Qt5Agg')\n",
    "\n",
    "import matplotlib.pyplot as plt\n",
    "sns.set(style='whitegrid')\n",
    "import plotly.express as px\n",
    "\n",
    "matplotlib.rcParams['figure.figsize'] = (14,7)"
   ]
  },
  {
   "cell_type": "code",
   "execution_count": null,
   "metadata": {},
   "outputs": [],
   "source": [
    "from scipy.spatial.transform import Rotation as R\n",
    "from scipy.optimize import minimize"
   ]
  },
  {
   "cell_type": "markdown",
   "metadata": {},
   "source": [
    "## Load data"
   ]
  },
  {
   "cell_type": "code",
   "execution_count": null,
   "metadata": {},
   "outputs": [],
   "source": [
    "proc_dir = Path(\"2020_data/data_field_v2_from_20208010/processed/filtered_2min\")\n",
    "\n",
    "# default is 2 mins aggregated data\n",
    "wm1m_path = proc_dir / \"eddypro_WM1_filtered_manual_full_output_2020-08-19T181014_exp.csv\"\n",
    "wm1ep_path = proc_dir / \"eddypro_WM1_2min_filtered_EP_full_output_2020-08-19T125647_exp.csv\"\n",
    "m7_path = proc_dir / \"eddypro_TRS_M507_filtered_full_output_2020-08-19T125615_exp.csv\"\n",
    "\n",
    "\n",
    "\n",
    "cache_dir = Path(\"data_cache\")\n",
    "\n",
    "\n",
    "wind_cols = ['u_unrot','v_unrot', 'w_unrot', 'wind_speed', 'wind_dir']\n",
    "wind_comp_rename = {'u_unrot': 'u', 'v_unrot': 'v', 'w_unrot': 'w'}"
   ]
  },
  {
   "cell_type": "code",
   "execution_count": null,
   "metadata": {},
   "outputs": [],
   "source": [
    "wm1m, wm1ep, m7= map(\n",
    "    lambda p: load_ep_cache(p, cache_dir= cache_dir)\n",
    "#     .loc[start_date:end_date]\n",
    "    .loc[:,wind_cols]\n",
    "    .rename(columns=wind_comp_rename),\n",
    "    [wm1m_path, wm1ep_path, m7_path])"
   ]
  },
  {
   "cell_type": "code",
   "execution_count": null,
   "metadata": {},
   "outputs": [
    {
     "data": {
      "text/html": [
       "<div>\n",
       "<style scoped>\n",
       "    .dataframe tbody tr th:only-of-type {\n",
       "        vertical-align: middle;\n",
       "    }\n",
       "\n",
       "    .dataframe tbody tr th {\n",
       "        vertical-align: top;\n",
       "    }\n",
       "\n",
       "    .dataframe thead th {\n",
       "        text-align: right;\n",
       "    }\n",
       "</style>\n",
       "<table border=\"1\" class=\"dataframe\">\n",
       "  <thead>\n",
       "    <tr style=\"text-align: right;\">\n",
       "      <th></th>\n",
       "      <th>u</th>\n",
       "      <th>v</th>\n",
       "      <th>w</th>\n",
       "      <th>wind_speed</th>\n",
       "      <th>wind_dir</th>\n",
       "    </tr>\n",
       "    <tr>\n",
       "      <th>date_time</th>\n",
       "      <th></th>\n",
       "      <th></th>\n",
       "      <th></th>\n",
       "      <th></th>\n",
       "      <th></th>\n",
       "    </tr>\n",
       "  </thead>\n",
       "  <tbody>\n",
       "    <tr>\n",
       "      <th>2020-08-10 14:32:00</th>\n",
       "      <td>0.686092</td>\n",
       "      <td>-1.70125</td>\n",
       "      <td>-0.432510</td>\n",
       "      <td>1.88467</td>\n",
       "      <td>249.302</td>\n",
       "    </tr>\n",
       "    <tr>\n",
       "      <th>2020-08-10 14:34:00</th>\n",
       "      <td>NaN</td>\n",
       "      <td>NaN</td>\n",
       "      <td>NaN</td>\n",
       "      <td>NaN</td>\n",
       "      <td>NaN</td>\n",
       "    </tr>\n",
       "    <tr>\n",
       "      <th>2020-08-10 14:36:00</th>\n",
       "      <td>1.025040</td>\n",
       "      <td>-2.30067</td>\n",
       "      <td>-0.167489</td>\n",
       "      <td>2.52426</td>\n",
       "      <td>246.769</td>\n",
       "    </tr>\n",
       "    <tr>\n",
       "      <th>2020-08-10 14:38:00</th>\n",
       "      <td>1.211080</td>\n",
       "      <td>-2.86820</td>\n",
       "      <td>-0.141769</td>\n",
       "      <td>3.11663</td>\n",
       "      <td>247.689</td>\n",
       "    </tr>\n",
       "    <tr>\n",
       "      <th>2020-08-10 14:40:00</th>\n",
       "      <td>0.698708</td>\n",
       "      <td>-1.68467</td>\n",
       "      <td>-0.074726</td>\n",
       "      <td>1.82534</td>\n",
       "      <td>248.737</td>\n",
       "    </tr>\n",
       "    <tr>\n",
       "      <th>...</th>\n",
       "      <td>...</td>\n",
       "      <td>...</td>\n",
       "      <td>...</td>\n",
       "      <td>...</td>\n",
       "      <td>...</td>\n",
       "    </tr>\n",
       "    <tr>\n",
       "      <th>2020-08-19 09:22:00</th>\n",
       "      <td>NaN</td>\n",
       "      <td>NaN</td>\n",
       "      <td>NaN</td>\n",
       "      <td>NaN</td>\n",
       "      <td>NaN</td>\n",
       "    </tr>\n",
       "    <tr>\n",
       "      <th>2020-08-19 09:24:00</th>\n",
       "      <td>NaN</td>\n",
       "      <td>NaN</td>\n",
       "      <td>NaN</td>\n",
       "      <td>NaN</td>\n",
       "      <td>NaN</td>\n",
       "    </tr>\n",
       "    <tr>\n",
       "      <th>2020-08-19 09:26:00</th>\n",
       "      <td>NaN</td>\n",
       "      <td>NaN</td>\n",
       "      <td>NaN</td>\n",
       "      <td>NaN</td>\n",
       "      <td>NaN</td>\n",
       "    </tr>\n",
       "    <tr>\n",
       "      <th>2020-08-19 09:28:00</th>\n",
       "      <td>NaN</td>\n",
       "      <td>NaN</td>\n",
       "      <td>NaN</td>\n",
       "      <td>NaN</td>\n",
       "      <td>NaN</td>\n",
       "    </tr>\n",
       "    <tr>\n",
       "      <th>2020-08-19 09:30:00</th>\n",
       "      <td>NaN</td>\n",
       "      <td>NaN</td>\n",
       "      <td>NaN</td>\n",
       "      <td>NaN</td>\n",
       "      <td>NaN</td>\n",
       "    </tr>\n",
       "  </tbody>\n",
       "</table>\n",
       "<p>6330 rows × 5 columns</p>\n",
       "</div>"
      ],
      "text/plain": [
       "                            u        v         w  wind_speed  wind_dir\n",
       "date_time                                                             \n",
       "2020-08-10 14:32:00  0.686092 -1.70125 -0.432510     1.88467   249.302\n",
       "2020-08-10 14:34:00       NaN      NaN       NaN         NaN       NaN\n",
       "2020-08-10 14:36:00  1.025040 -2.30067 -0.167489     2.52426   246.769\n",
       "2020-08-10 14:38:00  1.211080 -2.86820 -0.141769     3.11663   247.689\n",
       "2020-08-10 14:40:00  0.698708 -1.68467 -0.074726     1.82534   248.737\n",
       "...                       ...      ...       ...         ...       ...\n",
       "2020-08-19 09:22:00       NaN      NaN       NaN         NaN       NaN\n",
       "2020-08-19 09:24:00       NaN      NaN       NaN         NaN       NaN\n",
       "2020-08-19 09:26:00       NaN      NaN       NaN         NaN       NaN\n",
       "2020-08-19 09:28:00       NaN      NaN       NaN         NaN       NaN\n",
       "2020-08-19 09:30:00       NaN      NaN       NaN         NaN       NaN\n",
       "\n",
       "[6330 rows x 5 columns]"
      ]
     },
     "execution_count": null,
     "metadata": {},
     "output_type": "execute_result"
    }
   ],
   "source": [
    "wm1m"
   ]
  },
  {
   "cell_type": "code",
   "execution_count": null,
   "metadata": {},
   "outputs": [
    {
     "data": {
      "text/html": [
       "<div>\n",
       "<style scoped>\n",
       "    .dataframe tbody tr th:only-of-type {\n",
       "        vertical-align: middle;\n",
       "    }\n",
       "\n",
       "    .dataframe tbody tr th {\n",
       "        vertical-align: top;\n",
       "    }\n",
       "\n",
       "    .dataframe thead th {\n",
       "        text-align: right;\n",
       "    }\n",
       "</style>\n",
       "<table border=\"1\" class=\"dataframe\">\n",
       "  <thead>\n",
       "    <tr style=\"text-align: right;\">\n",
       "      <th></th>\n",
       "      <th>u</th>\n",
       "      <th>v</th>\n",
       "      <th>w</th>\n",
       "      <th>wind_speed</th>\n",
       "      <th>wind_dir</th>\n",
       "    </tr>\n",
       "    <tr>\n",
       "      <th>date_time</th>\n",
       "      <th></th>\n",
       "      <th></th>\n",
       "      <th></th>\n",
       "      <th></th>\n",
       "      <th></th>\n",
       "    </tr>\n",
       "  </thead>\n",
       "  <tbody>\n",
       "    <tr>\n",
       "      <th>2020-08-10 14:32:00</th>\n",
       "      <td>0.684925</td>\n",
       "      <td>-1.703860</td>\n",
       "      <td>-0.432726</td>\n",
       "      <td>1.885280</td>\n",
       "      <td>249.3410</td>\n",
       "    </tr>\n",
       "    <tr>\n",
       "      <th>2020-08-10 14:34:00</th>\n",
       "      <td>NaN</td>\n",
       "      <td>NaN</td>\n",
       "      <td>NaN</td>\n",
       "      <td>NaN</td>\n",
       "      <td>NaN</td>\n",
       "    </tr>\n",
       "    <tr>\n",
       "      <th>2020-08-10 14:36:00</th>\n",
       "      <td>1.024900</td>\n",
       "      <td>-2.297340</td>\n",
       "      <td>-0.167919</td>\n",
       "      <td>2.521190</td>\n",
       "      <td>246.7090</td>\n",
       "    </tr>\n",
       "    <tr>\n",
       "      <th>2020-08-10 14:38:00</th>\n",
       "      <td>1.197190</td>\n",
       "      <td>-2.843590</td>\n",
       "      <td>-0.135800</td>\n",
       "      <td>3.088320</td>\n",
       "      <td>248.0580</td>\n",
       "    </tr>\n",
       "    <tr>\n",
       "      <th>2020-08-10 14:40:00</th>\n",
       "      <td>0.651014</td>\n",
       "      <td>-1.606590</td>\n",
       "      <td>-0.061393</td>\n",
       "      <td>1.734570</td>\n",
       "      <td>250.6250</td>\n",
       "    </tr>\n",
       "    <tr>\n",
       "      <th>...</th>\n",
       "      <td>...</td>\n",
       "      <td>...</td>\n",
       "      <td>...</td>\n",
       "      <td>...</td>\n",
       "      <td>...</td>\n",
       "    </tr>\n",
       "    <tr>\n",
       "      <th>2020-08-19 09:22:00</th>\n",
       "      <td>NaN</td>\n",
       "      <td>NaN</td>\n",
       "      <td>NaN</td>\n",
       "      <td>NaN</td>\n",
       "      <td>NaN</td>\n",
       "    </tr>\n",
       "    <tr>\n",
       "      <th>2020-08-19 09:24:00</th>\n",
       "      <td>NaN</td>\n",
       "      <td>NaN</td>\n",
       "      <td>NaN</td>\n",
       "      <td>NaN</td>\n",
       "      <td>NaN</td>\n",
       "    </tr>\n",
       "    <tr>\n",
       "      <th>2020-08-19 09:26:00</th>\n",
       "      <td>NaN</td>\n",
       "      <td>NaN</td>\n",
       "      <td>NaN</td>\n",
       "      <td>NaN</td>\n",
       "      <td>NaN</td>\n",
       "    </tr>\n",
       "    <tr>\n",
       "      <th>2020-08-19 09:28:00</th>\n",
       "      <td>-0.716081</td>\n",
       "      <td>0.536787</td>\n",
       "      <td>0.190819</td>\n",
       "      <td>0.915054</td>\n",
       "      <td>40.3962</td>\n",
       "    </tr>\n",
       "    <tr>\n",
       "      <th>2020-08-19 09:30:00</th>\n",
       "      <td>NaN</td>\n",
       "      <td>NaN</td>\n",
       "      <td>NaN</td>\n",
       "      <td>NaN</td>\n",
       "      <td>NaN</td>\n",
       "    </tr>\n",
       "  </tbody>\n",
       "</table>\n",
       "<p>6330 rows × 5 columns</p>\n",
       "</div>"
      ],
      "text/plain": [
       "                            u         v         w  wind_speed  wind_dir\n",
       "date_time                                                              \n",
       "2020-08-10 14:32:00  0.684925 -1.703860 -0.432726    1.885280  249.3410\n",
       "2020-08-10 14:34:00       NaN       NaN       NaN         NaN       NaN\n",
       "2020-08-10 14:36:00  1.024900 -2.297340 -0.167919    2.521190  246.7090\n",
       "2020-08-10 14:38:00  1.197190 -2.843590 -0.135800    3.088320  248.0580\n",
       "2020-08-10 14:40:00  0.651014 -1.606590 -0.061393    1.734570  250.6250\n",
       "...                       ...       ...       ...         ...       ...\n",
       "2020-08-19 09:22:00       NaN       NaN       NaN         NaN       NaN\n",
       "2020-08-19 09:24:00       NaN       NaN       NaN         NaN       NaN\n",
       "2020-08-19 09:26:00       NaN       NaN       NaN         NaN       NaN\n",
       "2020-08-19 09:28:00 -0.716081  0.536787  0.190819    0.915054   40.3962\n",
       "2020-08-19 09:30:00       NaN       NaN       NaN         NaN       NaN\n",
       "\n",
       "[6330 rows x 5 columns]"
      ]
     },
     "execution_count": null,
     "metadata": {},
     "output_type": "execute_result"
    }
   ],
   "source": [
    "wm1ep"
   ]
  },
  {
   "cell_type": "code",
   "execution_count": null,
   "metadata": {},
   "outputs": [
    {
     "data": {
      "text/html": [
       "<div>\n",
       "<style scoped>\n",
       "    .dataframe tbody tr th:only-of-type {\n",
       "        vertical-align: middle;\n",
       "    }\n",
       "\n",
       "    .dataframe tbody tr th {\n",
       "        vertical-align: top;\n",
       "    }\n",
       "\n",
       "    .dataframe thead th {\n",
       "        text-align: right;\n",
       "    }\n",
       "</style>\n",
       "<table border=\"1\" class=\"dataframe\">\n",
       "  <thead>\n",
       "    <tr style=\"text-align: right;\">\n",
       "      <th></th>\n",
       "      <th>u</th>\n",
       "      <th>v</th>\n",
       "      <th>w</th>\n",
       "      <th>wind_speed</th>\n",
       "      <th>wind_dir</th>\n",
       "    </tr>\n",
       "    <tr>\n",
       "      <th>date_time</th>\n",
       "      <th></th>\n",
       "      <th></th>\n",
       "      <th></th>\n",
       "      <th></th>\n",
       "      <th></th>\n",
       "    </tr>\n",
       "  </thead>\n",
       "  <tbody>\n",
       "    <tr>\n",
       "      <th>2020-08-10 14:32:00</th>\n",
       "      <td>0.651861</td>\n",
       "      <td>-1.25005</td>\n",
       "      <td>-0.203992</td>\n",
       "      <td>1.42460</td>\n",
       "      <td>238.297</td>\n",
       "    </tr>\n",
       "    <tr>\n",
       "      <th>2020-08-10 14:34:00</th>\n",
       "      <td>NaN</td>\n",
       "      <td>NaN</td>\n",
       "      <td>NaN</td>\n",
       "      <td>NaN</td>\n",
       "      <td>NaN</td>\n",
       "    </tr>\n",
       "    <tr>\n",
       "      <th>2020-08-10 14:36:00</th>\n",
       "      <td>0.837281</td>\n",
       "      <td>-1.83572</td>\n",
       "      <td>-0.101121</td>\n",
       "      <td>2.02018</td>\n",
       "      <td>243.175</td>\n",
       "    </tr>\n",
       "    <tr>\n",
       "      <th>2020-08-10 14:38:00</th>\n",
       "      <td>1.052470</td>\n",
       "      <td>-2.37335</td>\n",
       "      <td>-0.020525</td>\n",
       "      <td>2.59633</td>\n",
       "      <td>244.146</td>\n",
       "    </tr>\n",
       "    <tr>\n",
       "      <th>2020-08-10 14:40:00</th>\n",
       "      <td>0.621153</td>\n",
       "      <td>-1.25263</td>\n",
       "      <td>-0.014319</td>\n",
       "      <td>1.39826</td>\n",
       "      <td>240.287</td>\n",
       "    </tr>\n",
       "    <tr>\n",
       "      <th>...</th>\n",
       "      <td>...</td>\n",
       "      <td>...</td>\n",
       "      <td>...</td>\n",
       "      <td>...</td>\n",
       "      <td>...</td>\n",
       "    </tr>\n",
       "    <tr>\n",
       "      <th>2020-08-19 09:22:00</th>\n",
       "      <td>NaN</td>\n",
       "      <td>NaN</td>\n",
       "      <td>NaN</td>\n",
       "      <td>NaN</td>\n",
       "      <td>NaN</td>\n",
       "    </tr>\n",
       "    <tr>\n",
       "      <th>2020-08-19 09:24:00</th>\n",
       "      <td>NaN</td>\n",
       "      <td>NaN</td>\n",
       "      <td>NaN</td>\n",
       "      <td>NaN</td>\n",
       "      <td>NaN</td>\n",
       "    </tr>\n",
       "    <tr>\n",
       "      <th>2020-08-19 09:26:00</th>\n",
       "      <td>NaN</td>\n",
       "      <td>NaN</td>\n",
       "      <td>NaN</td>\n",
       "      <td>NaN</td>\n",
       "      <td>NaN</td>\n",
       "    </tr>\n",
       "    <tr>\n",
       "      <th>2020-08-19 09:28:00</th>\n",
       "      <td>NaN</td>\n",
       "      <td>NaN</td>\n",
       "      <td>NaN</td>\n",
       "      <td>NaN</td>\n",
       "      <td>NaN</td>\n",
       "    </tr>\n",
       "    <tr>\n",
       "      <th>2020-08-19 09:30:00</th>\n",
       "      <td>NaN</td>\n",
       "      <td>NaN</td>\n",
       "      <td>NaN</td>\n",
       "      <td>NaN</td>\n",
       "      <td>NaN</td>\n",
       "    </tr>\n",
       "  </tbody>\n",
       "</table>\n",
       "<p>6330 rows × 5 columns</p>\n",
       "</div>"
      ],
      "text/plain": [
       "                            u        v         w  wind_speed  wind_dir\n",
       "date_time                                                             \n",
       "2020-08-10 14:32:00  0.651861 -1.25005 -0.203992     1.42460   238.297\n",
       "2020-08-10 14:34:00       NaN      NaN       NaN         NaN       NaN\n",
       "2020-08-10 14:36:00  0.837281 -1.83572 -0.101121     2.02018   243.175\n",
       "2020-08-10 14:38:00  1.052470 -2.37335 -0.020525     2.59633   244.146\n",
       "2020-08-10 14:40:00  0.621153 -1.25263 -0.014319     1.39826   240.287\n",
       "...                       ...      ...       ...         ...       ...\n",
       "2020-08-19 09:22:00       NaN      NaN       NaN         NaN       NaN\n",
       "2020-08-19 09:24:00       NaN      NaN       NaN         NaN       NaN\n",
       "2020-08-19 09:26:00       NaN      NaN       NaN         NaN       NaN\n",
       "2020-08-19 09:28:00       NaN      NaN       NaN         NaN       NaN\n",
       "2020-08-19 09:30:00       NaN      NaN       NaN         NaN       NaN\n",
       "\n",
       "[6330 rows x 5 columns]"
      ]
     },
     "execution_count": null,
     "metadata": {},
     "output_type": "execute_result"
    }
   ],
   "source": [
    "m7"
   ]
  },
  {
   "cell_type": "code",
   "execution_count": null,
   "metadata": {},
   "outputs": [
    {
     "data": {
      "text/plain": [
       "u             0\n",
       "v             0\n",
       "w             0\n",
       "wind_speed    0\n",
       "wind_dir      0\n",
       "dtype: int64"
      ]
     },
     "execution_count": null,
     "metadata": {},
     "output_type": "execute_result"
    }
   ],
   "source": [
    "((wm1m != wm1ep) & wm1ep.isna()).sum()"
   ]
  },
  {
   "cell_type": "code",
   "execution_count": null,
   "metadata": {},
   "outputs": [
    {
     "data": {
      "text/plain": [
       "u             3266\n",
       "v             3266\n",
       "w             3266\n",
       "wind_speed    3266\n",
       "wind_dir      3266\n",
       "dtype: int64"
      ]
     },
     "execution_count": null,
     "metadata": {},
     "output_type": "execute_result"
    }
   ],
   "source": [
    "(wm1m.isna() & wm1ep.isna()).sum()"
   ]
  },
  {
   "cell_type": "code",
   "execution_count": null,
   "metadata": {},
   "outputs": [
    {
     "data": {
      "text/plain": [
       "u            NaN\n",
       "v            NaN\n",
       "w            NaN\n",
       "wind_speed   NaN\n",
       "wind_dir     NaN\n",
       "Name: 2020-08-14 19:14:00, dtype: float64"
      ]
     },
     "execution_count": null,
     "metadata": {},
     "output_type": "execute_result"
    }
   ],
   "source": [
    "wm1ep.loc[\"2020-08-14 19:14:00\"]"
   ]
  },
  {
   "cell_type": "code",
   "execution_count": null,
   "metadata": {},
   "outputs": [
    {
     "data": {
      "text/plain": [
       "u            NaN\n",
       "v            NaN\n",
       "w            NaN\n",
       "wind_speed   NaN\n",
       "wind_dir     NaN\n",
       "Name: 2020-08-10 17:58:00, dtype: float64"
      ]
     },
     "execution_count": null,
     "metadata": {},
     "output_type": "execute_result"
    }
   ],
   "source": [
    "wm1m.loc[\"2020-08-10 17:58:00\"]"
   ]
  },
  {
   "cell_type": "code",
   "execution_count": null,
   "metadata": {},
   "outputs": [
    {
     "data": {
      "text/plain": [
       "u               0.357802\n",
       "v              -0.833121\n",
       "w               0.082136\n",
       "wind_speed      0.910417\n",
       "wind_dir      246.444000\n",
       "Name: 2020-08-14 19:14:00, dtype: float64"
      ]
     },
     "execution_count": null,
     "metadata": {},
     "output_type": "execute_result"
    }
   ],
   "source": [
    "m7.loc[\"2020-08-14 19:14:00\"]"
   ]
  },
  {
   "cell_type": "code",
   "execution_count": null,
   "metadata": {},
   "outputs": [],
   "source": []
  },
  {
   "cell_type": "code",
   "execution_count": null,
   "metadata": {},
   "outputs": [
    {
     "name": "stdout",
     "output_type": "stream",
     "text": [
      "non va... 2020-08-14 19:14:00\n"
     ]
    }
   ],
   "source": [
    "for i in wm1m.index:\n",
    "    if wm1ep.loc[i].isna().all() and not wm1m.loc[i].isna().all():\n",
    "        print(\"non va...\", i)"
   ]
  },
  {
   "cell_type": "code",
   "execution_count": null,
   "metadata": {},
   "outputs": [
    {
     "name": "stdout",
     "output_type": "stream",
     "text": [
      "non va... 2020-08-14 19:14:00\n"
     ]
    }
   ],
   "source": [
    "for i in wm1m.index:\n",
    "    if wm1ep.loc[i].isna().all() and not m7.loc[i].isna().all():\n",
    "        print(\"non va...\", i)"
   ]
  },
  {
   "cell_type": "code",
   "execution_count": null,
   "metadata": {},
   "outputs": [],
   "source": []
  },
  {
   "cell_type": "code",
   "execution_count": null,
   "metadata": {},
   "outputs": [
    {
     "data": {
      "text/plain": [
       "u             3267\n",
       "v             3267\n",
       "w             3267\n",
       "wind_speed    3267\n",
       "wind_dir      3267\n",
       "dtype: int64"
      ]
     },
     "execution_count": null,
     "metadata": {},
     "output_type": "execute_result"
    }
   ],
   "source": [
    "wm1ep.isna().sum()"
   ]
  },
  {
   "cell_type": "code",
   "execution_count": null,
   "metadata": {},
   "outputs": [
    {
     "data": {
      "text/plain": [
       "u             False\n",
       "v             False\n",
       "w             False\n",
       "wind_speed    False\n",
       "wind_dir      False\n",
       "Name: 2020-08-10 14:36:00, dtype: bool"
      ]
     },
     "execution_count": null,
     "metadata": {},
     "output_type": "execute_result"
    }
   ],
   "source": [
    "wm1m.iloc[2] == wm1ep.iloc[2]"
   ]
  },
  {
   "cell_type": "code",
   "execution_count": null,
   "metadata": {},
   "outputs": [
    {
     "data": {
      "text/html": [
       "<div>\n",
       "<style scoped>\n",
       "    .dataframe tbody tr th:only-of-type {\n",
       "        vertical-align: middle;\n",
       "    }\n",
       "\n",
       "    .dataframe tbody tr th {\n",
       "        vertical-align: top;\n",
       "    }\n",
       "\n",
       "    .dataframe thead th {\n",
       "        text-align: right;\n",
       "    }\n",
       "</style>\n",
       "<table border=\"1\" class=\"dataframe\">\n",
       "  <thead>\n",
       "    <tr style=\"text-align: right;\">\n",
       "      <th></th>\n",
       "      <th>u</th>\n",
       "      <th>v</th>\n",
       "      <th>w</th>\n",
       "      <th>wind_speed</th>\n",
       "      <th>wind_dir</th>\n",
       "    </tr>\n",
       "  </thead>\n",
       "  <tbody>\n",
       "    <tr>\n",
       "      <th>count</th>\n",
       "      <td>3063.000000</td>\n",
       "      <td>3063.000000</td>\n",
       "      <td>3063.000000</td>\n",
       "      <td>3063.000000</td>\n",
       "      <td>3063.000000</td>\n",
       "    </tr>\n",
       "    <tr>\n",
       "      <th>mean</th>\n",
       "      <td>0.191770</td>\n",
       "      <td>-0.882494</td>\n",
       "      <td>-0.049893</td>\n",
       "      <td>1.341664</td>\n",
       "      <td>169.570333</td>\n",
       "    </tr>\n",
       "    <tr>\n",
       "      <th>std</th>\n",
       "      <td>0.651685</td>\n",
       "      <td>1.143929</td>\n",
       "      <td>0.116347</td>\n",
       "      <td>0.874331</td>\n",
       "      <td>105.583920</td>\n",
       "    </tr>\n",
       "    <tr>\n",
       "      <th>min</th>\n",
       "      <td>-2.513480</td>\n",
       "      <td>-3.680150</td>\n",
       "      <td>-0.539933</td>\n",
       "      <td>0.031825</td>\n",
       "      <td>1.276100</td>\n",
       "    </tr>\n",
       "    <tr>\n",
       "      <th>25%</th>\n",
       "      <td>-0.248486</td>\n",
       "      <td>-1.938065</td>\n",
       "      <td>-0.126526</td>\n",
       "      <td>0.568986</td>\n",
       "      <td>41.936050</td>\n",
       "    </tr>\n",
       "    <tr>\n",
       "      <th>50%</th>\n",
       "      <td>0.280927</td>\n",
       "      <td>-0.894974</td>\n",
       "      <td>-0.034141</td>\n",
       "      <td>1.189470</td>\n",
       "      <td>247.497000</td>\n",
       "    </tr>\n",
       "    <tr>\n",
       "      <th>75%</th>\n",
       "      <td>0.723366</td>\n",
       "      <td>0.211128</td>\n",
       "      <td>0.028758</td>\n",
       "      <td>2.081775</td>\n",
       "      <td>251.521500</td>\n",
       "    </tr>\n",
       "    <tr>\n",
       "      <th>max</th>\n",
       "      <td>1.503660</td>\n",
       "      <td>1.851990</td>\n",
       "      <td>0.412975</td>\n",
       "      <td>3.975490</td>\n",
       "      <td>354.006000</td>\n",
       "    </tr>\n",
       "  </tbody>\n",
       "</table>\n",
       "</div>"
      ],
      "text/plain": [
       "                 u            v            w   wind_speed     wind_dir\n",
       "count  3063.000000  3063.000000  3063.000000  3063.000000  3063.000000\n",
       "mean      0.191770    -0.882494    -0.049893     1.341664   169.570333\n",
       "std       0.651685     1.143929     0.116347     0.874331   105.583920\n",
       "min      -2.513480    -3.680150    -0.539933     0.031825     1.276100\n",
       "25%      -0.248486    -1.938065    -0.126526     0.568986    41.936050\n",
       "50%       0.280927    -0.894974    -0.034141     1.189470   247.497000\n",
       "75%       0.723366     0.211128     0.028758     2.081775   251.521500\n",
       "max       1.503660     1.851990     0.412975     3.975490   354.006000"
      ]
     },
     "execution_count": null,
     "metadata": {},
     "output_type": "execute_result"
    }
   ],
   "source": [
    "wm1ep.describe()"
   ]
  },
  {
   "cell_type": "code",
   "execution_count": null,
   "metadata": {},
   "outputs": [
    {
     "data": {
      "text/plain": [
       "u             5218\n",
       "v             5218\n",
       "w             5218\n",
       "wind_speed    5218\n",
       "wind_dir      5218\n",
       "dtype: int64"
      ]
     },
     "execution_count": null,
     "metadata": {},
     "output_type": "execute_result"
    }
   ],
   "source": [
    "(wm1m.isna() == wm1ep.isna()).sum()"
   ]
  },
  {
   "cell_type": "code",
   "execution_count": null,
   "metadata": {},
   "outputs": [
    {
     "data": {
      "text/html": [
       "<div>\n",
       "<style scoped>\n",
       "    .dataframe tbody tr th:only-of-type {\n",
       "        vertical-align: middle;\n",
       "    }\n",
       "\n",
       "    .dataframe tbody tr th {\n",
       "        vertical-align: top;\n",
       "    }\n",
       "\n",
       "    .dataframe thead th {\n",
       "        text-align: right;\n",
       "    }\n",
       "</style>\n",
       "<table border=\"1\" class=\"dataframe\">\n",
       "  <thead>\n",
       "    <tr style=\"text-align: right;\">\n",
       "      <th></th>\n",
       "      <th>u</th>\n",
       "      <th>v</th>\n",
       "      <th>w</th>\n",
       "      <th>wind_speed</th>\n",
       "      <th>wind_dir</th>\n",
       "    </tr>\n",
       "  </thead>\n",
       "  <tbody>\n",
       "    <tr>\n",
       "      <th>count</th>\n",
       "      <td>1953.000000</td>\n",
       "      <td>1953.000000</td>\n",
       "      <td>1953.000000</td>\n",
       "      <td>1953.000000</td>\n",
       "      <td>1953.000000</td>\n",
       "    </tr>\n",
       "    <tr>\n",
       "      <th>mean</th>\n",
       "      <td>0.594865</td>\n",
       "      <td>-1.495669</td>\n",
       "      <td>-0.096977</td>\n",
       "      <td>1.724686</td>\n",
       "      <td>233.116495</td>\n",
       "    </tr>\n",
       "    <tr>\n",
       "      <th>std</th>\n",
       "      <td>0.383102</td>\n",
       "      <td>0.974331</td>\n",
       "      <td>0.108909</td>\n",
       "      <td>0.849498</td>\n",
       "      <td>52.000949</td>\n",
       "    </tr>\n",
       "    <tr>\n",
       "      <th>min</th>\n",
       "      <td>-0.516284</td>\n",
       "      <td>-3.680150</td>\n",
       "      <td>-0.547324</td>\n",
       "      <td>0.051851</td>\n",
       "      <td>13.929700</td>\n",
       "    </tr>\n",
       "    <tr>\n",
       "      <th>25%</th>\n",
       "      <td>0.333673</td>\n",
       "      <td>-2.199230</td>\n",
       "      <td>-0.167555</td>\n",
       "      <td>1.051170</td>\n",
       "      <td>246.957000</td>\n",
       "    </tr>\n",
       "    <tr>\n",
       "      <th>50%</th>\n",
       "      <td>0.646920</td>\n",
       "      <td>-1.701250</td>\n",
       "      <td>-0.089926</td>\n",
       "      <td>1.824660</td>\n",
       "      <td>249.680000</td>\n",
       "    </tr>\n",
       "    <tr>\n",
       "      <th>75%</th>\n",
       "      <td>0.864150</td>\n",
       "      <td>-0.942876</td>\n",
       "      <td>-0.018427</td>\n",
       "      <td>2.362180</td>\n",
       "      <td>252.034000</td>\n",
       "    </tr>\n",
       "    <tr>\n",
       "      <th>max</th>\n",
       "      <td>1.722730</td>\n",
       "      <td>1.877010</td>\n",
       "      <td>0.406538</td>\n",
       "      <td>3.975490</td>\n",
       "      <td>298.731000</td>\n",
       "    </tr>\n",
       "  </tbody>\n",
       "</table>\n",
       "</div>"
      ],
      "text/plain": [
       "                 u            v            w   wind_speed     wind_dir\n",
       "count  1953.000000  1953.000000  1953.000000  1953.000000  1953.000000\n",
       "mean      0.594865    -1.495669    -0.096977     1.724686   233.116495\n",
       "std       0.383102     0.974331     0.108909     0.849498    52.000949\n",
       "min      -0.516284    -3.680150    -0.547324     0.051851    13.929700\n",
       "25%       0.333673    -2.199230    -0.167555     1.051170   246.957000\n",
       "50%       0.646920    -1.701250    -0.089926     1.824660   249.680000\n",
       "75%       0.864150    -0.942876    -0.018427     2.362180   252.034000\n",
       "max       1.722730     1.877010     0.406538     3.975490   298.731000"
      ]
     },
     "execution_count": null,
     "metadata": {},
     "output_type": "execute_result"
    }
   ],
   "source": [
    "wm1m.describe()"
   ]
  },
  {
   "cell_type": "code",
   "execution_count": null,
   "metadata": {},
   "outputs": [],
   "source": []
  },
  {
   "cell_type": "code",
   "execution_count": null,
   "metadata": {},
   "outputs": [],
   "source": []
  },
  {
   "cell_type": "code",
   "execution_count": null,
   "metadata": {},
   "outputs": [
    {
     "data": {
      "text/plain": [
       "False"
      ]
     },
     "execution_count": null,
     "metadata": {},
     "output_type": "execute_result"
    }
   ],
   "source": [
    "np.allclose(wm1m, wm1ep, 0.1)"
   ]
  },
  {
   "cell_type": "code",
   "execution_count": null,
   "metadata": {},
   "outputs": [
    {
     "data": {
      "text/plain": [
       "DatetimeIndex(['2020-07-24 13:05:00', '2020-07-24 13:10:00',\n",
       "               '2020-07-24 13:15:00', '2020-07-24 13:20:00',\n",
       "               '2020-07-24 13:25:00', '2020-07-24 13:30:00',\n",
       "               '2020-07-24 13:35:00', '2020-07-24 13:40:00',\n",
       "               '2020-07-24 13:45:00', '2020-07-24 13:50:00',\n",
       "               ...\n",
       "               '2020-08-07 08:15:00', '2020-08-07 08:20:00',\n",
       "               '2020-08-07 08:25:00', '2020-08-07 08:30:00',\n",
       "               '2020-08-07 08:35:00', '2020-08-07 08:40:00',\n",
       "               '2020-08-07 08:45:00', '2020-08-07 08:50:00',\n",
       "               '2020-08-07 08:55:00', '2020-08-07 09:00:00'],\n",
       "              dtype='datetime64[ns]', name='date_time', length=3984, freq=None)"
      ]
     },
     "execution_count": null,
     "metadata": {},
     "output_type": "execute_result"
    }
   ],
   "source": [
    "wm1.index"
   ]
  },
  {
   "cell_type": "code",
   "execution_count": null,
   "metadata": {},
   "outputs": [
    {
     "data": {
      "text/plain": [
       "DatetimeIndex(['2020-07-24 13:05:00', '2020-07-24 13:10:00',\n",
       "               '2020-07-24 13:15:00', '2020-07-24 13:20:00',\n",
       "               '2020-07-24 13:25:00', '2020-07-24 13:30:00',\n",
       "               '2020-07-24 13:35:00', '2020-07-24 13:40:00',\n",
       "               '2020-07-24 13:45:00', '2020-07-24 13:50:00',\n",
       "               ...\n",
       "               '2020-08-07 08:15:00', '2020-08-07 08:20:00',\n",
       "               '2020-08-07 08:25:00', '2020-08-07 08:30:00',\n",
       "               '2020-08-07 08:35:00', '2020-08-07 08:40:00',\n",
       "               '2020-08-07 08:45:00', '2020-08-07 08:50:00',\n",
       "               '2020-08-07 08:55:00', '2020-08-07 09:00:00'],\n",
       "              dtype='datetime64[ns]', name='date_time', length=3984, freq=None)"
      ]
     },
     "execution_count": null,
     "metadata": {},
     "output_type": "execute_result"
    }
   ],
   "source": [
    "m7.index"
   ]
  },
  {
   "cell_type": "code",
   "execution_count": null,
   "metadata": {},
   "outputs": [
    {
     "data": {
      "text/plain": [
       "DatetimeIndex(['2020-07-24 13:05:00', '2020-07-24 13:10:00',\n",
       "               '2020-07-24 13:15:00', '2020-07-24 13:20:00',\n",
       "               '2020-07-24 13:25:00', '2020-07-24 13:30:00',\n",
       "               '2020-07-24 13:35:00', '2020-07-24 13:40:00',\n",
       "               '2020-07-24 13:45:00', '2020-07-24 13:50:00',\n",
       "               ...\n",
       "               '2020-08-06 23:15:00', '2020-08-06 23:20:00',\n",
       "               '2020-08-06 23:25:00', '2020-08-06 23:30:00',\n",
       "               '2020-08-06 23:35:00', '2020-08-06 23:40:00',\n",
       "               '2020-08-06 23:45:00', '2020-08-06 23:50:00',\n",
       "               '2020-08-06 23:55:00', '2020-08-07 00:00:00'],\n",
       "              dtype='datetime64[ns]', name='date_time', length=3876, freq=None)"
      ]
     },
     "execution_count": null,
     "metadata": {},
     "output_type": "execute_result"
    }
   ],
   "source": [
    "m7.index"
   ]
  },
  {
   "cell_type": "code",
   "execution_count": null,
   "metadata": {},
   "outputs": [
    {
     "data": {
      "application/vnd.jupyter.widget-view+json": {
       "model_id": "27ac52579d3a483481c59455b8f1d091",
       "version_major": 2,
       "version_minor": 0
      },
      "text/plain": [
       "Canvas(toolbar=Toolbar(toolitems=[('Home', 'Reset original view', 'home', 'home'), ('Back', 'Back to previous …"
      ]
     },
     "metadata": {},
     "output_type": "display_data"
    },
    {
     "data": {
      "text/plain": [
       "array([<AxesSubplot:title={'center':'wind_speed'}, xlabel='date_time'>],\n",
       "      dtype=object)"
      ]
     },
     "execution_count": null,
     "metadata": {},
     "output_type": "execute_result"
    }
   ],
   "source": [
    "plot_components([wm1, m7], ['wind_speed'])"
   ]
  },
  {
   "cell_type": "code",
   "execution_count": null,
   "metadata": {},
   "outputs": [],
   "source": [
    "wm1r = rotate_wind_ang(wm1, 310)\n",
    "wm1r = add_hor_wind_speed(wm1r)"
   ]
  },
  {
   "cell_type": "markdown",
   "metadata": {},
   "source": [
    "# See amout of missing data"
   ]
  },
  {
   "cell_type": "code",
   "execution_count": null,
   "metadata": {},
   "outputs": [],
   "source": [
    "preproc_dir = Path(\"2020_data/data_field_v2_from_20208010/preprocessed\")"
   ]
  },
  {
   "cell_type": "code",
   "execution_count": null,
   "metadata": {},
   "outputs": [],
   "source": [
    "empty = []\n",
    "for f in (preproc_dir).glob(\"*_WM_174605_com1_filtered.csv\"):\n",
    "    df = pd.read_csv(f)\n",
    "    empty.append([df.u.value_counts()[-9999], len(df)])"
   ]
  },
  {
   "cell_type": "code",
   "execution_count": null,
   "metadata": {},
   "outputs": [],
   "source": [
    "nulls = pd.DataFrame(empty, columns=['n_null', 'total'])"
   ]
  },
  {
   "cell_type": "code",
   "execution_count": null,
   "metadata": {},
   "outputs": [],
   "source": [
    "nulls = nulls.assign(ratio=nulls.n_null/nulls.total)"
   ]
  },
  {
   "cell_type": "code",
   "execution_count": null,
   "metadata": {},
   "outputs": [
    {
     "data": {
      "text/html": [
       "<div>\n",
       "<style scoped>\n",
       "    .dataframe tbody tr th:only-of-type {\n",
       "        vertical-align: middle;\n",
       "    }\n",
       "\n",
       "    .dataframe tbody tr th {\n",
       "        vertical-align: top;\n",
       "    }\n",
       "\n",
       "    .dataframe thead th {\n",
       "        text-align: right;\n",
       "    }\n",
       "</style>\n",
       "<table border=\"1\" class=\"dataframe\">\n",
       "  <thead>\n",
       "    <tr style=\"text-align: right;\">\n",
       "      <th></th>\n",
       "      <th>n_null</th>\n",
       "      <th>total</th>\n",
       "      <th>ratio</th>\n",
       "    </tr>\n",
       "  </thead>\n",
       "  <tbody>\n",
       "    <tr>\n",
       "      <th>0</th>\n",
       "      <td>13200</td>\n",
       "      <td>18009</td>\n",
       "      <td>0.732967</td>\n",
       "    </tr>\n",
       "    <tr>\n",
       "      <th>1</th>\n",
       "      <td>14825</td>\n",
       "      <td>18012</td>\n",
       "      <td>0.823062</td>\n",
       "    </tr>\n",
       "    <tr>\n",
       "      <th>2</th>\n",
       "      <td>11562</td>\n",
       "      <td>18004</td>\n",
       "      <td>0.642191</td>\n",
       "    </tr>\n",
       "    <tr>\n",
       "      <th>3</th>\n",
       "      <td>15070</td>\n",
       "      <td>18013</td>\n",
       "      <td>0.836618</td>\n",
       "    </tr>\n",
       "    <tr>\n",
       "      <th>4</th>\n",
       "      <td>6369</td>\n",
       "      <td>18006</td>\n",
       "      <td>0.353715</td>\n",
       "    </tr>\n",
       "    <tr>\n",
       "      <th>...</th>\n",
       "      <td>...</td>\n",
       "      <td>...</td>\n",
       "      <td>...</td>\n",
       "    </tr>\n",
       "    <tr>\n",
       "      <th>409</th>\n",
       "      <td>17056</td>\n",
       "      <td>18012</td>\n",
       "      <td>0.946924</td>\n",
       "    </tr>\n",
       "    <tr>\n",
       "      <th>410</th>\n",
       "      <td>5569</td>\n",
       "      <td>18008</td>\n",
       "      <td>0.309251</td>\n",
       "    </tr>\n",
       "    <tr>\n",
       "      <th>411</th>\n",
       "      <td>13979</td>\n",
       "      <td>18011</td>\n",
       "      <td>0.776137</td>\n",
       "    </tr>\n",
       "    <tr>\n",
       "      <th>412</th>\n",
       "      <td>6879</td>\n",
       "      <td>18007</td>\n",
       "      <td>0.382018</td>\n",
       "    </tr>\n",
       "    <tr>\n",
       "      <th>413</th>\n",
       "      <td>7904</td>\n",
       "      <td>18007</td>\n",
       "      <td>0.438940</td>\n",
       "    </tr>\n",
       "  </tbody>\n",
       "</table>\n",
       "<p>414 rows × 3 columns</p>\n",
       "</div>"
      ],
      "text/plain": [
       "     n_null  total     ratio\n",
       "0     13200  18009  0.732967\n",
       "1     14825  18012  0.823062\n",
       "2     11562  18004  0.642191\n",
       "3     15070  18013  0.836618\n",
       "4      6369  18006  0.353715\n",
       "..      ...    ...       ...\n",
       "409   17056  18012  0.946924\n",
       "410    5569  18008  0.309251\n",
       "411   13979  18011  0.776137\n",
       "412    6879  18007  0.382018\n",
       "413    7904  18007  0.438940\n",
       "\n",
       "[414 rows x 3 columns]"
      ]
     },
     "execution_count": null,
     "metadata": {},
     "output_type": "execute_result"
    }
   ],
   "source": [
    "nulls"
   ]
  },
  {
   "cell_type": "code",
   "execution_count": null,
   "metadata": {},
   "outputs": [
    {
     "data": {
      "text/plain": [
       "count    414.000000\n",
       "mean       0.581790\n",
       "std        0.219820\n",
       "min        0.180834\n",
       "25%        0.387343\n",
       "50%        0.549352\n",
       "75%        0.796047\n",
       "max        0.961741\n",
       "Name: ratio, dtype: float64"
      ]
     },
     "execution_count": null,
     "metadata": {},
     "output_type": "execute_result"
    }
   ],
   "source": [
    "nulls.ratio.describe()"
   ]
  },
  {
   "cell_type": "code",
   "execution_count": null,
   "metadata": {},
   "outputs": [
    {
     "data": {
      "application/vnd.jupyter.widget-view+json": {
       "model_id": "eeb6b422e0ce450e882fab302636d941",
       "version_major": 2,
       "version_minor": 0
      },
      "text/plain": [
       "Canvas(toolbar=Toolbar(toolitems=[('Home', 'Reset original view', 'home', 'home'), ('Back', 'Back to previous …"
      ]
     },
     "metadata": {},
     "output_type": "display_data"
    },
    {
     "data": {
      "text/plain": [
       "Text(0.5, 0, 'Ratio of discarded data/total data calculated for each half an hour')"
      ]
     },
     "execution_count": null,
     "metadata": {},
     "output_type": "execute_result"
    }
   ],
   "source": [
    "ax=get_ax()\n",
    "nulls.ratio.plot.hist(ax=ax, bins=20, density=False)\n",
    "ax.set_xlabel(\"Ratio of discarded data/total data calculated for each half an hour\")"
   ]
  },
  {
   "cell_type": "code",
   "execution_count": null,
   "metadata": {},
   "outputs": [],
   "source": [
    "nulls['cum_ratio'] = nulls['ratio'].cumsum()"
   ]
  },
  {
   "cell_type": "code",
   "execution_count": null,
   "metadata": {},
   "outputs": [
    {
     "data": {
      "application/vnd.jupyter.widget-view+json": {
       "model_id": "e9ab966fc68a486fa311fbbf50e97576",
       "version_major": 2,
       "version_minor": 0
      },
      "text/plain": [
       "Canvas(toolbar=Toolbar(toolitems=[('Home', 'Reset original view', 'home', 'home'), ('Back', 'Back to previous …"
      ]
     },
     "metadata": {},
     "output_type": "display_data"
    },
    {
     "data": {
      "text/plain": [
       "Text(0, 0.5, 'cumulative frequency')"
      ]
     },
     "execution_count": null,
     "metadata": {},
     "output_type": "execute_result"
    }
   ],
   "source": [
    "ax=get_ax()\n",
    "nulls.ratio.hist(cumulative=True, ax=ax, bins=20, density=True)\n",
    "ax.set_xlabel(\"Ratio of discarded data/total data calculated for each half an hour\")\n",
    "ax.set_ylabel(\"cumulative frequency\")"
   ]
  },
  {
   "cell_type": "code",
   "execution_count": null,
   "metadata": {},
   "outputs": [],
   "source": [
    "the_wm1 = pd.concat([pd.read_csv(f) for f in preproc_dir.glob(\"*_WM_174605_com1.csv\")])"
   ]
  },
  {
   "cell_type": "code",
   "execution_count": null,
   "metadata": {},
   "outputs": [
    {
     "data": {
      "text/html": [
       "<div>\n",
       "<style scoped>\n",
       "    .dataframe tbody tr th:only-of-type {\n",
       "        vertical-align: middle;\n",
       "    }\n",
       "\n",
       "    .dataframe tbody tr th {\n",
       "        vertical-align: top;\n",
       "    }\n",
       "\n",
       "    .dataframe thead th {\n",
       "        text-align: right;\n",
       "    }\n",
       "</style>\n",
       "<table border=\"1\" class=\"dataframe\">\n",
       "  <thead>\n",
       "    <tr style=\"text-align: right;\">\n",
       "      <th></th>\n",
       "      <th>u</th>\n",
       "      <th>v</th>\n",
       "      <th>w</th>\n",
       "      <th>t</th>\n",
       "    </tr>\n",
       "  </thead>\n",
       "  <tbody>\n",
       "    <tr>\n",
       "      <th>0</th>\n",
       "      <td>-0.08</td>\n",
       "      <td>-0.22</td>\n",
       "      <td>0.45</td>\n",
       "      <td>25.74</td>\n",
       "    </tr>\n",
       "    <tr>\n",
       "      <th>1</th>\n",
       "      <td>-0.05</td>\n",
       "      <td>-0.27</td>\n",
       "      <td>0.43</td>\n",
       "      <td>25.72</td>\n",
       "    </tr>\n",
       "    <tr>\n",
       "      <th>2</th>\n",
       "      <td>-0.22</td>\n",
       "      <td>-0.29</td>\n",
       "      <td>0.42</td>\n",
       "      <td>25.69</td>\n",
       "    </tr>\n",
       "    <tr>\n",
       "      <th>3</th>\n",
       "      <td>-0.20</td>\n",
       "      <td>-0.37</td>\n",
       "      <td>0.29</td>\n",
       "      <td>25.71</td>\n",
       "    </tr>\n",
       "    <tr>\n",
       "      <th>4</th>\n",
       "      <td>-0.06</td>\n",
       "      <td>-0.38</td>\n",
       "      <td>0.28</td>\n",
       "      <td>25.74</td>\n",
       "    </tr>\n",
       "    <tr>\n",
       "      <th>...</th>\n",
       "      <td>...</td>\n",
       "      <td>...</td>\n",
       "      <td>...</td>\n",
       "      <td>...</td>\n",
       "    </tr>\n",
       "    <tr>\n",
       "      <th>18007</th>\n",
       "      <td>-0.60</td>\n",
       "      <td>0.17</td>\n",
       "      <td>0.17</td>\n",
       "      <td>23.10</td>\n",
       "    </tr>\n",
       "    <tr>\n",
       "      <th>18008</th>\n",
       "      <td>-0.59</td>\n",
       "      <td>0.18</td>\n",
       "      <td>0.16</td>\n",
       "      <td>23.04</td>\n",
       "    </tr>\n",
       "    <tr>\n",
       "      <th>18009</th>\n",
       "      <td>-0.59</td>\n",
       "      <td>0.15</td>\n",
       "      <td>0.15</td>\n",
       "      <td>22.96</td>\n",
       "    </tr>\n",
       "    <tr>\n",
       "      <th>18010</th>\n",
       "      <td>-0.57</td>\n",
       "      <td>0.16</td>\n",
       "      <td>0.14</td>\n",
       "      <td>22.89</td>\n",
       "    </tr>\n",
       "    <tr>\n",
       "      <th>18011</th>\n",
       "      <td>-0.60</td>\n",
       "      <td>0.15</td>\n",
       "      <td>0.12</td>\n",
       "      <td>22.92</td>\n",
       "    </tr>\n",
       "  </tbody>\n",
       "</table>\n",
       "<p>7454851 rows × 4 columns</p>\n",
       "</div>"
      ],
      "text/plain": [
       "          u     v     w      t\n",
       "0     -0.08 -0.22  0.45  25.74\n",
       "1     -0.05 -0.27  0.43  25.72\n",
       "2     -0.22 -0.29  0.42  25.69\n",
       "3     -0.20 -0.37  0.29  25.71\n",
       "4     -0.06 -0.38  0.28  25.74\n",
       "...     ...   ...   ...    ...\n",
       "18007 -0.60  0.17  0.17  23.10\n",
       "18008 -0.59  0.18  0.16  23.04\n",
       "18009 -0.59  0.15  0.15  22.96\n",
       "18010 -0.57  0.16  0.14  22.89\n",
       "18011 -0.60  0.15  0.12  22.92\n",
       "\n",
       "[7454851 rows x 4 columns]"
      ]
     },
     "execution_count": null,
     "metadata": {},
     "output_type": "execute_result"
    }
   ],
   "source": [
    "the_wm1"
   ]
  },
  {
   "cell_type": "code",
   "execution_count": null,
   "metadata": {},
   "outputs": [
    {
     "data": {
      "text/plain": [
       "Index    59638808\n",
       "u        59638808\n",
       "v        59638808\n",
       "w        59638808\n",
       "t        59638808\n",
       "dtype: int64"
      ]
     },
     "execution_count": null,
     "metadata": {},
     "output_type": "execute_result"
    }
   ],
   "source": [
    "the_wm1.memory_usage()"
   ]
  },
  {
   "cell_type": "code",
   "execution_count": null,
   "metadata": {},
   "outputs": [],
   "source": [
    "the_wm1 = add_wind_dir(the_wm1)"
   ]
  },
  {
   "cell_type": "code",
   "execution_count": null,
   "metadata": {},
   "outputs": [],
   "source": [
    "import matplotlib.patches as patches"
   ]
  },
  {
   "cell_type": "code",
   "execution_count": null,
   "metadata": {},
   "outputs": [
    {
     "data": {
      "application/vnd.jupyter.widget-view+json": {
       "model_id": "f0f7a833f90a4d9caada127de01621c7",
       "version_major": 2,
       "version_minor": 0
      },
      "text/plain": [
       "Canvas(toolbar=Toolbar(toolitems=[('Home', 'Reset original view', 'home', 'home'), ('Back', 'Back to previous …"
      ]
     },
     "metadata": {},
     "output_type": "display_data"
    }
   ],
   "source": [
    "ax = get_ax()\n",
    "g = sns.distplot(the_wm1.wind_dir, ax=ax)"
   ]
  },
  {
   "cell_type": "code",
   "execution_count": null,
   "metadata": {},
   "outputs": [
    {
     "data": {
      "text/plain": [
       "<matplotlib.patches.Rectangle at 0x7fccfc9c5090>"
      ]
     },
     "execution_count": null,
     "metadata": {},
     "output_type": "execute_result"
    }
   ],
   "source": [
    "\n",
    "ax.add_patch(\n",
    "    patches.Rectangle((0, 220), \n",
    "                      60, 2, edgecolor='r'))\n"
   ]
  },
  {
   "cell_type": "code",
   "execution_count": null,
   "metadata": {},
   "outputs": [],
   "source": []
  },
  {
   "cell_type": "code",
   "execution_count": null,
   "metadata": {},
   "outputs": [],
   "source": []
  },
  {
   "cell_type": "code",
   "execution_count": null,
   "metadata": {},
   "outputs": [
    {
     "data": {
      "text/plain": [
       "Float64Index([-9999.0,     0.0,    0.01,    0.02,   -0.03,   -0.01,   -0.02,\n",
       "                 0.03,   -0.04,    0.04,   -0.06,   -0.05,    0.06,    0.05,\n",
       "                -0.09,   -0.07,   -0.08,    0.08,   -0.11,    0.07,    -0.1,\n",
       "                -0.12,     0.1,    0.09,   -0.13,    0.11,    0.12,   -0.16,\n",
       "                -0.15,    0.13,   -0.14,   -0.17,    0.14,   -0.19,   -0.18,\n",
       "                 -0.2,   -0.21,   -0.22,    0.15,    0.17,    0.16,   -0.23,\n",
       "                 0.18,   -0.24,    0.25,    0.28,    0.26,     0.2,    0.19,\n",
       "                -0.25,    0.24,    0.23,    0.22,   -0.38,   -0.27,    -0.3,\n",
       "                 0.21,    0.29,   -0.28,    0.31,   -0.26,   -0.29,    0.32,\n",
       "                 0.27,   -0.31,    0.33,    0.34,   -0.36,    -0.4,   -0.35,\n",
       "                  0.4,   -0.37,    0.37,   -0.39,    0.35,   -0.34,   -0.32,\n",
       "                  0.3,   -0.42,   -0.45,   -0.43,    0.36,    0.38,   -0.33],\n",
       "             dtype='float64')"
      ]
     },
     "execution_count": null,
     "metadata": {},
     "output_type": "execute_result"
    }
   ],
   "source": [
    "pd.read_csv('2020_data/data_field_v2_from_20208010/processed/filtered_2min/../../preprocessed/20200813-0100_WM_174605_com1_filtered.csv').u.value_counts().index"
   ]
  },
  {
   "cell_type": "markdown",
   "metadata": {},
   "source": [
    "# Load High freq data"
   ]
  },
  {
   "cell_type": "code",
   "execution_count": null,
   "metadata": {},
   "outputs": [],
   "source": [
    "proc_dir = Path(\"2020_data/data_field_v2_from_20208010/preprocessed\")\n",
    "#manually filtered using custom code\n",
    "wm1m_path = proc_dir / \"20200810-1500_WM_174605_com1_filtered_250_30.csv\"\n",
    "# filtered using EddyPro\n",
    "wm1ep_path = proc_dir / \"../processed/filtered_2min/eddypro_raw_datasets/level_1\" / \"20200810-1504_raw_dataset_2020-08-13T090718_adv.txt\"\n",
    "wm1raw_path = proc_dir / \"20200810-1500_WM_174605_com1.csv\""
   ]
  },
  {
   "cell_type": "code",
   "execution_count": null,
   "metadata": {},
   "outputs": [],
   "source": [
    "proc_dir = Path(\"2020_data/data_field_v2_from_20208010/preprocessed\")\n",
    "#manually filtered using custom code\n",
    "wm1m_path = proc_dir / \"20200810-1430_WM_174605_com1_filtered_250_30.csv\"\n",
    "# filtered using EddyPro\n",
    "wm1ep_path = proc_dir / \"../processed/filtered_2min/eddypro_raw_datasets/level_1\" / \"20200810-1432_raw_dataset_2020-08-13T090718_adv.txt\"\n",
    "wm1raw_path = proc_dir / \"20200810-1430_WM_174605_com1.csv\""
   ]
  },
  {
   "cell_type": "code",
   "execution_count": null,
   "metadata": {},
   "outputs": [],
   "source": [
    "wm1m= pd.read_csv(wm1m_path)\n",
    "\n",
    "# wm1m = wm1m[1199:2400-1].reset_index(drop=True)\n",
    "wm1m = wm1m.drop(columns=['w', 't'])"
   ]
  },
  {
   "cell_type": "code",
   "execution_count": null,
   "metadata": {},
   "outputs": [],
   "source": [
    "wm1ep = pd.read_csv(wm1ep_path, skiprows=9, delim_whitespace=True)\n",
    "\n",
    "wm1ep = wm1ep.drop(columns=['w', 'ts'])"
   ]
  },
  {
   "cell_type": "code",
   "execution_count": null,
   "metadata": {},
   "outputs": [],
   "source": [
    "wm1raw = pd.read_csv(wm1raw_path)\n",
    "wm1raw = wm1raw.drop(columns=['w', 't'])\n",
    "# wm1raw = wm1raw[1199:2400-1].reset_index(drop=True)"
   ]
  },
  {
   "cell_type": "code",
   "execution_count": null,
   "metadata": {},
   "outputs": [],
   "source": [
    "# wm1m, wm1raw, wm1ep = map(lambda x: x.replace(-9999, np.nan), [wm1m, wm1raw, wm1ep])"
   ]
  },
  {
   "cell_type": "markdown",
   "metadata": {},
   "source": [
    "## first exploration"
   ]
  },
  {
   "cell_type": "code",
   "execution_count": null,
   "metadata": {},
   "outputs": [
    {
     "data": {
      "text/html": [
       "<div>\n",
       "<style scoped>\n",
       "    .dataframe tbody tr th:only-of-type {\n",
       "        vertical-align: middle;\n",
       "    }\n",
       "\n",
       "    .dataframe tbody tr th {\n",
       "        vertical-align: top;\n",
       "    }\n",
       "\n",
       "    .dataframe thead th {\n",
       "        text-align: right;\n",
       "    }\n",
       "</style>\n",
       "<table border=\"1\" class=\"dataframe\">\n",
       "  <thead>\n",
       "    <tr style=\"text-align: right;\">\n",
       "      <th></th>\n",
       "      <th>u</th>\n",
       "      <th>v</th>\n",
       "    </tr>\n",
       "  </thead>\n",
       "  <tbody>\n",
       "    <tr>\n",
       "      <th>0</th>\n",
       "      <td>1.09</td>\n",
       "      <td>-3.03</td>\n",
       "    </tr>\n",
       "    <tr>\n",
       "      <th>1</th>\n",
       "      <td>1.12</td>\n",
       "      <td>-3.46</td>\n",
       "    </tr>\n",
       "    <tr>\n",
       "      <th>2</th>\n",
       "      <td>1.71</td>\n",
       "      <td>-3.08</td>\n",
       "    </tr>\n",
       "    <tr>\n",
       "      <th>3</th>\n",
       "      <td>1.88</td>\n",
       "      <td>-3.00</td>\n",
       "    </tr>\n",
       "    <tr>\n",
       "      <th>4</th>\n",
       "      <td>2.05</td>\n",
       "      <td>-2.94</td>\n",
       "    </tr>\n",
       "    <tr>\n",
       "      <th>...</th>\n",
       "      <td>...</td>\n",
       "      <td>...</td>\n",
       "    </tr>\n",
       "    <tr>\n",
       "      <th>18002</th>\n",
       "      <td>0.13</td>\n",
       "      <td>-1.52</td>\n",
       "    </tr>\n",
       "    <tr>\n",
       "      <th>18003</th>\n",
       "      <td>0.21</td>\n",
       "      <td>-1.25</td>\n",
       "    </tr>\n",
       "    <tr>\n",
       "      <th>18004</th>\n",
       "      <td>-0.69</td>\n",
       "      <td>-1.34</td>\n",
       "    </tr>\n",
       "    <tr>\n",
       "      <th>18005</th>\n",
       "      <td>-0.79</td>\n",
       "      <td>-1.20</td>\n",
       "    </tr>\n",
       "    <tr>\n",
       "      <th>18006</th>\n",
       "      <td>-0.69</td>\n",
       "      <td>-1.09</td>\n",
       "    </tr>\n",
       "  </tbody>\n",
       "</table>\n",
       "<p>18007 rows × 2 columns</p>\n",
       "</div>"
      ],
      "text/plain": [
       "          u     v\n",
       "0      1.09 -3.03\n",
       "1      1.12 -3.46\n",
       "2      1.71 -3.08\n",
       "3      1.88 -3.00\n",
       "4      2.05 -2.94\n",
       "...     ...   ...\n",
       "18002  0.13 -1.52\n",
       "18003  0.21 -1.25\n",
       "18004 -0.69 -1.34\n",
       "18005 -0.79 -1.20\n",
       "18006 -0.69 -1.09\n",
       "\n",
       "[18007 rows x 2 columns]"
      ]
     },
     "execution_count": null,
     "metadata": {},
     "output_type": "execute_result"
    }
   ],
   "source": [
    "wm1raw"
   ]
  },
  {
   "cell_type": "code",
   "execution_count": null,
   "metadata": {},
   "outputs": [
    {
     "data": {
      "text/html": [
       "<div>\n",
       "<style scoped>\n",
       "    .dataframe tbody tr th:only-of-type {\n",
       "        vertical-align: middle;\n",
       "    }\n",
       "\n",
       "    .dataframe tbody tr th {\n",
       "        vertical-align: top;\n",
       "    }\n",
       "\n",
       "    .dataframe thead th {\n",
       "        text-align: right;\n",
       "    }\n",
       "</style>\n",
       "<table border=\"1\" class=\"dataframe\">\n",
       "  <thead>\n",
       "    <tr style=\"text-align: right;\">\n",
       "      <th></th>\n",
       "      <th>u</th>\n",
       "      <th>v</th>\n",
       "    </tr>\n",
       "  </thead>\n",
       "  <tbody>\n",
       "    <tr>\n",
       "      <th>0</th>\n",
       "      <td>-9999.00</td>\n",
       "      <td>-9999.00</td>\n",
       "    </tr>\n",
       "    <tr>\n",
       "      <th>1</th>\n",
       "      <td>1.71</td>\n",
       "      <td>-3.08</td>\n",
       "    </tr>\n",
       "    <tr>\n",
       "      <th>2</th>\n",
       "      <td>1.88</td>\n",
       "      <td>-3.00</td>\n",
       "    </tr>\n",
       "    <tr>\n",
       "      <th>3</th>\n",
       "      <td>2.05</td>\n",
       "      <td>-2.94</td>\n",
       "    </tr>\n",
       "    <tr>\n",
       "      <th>4</th>\n",
       "      <td>2.00</td>\n",
       "      <td>-2.74</td>\n",
       "    </tr>\n",
       "    <tr>\n",
       "      <th>...</th>\n",
       "      <td>...</td>\n",
       "      <td>...</td>\n",
       "    </tr>\n",
       "    <tr>\n",
       "      <th>1194</th>\n",
       "      <td>-9999.00</td>\n",
       "      <td>-9999.00</td>\n",
       "    </tr>\n",
       "    <tr>\n",
       "      <th>1195</th>\n",
       "      <td>-9999.00</td>\n",
       "      <td>-9999.00</td>\n",
       "    </tr>\n",
       "    <tr>\n",
       "      <th>1196</th>\n",
       "      <td>-9999.00</td>\n",
       "      <td>-9999.00</td>\n",
       "    </tr>\n",
       "    <tr>\n",
       "      <th>1197</th>\n",
       "      <td>-9999.00</td>\n",
       "      <td>-9999.00</td>\n",
       "    </tr>\n",
       "    <tr>\n",
       "      <th>1198</th>\n",
       "      <td>-9999.00</td>\n",
       "      <td>-9999.00</td>\n",
       "    </tr>\n",
       "  </tbody>\n",
       "</table>\n",
       "<p>1199 rows × 2 columns</p>\n",
       "</div>"
      ],
      "text/plain": [
       "            u        v\n",
       "0    -9999.00 -9999.00\n",
       "1        1.71    -3.08\n",
       "2        1.88    -3.00\n",
       "3        2.05    -2.94\n",
       "4        2.00    -2.74\n",
       "...       ...      ...\n",
       "1194 -9999.00 -9999.00\n",
       "1195 -9999.00 -9999.00\n",
       "1196 -9999.00 -9999.00\n",
       "1197 -9999.00 -9999.00\n",
       "1198 -9999.00 -9999.00\n",
       "\n",
       "[1199 rows x 2 columns]"
      ]
     },
     "execution_count": null,
     "metadata": {},
     "output_type": "execute_result"
    }
   ],
   "source": [
    "wm1ep"
   ]
  },
  {
   "cell_type": "code",
   "execution_count": null,
   "metadata": {},
   "outputs": [
    {
     "data": {
      "text/html": [
       "<div>\n",
       "<style scoped>\n",
       "    .dataframe tbody tr th:only-of-type {\n",
       "        vertical-align: middle;\n",
       "    }\n",
       "\n",
       "    .dataframe tbody tr th {\n",
       "        vertical-align: top;\n",
       "    }\n",
       "\n",
       "    .dataframe thead th {\n",
       "        text-align: right;\n",
       "    }\n",
       "</style>\n",
       "<table border=\"1\" class=\"dataframe\">\n",
       "  <thead>\n",
       "    <tr style=\"text-align: right;\">\n",
       "      <th></th>\n",
       "      <th>u</th>\n",
       "      <th>v</th>\n",
       "    </tr>\n",
       "  </thead>\n",
       "  <tbody>\n",
       "    <tr>\n",
       "      <th>0</th>\n",
       "      <td>-9999.0</td>\n",
       "      <td>-9999.0</td>\n",
       "    </tr>\n",
       "    <tr>\n",
       "      <th>1</th>\n",
       "      <td>-9999.0</td>\n",
       "      <td>-9999.0</td>\n",
       "    </tr>\n",
       "    <tr>\n",
       "      <th>2</th>\n",
       "      <td>-9999.0</td>\n",
       "      <td>-9999.0</td>\n",
       "    </tr>\n",
       "    <tr>\n",
       "      <th>3</th>\n",
       "      <td>-9999.0</td>\n",
       "      <td>-9999.0</td>\n",
       "    </tr>\n",
       "    <tr>\n",
       "      <th>4</th>\n",
       "      <td>-9999.0</td>\n",
       "      <td>-9999.0</td>\n",
       "    </tr>\n",
       "    <tr>\n",
       "      <th>...</th>\n",
       "      <td>...</td>\n",
       "      <td>...</td>\n",
       "    </tr>\n",
       "    <tr>\n",
       "      <th>18002</th>\n",
       "      <td>-9999.0</td>\n",
       "      <td>-9999.0</td>\n",
       "    </tr>\n",
       "    <tr>\n",
       "      <th>18003</th>\n",
       "      <td>-9999.0</td>\n",
       "      <td>-9999.0</td>\n",
       "    </tr>\n",
       "    <tr>\n",
       "      <th>18004</th>\n",
       "      <td>-9999.0</td>\n",
       "      <td>-9999.0</td>\n",
       "    </tr>\n",
       "    <tr>\n",
       "      <th>18005</th>\n",
       "      <td>-9999.0</td>\n",
       "      <td>-9999.0</td>\n",
       "    </tr>\n",
       "    <tr>\n",
       "      <th>18006</th>\n",
       "      <td>-9999.0</td>\n",
       "      <td>-9999.0</td>\n",
       "    </tr>\n",
       "  </tbody>\n",
       "</table>\n",
       "<p>18007 rows × 2 columns</p>\n",
       "</div>"
      ],
      "text/plain": [
       "            u       v\n",
       "0     -9999.0 -9999.0\n",
       "1     -9999.0 -9999.0\n",
       "2     -9999.0 -9999.0\n",
       "3     -9999.0 -9999.0\n",
       "4     -9999.0 -9999.0\n",
       "...       ...     ...\n",
       "18002 -9999.0 -9999.0\n",
       "18003 -9999.0 -9999.0\n",
       "18004 -9999.0 -9999.0\n",
       "18005 -9999.0 -9999.0\n",
       "18006 -9999.0 -9999.0\n",
       "\n",
       "[18007 rows x 2 columns]"
      ]
     },
     "execution_count": null,
     "metadata": {},
     "output_type": "execute_result"
    }
   ],
   "source": [
    "wm1m"
   ]
  },
  {
   "cell_type": "code",
   "execution_count": null,
   "metadata": {},
   "outputs": [
    {
     "data": {
      "text/html": [
       "<div>\n",
       "<style scoped>\n",
       "    .dataframe tbody tr th:only-of-type {\n",
       "        vertical-align: middle;\n",
       "    }\n",
       "\n",
       "    .dataframe tbody tr th {\n",
       "        vertical-align: top;\n",
       "    }\n",
       "\n",
       "    .dataframe thead th {\n",
       "        text-align: right;\n",
       "    }\n",
       "</style>\n",
       "<table border=\"1\" class=\"dataframe\">\n",
       "  <thead>\n",
       "    <tr style=\"text-align: right;\">\n",
       "      <th></th>\n",
       "      <th>u</th>\n",
       "      <th>v</th>\n",
       "    </tr>\n",
       "  </thead>\n",
       "  <tbody>\n",
       "    <tr>\n",
       "      <th>0</th>\n",
       "      <td>-9999.0</td>\n",
       "      <td>-9999.0</td>\n",
       "    </tr>\n",
       "    <tr>\n",
       "      <th>1</th>\n",
       "      <td>-9999.0</td>\n",
       "      <td>-9999.0</td>\n",
       "    </tr>\n",
       "    <tr>\n",
       "      <th>2</th>\n",
       "      <td>-9999.0</td>\n",
       "      <td>-9999.0</td>\n",
       "    </tr>\n",
       "    <tr>\n",
       "      <th>3</th>\n",
       "      <td>-9999.0</td>\n",
       "      <td>-9999.0</td>\n",
       "    </tr>\n",
       "    <tr>\n",
       "      <th>4</th>\n",
       "      <td>-9999.0</td>\n",
       "      <td>-9999.0</td>\n",
       "    </tr>\n",
       "    <tr>\n",
       "      <th>...</th>\n",
       "      <td>...</td>\n",
       "      <td>...</td>\n",
       "    </tr>\n",
       "    <tr>\n",
       "      <th>18002</th>\n",
       "      <td>-9999.0</td>\n",
       "      <td>-9999.0</td>\n",
       "    </tr>\n",
       "    <tr>\n",
       "      <th>18003</th>\n",
       "      <td>-9999.0</td>\n",
       "      <td>-9999.0</td>\n",
       "    </tr>\n",
       "    <tr>\n",
       "      <th>18004</th>\n",
       "      <td>-9999.0</td>\n",
       "      <td>-9999.0</td>\n",
       "    </tr>\n",
       "    <tr>\n",
       "      <th>18005</th>\n",
       "      <td>-9999.0</td>\n",
       "      <td>-9999.0</td>\n",
       "    </tr>\n",
       "    <tr>\n",
       "      <th>18006</th>\n",
       "      <td>-9999.0</td>\n",
       "      <td>-9999.0</td>\n",
       "    </tr>\n",
       "  </tbody>\n",
       "</table>\n",
       "<p>18007 rows × 2 columns</p>\n",
       "</div>"
      ],
      "text/plain": [
       "            u       v\n",
       "0     -9999.0 -9999.0\n",
       "1     -9999.0 -9999.0\n",
       "2     -9999.0 -9999.0\n",
       "3     -9999.0 -9999.0\n",
       "4     -9999.0 -9999.0\n",
       "...       ...     ...\n",
       "18002 -9999.0 -9999.0\n",
       "18003 -9999.0 -9999.0\n",
       "18004 -9999.0 -9999.0\n",
       "18005 -9999.0 -9999.0\n",
       "18006 -9999.0 -9999.0\n",
       "\n",
       "[18007 rows x 2 columns]"
      ]
     },
     "execution_count": null,
     "metadata": {},
     "output_type": "execute_result"
    }
   ],
   "source": [
    "wm1m"
   ]
  },
  {
   "cell_type": "code",
   "execution_count": null,
   "metadata": {},
   "outputs": [
    {
     "data": {
      "text/plain": [
       "0        308.779050\n",
       "1        304.721280\n",
       "2        305.385431\n",
       "3        305.487462\n",
       "4        301.581292\n",
       "            ...    \n",
       "18002    310.689374\n",
       "18003    310.044551\n",
       "18004    328.535856\n",
       "18005    330.875947\n",
       "18006    319.763642\n",
       "Length: 18007, dtype: float64"
      ]
     },
     "execution_count": null,
     "metadata": {},
     "output_type": "execute_result"
    }
   ],
   "source": [
    "get_wind_dir(wm1raw.u, wm1raw.v)"
   ]
  },
  {
   "cell_type": "code",
   "execution_count": null,
   "metadata": {},
   "outputs": [],
   "source": []
  },
  {
   "cell_type": "code",
   "execution_count": null,
   "metadata": {},
   "outputs": [
    {
     "data": {
      "text/html": [
       "<div>\n",
       "<style scoped>\n",
       "    .dataframe tbody tr th:only-of-type {\n",
       "        vertical-align: middle;\n",
       "    }\n",
       "\n",
       "    .dataframe tbody tr th {\n",
       "        vertical-align: top;\n",
       "    }\n",
       "\n",
       "    .dataframe thead th {\n",
       "        text-align: right;\n",
       "    }\n",
       "</style>\n",
       "<table border=\"1\" class=\"dataframe\">\n",
       "  <thead>\n",
       "    <tr style=\"text-align: right;\">\n",
       "      <th></th>\n",
       "      <th>u</th>\n",
       "      <th>v</th>\n",
       "    </tr>\n",
       "  </thead>\n",
       "  <tbody>\n",
       "    <tr>\n",
       "      <th>1199</th>\n",
       "      <td>-0.08</td>\n",
       "      <td>-1.81</td>\n",
       "    </tr>\n",
       "    <tr>\n",
       "      <th>1200</th>\n",
       "      <td>-0.04</td>\n",
       "      <td>-1.27</td>\n",
       "    </tr>\n",
       "    <tr>\n",
       "      <th>1201</th>\n",
       "      <td>0.29</td>\n",
       "      <td>-1.33</td>\n",
       "    </tr>\n",
       "    <tr>\n",
       "      <th>1202</th>\n",
       "      <td>0.95</td>\n",
       "      <td>-1.53</td>\n",
       "    </tr>\n",
       "    <tr>\n",
       "      <th>1203</th>\n",
       "      <td>0.61</td>\n",
       "      <td>-1.76</td>\n",
       "    </tr>\n",
       "    <tr>\n",
       "      <th>...</th>\n",
       "      <td>...</td>\n",
       "      <td>...</td>\n",
       "    </tr>\n",
       "    <tr>\n",
       "      <th>2394</th>\n",
       "      <td>1.56</td>\n",
       "      <td>-1.62</td>\n",
       "    </tr>\n",
       "    <tr>\n",
       "      <th>2395</th>\n",
       "      <td>1.36</td>\n",
       "      <td>-1.73</td>\n",
       "    </tr>\n",
       "    <tr>\n",
       "      <th>2396</th>\n",
       "      <td>1.50</td>\n",
       "      <td>-2.01</td>\n",
       "    </tr>\n",
       "    <tr>\n",
       "      <th>2397</th>\n",
       "      <td>1.16</td>\n",
       "      <td>-2.40</td>\n",
       "    </tr>\n",
       "    <tr>\n",
       "      <th>2398</th>\n",
       "      <td>1.30</td>\n",
       "      <td>-2.08</td>\n",
       "    </tr>\n",
       "  </tbody>\n",
       "</table>\n",
       "<p>1200 rows × 2 columns</p>\n",
       "</div>"
      ],
      "text/plain": [
       "         u     v\n",
       "1199 -0.08 -1.81\n",
       "1200 -0.04 -1.27\n",
       "1201  0.29 -1.33\n",
       "1202  0.95 -1.53\n",
       "1203  0.61 -1.76\n",
       "...    ...   ...\n",
       "2394  1.56 -1.62\n",
       "2395  1.36 -1.73\n",
       "2396  1.50 -2.01\n",
       "2397  1.16 -2.40\n",
       "2398  1.30 -2.08\n",
       "\n",
       "[1200 rows x 2 columns]"
      ]
     },
     "execution_count": null,
     "metadata": {},
     "output_type": "execute_result"
    }
   ],
   "source": [
    "wm1m[1199:2400-1]"
   ]
  },
  {
   "cell_type": "code",
   "execution_count": null,
   "metadata": {},
   "outputs": [
    {
     "data": {
      "text/plain": [
       "u    13\n",
       "v    13\n",
       "dtype: int64"
      ]
     },
     "execution_count": null,
     "metadata": {},
     "output_type": "execute_result"
    }
   ],
   "source": [
    "(wm1m!=-9999).sum()"
   ]
  },
  {
   "cell_type": "code",
   "execution_count": null,
   "metadata": {},
   "outputs": [
    {
     "data": {
      "text/html": [
       "<div>\n",
       "<style scoped>\n",
       "    .dataframe tbody tr th:only-of-type {\n",
       "        vertical-align: middle;\n",
       "    }\n",
       "\n",
       "    .dataframe tbody tr th {\n",
       "        vertical-align: top;\n",
       "    }\n",
       "\n",
       "    .dataframe thead th {\n",
       "        text-align: right;\n",
       "    }\n",
       "</style>\n",
       "<table border=\"1\" class=\"dataframe\">\n",
       "  <thead>\n",
       "    <tr style=\"text-align: right;\">\n",
       "      <th></th>\n",
       "      <th>u</th>\n",
       "      <th>v</th>\n",
       "    </tr>\n",
       "  </thead>\n",
       "  <tbody>\n",
       "    <tr>\n",
       "      <th>0</th>\n",
       "      <td>NaN</td>\n",
       "      <td>NaN</td>\n",
       "    </tr>\n",
       "    <tr>\n",
       "      <th>1</th>\n",
       "      <td>NaN</td>\n",
       "      <td>NaN</td>\n",
       "    </tr>\n",
       "    <tr>\n",
       "      <th>2</th>\n",
       "      <td>NaN</td>\n",
       "      <td>NaN</td>\n",
       "    </tr>\n",
       "    <tr>\n",
       "      <th>3</th>\n",
       "      <td>NaN</td>\n",
       "      <td>NaN</td>\n",
       "    </tr>\n",
       "    <tr>\n",
       "      <th>4</th>\n",
       "      <td>NaN</td>\n",
       "      <td>NaN</td>\n",
       "    </tr>\n",
       "    <tr>\n",
       "      <th>...</th>\n",
       "      <td>...</td>\n",
       "      <td>...</td>\n",
       "    </tr>\n",
       "    <tr>\n",
       "      <th>1195</th>\n",
       "      <td>NaN</td>\n",
       "      <td>NaN</td>\n",
       "    </tr>\n",
       "    <tr>\n",
       "      <th>1196</th>\n",
       "      <td>NaN</td>\n",
       "      <td>NaN</td>\n",
       "    </tr>\n",
       "    <tr>\n",
       "      <th>1197</th>\n",
       "      <td>NaN</td>\n",
       "      <td>NaN</td>\n",
       "    </tr>\n",
       "    <tr>\n",
       "      <th>1198</th>\n",
       "      <td>NaN</td>\n",
       "      <td>NaN</td>\n",
       "    </tr>\n",
       "    <tr>\n",
       "      <th>1199</th>\n",
       "      <td>NaN</td>\n",
       "      <td>NaN</td>\n",
       "    </tr>\n",
       "  </tbody>\n",
       "</table>\n",
       "<p>1200 rows × 2 columns</p>\n",
       "</div>"
      ],
      "text/plain": [
       "       u   v\n",
       "0    NaN NaN\n",
       "1    NaN NaN\n",
       "2    NaN NaN\n",
       "3    NaN NaN\n",
       "4    NaN NaN\n",
       "...   ..  ..\n",
       "1195 NaN NaN\n",
       "1196 NaN NaN\n",
       "1197 NaN NaN\n",
       "1198 NaN NaN\n",
       "1199 NaN NaN\n",
       "\n",
       "[1200 rows x 2 columns]"
      ]
     },
     "execution_count": null,
     "metadata": {},
     "output_type": "execute_result"
    }
   ],
   "source": [
    "wm1m[wm1m!=-9999]"
   ]
  },
  {
   "cell_type": "code",
   "execution_count": null,
   "metadata": {},
   "outputs": [
    {
     "data": {
      "text/plain": [
       "280"
      ]
     },
     "execution_count": null,
     "metadata": {},
     "output_type": "execute_result"
    }
   ],
   "source": [
    "(wm1m==wm1raw).u.argmax()"
   ]
  },
  {
   "cell_type": "code",
   "execution_count": null,
   "metadata": {},
   "outputs": [
    {
     "data": {
      "text/html": [
       "<div>\n",
       "<style scoped>\n",
       "    .dataframe tbody tr th:only-of-type {\n",
       "        vertical-align: middle;\n",
       "    }\n",
       "\n",
       "    .dataframe tbody tr th {\n",
       "        vertical-align: top;\n",
       "    }\n",
       "\n",
       "    .dataframe thead th {\n",
       "        text-align: right;\n",
       "    }\n",
       "</style>\n",
       "<table border=\"1\" class=\"dataframe\">\n",
       "  <thead>\n",
       "    <tr style=\"text-align: right;\">\n",
       "      <th></th>\n",
       "      <th>u</th>\n",
       "      <th>v</th>\n",
       "    </tr>\n",
       "  </thead>\n",
       "  <tbody>\n",
       "    <tr>\n",
       "      <th>280</th>\n",
       "      <td>-0.16</td>\n",
       "      <td>-0.92</td>\n",
       "    </tr>\n",
       "    <tr>\n",
       "      <th>281</th>\n",
       "      <td>-0.16</td>\n",
       "      <td>-0.94</td>\n",
       "    </tr>\n",
       "    <tr>\n",
       "      <th>282</th>\n",
       "      <td>0.05</td>\n",
       "      <td>-1.05</td>\n",
       "    </tr>\n",
       "    <tr>\n",
       "      <th>283</th>\n",
       "      <td>-9999.00</td>\n",
       "      <td>-9999.00</td>\n",
       "    </tr>\n",
       "    <tr>\n",
       "      <th>284</th>\n",
       "      <td>-9999.00</td>\n",
       "      <td>-9999.00</td>\n",
       "    </tr>\n",
       "    <tr>\n",
       "      <th>285</th>\n",
       "      <td>-9999.00</td>\n",
       "      <td>-9999.00</td>\n",
       "    </tr>\n",
       "    <tr>\n",
       "      <th>286</th>\n",
       "      <td>-9999.00</td>\n",
       "      <td>-9999.00</td>\n",
       "    </tr>\n",
       "    <tr>\n",
       "      <th>287</th>\n",
       "      <td>-9999.00</td>\n",
       "      <td>-9999.00</td>\n",
       "    </tr>\n",
       "    <tr>\n",
       "      <th>288</th>\n",
       "      <td>-9999.00</td>\n",
       "      <td>-9999.00</td>\n",
       "    </tr>\n",
       "    <tr>\n",
       "      <th>289</th>\n",
       "      <td>-9999.00</td>\n",
       "      <td>-9999.00</td>\n",
       "    </tr>\n",
       "    <tr>\n",
       "      <th>290</th>\n",
       "      <td>-9999.00</td>\n",
       "      <td>-9999.00</td>\n",
       "    </tr>\n",
       "    <tr>\n",
       "      <th>291</th>\n",
       "      <td>-9999.00</td>\n",
       "      <td>-9999.00</td>\n",
       "    </tr>\n",
       "    <tr>\n",
       "      <th>292</th>\n",
       "      <td>-9999.00</td>\n",
       "      <td>-9999.00</td>\n",
       "    </tr>\n",
       "    <tr>\n",
       "      <th>293</th>\n",
       "      <td>-9999.00</td>\n",
       "      <td>-9999.00</td>\n",
       "    </tr>\n",
       "    <tr>\n",
       "      <th>294</th>\n",
       "      <td>-0.28</td>\n",
       "      <td>-1.88</td>\n",
       "    </tr>\n",
       "    <tr>\n",
       "      <th>295</th>\n",
       "      <td>-9999.00</td>\n",
       "      <td>-9999.00</td>\n",
       "    </tr>\n",
       "    <tr>\n",
       "      <th>296</th>\n",
       "      <td>-0.21</td>\n",
       "      <td>-2.25</td>\n",
       "    </tr>\n",
       "    <tr>\n",
       "      <th>297</th>\n",
       "      <td>0.17</td>\n",
       "      <td>-2.68</td>\n",
       "    </tr>\n",
       "    <tr>\n",
       "      <th>298</th>\n",
       "      <td>0.60</td>\n",
       "      <td>-2.59</td>\n",
       "    </tr>\n",
       "    <tr>\n",
       "      <th>299</th>\n",
       "      <td>0.81</td>\n",
       "      <td>-2.16</td>\n",
       "    </tr>\n",
       "    <tr>\n",
       "      <th>300</th>\n",
       "      <td>-0.04</td>\n",
       "      <td>-2.50</td>\n",
       "    </tr>\n",
       "    <tr>\n",
       "      <th>301</th>\n",
       "      <td>0.07</td>\n",
       "      <td>-2.92</td>\n",
       "    </tr>\n",
       "    <tr>\n",
       "      <th>302</th>\n",
       "      <td>-9999.00</td>\n",
       "      <td>-9999.00</td>\n",
       "    </tr>\n",
       "    <tr>\n",
       "      <th>303</th>\n",
       "      <td>-9999.00</td>\n",
       "      <td>-9999.00</td>\n",
       "    </tr>\n",
       "    <tr>\n",
       "      <th>304</th>\n",
       "      <td>-9999.00</td>\n",
       "      <td>-9999.00</td>\n",
       "    </tr>\n",
       "    <tr>\n",
       "      <th>305</th>\n",
       "      <td>-9999.00</td>\n",
       "      <td>-9999.00</td>\n",
       "    </tr>\n",
       "    <tr>\n",
       "      <th>306</th>\n",
       "      <td>0.08</td>\n",
       "      <td>-2.75</td>\n",
       "    </tr>\n",
       "    <tr>\n",
       "      <th>307</th>\n",
       "      <td>-0.04</td>\n",
       "      <td>-2.84</td>\n",
       "    </tr>\n",
       "    <tr>\n",
       "      <th>308</th>\n",
       "      <td>-9999.00</td>\n",
       "      <td>-9999.00</td>\n",
       "    </tr>\n",
       "    <tr>\n",
       "      <th>309</th>\n",
       "      <td>-9999.00</td>\n",
       "      <td>-9999.00</td>\n",
       "    </tr>\n",
       "    <tr>\n",
       "      <th>310</th>\n",
       "      <td>-9999.00</td>\n",
       "      <td>-9999.00</td>\n",
       "    </tr>\n",
       "    <tr>\n",
       "      <th>311</th>\n",
       "      <td>-9999.00</td>\n",
       "      <td>-9999.00</td>\n",
       "    </tr>\n",
       "    <tr>\n",
       "      <th>312</th>\n",
       "      <td>-9999.00</td>\n",
       "      <td>-9999.00</td>\n",
       "    </tr>\n",
       "    <tr>\n",
       "      <th>313</th>\n",
       "      <td>-9999.00</td>\n",
       "      <td>-9999.00</td>\n",
       "    </tr>\n",
       "    <tr>\n",
       "      <th>314</th>\n",
       "      <td>-9999.00</td>\n",
       "      <td>-9999.00</td>\n",
       "    </tr>\n",
       "    <tr>\n",
       "      <th>315</th>\n",
       "      <td>-9999.00</td>\n",
       "      <td>-9999.00</td>\n",
       "    </tr>\n",
       "    <tr>\n",
       "      <th>316</th>\n",
       "      <td>-9999.00</td>\n",
       "      <td>-9999.00</td>\n",
       "    </tr>\n",
       "    <tr>\n",
       "      <th>317</th>\n",
       "      <td>-9999.00</td>\n",
       "      <td>-9999.00</td>\n",
       "    </tr>\n",
       "    <tr>\n",
       "      <th>318</th>\n",
       "      <td>-9999.00</td>\n",
       "      <td>-9999.00</td>\n",
       "    </tr>\n",
       "    <tr>\n",
       "      <th>319</th>\n",
       "      <td>-9999.00</td>\n",
       "      <td>-9999.00</td>\n",
       "    </tr>\n",
       "    <tr>\n",
       "      <th>320</th>\n",
       "      <td>-9999.00</td>\n",
       "      <td>-9999.00</td>\n",
       "    </tr>\n",
       "  </tbody>\n",
       "</table>\n",
       "</div>"
      ],
      "text/plain": [
       "           u        v\n",
       "280    -0.16    -0.92\n",
       "281    -0.16    -0.94\n",
       "282     0.05    -1.05\n",
       "283 -9999.00 -9999.00\n",
       "284 -9999.00 -9999.00\n",
       "285 -9999.00 -9999.00\n",
       "286 -9999.00 -9999.00\n",
       "287 -9999.00 -9999.00\n",
       "288 -9999.00 -9999.00\n",
       "289 -9999.00 -9999.00\n",
       "290 -9999.00 -9999.00\n",
       "291 -9999.00 -9999.00\n",
       "292 -9999.00 -9999.00\n",
       "293 -9999.00 -9999.00\n",
       "294    -0.28    -1.88\n",
       "295 -9999.00 -9999.00\n",
       "296    -0.21    -2.25\n",
       "297     0.17    -2.68\n",
       "298     0.60    -2.59\n",
       "299     0.81    -2.16\n",
       "300    -0.04    -2.50\n",
       "301     0.07    -2.92\n",
       "302 -9999.00 -9999.00\n",
       "303 -9999.00 -9999.00\n",
       "304 -9999.00 -9999.00\n",
       "305 -9999.00 -9999.00\n",
       "306     0.08    -2.75\n",
       "307    -0.04    -2.84\n",
       "308 -9999.00 -9999.00\n",
       "309 -9999.00 -9999.00\n",
       "310 -9999.00 -9999.00\n",
       "311 -9999.00 -9999.00\n",
       "312 -9999.00 -9999.00\n",
       "313 -9999.00 -9999.00\n",
       "314 -9999.00 -9999.00\n",
       "315 -9999.00 -9999.00\n",
       "316 -9999.00 -9999.00\n",
       "317 -9999.00 -9999.00\n",
       "318 -9999.00 -9999.00\n",
       "319 -9999.00 -9999.00\n",
       "320 -9999.00 -9999.00"
      ]
     },
     "execution_count": null,
     "metadata": {},
     "output_type": "execute_result"
    }
   ],
   "source": [
    "wm1m.loc[280:320]"
   ]
  },
  {
   "cell_type": "code",
   "execution_count": null,
   "metadata": {},
   "outputs": [
    {
     "data": {
      "text/plain": [
       "u    312\n",
       "v    312\n",
       "dtype: int64"
      ]
     },
     "execution_count": null,
     "metadata": {},
     "output_type": "execute_result"
    }
   ],
   "source": [
    "(wm1ep==-9999).sum()"
   ]
  },
  {
   "cell_type": "code",
   "execution_count": null,
   "metadata": {},
   "outputs": [],
   "source": []
  },
  {
   "cell_type": "code",
   "execution_count": null,
   "metadata": {},
   "outputs": [
    {
     "data": {
      "text/plain": [
       "True"
      ]
     },
     "execution_count": null,
     "metadata": {},
     "output_type": "execute_result"
    }
   ],
   "source": [
    "np.allclose(wm1m, wm1ep)"
   ]
  },
  {
   "cell_type": "code",
   "execution_count": null,
   "metadata": {},
   "outputs": [
    {
     "data": {
      "text/html": [
       "<div>\n",
       "<style scoped>\n",
       "    .dataframe tbody tr th:only-of-type {\n",
       "        vertical-align: middle;\n",
       "    }\n",
       "\n",
       "    .dataframe tbody tr th {\n",
       "        vertical-align: top;\n",
       "    }\n",
       "\n",
       "    .dataframe thead th {\n",
       "        text-align: right;\n",
       "    }\n",
       "</style>\n",
       "<table border=\"1\" class=\"dataframe\">\n",
       "  <thead>\n",
       "    <tr style=\"text-align: right;\">\n",
       "      <th></th>\n",
       "      <th>u</th>\n",
       "      <th>v</th>\n",
       "      <th>wind_dir</th>\n",
       "    </tr>\n",
       "  </thead>\n",
       "  <tbody>\n",
       "    <tr>\n",
       "      <th>0</th>\n",
       "      <td>-9999.0</td>\n",
       "      <td>-9999.0</td>\n",
       "      <td>315.0</td>\n",
       "    </tr>\n",
       "    <tr>\n",
       "      <th>1</th>\n",
       "      <td>-9999.0</td>\n",
       "      <td>-9999.0</td>\n",
       "      <td>315.0</td>\n",
       "    </tr>\n",
       "    <tr>\n",
       "      <th>2</th>\n",
       "      <td>-9999.0</td>\n",
       "      <td>-9999.0</td>\n",
       "      <td>315.0</td>\n",
       "    </tr>\n",
       "    <tr>\n",
       "      <th>3</th>\n",
       "      <td>-9999.0</td>\n",
       "      <td>-9999.0</td>\n",
       "      <td>315.0</td>\n",
       "    </tr>\n",
       "    <tr>\n",
       "      <th>4</th>\n",
       "      <td>-9999.0</td>\n",
       "      <td>-9999.0</td>\n",
       "      <td>315.0</td>\n",
       "    </tr>\n",
       "    <tr>\n",
       "      <th>...</th>\n",
       "      <td>...</td>\n",
       "      <td>...</td>\n",
       "      <td>...</td>\n",
       "    </tr>\n",
       "    <tr>\n",
       "      <th>1195</th>\n",
       "      <td>-9999.0</td>\n",
       "      <td>-9999.0</td>\n",
       "      <td>315.0</td>\n",
       "    </tr>\n",
       "    <tr>\n",
       "      <th>1196</th>\n",
       "      <td>-9999.0</td>\n",
       "      <td>-9999.0</td>\n",
       "      <td>315.0</td>\n",
       "    </tr>\n",
       "    <tr>\n",
       "      <th>1197</th>\n",
       "      <td>-9999.0</td>\n",
       "      <td>-9999.0</td>\n",
       "      <td>315.0</td>\n",
       "    </tr>\n",
       "    <tr>\n",
       "      <th>1198</th>\n",
       "      <td>-9999.0</td>\n",
       "      <td>-9999.0</td>\n",
       "      <td>315.0</td>\n",
       "    </tr>\n",
       "    <tr>\n",
       "      <th>1199</th>\n",
       "      <td>-9999.0</td>\n",
       "      <td>-9999.0</td>\n",
       "      <td>315.0</td>\n",
       "    </tr>\n",
       "  </tbody>\n",
       "</table>\n",
       "<p>1200 rows × 3 columns</p>\n",
       "</div>"
      ],
      "text/plain": [
       "           u       v  wind_dir\n",
       "0    -9999.0 -9999.0     315.0\n",
       "1    -9999.0 -9999.0     315.0\n",
       "2    -9999.0 -9999.0     315.0\n",
       "3    -9999.0 -9999.0     315.0\n",
       "4    -9999.0 -9999.0     315.0\n",
       "...      ...     ...       ...\n",
       "1195 -9999.0 -9999.0     315.0\n",
       "1196 -9999.0 -9999.0     315.0\n",
       "1197 -9999.0 -9999.0     315.0\n",
       "1198 -9999.0 -9999.0     315.0\n",
       "1199 -9999.0 -9999.0     315.0\n",
       "\n",
       "[1200 rows x 3 columns]"
      ]
     },
     "execution_count": null,
     "metadata": {},
     "output_type": "execute_result"
    }
   ],
   "source": [
    "add_wind_dir(wm1m)"
   ]
  },
  {
   "cell_type": "code",
   "execution_count": null,
   "metadata": {},
   "outputs": [
    {
     "data": {
      "text/html": [
       "<div>\n",
       "<style scoped>\n",
       "    .dataframe tbody tr th:only-of-type {\n",
       "        vertical-align: middle;\n",
       "    }\n",
       "\n",
       "    .dataframe tbody tr th {\n",
       "        vertical-align: top;\n",
       "    }\n",
       "\n",
       "    .dataframe thead th {\n",
       "        text-align: right;\n",
       "    }\n",
       "</style>\n",
       "<table border=\"1\" class=\"dataframe\">\n",
       "  <thead>\n",
       "    <tr style=\"text-align: right;\">\n",
       "      <th></th>\n",
       "      <th>u</th>\n",
       "      <th>v</th>\n",
       "      <th>wind_dir</th>\n",
       "    </tr>\n",
       "  </thead>\n",
       "  <tbody>\n",
       "    <tr>\n",
       "      <th>0</th>\n",
       "      <td>-0.08</td>\n",
       "      <td>-1.81</td>\n",
       "      <td>272.530763</td>\n",
       "    </tr>\n",
       "    <tr>\n",
       "      <th>1</th>\n",
       "      <td>-0.04</td>\n",
       "      <td>-1.27</td>\n",
       "      <td>271.803995</td>\n",
       "    </tr>\n",
       "    <tr>\n",
       "      <th>2</th>\n",
       "      <td>0.29</td>\n",
       "      <td>-1.33</td>\n",
       "      <td>257.699462</td>\n",
       "    </tr>\n",
       "    <tr>\n",
       "      <th>3</th>\n",
       "      <td>0.95</td>\n",
       "      <td>-1.53</td>\n",
       "      <td>238.163232</td>\n",
       "    </tr>\n",
       "    <tr>\n",
       "      <th>4</th>\n",
       "      <td>0.61</td>\n",
       "      <td>-1.76</td>\n",
       "      <td>250.884148</td>\n",
       "    </tr>\n",
       "    <tr>\n",
       "      <th>...</th>\n",
       "      <td>...</td>\n",
       "      <td>...</td>\n",
       "      <td>...</td>\n",
       "    </tr>\n",
       "    <tr>\n",
       "      <th>1195</th>\n",
       "      <td>1.56</td>\n",
       "      <td>-1.62</td>\n",
       "      <td>226.080925</td>\n",
       "    </tr>\n",
       "    <tr>\n",
       "      <th>1196</th>\n",
       "      <td>1.36</td>\n",
       "      <td>-1.73</td>\n",
       "      <td>231.828150</td>\n",
       "    </tr>\n",
       "    <tr>\n",
       "      <th>1197</th>\n",
       "      <td>1.50</td>\n",
       "      <td>-2.01</td>\n",
       "      <td>233.267173</td>\n",
       "    </tr>\n",
       "    <tr>\n",
       "      <th>1198</th>\n",
       "      <td>1.16</td>\n",
       "      <td>-2.40</td>\n",
       "      <td>244.203975</td>\n",
       "    </tr>\n",
       "    <tr>\n",
       "      <th>1199</th>\n",
       "      <td>1.30</td>\n",
       "      <td>-2.08</td>\n",
       "      <td>237.994617</td>\n",
       "    </tr>\n",
       "  </tbody>\n",
       "</table>\n",
       "<p>1200 rows × 3 columns</p>\n",
       "</div>"
      ],
      "text/plain": [
       "         u     v    wind_dir\n",
       "0    -0.08 -1.81  272.530763\n",
       "1    -0.04 -1.27  271.803995\n",
       "2     0.29 -1.33  257.699462\n",
       "3     0.95 -1.53  238.163232\n",
       "4     0.61 -1.76  250.884148\n",
       "...    ...   ...         ...\n",
       "1195  1.56 -1.62  226.080925\n",
       "1196  1.36 -1.73  231.828150\n",
       "1197  1.50 -2.01  233.267173\n",
       "1198  1.16 -2.40  244.203975\n",
       "1199  1.30 -2.08  237.994617\n",
       "\n",
       "[1200 rows x 3 columns]"
      ]
     },
     "execution_count": null,
     "metadata": {},
     "output_type": "execute_result"
    }
   ],
   "source": [
    "add_wind_dir(wm1ep)"
   ]
  },
  {
   "cell_type": "code",
   "execution_count": null,
   "metadata": {},
   "outputs": [
    {
     "data": {
      "text/html": [
       "<div>\n",
       "<style scoped>\n",
       "    .dataframe tbody tr th:only-of-type {\n",
       "        vertical-align: middle;\n",
       "    }\n",
       "\n",
       "    .dataframe tbody tr th {\n",
       "        vertical-align: top;\n",
       "    }\n",
       "\n",
       "    .dataframe thead th {\n",
       "        text-align: right;\n",
       "    }\n",
       "</style>\n",
       "<table border=\"1\" class=\"dataframe\">\n",
       "  <thead>\n",
       "    <tr style=\"text-align: right;\">\n",
       "      <th></th>\n",
       "      <th>u</th>\n",
       "      <th>v</th>\n",
       "      <th>wind_dir</th>\n",
       "    </tr>\n",
       "  </thead>\n",
       "  <tbody>\n",
       "    <tr>\n",
       "      <th>0</th>\n",
       "      <td>-0.08</td>\n",
       "      <td>-1.81</td>\n",
       "      <td>272.530763</td>\n",
       "    </tr>\n",
       "    <tr>\n",
       "      <th>1</th>\n",
       "      <td>-0.04</td>\n",
       "      <td>-1.27</td>\n",
       "      <td>271.803995</td>\n",
       "    </tr>\n",
       "    <tr>\n",
       "      <th>2</th>\n",
       "      <td>0.29</td>\n",
       "      <td>-1.33</td>\n",
       "      <td>257.699461</td>\n",
       "    </tr>\n",
       "    <tr>\n",
       "      <th>3</th>\n",
       "      <td>0.95</td>\n",
       "      <td>-1.53</td>\n",
       "      <td>238.163232</td>\n",
       "    </tr>\n",
       "    <tr>\n",
       "      <th>4</th>\n",
       "      <td>0.61</td>\n",
       "      <td>-1.76</td>\n",
       "      <td>250.884149</td>\n",
       "    </tr>\n",
       "    <tr>\n",
       "      <th>...</th>\n",
       "      <td>...</td>\n",
       "      <td>...</td>\n",
       "      <td>...</td>\n",
       "    </tr>\n",
       "    <tr>\n",
       "      <th>1195</th>\n",
       "      <td>1.56</td>\n",
       "      <td>-1.62</td>\n",
       "      <td>226.080924</td>\n",
       "    </tr>\n",
       "    <tr>\n",
       "      <th>1196</th>\n",
       "      <td>1.36</td>\n",
       "      <td>-1.73</td>\n",
       "      <td>231.828150</td>\n",
       "    </tr>\n",
       "    <tr>\n",
       "      <th>1197</th>\n",
       "      <td>1.50</td>\n",
       "      <td>-2.01</td>\n",
       "      <td>233.267173</td>\n",
       "    </tr>\n",
       "    <tr>\n",
       "      <th>1198</th>\n",
       "      <td>1.16</td>\n",
       "      <td>-2.40</td>\n",
       "      <td>244.203974</td>\n",
       "    </tr>\n",
       "    <tr>\n",
       "      <th>1199</th>\n",
       "      <td>1.30</td>\n",
       "      <td>-2.08</td>\n",
       "      <td>237.994617</td>\n",
       "    </tr>\n",
       "  </tbody>\n",
       "</table>\n",
       "<p>1200 rows × 3 columns</p>\n",
       "</div>"
      ],
      "text/plain": [
       "         u     v    wind_dir\n",
       "0    -0.08 -1.81  272.530763\n",
       "1    -0.04 -1.27  271.803995\n",
       "2     0.29 -1.33  257.699461\n",
       "3     0.95 -1.53  238.163232\n",
       "4     0.61 -1.76  250.884149\n",
       "...    ...   ...         ...\n",
       "1195  1.56 -1.62  226.080924\n",
       "1196  1.36 -1.73  231.828150\n",
       "1197  1.50 -2.01  233.267173\n",
       "1198  1.16 -2.40  244.203974\n",
       "1199  1.30 -2.08  237.994617\n",
       "\n",
       "[1200 rows x 3 columns]"
      ]
     },
     "execution_count": null,
     "metadata": {},
     "output_type": "execute_result"
    }
   ],
   "source": [
    "add_wind_dir(wm1raw)"
   ]
  },
  {
   "cell_type": "code",
   "execution_count": null,
   "metadata": {},
   "outputs": [],
   "source": [
    "filt = filter_by_wind_dir_single(add_wind_dir(wm1raw).wind_dir, 250, 30) "
   ]
  },
  {
   "cell_type": "code",
   "execution_count": null,
   "metadata": {},
   "outputs": [],
   "source": [
    "wm1raw[~filt] = -9999"
   ]
  },
  {
   "cell_type": "code",
   "execution_count": null,
   "metadata": {},
   "outputs": [
    {
     "data": {
      "text/html": [
       "<div>\n",
       "<style scoped>\n",
       "    .dataframe tbody tr th:only-of-type {\n",
       "        vertical-align: middle;\n",
       "    }\n",
       "\n",
       "    .dataframe tbody tr th {\n",
       "        vertical-align: top;\n",
       "    }\n",
       "\n",
       "    .dataframe thead th {\n",
       "        text-align: right;\n",
       "    }\n",
       "</style>\n",
       "<table border=\"1\" class=\"dataframe\">\n",
       "  <thead>\n",
       "    <tr style=\"text-align: right;\">\n",
       "      <th></th>\n",
       "      <th>u</th>\n",
       "      <th>v</th>\n",
       "    </tr>\n",
       "  </thead>\n",
       "  <tbody>\n",
       "    <tr>\n",
       "      <th>0</th>\n",
       "      <td>-0.08</td>\n",
       "      <td>-1.81</td>\n",
       "    </tr>\n",
       "    <tr>\n",
       "      <th>1</th>\n",
       "      <td>-0.04</td>\n",
       "      <td>-1.27</td>\n",
       "    </tr>\n",
       "    <tr>\n",
       "      <th>2</th>\n",
       "      <td>0.29</td>\n",
       "      <td>-1.33</td>\n",
       "    </tr>\n",
       "    <tr>\n",
       "      <th>3</th>\n",
       "      <td>0.95</td>\n",
       "      <td>-1.53</td>\n",
       "    </tr>\n",
       "    <tr>\n",
       "      <th>4</th>\n",
       "      <td>0.61</td>\n",
       "      <td>-1.76</td>\n",
       "    </tr>\n",
       "    <tr>\n",
       "      <th>...</th>\n",
       "      <td>...</td>\n",
       "      <td>...</td>\n",
       "    </tr>\n",
       "    <tr>\n",
       "      <th>1195</th>\n",
       "      <td>1.56</td>\n",
       "      <td>-1.62</td>\n",
       "    </tr>\n",
       "    <tr>\n",
       "      <th>1196</th>\n",
       "      <td>1.36</td>\n",
       "      <td>-1.73</td>\n",
       "    </tr>\n",
       "    <tr>\n",
       "      <th>1197</th>\n",
       "      <td>1.50</td>\n",
       "      <td>-2.01</td>\n",
       "    </tr>\n",
       "    <tr>\n",
       "      <th>1198</th>\n",
       "      <td>1.16</td>\n",
       "      <td>-2.40</td>\n",
       "    </tr>\n",
       "    <tr>\n",
       "      <th>1199</th>\n",
       "      <td>1.30</td>\n",
       "      <td>-2.08</td>\n",
       "    </tr>\n",
       "  </tbody>\n",
       "</table>\n",
       "<p>1200 rows × 2 columns</p>\n",
       "</div>"
      ],
      "text/plain": [
       "         u     v\n",
       "0    -0.08 -1.81\n",
       "1    -0.04 -1.27\n",
       "2     0.29 -1.33\n",
       "3     0.95 -1.53\n",
       "4     0.61 -1.76\n",
       "...    ...   ...\n",
       "1195  1.56 -1.62\n",
       "1196  1.36 -1.73\n",
       "1197  1.50 -2.01\n",
       "1198  1.16 -2.40\n",
       "1199  1.30 -2.08\n",
       "\n",
       "[1200 rows x 2 columns]"
      ]
     },
     "execution_count": null,
     "metadata": {},
     "output_type": "execute_result"
    }
   ],
   "source": [
    "wm1raw"
   ]
  },
  {
   "cell_type": "code",
   "execution_count": null,
   "metadata": {},
   "outputs": [
    {
     "data": {
      "text/html": [
       "<div>\n",
       "<style scoped>\n",
       "    .dataframe tbody tr th:only-of-type {\n",
       "        vertical-align: middle;\n",
       "    }\n",
       "\n",
       "    .dataframe tbody tr th {\n",
       "        vertical-align: top;\n",
       "    }\n",
       "\n",
       "    .dataframe thead th {\n",
       "        text-align: right;\n",
       "    }\n",
       "</style>\n",
       "<table border=\"1\" class=\"dataframe\">\n",
       "  <thead>\n",
       "    <tr style=\"text-align: right;\">\n",
       "      <th></th>\n",
       "      <th>u</th>\n",
       "      <th>v</th>\n",
       "    </tr>\n",
       "  </thead>\n",
       "  <tbody>\n",
       "    <tr>\n",
       "      <th>0</th>\n",
       "      <td>-0.08</td>\n",
       "      <td>-1.81</td>\n",
       "    </tr>\n",
       "    <tr>\n",
       "      <th>1</th>\n",
       "      <td>-0.04</td>\n",
       "      <td>-1.27</td>\n",
       "    </tr>\n",
       "    <tr>\n",
       "      <th>2</th>\n",
       "      <td>0.29</td>\n",
       "      <td>-1.33</td>\n",
       "    </tr>\n",
       "    <tr>\n",
       "      <th>3</th>\n",
       "      <td>0.95</td>\n",
       "      <td>-1.53</td>\n",
       "    </tr>\n",
       "    <tr>\n",
       "      <th>4</th>\n",
       "      <td>0.61</td>\n",
       "      <td>-1.76</td>\n",
       "    </tr>\n",
       "    <tr>\n",
       "      <th>...</th>\n",
       "      <td>...</td>\n",
       "      <td>...</td>\n",
       "    </tr>\n",
       "    <tr>\n",
       "      <th>1195</th>\n",
       "      <td>1.56</td>\n",
       "      <td>-1.62</td>\n",
       "    </tr>\n",
       "    <tr>\n",
       "      <th>1196</th>\n",
       "      <td>1.36</td>\n",
       "      <td>-1.73</td>\n",
       "    </tr>\n",
       "    <tr>\n",
       "      <th>1197</th>\n",
       "      <td>1.50</td>\n",
       "      <td>-2.01</td>\n",
       "    </tr>\n",
       "    <tr>\n",
       "      <th>1198</th>\n",
       "      <td>1.16</td>\n",
       "      <td>-2.40</td>\n",
       "    </tr>\n",
       "    <tr>\n",
       "      <th>1199</th>\n",
       "      <td>1.30</td>\n",
       "      <td>-2.08</td>\n",
       "    </tr>\n",
       "  </tbody>\n",
       "</table>\n",
       "<p>1200 rows × 2 columns</p>\n",
       "</div>"
      ],
      "text/plain": [
       "         u     v\n",
       "0    -0.08 -1.81\n",
       "1    -0.04 -1.27\n",
       "2     0.29 -1.33\n",
       "3     0.95 -1.53\n",
       "4     0.61 -1.76\n",
       "...    ...   ...\n",
       "1195  1.56 -1.62\n",
       "1196  1.36 -1.73\n",
       "1197  1.50 -2.01\n",
       "1198  1.16 -2.40\n",
       "1199  1.30 -2.08\n",
       "\n",
       "[1200 rows x 2 columns]"
      ]
     },
     "execution_count": null,
     "metadata": {},
     "output_type": "execute_result"
    }
   ],
   "source": [
    "wm1ep"
   ]
  },
  {
   "cell_type": "code",
   "execution_count": null,
   "metadata": {},
   "outputs": [
    {
     "data": {
      "text/plain": [
       "True"
      ]
     },
     "execution_count": null,
     "metadata": {},
     "output_type": "execute_result"
    }
   ],
   "source": [
    "np.allclose(wm1raw, wm1ep)"
   ]
  },
  {
   "cell_type": "code",
   "execution_count": null,
   "metadata": {},
   "outputs": [
    {
     "data": {
      "text/plain": [
       "0       265.000000\n",
       "1       265.000000\n",
       "2       253.151733\n",
       "3       251.204748\n",
       "4       249.872204\n",
       "           ...    \n",
       "1195    265.000000\n",
       "1196    265.000000\n",
       "1197    265.000000\n",
       "1198    265.000000\n",
       "1199    265.000000\n",
       "Length: 1200, dtype: float64"
      ]
     },
     "execution_count": null,
     "metadata": {},
     "output_type": "execute_result"
    }
   ],
   "source": [
    "mod(get_wind_dir(wm1ep.u, wm1ep.v) + 310)"
   ]
  },
  {
   "cell_type": "code",
   "execution_count": null,
   "metadata": {},
   "outputs": [
    {
     "data": {
      "text/plain": [
       "u    False\n",
       "v    False\n",
       "dtype: bool"
      ]
     },
     "execution_count": null,
     "metadata": {},
     "output_type": "execute_result"
    }
   ],
   "source": [
    "(wm1m != wm1raw).any()"
   ]
  },
  {
   "cell_type": "code",
   "execution_count": null,
   "metadata": {},
   "outputs": [
    {
     "data": {
      "text/plain": [
       "array([-2.92, -2.78, -2.26, ..., -0.94, -0.97, -0.92])"
      ]
     },
     "execution_count": null,
     "metadata": {},
     "output_type": "execute_result"
    }
   ],
   "source": [
    "wm1m.u.to_numpy()"
   ]
  },
  {
   "cell_type": "code",
   "execution_count": null,
   "metadata": {},
   "outputs": [
    {
     "data": {
      "text/plain": [
       "1200"
      ]
     },
     "execution_count": null,
     "metadata": {},
     "output_type": "execute_result"
    }
   ],
   "source": [
    "len(wm1raw)"
   ]
  },
  {
   "cell_type": "code",
   "execution_count": null,
   "metadata": {},
   "outputs": [
    {
     "data": {
      "text/plain": [
       "0       265.000000\n",
       "1       267.695551\n",
       "2       253.151734\n",
       "3       251.204747\n",
       "4       249.872205\n",
       "           ...    \n",
       "1195    277.578935\n",
       "1196    283.434949\n",
       "1197    296.827447\n",
       "1198    290.683647\n",
       "1199    272.341226\n",
       "Length: 1200, dtype: float64"
      ]
     },
     "execution_count": null,
     "metadata": {},
     "output_type": "execute_result"
    }
   ],
   "source": [
    "mod( get_wind_dir(wm1m.u, wm1m.v) + 310)"
   ]
  },
  {
   "cell_type": "code",
   "execution_count": null,
   "metadata": {},
   "outputs": [
    {
     "data": {
      "text/plain": [
       "u    False\n",
       "v    False\n",
       "dtype: bool"
      ]
     },
     "execution_count": null,
     "metadata": {},
     "output_type": "execute_result"
    }
   ],
   "source": [
    "wm1m.isnull().any()"
   ]
  },
  {
   "cell_type": "code",
   "execution_count": null,
   "metadata": {},
   "outputs": [
    {
     "data": {
      "text/plain": [
       "0       265.000000\n",
       "1       267.695551\n",
       "2       253.151734\n",
       "3       251.204747\n",
       "4       249.872205\n",
       "           ...    \n",
       "1195    277.578935\n",
       "1196    283.434949\n",
       "1197    296.827447\n",
       "1198    290.683647\n",
       "1199    272.341226\n",
       "Length: 1200, dtype: float64"
      ]
     },
     "execution_count": null,
     "metadata": {},
     "output_type": "execute_result"
    }
   ],
   "source": [
    "mod( get_wind_dir(wm1raw.u, wm1raw.v) + 310)"
   ]
  },
  {
   "cell_type": "code",
   "execution_count": null,
   "metadata": {},
   "outputs": [],
   "source": [
    "filt = filter_by_wind_dir_single(mod( get_wind_dir(wm1m.u, wm1m.v) + 310), 230, 30) "
   ]
  },
  {
   "cell_type": "code",
   "execution_count": null,
   "metadata": {},
   "outputs": [],
   "source": [
    "wm1m[~filt] = -9999"
   ]
  },
  {
   "cell_type": "code",
   "execution_count": null,
   "metadata": {},
   "outputs": [
    {
     "data": {
      "text/plain": [
       "True"
      ]
     },
     "execution_count": null,
     "metadata": {},
     "output_type": "execute_result"
    }
   ],
   "source": [
    "np.allclose(wm1ep, wm1m)"
   ]
  },
  {
   "cell_type": "code",
   "execution_count": null,
   "metadata": {},
   "outputs": [
    {
     "data": {
      "text/html": [
       "<div>\n",
       "<style scoped>\n",
       "    .dataframe tbody tr th:only-of-type {\n",
       "        vertical-align: middle;\n",
       "    }\n",
       "\n",
       "    .dataframe tbody tr th {\n",
       "        vertical-align: top;\n",
       "    }\n",
       "\n",
       "    .dataframe thead th {\n",
       "        text-align: right;\n",
       "    }\n",
       "</style>\n",
       "<table border=\"1\" class=\"dataframe\">\n",
       "  <thead>\n",
       "    <tr style=\"text-align: right;\">\n",
       "      <th></th>\n",
       "      <th>u</th>\n",
       "      <th>v</th>\n",
       "    </tr>\n",
       "  </thead>\n",
       "  <tbody>\n",
       "    <tr>\n",
       "      <th>0</th>\n",
       "      <td>NaN</td>\n",
       "      <td>NaN</td>\n",
       "    </tr>\n",
       "    <tr>\n",
       "      <th>1</th>\n",
       "      <td>NaN</td>\n",
       "      <td>NaN</td>\n",
       "    </tr>\n",
       "    <tr>\n",
       "      <th>2</th>\n",
       "      <td>-2.26</td>\n",
       "      <td>-3.46</td>\n",
       "    </tr>\n",
       "    <tr>\n",
       "      <th>3</th>\n",
       "      <td>-1.69</td>\n",
       "      <td>-2.79</td>\n",
       "    </tr>\n",
       "    <tr>\n",
       "      <th>4</th>\n",
       "      <td>-1.39</td>\n",
       "      <td>-2.42</td>\n",
       "    </tr>\n",
       "    <tr>\n",
       "      <th>...</th>\n",
       "      <td>...</td>\n",
       "      <td>...</td>\n",
       "    </tr>\n",
       "    <tr>\n",
       "      <th>1195</th>\n",
       "      <td>NaN</td>\n",
       "      <td>NaN</td>\n",
       "    </tr>\n",
       "    <tr>\n",
       "      <th>1196</th>\n",
       "      <td>NaN</td>\n",
       "      <td>NaN</td>\n",
       "    </tr>\n",
       "    <tr>\n",
       "      <th>1197</th>\n",
       "      <td>NaN</td>\n",
       "      <td>NaN</td>\n",
       "    </tr>\n",
       "    <tr>\n",
       "      <th>1198</th>\n",
       "      <td>NaN</td>\n",
       "      <td>NaN</td>\n",
       "    </tr>\n",
       "    <tr>\n",
       "      <th>1199</th>\n",
       "      <td>NaN</td>\n",
       "      <td>NaN</td>\n",
       "    </tr>\n",
       "  </tbody>\n",
       "</table>\n",
       "<p>1200 rows × 2 columns</p>\n",
       "</div>"
      ],
      "text/plain": [
       "         u     v\n",
       "0      NaN   NaN\n",
       "1      NaN   NaN\n",
       "2    -2.26 -3.46\n",
       "3    -1.69 -2.79\n",
       "4    -1.39 -2.42\n",
       "...    ...   ...\n",
       "1195   NaN   NaN\n",
       "1196   NaN   NaN\n",
       "1197   NaN   NaN\n",
       "1198   NaN   NaN\n",
       "1199   NaN   NaN\n",
       "\n",
       "[1200 rows x 2 columns]"
      ]
     },
     "execution_count": null,
     "metadata": {},
     "output_type": "execute_result"
    }
   ],
   "source": [
    "wm1m"
   ]
  },
  {
   "cell_type": "code",
   "execution_count": null,
   "metadata": {},
   "outputs": [],
   "source": []
  },
  {
   "cell_type": "code",
   "execution_count": null,
   "metadata": {},
   "outputs": [],
   "source": []
  }
 ],
 "metadata": {
  "kernelspec": {
   "display_name": "Python [conda env:root] *",
   "language": "python",
   "name": "conda-root-py"
  }
 },
 "nbformat": 4,
 "nbformat_minor": 4
}
