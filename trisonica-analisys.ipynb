{
 "cells": [
  {
   "cell_type": "code",
   "execution_count": 6,
   "metadata": {
    "pycharm": {
     "is_executing": false
    }
   },
   "outputs": [
    {
     "name": "stdout",
     "text": [
      "The autoreload extension is already loaded. To reload it, use:\n",
      "  %reload_ext autoreload\n"
     ],
     "output_type": "stream"
    }
   ],
   "source": [
    "%load_ext autoreload\n",
    "%autoreload 2\n",
    "%matplotlib notebook"
   ]
  },
  {
   "cell_type": "code",
   "execution_count": 7,
   "metadata": {
    "pycharm": {
     "is_executing": false
    }
   },
   "outputs": [],
   "source": [
    "from wind_tools import *\n",
    "import pandas as pd\n",
    "import numpy as np\n",
    "from pathlib import Path\n",
    "import seaborn as sns\n",
    "# sns.set()\n",
    "import matplotlib.pyplot as plt\n",
    "import plotly.express as px"
   ]
  },
  {
   "cell_type": "code",
   "execution_count": 8,
   "metadata": {
    "collapsed": false,
    "jupyter": {
     "outputs_hidden": false
    },
    "pycharm": {
     "name": "#%% define constants\n",
     "is_executing": false
    }
   },
   "outputs": [],
   "source": [
    "proc_dir = Path(\"/run/media/simone/Simone DATI/TRISONICA_DATA/Processed/\")\n",
    "trs1_path = proc_dir / \"TRS1_ago_sept\" / \"eddypro_TRS_1_full_output_2019-12-20T103011_exp.csv\"\n",
    "trs2_uncor_path = proc_dir /\"TRS2_uncor\" / \"eddypro_TRS_2_uncor_full_output_2019-12-21T140050_exp.csv\"\n",
    "wm1_path = proc_dir / \"WM1_ago_sept\" / \"eddypro_WM1_full_output_2019-12-20T105458_exp.csv\"\n",
    "wm2_path = proc_dir / \"WM1_ago_sept\" / \"eddypro_WM2_full_output_2019-12-20T124352_exp.csv\"\n",
    "cache_dir = Path(\"./processed_data\")\n",
    "start_date = '2018-08-10' \n",
    "end_date = '2018-08-13' # after 14 problems with TRS2 data"
   ]
  },
  {
   "cell_type": "code",
   "execution_count": 9,
   "metadata": {
    "pycharm": {
     "is_executing": false
    }
   },
   "outputs": [],
   "source": [
    "# %% load and filter datasets\n",
    "wm1, wm2, trs1, trs2 = map(lambda p: load_ep(p).loc[start_date:end_date].loc[:,wind_cols].rename(columns=wind_comp_rename),\n",
    "                            [wm1_path, wm2_path, trs1_path, trs2_uncor_path])"
   ]
  },
  {
   "cell_type": "code",
   "execution_count": 10,
   "metadata": {
    "pycharm": {
     "is_executing": false
    }
   },
   "outputs": [
    {
     "data": {
      "text/plain": "                            u         v         w  wind_speed   wind_dir\ndate_time                                                               \n2018-08-10 00:00:00  0.193723  0.279797 -0.040250    0.342688   70.18500\n2018-08-10 00:05:00 -0.090905 -0.006743 -0.011260    0.091848  324.05700\n2018-08-10 00:10:00  0.137993  0.236240  0.002430    0.273601   63.15740\n2018-08-10 00:15:00  0.428760  0.341897 -0.038427    0.549732   88.82570\n2018-08-10 00:20:00 -0.070555  0.197060 -0.000057    0.209310    7.57064\n...                       ...       ...       ...         ...        ...\n2018-08-13 23:35:00  0.247590  0.311400 -0.007867    0.397910   68.55510\n2018-08-13 23:40:00  0.400170  0.392130 -0.017203    0.560534   87.19810\n2018-08-13 23:45:00 -0.165030 -0.273583 -0.040067    0.322006  256.32400\n2018-08-13 23:50:00 -0.150113 -0.318968 -0.147400    0.382102  247.45000\n2018-08-13 23:55:00  0.371158  0.263893 -0.061217    0.459506   94.28310\n\n[1152 rows x 5 columns]",
      "text/html": "<div>\n<style scoped>\n    .dataframe tbody tr th:only-of-type {\n        vertical-align: middle;\n    }\n\n    .dataframe tbody tr th {\n        vertical-align: top;\n    }\n\n    .dataframe thead th {\n        text-align: right;\n    }\n</style>\n<table border=\"1\" class=\"dataframe\">\n  <thead>\n    <tr style=\"text-align: right;\">\n      <th></th>\n      <th>u</th>\n      <th>v</th>\n      <th>w</th>\n      <th>wind_speed</th>\n      <th>wind_dir</th>\n    </tr>\n    <tr>\n      <th>date_time</th>\n      <th></th>\n      <th></th>\n      <th></th>\n      <th></th>\n      <th></th>\n    </tr>\n  </thead>\n  <tbody>\n    <tr>\n      <th>2018-08-10 00:00:00</th>\n      <td>0.193723</td>\n      <td>0.279797</td>\n      <td>-0.040250</td>\n      <td>0.342688</td>\n      <td>70.18500</td>\n    </tr>\n    <tr>\n      <th>2018-08-10 00:05:00</th>\n      <td>-0.090905</td>\n      <td>-0.006743</td>\n      <td>-0.011260</td>\n      <td>0.091848</td>\n      <td>324.05700</td>\n    </tr>\n    <tr>\n      <th>2018-08-10 00:10:00</th>\n      <td>0.137993</td>\n      <td>0.236240</td>\n      <td>0.002430</td>\n      <td>0.273601</td>\n      <td>63.15740</td>\n    </tr>\n    <tr>\n      <th>2018-08-10 00:15:00</th>\n      <td>0.428760</td>\n      <td>0.341897</td>\n      <td>-0.038427</td>\n      <td>0.549732</td>\n      <td>88.82570</td>\n    </tr>\n    <tr>\n      <th>2018-08-10 00:20:00</th>\n      <td>-0.070555</td>\n      <td>0.197060</td>\n      <td>-0.000057</td>\n      <td>0.209310</td>\n      <td>7.57064</td>\n    </tr>\n    <tr>\n      <th>...</th>\n      <td>...</td>\n      <td>...</td>\n      <td>...</td>\n      <td>...</td>\n      <td>...</td>\n    </tr>\n    <tr>\n      <th>2018-08-13 23:35:00</th>\n      <td>0.247590</td>\n      <td>0.311400</td>\n      <td>-0.007867</td>\n      <td>0.397910</td>\n      <td>68.55510</td>\n    </tr>\n    <tr>\n      <th>2018-08-13 23:40:00</th>\n      <td>0.400170</td>\n      <td>0.392130</td>\n      <td>-0.017203</td>\n      <td>0.560534</td>\n      <td>87.19810</td>\n    </tr>\n    <tr>\n      <th>2018-08-13 23:45:00</th>\n      <td>-0.165030</td>\n      <td>-0.273583</td>\n      <td>-0.040067</td>\n      <td>0.322006</td>\n      <td>256.32400</td>\n    </tr>\n    <tr>\n      <th>2018-08-13 23:50:00</th>\n      <td>-0.150113</td>\n      <td>-0.318968</td>\n      <td>-0.147400</td>\n      <td>0.382102</td>\n      <td>247.45000</td>\n    </tr>\n    <tr>\n      <th>2018-08-13 23:55:00</th>\n      <td>0.371158</td>\n      <td>0.263893</td>\n      <td>-0.061217</td>\n      <td>0.459506</td>\n      <td>94.28310</td>\n    </tr>\n  </tbody>\n</table>\n<p>1152 rows × 5 columns</p>\n</div>"
     },
     "metadata": {},
     "output_type": "execute_result",
     "execution_count": 10
    }
   ],
   "source": [
    "wm1"
   ]
  },
  {
   "cell_type": "code",
   "execution_count": 11,
   "metadata": {
    "pycharm": {
     "is_executing": false
    }
   },
   "outputs": [
    {
     "name": "stderr",
     "text": [
      "/home/simone/.local/lib/python3.7/site-packages/ipykernel_launcher.py:3: UserWarning:\n",
      "\n",
      "Pandas doesn't allow columns to be created via a new attribute name - see https://pandas.pydata.org/pandas-docs/stable/indexing.html#attribute-access\n",
      "\n",
      "/home/simone/.local/lib/python3.7/site-packages/ipykernel_launcher.py:4: UserWarning:\n",
      "\n",
      "Pandas doesn't allow columns to be created via a new attribute name - see https://pandas.pydata.org/pandas-docs/stable/indexing.html#attribute-access\n",
      "\n",
      "/home/simone/.local/lib/python3.7/site-packages/ipykernel_launcher.py:5: UserWarning:\n",
      "\n",
      "Pandas doesn't allow columns to be created via a new attribute name - see https://pandas.pydata.org/pandas-docs/stable/indexing.html#attribute-access\n",
      "\n",
      "/home/simone/.local/lib/python3.7/site-packages/ipykernel_launcher.py:6: UserWarning:\n",
      "\n",
      "Pandas doesn't allow columns to be created via a new attribute name - see https://pandas.pydata.org/pandas-docs/stable/indexing.html#attribute-access\n",
      "\n"
     ],
     "output_type": "stream"
    }
   ],
   "source": [
    "# %% hack: add plot metadata \n",
    "trs2.plot_info = {'label': 'TRS2 cor', 'color': \"royalblue\"}\n",
    "wm1.plot_info = {'label': 'WM1', 'color': 'lightgreen'}\n",
    "wm2.plot_info = {'label': 'WM2', 'color': 'darkgreen'}\n",
    "trs1.plot_info = {'label': 'TRS1', 'color': 'orange'}\n",
    "# trs2['v'] = -trs2.v\n",
    "# invert u for TRS1: TODO fix it before EP processing\n",
    "trs1.u = -trs1.u\n",
    "# ??\n",
    "trs2.v = -trs2.v\n"
   ]
  },
  {
   "cell_type": "code",
   "execution_count": 5,
   "metadata": {
    "pycharm": {
     "is_executing": false
    }
   },
   "outputs": [
    {
     "traceback": [
      "\u001b[0;31m---------------------------------------------------------------------------\u001b[0m",
      "\u001b[0;31mNameError\u001b[0m                                 Traceback (most recent call last)",
      "\u001b[0;32m<ipython-input-5-0e171dc4a456>\u001b[0m in \u001b[0;36m<module>\u001b[0;34m\u001b[0m\n\u001b[1;32m      2\u001b[0m \u001b[0;31m# ------------------------plots section----------------------\u001b[0m\u001b[0;34m\u001b[0m\u001b[0;34m\u001b[0m\u001b[0;34m\u001b[0m\u001b[0m\n\u001b[1;32m      3\u001b[0m \u001b[0;31m# %%\u001b[0m\u001b[0;34m\u001b[0m\u001b[0;34m\u001b[0m\u001b[0;34m\u001b[0m\u001b[0m\n\u001b[0;32m----> 4\u001b[0;31m \u001b[0mdf1\u001b[0m \u001b[0;34m=\u001b[0m \u001b[0mwm1\u001b[0m\u001b[0;34m-\u001b[0m\u001b[0mtrs1\u001b[0m\u001b[0;34m\u001b[0m\u001b[0;34m\u001b[0m\u001b[0m\n\u001b[0m\u001b[1;32m      5\u001b[0m \u001b[0mprint\u001b[0m\u001b[0;34m(\u001b[0m\u001b[0mnp\u001b[0m\u001b[0;34m.\u001b[0m\u001b[0mmean\u001b[0m\u001b[0;34m(\u001b[0m\u001b[0mdf1\u001b[0m\u001b[0;34m[\u001b[0m\u001b[0mdf1\u001b[0m \u001b[0;34m>\u001b[0m \u001b[0;36m0\u001b[0m\u001b[0;34m]\u001b[0m\u001b[0;34m)\u001b[0m\u001b[0;34m)\u001b[0m\u001b[0;34m\u001b[0m\u001b[0;34m\u001b[0m\u001b[0m\n\u001b[1;32m      6\u001b[0m \u001b[0mprint\u001b[0m\u001b[0;34m(\u001b[0m\u001b[0mnp\u001b[0m\u001b[0;34m.\u001b[0m\u001b[0mmean\u001b[0m\u001b[0;34m(\u001b[0m\u001b[0mdf1\u001b[0m\u001b[0;34m[\u001b[0m\u001b[0mdf1\u001b[0m \u001b[0;34m<\u001b[0m \u001b[0;36m0\u001b[0m\u001b[0;34m]\u001b[0m\u001b[0;34m)\u001b[0m\u001b[0;34m)\u001b[0m\u001b[0;34m\u001b[0m\u001b[0;34m\u001b[0m\u001b[0m\n",
      "\u001b[0;31mNameError\u001b[0m: name 'wm1' is not defined"
     ],
     "ename": "NameError",
     "evalue": "name 'wm1' is not defined",
     "output_type": "error"
    }
   ],
   "source": [
    "# ------------------------plots section----------------------\n",
    "# %%\n",
    "df1 = wm1-trs1\n",
    "\n",
    "print(np.mean(df1[df1 > 0]))\n",
    "print(np.mean(df1[df1 < 0]))\n",
    "plot_dist_comp(df1, ['u', 'v', 'w'])\n",
    "plot_dist_comp(df1, ['wind_speed'])"
   ]
  },
  {
   "cell_type": "code",
   "execution_count": null,
   "metadata": {},
   "outputs": [],
   "source": [
    "# %%\n",
    "plot_components([wm1, wm2, trs1, trs2], ['u', 'v', 'w','wind_speed'])\n",
    "plot_components([wm1, trs1], ['wind_speed', 'v'], vertical=False)\n",
    "plot_components([wm1, trs1], ['v'])\n",
    "plot_components([wm1, trs1], ['u'])\n",
    "plot_components([wm1, trs1], ['w'])\n",
    "plot_components([wm1, trs1], ['wind_speed'])\n",
    "plot_components([wm1, trs1], ['v'], style='+')\n"
   ]
  },
  {
   "cell_type": "code",
   "execution_count": null,
   "metadata": {},
   "outputs": [],
   "source": [
    "# %%\n",
    "# taking 30° range both north and south, wm1fa -> wm1 filtered angles\n",
    "filt_angles = filter_by_wind_dir(wm1, 15)\n",
    "wm1fa = wm1.loc[filt_angles]\n",
    "trs2fa = trs2.loc[filt_angles]\n",
    "trs2fa.plot_info = {'label': 'TRS2 uncor', 'color': \"royalblue\"}\n",
    "wm1fa.plot_info = {'label': 'WM1', 'color': 'lightgreen'}\n",
    "# %%\n",
    "def fix_axes_trs2(df):\n",
    "    \"\"\"applies axes remap and rotations for a vertically mounted TRS, see notes.MD\"\"\"\n",
    "    df = df.copy()\n",
    "    df = rotate_u_v(df, angle=-np.pi/4)\n",
    "    df.u, df.v, df.w = -df.u, -df.w, df.v\n",
    "    return df\n"
   ]
  },
  {
   "cell_type": "code",
   "execution_count": null,
   "metadata": {},
   "outputs": [],
   "source": [
    "# %%\n",
    "trs2r = trs2fa.pipe(fix_axes_trs2)\n",
    "trs2r.plot_info = {'label': 'TRS2 cor', 'color': \"royalblue\"}\n",
    "wm1 = wm1.pipe(add_angle_attack)\n",
    "# %%\n",
    "plot_components([wm1], ['angle_attack'])\n",
    "plot_components([wm1fa, trs2r], ['u','v', 'w'], style='*-')"
   ]
  },
  {
   "cell_type": "code",
   "execution_count": 2,
   "metadata": {
    "collapsed": true,
    "jupyter": {
     "outputs_hidden": true
    },
    "pycharm": {
     "is_executing": false,
     "name": "#%%\n"
    }
   },
   "outputs": [
    {
     "name": "stdout",
     "output_type": "stream",
     "text": [
      "data_preprocessing.py  notes.MD         \u001b[0m\u001b[01;34m__pycache__\u001b[0m/              wind_tools.py\n",
      "\u001b[01;34mEddyPro\u001b[0m/               \u001b[01;34mplots\u001b[0m/           \u001b[01;34mtest_data\u001b[0m/\n",
      "import_data.py         \u001b[01;34mprocessed_data\u001b[0m/  trisonica-analisys.ipynb\n"
     ]
    }
   ],
   "source": [
    "plot_components([wm1fa, trs2fa,], ['wind_speed', ], style=\":o\")\n",
    "plot_components([wm1fa, trs2fa], ['w'], style=\":o\")\n",
    "plot_components([wm1fa, trs2fa], ['wind_dir'], style='*')\n",
    "# %% reference plot for TRS2 with fixed angles\n",
    "fig1fa, ax1fa = plt.subplots(1,1)\n",
    "wm1.wind_speed.plot(ax=ax1fa, **wm1.plot_info, style=\"+--\")\n",
    "\n",
    "# scaled_dir = wm1fa.wind_dir / 180\n",
    "wm1fa.wind_speed.plot(ax=ax1fa, legend=\"Wind direction between 30° north or south\", color=\"darkgreen\", marker=\"o\", linestyle=\"\")\n",
    "trs2fa.wind_speed.plot(ax=ax1fa, legend=\"Wind direction between 30° north or south\", color=\"blue\", marker=\"o\", linestyle=\"\")\n",
    "trs2.wind_speed.plot(ax=ax1fa, **trs2.plot_info)\n",
    "ax1fa.legend()\n",
    "# %%\n",
    "fig2fa, ax2fa = plt.subplots(1,1)\n",
    "ax2fa.scatter(wm1fa.wind_speed, trs2fa.wind_speed)\n",
    "\n",
    "# %%\n",
    "fig = px.line(y=wm1.wind_speed, x=wm1.index)\n",
    "fig.show()\n",
    "# %%\n",
    "nan_filter = ~(wm1.wind_speed.isna() | wm2.wind_speed.isna() | trs1.wind_speed.isna())\n",
    "wm1 = wm1[nan_filter]\n",
    "wm2 = wm2[nan_filter]\n",
    "trs1 = trs1[nan_filter]\n",
    "# %%\n",
    "# plt.plot(trs2.wind_speed, label=\"TRS 2\")\n",
    "plt.plot(wm1.wind_speed, label=\"WM 1\", color=\"lightgreen\")\n",
    "plt.plot(wm2.wind_speed, label=\"WM 2\", color=\"darkgreen\")\n",
    "\n",
    "plt.plot(trs1.wind_speed, label=\"TRS 1\", color=\"orangered\")\n",
    "# plt.bar(wm1.index, wm1.wind_speed - trs1.wind_speed)\n",
    "plt.legend()\n",
    "plt.tight_layout()\n",
    "# %%\n",
    "\n",
    "sns.distplot(wm1.wind_speed, color=\"lightgreen\", label=\"WM 1\")\n",
    "sns.distplot(trs1.wind_speed, color=\"orangered\", label=\"TRS 1\")\n",
    "plt.legend()\n",
    "# %%\n",
    "# plt.plot(trs1.u_rot, label=\"U trs1\")\n",
    "# plt.plot(trs2.u_rot, label=\"U trs2\")\n",
    "#\n",
    "# plt.plot(trs1.v_rot, label=\"V trs1\")\n",
    "# plt.plot(trs2.v_rot, label=\"V trs2\")\n",
    "#\n",
    "# plt.plot(trs1.w_rot, label=\"W trs1\")\n",
    "# plt.plot(trs2.w_rot, label=\"W trs2\")\n",
    "#\n",
    "# plt.legend()\n",
    "\n",
    "# %% windrose test\n",
    "\n",
    "from windrose import WindroseAxes\n",
    "import matplotlib.cm as cm\n",
    "import numpy as np\n",
    "ax1,ax2, ax3 = [ WindroseAxes.from_ax() for i  in range(3)]\n",
    "\n",
    "ax1.bar(trs1.wind_dir, trs1.wind_speed, normed=True, opening=0.6, bins=8, label=\"Trisonica\")\n",
    "ax2.bar(wm1.wind_dir, wm1.wind_speed, normed=True, bins=8,label=\"Wind Master 1\", opening=0.6)\n",
    "ax3.bar(wm1.wind_dir, wm1.wind_speed, normed=True, bins=8,label=\"Wind Master 1\", opening=0.6)\n",
    "ax1.legend()\n",
    "ax2.legend()\n",
    "ax3.legend()\n",
    "# # %% plotly express\n",
    "# import plotly.express as px\n",
    "#\n",
    "# fig = px.bar_polar(trs1, r=\"wind_speed\", theta=\"wind_dir\")\n",
    "# fig.show()\n",
    "#\n",
    "# # %% check vertical speed\n",
    "# def add_dir_vert(df):\n",
    "#     tot_hor = np.sqrt(df.u**2+df.v**2)\n",
    "#     df['wind_dir_vert'] = np.arctan(df.w/tot_hor) * 180 / np.pi\n",
    "#     return df\n",
    "# def add_wind_u_w(df):\n",
    "#     df['wind_speed_u_w'] = np.sqrt(df.u**2+df.w**2)\n",
    "#\n",
    "# add_dir_vert(wm1)\n",
    "# wm1dv, trs1vd = [df.pipe(add_wind_u_w) for df in [wm1, trs1]]\n",
    "#\n",
    "# # wm1wv =\n",
    "# # %%\n",
    "# dfp = pd.DataFrame({\"wm1_ws\": wm1.wind_speed, \"wm1_wd\": wm1.wind_dir,\n",
    "#                     \"trs1_ws\": trs1.wind_speed, \"trs1_wd\": trs1.wind_dir})\n",
    "\n",
    "\n",
    "\n"
   ]
  }
 ],
 "metadata": {
  "kernelspec": {
   "display_name": "Python [conda env:trisonica-anemometer-comparison] *",
   "language": "python",
   "name": "conda-env-trisonica-anemometer-comparison-py"
  },
  "language_info": {
   "codemirror_mode": {
    "name": "ipython",
    "version": 3
   },
   "file_extension": ".py",
   "mimetype": "text/x-python",
   "name": "python",
   "nbconvert_exporter": "python",
   "pygments_lexer": "ipython3",
   "version": "3.7.5"
  },
  "pycharm": {
   "stem_cell": {
    "cell_type": "raw",
    "source": [],
    "metadata": {
     "collapsed": false
    }
   }
  }
 },
 "nbformat": 4,
 "nbformat_minor": 4
}