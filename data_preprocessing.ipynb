{
 "cells": [
  {
   "cell_type": "markdown",
   "metadata": {},
   "source": [
    "This notebook preprocessed raw trisonica data to adjust the reference system to the EP one "
   ]
  },
  {
   "cell_type": "code",
   "execution_count": null,
   "metadata": {},
   "outputs": [],
   "source": [
    "from pathlib import Path\n",
    "import numpy as np\n",
    "from multiprocessing import Pool\n",
    "import logging as log\n",
    "from functools import partial\n",
    "from wind_tools import rotate_ang\n",
    "log.basicConfig(level=log.INFO)\n",
    "# name_re = r\"*_TRS_M00506_com3.raw\"\n",
    "in_dir = Path(\"2020_data/data_20200724_final_field_install/raw\")\n",
    "out_dir = Path(\"2020_data/data_20200724_final_field_install/preprocessed\")\n",
    "u, v, w = 0, 1, 2 #defing costants for accessing data"
   ]
  },
  {
   "cell_type": "markdown",
   "metadata": {},
   "source": [
    "Utility function to rotate wind compoments, naive and slow approach but it works"
   ]
  },
  {
   "cell_type": "markdown",
   "metadata": {},
   "source": [
    "In TRS deafult referecne system, the u xis is inverted compared to the EP one, fix this"
   ]
  },
  {
   "cell_type": "code",
   "execution_count": null,
   "metadata": {},
   "outputs": [],
   "source": [
    "def process_m506(data):\n",
    "    # fix TRS1 u ax by inverting it, due to different coordinate system between trisonica and EP\n",
    "    data[:, u] = -1 * data[:, u]\n",
    "    return data"
   ]
  },
  {
   "cell_type": "markdown",
   "metadata": {},
   "source": [
    "M507 is mounted horizontally so there the need of a series of transformation to convert from the tilted and rotated m507 reference system to the standard EP one\n",
    "\n",
    "Here you can find the analisys made to understand the steps needed [tinkercad model](https://www.tinkercad.com/things/cZxrXNQUGYp-exquisite-blad/edit)\n",
    "![screen](m506_axis_rotation_sketch.png)\n",
    "\n",
    "Steps required:\n",
    "1. invert u axis\n",
    "2. rotate the u by -45° on the anemometer horizontal plane (must be -45 because rotation func uses math angle notation)\n",
    "3. remap axis   \n",
    "    u = u  \n",
    "    v = w   \n",
    "    w = -v   \n",
    "4. (optional) rotate taking into account the horizontal north offset (EP reference)"
   ]
  },
  {
   "cell_type": "code",
   "execution_count": null,
   "metadata": {},
   "outputs": [],
   "source": [
    "def process_m507(data):\n",
    "    # 1\n",
    "    data[:, u] = -1 * data[:, u]\n",
    "    # 2\n",
    "    data[:, [u, v]] = rotate_ang(data[:, [u,v]], -45)\n",
    "    # 3\n",
    "    data[:, v] = data[:, w]\n",
    "    data[:, w] = -1 * data[:, v]\n",
    "    \n",
    "    return data"
   ]
  },
  {
   "cell_type": "markdown",
   "metadata": {},
   "source": [
    "trying to invert the v for m506 to then have the direction working"
   ]
  },
  {
   "cell_type": "code",
   "execution_count": null,
   "metadata": {},
   "outputs": [],
   "source": [
    "def process_trs1_inv_v(data):\n",
    "    data = process_m506(data)\n",
    "    data[:, v] = -1 * data[:, v]\n",
    "    return data"
   ]
  },
  {
   "cell_type": "markdown",
   "metadata": {},
   "source": [
    "settings for each anemometer, the processor take in input an array where columns are u,v,w,t and returns a transformed array"
   ]
  },
  {
   "cell_type": "code",
   "execution_count": null,
   "metadata": {},
   "outputs": [],
   "source": [
    "settings = {\n",
    "    'm506': {\n",
    "        'usecols': (10, 12, 14, 16),\n",
    "        'name_re': r\"*_TRS_M00506_com3.raw\",\n",
    "        'processor': process_m506\n",
    "        },\n",
    "    'm507': {\n",
    "        'usecols': (10, 12, 14, 16),\n",
    "        'name_re': r\"*_TRS_M00507_com2.raw\",\n",
    "        'processor': process_m507  \n",
    "    },\n",
    "    'm506_v_inv': {\n",
    "        'usecols': (10, 12, 14, 16),\n",
    "        'name_re': r\"*_TRS_M00506_com3.raw\",\n",
    "        'processor': process_trs1_inv_v,\n",
    "        'name_suffix': '_inv_v'\n",
    "    }\n",
    "}\n",
    "\n",
    "\n",
    "# wm = {'usecols': ()}"
   ]
  },
  {
   "cell_type": "code",
   "execution_count": null,
   "metadata": {},
   "outputs": [],
   "source": [
    "def extract(usecols, processor, f, name_suffix=\"\"):\n",
    "    # log.info(f\"opening {f}\")\n",
    "    out_name = out_dir / f\"{f.name[:-4]}{name_suffix}.csv\"\n",
    "    if out_name.exists():\n",
    "        log.info(f\" exists, skipping {out_name}\")\n",
    "    else:\n",
    "        data = np.genfromtxt(f, usecols=usecols, invalid_raise=False)\n",
    "        data = processor(data)\n",
    "        np.savetxt(out_name, data, header=\"u,v,w,t\", delimiter=',', fmt='%2.2f')\n",
    "        log.info(f\"saved file {out_name}\")"
   ]
  },
  {
   "cell_type": "code",
   "execution_count": null,
   "metadata": {},
   "outputs": [],
   "source": [
    "def main():\n",
    "    print(\"starting processing\")\n",
    "    if not out_dir.is_dir(): out_dir.mkdir(parents=True, exist_ok=True)\n",
    "    with Pool() as p:\n",
    "        for setg in settings.values():\n",
    "            proc = partial(extract, setg[\"usecols\"], setg[\"processor\"], name_suffix=setg.get('name_suffix', \"\"))\n",
    "            p.map(proc, in_dir.glob(setg[\"name_re\"]))\n",
    "    # for f in in_dir.glob(name_re):\n",
    "    #     extract(f)"
   ]
  },
  {
   "cell_type": "code",
   "execution_count": null,
   "metadata": {},
   "outputs": [
    {
     "name": "stdout",
     "output_type": "stream",
     "text": [
      "starting processing\n"
     ]
    },
    {
     "name": "stderr",
     "output_type": "stream",
     "text": [
      "INFO:root:saved file 2020_data/data_20200724_final_field_install/preprocessed/20200725-1330_TRS_M00506_com3.csv\n",
      "INFO:root:saved file 2020_data/data_20200724_final_field_install/preprocessed/20200726-2000_TRS_M00506_com3.csv\n",
      "INFO:root:saved file 2020_data/data_20200724_final_field_install/preprocessed/20200726-1900_TRS_M00506_com3.csv\n",
      "INFO:root:saved file 2020_data/data_20200724_final_field_install/preprocessed/20200727-0300_TRS_M00506_com3.csv\n",
      "INFO:root:saved file 2020_data/data_20200724_final_field_install/preprocessed/20200724-2300_TRS_M00506_com3.csv\n",
      "INFO:root:saved file 2020_data/data_20200724_final_field_install/preprocessed/20200728-0900_TRS_M00506_com3.csv\n",
      "INFO:root:saved file 2020_data/data_20200724_final_field_install/preprocessed/20200724-2030_TRS_M00506_com3.csv\n",
      "INFO:root:saved file 2020_data/data_20200724_final_field_install/preprocessed/20200725-1630_TRS_M00506_com3.csv\n",
      "INFO:root:saved file 2020_data/data_20200724_final_field_install/preprocessed/20200728-0200_TRS_M00506_com3.csv\n",
      "INFO:root:saved file 2020_data/data_20200724_final_field_install/preprocessed/20200728-0630_TRS_M00506_com3.csv\n",
      "INFO:root:saved file 2020_data/data_20200724_final_field_install/preprocessed/20200727-0900_TRS_M00506_com3.csv\n",
      "INFO:root:saved file 2020_data/data_20200724_final_field_install/preprocessed/20200726-1300_TRS_M00506_com3.csv\n",
      "INFO:root:saved file 2020_data/data_20200724_final_field_install/preprocessed/20200725-1730_TRS_M00506_com3.csv\n",
      "INFO:root:saved file 2020_data/data_20200724_final_field_install/preprocessed/20200725-2030_TRS_M00506_com3.csv\n",
      "INFO:root:saved file 2020_data/data_20200724_final_field_install/preprocessed/20200724-1730_TRS_M00506_com3.csv\n",
      "INFO:root:saved file 2020_data/data_20200724_final_field_install/preprocessed/20200726-0400_TRS_M00506_com3.csv\n",
      "INFO:root:saved file 2020_data/data_20200724_final_field_install/preprocessed/20200725-1130_TRS_M00506_com3.csv\n",
      "INFO:root:saved file 2020_data/data_20200724_final_field_install/preprocessed/20200726-0500_TRS_M00506_com3.csv\n",
      "INFO:root:saved file 2020_data/data_20200724_final_field_install/preprocessed/20200726-0200_TRS_M00506_com3.csv\n",
      "INFO:root:saved file 2020_data/data_20200724_final_field_install/preprocessed/20200726-2030_TRS_M00506_com3.csv\n",
      "INFO:root:saved file 2020_data/data_20200724_final_field_install/preprocessed/20200727-1900_TRS_M00506_com3.csv\n",
      "INFO:root:saved file 2020_data/data_20200724_final_field_install/preprocessed/20200726-2300_TRS_M00506_com3.csv\n",
      "INFO:root:saved file 2020_data/data_20200724_final_field_install/preprocessed/20200728-0700_TRS_M00506_com3.csv\n",
      "INFO:root:saved file 2020_data/data_20200724_final_field_install/preprocessed/20200726-1730_TRS_M00506_com3.csv\n",
      "INFO:root:saved file 2020_data/data_20200724_final_field_install/preprocessed/20200724-1800_TRS_M00506_com3.csv\n",
      "INFO:root:saved file 2020_data/data_20200724_final_field_install/preprocessed/20200725-0430_TRS_M00506_com3.csv\n",
      "INFO:root:saved file 2020_data/data_20200724_final_field_install/preprocessed/20200724-2330_TRS_M00506_com3.csv\n",
      "INFO:root:saved file 2020_data/data_20200724_final_field_install/preprocessed/20200725-0630_TRS_M00506_com3.csv\n",
      "INFO:root:saved file 2020_data/data_20200724_final_field_install/preprocessed/20200727-2030_TRS_M00506_com3.csv\n",
      "INFO:root:saved file 2020_data/data_20200724_final_field_install/preprocessed/20200726-0800_TRS_M00506_com3.csv\n",
      "INFO:root:saved file 2020_data/data_20200724_final_field_install/preprocessed/20200726-1400_TRS_M00506_com3.csv\n",
      "INFO:root:saved file 2020_data/data_20200724_final_field_install/preprocessed/20200727-1330_TRS_M00506_com3.csv\n",
      "INFO:root:saved file 2020_data/data_20200724_final_field_install/preprocessed/20200725-2130_TRS_M00506_com3.csv\n",
      "INFO:root:saved file 2020_data/data_20200724_final_field_install/preprocessed/20200726-1600_TRS_M00506_com3.csv\n",
      "INFO:root:saved file 2020_data/data_20200724_final_field_install/preprocessed/20200728-0030_TRS_M00506_com3.csv\n",
      "INFO:root:saved file 2020_data/data_20200724_final_field_install/preprocessed/20200727-0000_TRS_M00506_com3.csv\n",
      "INFO:root:saved file 2020_data/data_20200724_final_field_install/preprocessed/20200727-1700_TRS_M00506_com3.csv\n",
      "INFO:root:saved file 2020_data/data_20200724_final_field_install/preprocessed/20200727-0830_TRS_M00506_com3.csv\n",
      "INFO:root:saved file 2020_data/data_20200724_final_field_install/preprocessed/20200727-1130_TRS_M00506_com3.csv\n",
      "INFO:root:saved file 2020_data/data_20200724_final_field_install/preprocessed/20200724-1500_TRS_M00506_com3.csv\n",
      "INFO:root:saved file 2020_data/data_20200724_final_field_install/preprocessed/20200725-1300_TRS_M00506_com3.csv\n",
      "INFO:root:saved file 2020_data/data_20200724_final_field_install/preprocessed/20200725-2000_TRS_M00506_com3.csv\n",
      "INFO:root:saved file 2020_data/data_20200724_final_field_install/preprocessed/20200728-0930_TRS_M00506_com3.csv\n",
      "INFO:root:saved file 2020_data/data_20200724_final_field_install/preprocessed/20200726-0830_TRS_M00506_com3.csv\n",
      "INFO:root:saved file 2020_data/data_20200724_final_field_install/preprocessed/20200725-1900_TRS_M00506_com3.csv\n",
      "INFO:root:saved file 2020_data/data_20200724_final_field_install/preprocessed/20200725-1930_TRS_M00506_com3.csv\n",
      "INFO:root:saved file 2020_data/data_20200724_final_field_install/preprocessed/20200728-0300_TRS_M00506_com3.csv\n",
      "INFO:root:saved file 2020_data/data_20200724_final_field_install/preprocessed/20200726-0300_TRS_M00506_com3.csv\n",
      "INFO:root:saved file 2020_data/data_20200724_final_field_install/preprocessed/20200725-0100_TRS_M00506_com3.csv\n",
      "INFO:root:saved file 2020_data/data_20200724_final_field_install/preprocessed/20200724-2230_TRS_M00506_com3.csv\n",
      "INFO:root:saved file 2020_data/data_20200724_final_field_install/preprocessed/20200728-1230_TRS_M00506_com3.csv\n",
      "INFO:root:saved file 2020_data/data_20200724_final_field_install/preprocessed/20200726-0130_TRS_M00506_com3.csv\n",
      "INFO:root:saved file 2020_data/data_20200724_final_field_install/preprocessed/20200726-2100_TRS_M00506_com3.csv\n",
      "INFO:root:saved file 2020_data/data_20200724_final_field_install/preprocessed/20200727-1030_TRS_M00506_com3.csv\n",
      "INFO:root:saved file 2020_data/data_20200724_final_field_install/preprocessed/20200725-0000_TRS_M00506_com3.csv\n",
      "INFO:root:saved file 2020_data/data_20200724_final_field_install/preprocessed/20200726-1830_TRS_M00506_com3.csv\n",
      "INFO:root:saved file 2020_data/data_20200724_final_field_install/preprocessed/20200728-1200_TRS_M00506_com3.csv\n",
      "INFO:root:saved file 2020_data/data_20200724_final_field_install/preprocessed/20200728-0230_TRS_M00506_com3.csv\n",
      "INFO:root:saved file 2020_data/data_20200724_final_field_install/preprocessed/20200725-1700_TRS_M00506_com3.csv\n",
      "INFO:root:saved file 2020_data/data_20200724_final_field_install/preprocessed/20200725-1100_TRS_M00506_com3.csv\n",
      "INFO:root:saved file 2020_data/data_20200724_final_field_install/preprocessed/20200726-2200_TRS_M00506_com3.csv\n",
      "INFO:root:saved file 2020_data/data_20200724_final_field_install/preprocessed/20200725-1530_TRS_M00506_com3.csv\n",
      "INFO:root:saved file 2020_data/data_20200724_final_field_install/preprocessed/20200728-0600_TRS_M00506_com3.csv\n",
      "INFO:root:saved file 2020_data/data_20200724_final_field_install/preprocessed/20200728-0000_TRS_M00506_com3.csv\n",
      "INFO:root:saved file 2020_data/data_20200724_final_field_install/preprocessed/20200726-0700_TRS_M00506_com3.csv\n",
      "INFO:root:saved file 2020_data/data_20200724_final_field_install/preprocessed/20200727-2000_TRS_M00506_com3.csv\n",
      "INFO:root:saved file 2020_data/data_20200724_final_field_install/preprocessed/20200725-0800_TRS_M00506_com3.csv\n",
      "INFO:root:saved file 2020_data/data_20200724_final_field_install/preprocessed/20200726-1530_TRS_M00506_com3.csv\n",
      "INFO:root:saved file 2020_data/data_20200724_final_field_install/preprocessed/20200728-1530_TRS_M00506_com3.csv\n",
      "INFO:root:saved file 2020_data/data_20200724_final_field_install/preprocessed/20200726-1130_TRS_M00506_com3.csv\n",
      "INFO:root:saved file 2020_data/data_20200724_final_field_install/preprocessed/20200727-1530_TRS_M00506_com3.csv\n",
      "INFO:root:saved file 2020_data/data_20200724_final_field_install/preprocessed/20200726-0430_TRS_M00506_com3.csv\n",
      "INFO:root:saved file 2020_data/data_20200724_final_field_install/preprocessed/20200727-1200_TRS_M00506_com3.csv\n",
      "INFO:root:saved file 2020_data/data_20200724_final_field_install/preprocessed/20200725-1000_TRS_M00506_com3.csv\n",
      "INFO:root:saved file 2020_data/data_20200724_final_field_install/preprocessed/20200727-0700_TRS_M00506_com3.csv\n",
      "INFO:root:saved file 2020_data/data_20200724_final_field_install/preprocessed/20200727-0030_TRS_M00506_com3.csv\n",
      "INFO:root:saved file 2020_data/data_20200724_final_field_install/preprocessed/20200725-1430_TRS_M00506_com3.csv\n",
      "INFO:root:saved file 2020_data/data_20200724_final_field_install/preprocessed/20200725-2200_TRS_M00506_com3.csv\n",
      "INFO:root:saved file 2020_data/data_20200724_final_field_install/preprocessed/20200725-2100_TRS_M00506_com3.csv\n",
      "INFO:root:saved file 2020_data/data_20200724_final_field_install/preprocessed/20200726-1700_TRS_M00506_com3.csv\n",
      "INFO:root:saved file 2020_data/data_20200724_final_field_install/preprocessed/20200725-1400_TRS_M00506_com3.csv\n",
      "INFO:root:saved file 2020_data/data_20200724_final_field_install/preprocessed/20200727-1430_TRS_M00506_com3.csv\n",
      "INFO:root:saved file 2020_data/data_20200724_final_field_install/preprocessed/20200726-1100_TRS_M00506_com3.csv\n",
      "INFO:root:saved file 2020_data/data_20200724_final_field_install/preprocessed/20200727-2300_TRS_M00506_com3.csv\n",
      "INFO:root:saved file 2020_data/data_20200724_final_field_install/preprocessed/20200725-0930_TRS_M00506_com3.csv\n",
      "INFO:root:saved file 2020_data/data_20200724_final_field_install/preprocessed/20200728-1130_TRS_M00506_com3.csv\n",
      "INFO:root:saved file 2020_data/data_20200724_final_field_install/preprocessed/20200725-2330_TRS_M00506_com3.csv\n",
      "INFO:root:saved file 2020_data/data_20200724_final_field_install/preprocessed/20200727-0600_TRS_M00506_com3.csv\n",
      "INFO:root:saved file 2020_data/data_20200724_final_field_install/preprocessed/20200727-0500_TRS_M00506_com3.csv\n",
      "INFO:root:saved file 2020_data/data_20200724_final_field_install/preprocessed/20200724-1630_TRS_M00506_com3.csv\n",
      "INFO:root:saved file 2020_data/data_20200724_final_field_install/preprocessed/20200724-1830_TRS_M00506_com3.csv\n",
      "INFO:root:saved file 2020_data/data_20200724_final_field_install/preprocessed/20200725-1600_TRS_M00506_com3.csv\n",
      "INFO:root:saved file 2020_data/data_20200724_final_field_install/preprocessed/20200727-0730_TRS_M00506_com3.csv\n",
      "INFO:root:saved file 2020_data/data_20200724_final_field_install/preprocessed/20200725-0330_TRS_M00506_com3.csv\n",
      "INFO:root:saved file 2020_data/data_20200724_final_field_install/preprocessed/20200726-0030_TRS_M00506_com3.csv\n",
      "INFO:root:saved file 2020_data/data_20200724_final_field_install/preprocessed/20200727-1630_TRS_M00506_com3.csv\n",
      "INFO:root:saved file 2020_data/data_20200724_final_field_install/preprocessed/20200726-1500_TRS_M00506_com3.csv\n",
      "INFO:root:saved file 2020_data/data_20200724_final_field_install/preprocessed/20200725-2230_TRS_M00506_com3.csv\n",
      "INFO:root:saved file 2020_data/data_20200724_final_field_install/preprocessed/20200725-0830_TRS_M00506_com3.csv\n",
      "INFO:root:saved file 2020_data/data_20200724_final_field_install/preprocessed/20200726-2130_TRS_M00506_com3.csv\n",
      "INFO:root:saved file 2020_data/data_20200724_final_field_install/preprocessed/20200728-1330_TRS_M00506_com3.csv\n",
      "INFO:root:saved file 2020_data/data_20200724_final_field_install/preprocessed/20200727-0930_TRS_M00506_com3.csv\n",
      "INFO:root:saved file 2020_data/data_20200724_final_field_install/preprocessed/20200726-1200_TRS_M00506_com3.csv\n",
      "INFO:root:saved file 2020_data/data_20200724_final_field_install/preprocessed/20200727-0200_TRS_M00506_com3.csv\n",
      "INFO:root:saved file 2020_data/data_20200724_final_field_install/preprocessed/20200725-0230_TRS_M00506_com3.csv\n",
      "INFO:root:saved file 2020_data/data_20200724_final_field_install/preprocessed/20200725-0700_TRS_M00506_com3.csv\n",
      "INFO:root:saved file 2020_data/data_20200724_final_field_install/preprocessed/20200725-0130_TRS_M00506_com3.csv\n",
      "INFO:root:saved file 2020_data/data_20200724_final_field_install/preprocessed/20200728-0730_TRS_M00506_com3.csv\n",
      "INFO:root:saved file 2020_data/data_20200724_final_field_install/preprocessed/20200728-1030_TRS_M00506_com3.csv\n",
      "INFO:root:saved file 2020_data/data_20200724_final_field_install/preprocessed/20200726-0530_TRS_M00506_com3.csv\n",
      "INFO:root:saved file 2020_data/data_20200724_final_field_install/preprocessed/20200728-1000_TRS_M00506_com3.csv\n",
      "INFO:root:saved file 2020_data/data_20200724_final_field_install/preprocessed/20200727-2200_TRS_M00506_com3.csv\n",
      "INFO:root:saved file 2020_data/data_20200724_final_field_install/preprocessed/20200725-0400_TRS_M00506_com3.csv\n",
      "INFO:root:saved file 2020_data/data_20200724_final_field_install/preprocessed/20200728-0330_TRS_M00506_com3.csv\n",
      "INFO:root:saved file 2020_data/data_20200724_final_field_install/preprocessed/20200724-1400_TRS_M00506_com3.csv\n",
      "INFO:root:saved file 2020_data/data_20200724_final_field_install/preprocessed/20200724-1700_TRS_M00506_com3.csv\n",
      "INFO:root:saved file 2020_data/data_20200724_final_field_install/preprocessed/20200727-0100_TRS_M00506_com3.csv\n",
      "INFO:root:saved file 2020_data/data_20200724_final_field_install/preprocessed/20200727-1730_TRS_M00506_com3.csv\n",
      "INFO:root:saved file 2020_data/data_20200724_final_field_install/preprocessed/20200727-1830_TRS_M00506_com3.csv\n",
      "INFO:root:saved file 2020_data/data_20200724_final_field_install/preprocessed/20200724-1430_TRS_M00506_com3.csv\n",
      "INFO:root:saved file 2020_data/data_20200724_final_field_install/preprocessed/20200724-2200_TRS_M00506_com3.csv\n",
      "INFO:root:saved file 2020_data/data_20200724_final_field_install/preprocessed/20200725-1800_TRS_M00506_com3.csv\n",
      "INFO:root:saved file 2020_data/data_20200724_final_field_install/preprocessed/20200727-2230_TRS_M00506_com3.csv\n",
      "INFO:root:saved file 2020_data/data_20200724_final_field_install/preprocessed/20200727-1800_TRS_M00506_com3.csv\n",
      "INFO:root:saved file 2020_data/data_20200724_final_field_install/preprocessed/20200726-0330_TRS_M00506_com3.csv\n",
      "INFO:root:saved file 2020_data/data_20200724_final_field_install/preprocessed/20200726-1000_TRS_M00506_com3.csv\n",
      "INFO:root:saved file 2020_data/data_20200724_final_field_install/preprocessed/20200728-1300_TRS_M00506_com3.csv\n",
      "INFO:root:saved file 2020_data/data_20200724_final_field_install/preprocessed/20200727-0400_TRS_M00506_com3.csv\n",
      "INFO:root:saved file 2020_data/data_20200724_final_field_install/preprocessed/20200726-2230_TRS_M00506_com3.csv\n",
      "INFO:root:saved file 2020_data/data_20200724_final_field_install/preprocessed/20200728-1430_TRS_M00506_com3.csv\n",
      "INFO:root:saved file 2020_data/data_20200724_final_field_install/preprocessed/20200728-0530_TRS_M00506_com3.csv\n",
      "INFO:root:saved file 2020_data/data_20200724_final_field_install/preprocessed/20200727-1600_TRS_M00506_com3.csv\n",
      "INFO:root:saved file 2020_data/data_20200724_final_field_install/preprocessed/20200726-1030_TRS_M00506_com3.csv\n",
      "INFO:root:saved file 2020_data/data_20200724_final_field_install/preprocessed/20200727-1930_TRS_M00506_com3.csv\n",
      "INFO:root:saved file 2020_data/data_20200724_final_field_install/preprocessed/20200726-0730_TRS_M00506_com3.csv\n",
      "INFO:root:saved file 2020_data/data_20200724_final_field_install/preprocessed/20200726-0930_TRS_M00506_com3.csv\n",
      "INFO:root:saved file 2020_data/data_20200724_final_field_install/preprocessed/20200727-0230_TRS_M00506_com3.csv\n",
      "INFO:root:saved file 2020_data/data_20200724_final_field_install/preprocessed/20200726-0900_TRS_M00506_com3.csv\n",
      "INFO:root:saved file 2020_data/data_20200724_final_field_install/preprocessed/20200726-0600_TRS_M00506_com3.csv\n",
      "INFO:root:saved file 2020_data/data_20200724_final_field_install/preprocessed/20200727-0630_TRS_M00506_com3.csv\n",
      "INFO:root:saved file 2020_data/data_20200724_final_field_install/preprocessed/20200725-1230_TRS_M00506_com3.csv\n",
      "INFO:root:saved file 2020_data/data_20200724_final_field_install/preprocessed/20200727-0130_TRS_M00506_com3.csv\n",
      "INFO:root:saved file 2020_data/data_20200724_final_field_install/preprocessed/20200727-1230_TRS_M00506_com3.csv\n",
      "INFO:root:saved file 2020_data/data_20200724_final_field_install/preprocessed/20200726-1930_TRS_M00506_com3.csv\n",
      "INFO:root:saved file 2020_data/data_20200724_final_field_install/preprocessed/20200724-1330_TRS_M00506_com3.csv\n",
      "INFO:root:saved file 2020_data/data_20200724_final_field_install/preprocessed/20200728-0430_TRS_M00506_com3.csv\n",
      "INFO:root:saved file 2020_data/data_20200724_final_field_install/preprocessed/20200728-0130_TRS_M00506_com3.csv\n",
      "INFO:root:saved file 2020_data/data_20200724_final_field_install/preprocessed/20200726-1800_TRS_M00506_com3.csv\n",
      "INFO:root:saved file 2020_data/data_20200724_final_field_install/preprocessed/20200727-0330_TRS_M00506_com3.csv\n",
      "INFO:root:saved file 2020_data/data_20200724_final_field_install/preprocessed/20200725-1030_TRS_M00506_com3.csv\n",
      "INFO:root:saved file 2020_data/data_20200724_final_field_install/preprocessed/20200726-2330_TRS_M00506_com3.csv\n",
      "INFO:root:saved file 2020_data/data_20200724_final_field_install/preprocessed/20200725-0300_TRS_M00506_com3.csv\n",
      "INFO:root:saved file 2020_data/data_20200724_final_field_install/preprocessed/20200727-1100_TRS_M00506_com3.csv\n",
      "INFO:root:saved file 2020_data/data_20200724_final_field_install/preprocessed/20200725-0900_TRS_M00506_com3.csv\n",
      "INFO:root:saved file 2020_data/data_20200724_final_field_install/preprocessed/20200727-1300_TRS_M00506_com3.csv\n",
      "INFO:root:saved file 2020_data/data_20200724_final_field_install/preprocessed/20200724-2000_TRS_M00506_com3.csv\n",
      "INFO:root:saved file 2020_data/data_20200724_final_field_install/preprocessed/20200726-1230_TRS_M00506_com3.csv\n",
      "INFO:root:saved file 2020_data/data_20200724_final_field_install/preprocessed/20200725-0530_TRS_M00506_com3.csv\n",
      "INFO:root:saved file 2020_data/data_20200724_final_field_install/preprocessed/20200726-1430_TRS_M00506_com3.csv\n",
      "INFO:root:saved file 2020_data/data_20200724_final_field_install/preprocessed/20200727-2130_TRS_M00506_com3.csv\n",
      "INFO:root:saved file 2020_data/data_20200724_final_field_install/preprocessed/20200728-0100_TRS_M00506_com3.csv\n",
      "INFO:root:saved file 2020_data/data_20200724_final_field_install/preprocessed/20200724-1530_TRS_M00506_com3.csv\n",
      "INFO:root:saved file 2020_data/data_20200724_final_field_install/preprocessed/20200725-0730_TRS_M00506_com3.csv\n",
      "INFO:root:saved file 2020_data/data_20200724_final_field_install/preprocessed/20200728-1400_TRS_M00506_com3.csv\n",
      "INFO:root:saved file 2020_data/data_20200724_final_field_install/preprocessed/20200727-0530_TRS_M00506_com3.csv\n",
      "INFO:root:saved file 2020_data/data_20200724_final_field_install/preprocessed/20200728-0400_TRS_M00506_com3.csv\n",
      "INFO:root:saved file 2020_data/data_20200724_final_field_install/preprocessed/20200727-1000_TRS_M00506_com3.csv\n",
      "INFO:root:saved file 2020_data/data_20200724_final_field_install/preprocessed/20200727-2100_TRS_M00506_com3.csv\n",
      "INFO:root:saved file 2020_data/data_20200724_final_field_install/preprocessed/20200724-1930_TRS_M00506_com3.csv\n",
      "INFO:root:saved file 2020_data/data_20200724_final_field_install/preprocessed/20200726-0630_TRS_M00506_com3.csv\n",
      "INFO:root:saved file 2020_data/data_20200724_final_field_install/preprocessed/20200728-0500_TRS_M00506_com3.csv\n",
      "INFO:root:saved file 2020_data/data_20200724_final_field_install/preprocessed/20200725-1830_TRS_M00506_com3.csv\n",
      "INFO:root:saved file 2020_data/data_20200724_final_field_install/preprocessed/20200727-2330_TRS_M00506_com3.csv\n",
      "INFO:root:saved file 2020_data/data_20200724_final_field_install/preprocessed/20200724-1300_TRS_M00506_com3.csv\n",
      "INFO:root:saved file 2020_data/data_20200724_final_field_install/preprocessed/20200725-1200_TRS_M00506_com3.csv\n",
      "INFO:root:saved file 2020_data/data_20200724_final_field_install/preprocessed/20200727-1500_TRS_M00506_com3.csv\n",
      "INFO:root:saved file 2020_data/data_20200724_final_field_install/preprocessed/20200725-0500_TRS_M00506_com3.csv\n",
      "INFO:root:saved file 2020_data/data_20200724_final_field_install/preprocessed/20200728-1100_TRS_M00506_com3.csv\n",
      "INFO:root:saved file 2020_data/data_20200724_final_field_install/preprocessed/20200725-0600_TRS_M00506_com3.csv\n",
      "INFO:root:saved file 2020_data/data_20200724_final_field_install/preprocessed/20200727-1400_TRS_M00506_com3.csv\n",
      "INFO:root:saved file 2020_data/data_20200724_final_field_install/preprocessed/20200725-0030_TRS_M00506_com3.csv\n",
      "INFO:root:saved file 2020_data/data_20200724_final_field_install/preprocessed/20200728-0830_TRS_M00506_com3.csv\n",
      "INFO:root:saved file 2020_data/data_20200724_final_field_install/preprocessed/20200726-0100_TRS_M00506_com3.csv\n",
      "INFO:root:saved file 2020_data/data_20200724_final_field_install/preprocessed/20200724-1600_TRS_M00506_com3.csv\n",
      "INFO:root:saved file 2020_data/data_20200724_final_field_install/preprocessed/20200724-2130_TRS_M00506_com3.csv\n",
      "INFO:root:saved file 2020_data/data_20200724_final_field_install/preprocessed/20200726-1630_TRS_M00506_com3.csv\n",
      "INFO:root:saved file 2020_data/data_20200724_final_field_install/preprocessed/20200724-1900_TRS_M00506_com3.csv\n",
      "INFO:root:saved file 2020_data/data_20200724_final_field_install/preprocessed/20200728-0800_TRS_M00506_com3.csv\n",
      "INFO:root:saved file 2020_data/data_20200724_final_field_install/preprocessed/20200727-0430_TRS_M00506_com3.csv\n",
      "INFO:root:saved file 2020_data/data_20200724_final_field_install/preprocessed/20200726-0000_TRS_M00506_com3.csv\n",
      "INFO:root:saved file 2020_data/data_20200724_final_field_install/preprocessed/20200725-1500_TRS_M00506_com3.csv\n",
      "INFO:root:saved file 2020_data/data_20200724_final_field_install/preprocessed/20200726-1330_TRS_M00506_com3.csv\n",
      "INFO:root:saved file 2020_data/data_20200724_final_field_install/preprocessed/20200725-2300_TRS_M00506_com3.csv\n",
      "INFO:root:saved file 2020_data/data_20200724_final_field_install/preprocessed/20200727-0800_TRS_M00506_com3.csv\n",
      "INFO:root:saved file 2020_data/data_20200724_final_field_install/preprocessed/20200724-2100_TRS_M00506_com3.csv\n",
      "INFO:root:saved file 2020_data/data_20200724_final_field_install/preprocessed/20200725-0200_TRS_M00506_com3.csv\n",
      "INFO:root:saved file 2020_data/data_20200724_final_field_install/preprocessed/20200728-1500_TRS_M00506_com3.csv\n",
      "INFO:root:saved file 2020_data/data_20200724_final_field_install/preprocessed/20200726-0230_TRS_M00506_com3.csv\n",
      "INFO:root:saved file 2020_data/data_20200724_final_field_install/preprocessed/20200725-0530_TRS_M00507_com2.csv\n",
      "INFO:root:saved file 2020_data/data_20200724_final_field_install/preprocessed/20200727-1730_TRS_M00507_com2.csv\n",
      "INFO:root:saved file 2020_data/data_20200724_final_field_install/preprocessed/20200727-1230_TRS_M00507_com2.csv\n",
      "INFO:root:saved file 2020_data/data_20200724_final_field_install/preprocessed/20200726-1430_TRS_M00507_com2.csv\n",
      "INFO:root:saved file 2020_data/data_20200724_final_field_install/preprocessed/20200724-1600_TRS_M00507_com2.csv\n",
      "INFO:root:saved file 2020_data/data_20200724_final_field_install/preprocessed/20200724-2330_TRS_M00507_com2.csv\n",
      "INFO:root:saved file 2020_data/data_20200724_final_field_install/preprocessed/20200728-0130_TRS_M00507_com2.csv\n",
      "INFO:root:saved file 2020_data/data_20200724_final_field_install/preprocessed/20200727-0430_TRS_M00507_com2.csv\n",
      "INFO:root:saved file 2020_data/data_20200724_final_field_install/preprocessed/20200727-1900_TRS_M00507_com2.csv\n",
      "INFO:root:saved file 2020_data/data_20200724_final_field_install/preprocessed/20200725-0430_TRS_M00507_com2.csv\n",
      "INFO:root:saved file 2020_data/data_20200724_final_field_install/preprocessed/20200725-1930_TRS_M00507_com2.csv\n",
      "INFO:root:saved file 2020_data/data_20200724_final_field_install/preprocessed/20200726-0730_TRS_M00507_com2.csv\n",
      "INFO:root:saved file 2020_data/data_20200724_final_field_install/preprocessed/20200725-0000_TRS_M00507_com2.csv\n",
      "INFO:root:saved file 2020_data/data_20200724_final_field_install/preprocessed/20200725-1300_TRS_M00507_com2.csv\n",
      "INFO:root:saved file 2020_data/data_20200724_final_field_install/preprocessed/20200727-1100_TRS_M00507_com2.csv\n",
      "INFO:root:saved file 2020_data/data_20200724_final_field_install/preprocessed/20200725-1200_TRS_M00507_com2.csv\n",
      "INFO:root:saved file 2020_data/data_20200724_final_field_install/preprocessed/20200725-1630_TRS_M00507_com2.csv\n",
      "INFO:root:saved file 2020_data/data_20200724_final_field_install/preprocessed/20200725-1700_TRS_M00507_com2.csv\n",
      "INFO:root:saved file 2020_data/data_20200724_final_field_install/preprocessed/20200728-1430_TRS_M00507_com2.csv\n",
      "INFO:root:saved file 2020_data/data_20200724_final_field_install/preprocessed/20200726-1730_TRS_M00507_com2.csv\n",
      "INFO:root:saved file 2020_data/data_20200724_final_field_install/preprocessed/20200725-1030_TRS_M00507_com2.csv\n",
      "INFO:root:saved file 2020_data/data_20200724_final_field_install/preprocessed/20200727-0530_TRS_M00507_com2.csv\n",
      "INFO:root:saved file 2020_data/data_20200724_final_field_install/preprocessed/20200727-1600_TRS_M00507_com2.csv\n",
      "INFO:root:saved file 2020_data/data_20200724_final_field_install/preprocessed/20200727-0130_TRS_M00507_com2.csv\n",
      "INFO:root:saved file 2020_data/data_20200724_final_field_install/preprocessed/20200728-1200_TRS_M00507_com2.csv\n",
      "INFO:root:saved file 2020_data/data_20200724_final_field_install/preprocessed/20200724-1530_TRS_M00507_com2.csv\n",
      "INFO:root:saved file 2020_data/data_20200724_final_field_install/preprocessed/20200728-0600_TRS_M00507_com2.csv\n",
      "INFO:root:saved file 2020_data/data_20200724_final_field_install/preprocessed/20200725-1130_TRS_M00507_com2.csv\n",
      "INFO:root:saved file 2020_data/data_20200724_final_field_install/preprocessed/20200725-0630_TRS_M00507_com2.csv\n",
      "INFO:root:saved file 2020_data/data_20200724_final_field_install/preprocessed/20200726-0000_TRS_M00507_com2.csv\n",
      "INFO:root:saved file 2020_data/data_20200724_final_field_install/preprocessed/20200725-0330_TRS_M00507_com2.csv\n",
      "INFO:root:saved file 2020_data/data_20200724_final_field_install/preprocessed/20200726-0330_TRS_M00507_com2.csv\n",
      "INFO:root:saved file 2020_data/data_20200724_final_field_install/preprocessed/20200724-1500_TRS_M00507_com2.csv\n",
      "INFO:root:saved file 2020_data/data_20200724_final_field_install/preprocessed/20200728-1100_TRS_M00507_com2.csv\n",
      "INFO:root:saved file 2020_data/data_20200724_final_field_install/preprocessed/20200727-0230_TRS_M00507_com2.csv\n",
      "INFO:root:saved file 2020_data/data_20200724_final_field_install/preprocessed/20200727-2000_TRS_M00507_com2.csv\n",
      "INFO:root:saved file 2020_data/data_20200724_final_field_install/preprocessed/20200728-0900_TRS_M00507_com2.csv\n",
      "INFO:root:saved file 2020_data/data_20200724_final_field_install/preprocessed/20200725-0400_TRS_M00507_com2.csv\n",
      "INFO:root:saved file 2020_data/data_20200724_final_field_install/preprocessed/20200725-0600_TRS_M00507_com2.csv\n",
      "INFO:root:saved file 2020_data/data_20200724_final_field_install/preprocessed/20200724-1830_TRS_M00507_com2.csv\n",
      "INFO:root:saved file 2020_data/data_20200724_final_field_install/preprocessed/20200727-0000_TRS_M00507_com2.csv\n",
      "INFO:root:saved file 2020_data/data_20200724_final_field_install/preprocessed/20200725-0230_TRS_M00507_com2.csv\n",
      "INFO:root:saved file 2020_data/data_20200724_final_field_install/preprocessed/20200728-0730_TRS_M00507_com2.csv\n",
      "INFO:root:saved file 2020_data/data_20200724_final_field_install/preprocessed/20200728-0230_TRS_M00507_com2.csv\n",
      "INFO:root:saved file 2020_data/data_20200724_final_field_install/preprocessed/20200726-2000_TRS_M00507_com2.csv\n",
      "INFO:root:saved file 2020_data/data_20200724_final_field_install/preprocessed/20200726-0030_TRS_M00507_com2.csv\n",
      "INFO:root:saved file 2020_data/data_20200724_final_field_install/preprocessed/20200727-2030_TRS_M00507_com2.csv\n",
      "INFO:root:saved file 2020_data/data_20200724_final_field_install/preprocessed/20200726-2300_TRS_M00507_com2.csv\n",
      "INFO:root:saved file 2020_data/data_20200724_final_field_install/preprocessed/20200727-2200_TRS_M00507_com2.csv\n",
      "INFO:root:saved file 2020_data/data_20200724_final_field_install/preprocessed/20200726-1000_TRS_M00507_com2.csv\n",
      "INFO:root:saved file 2020_data/data_20200724_final_field_install/preprocessed/20200726-0830_TRS_M00507_com2.csv\n",
      "INFO:root:saved file 2020_data/data_20200724_final_field_install/preprocessed/20200726-1300_TRS_M00507_com2.csv\n",
      "INFO:root:saved file 2020_data/data_20200724_final_field_install/preprocessed/20200725-2200_TRS_M00507_com2.csv\n",
      "INFO:root:saved file 2020_data/data_20200724_final_field_install/preprocessed/20200725-2030_TRS_M00507_com2.csv\n",
      "INFO:root:saved file 2020_data/data_20200724_final_field_install/preprocessed/20200728-0930_TRS_M00507_com2.csv\n",
      "INFO:root:saved file 2020_data/data_20200724_final_field_install/preprocessed/20200726-0500_TRS_M00507_com2.csv\n",
      "INFO:root:saved file 2020_data/data_20200724_final_field_install/preprocessed/20200726-1030_TRS_M00507_com2.csv\n",
      "INFO:root:saved file 2020_data/data_20200724_final_field_install/preprocessed/20200725-2100_TRS_M00507_com2.csv\n",
      "INFO:root:saved file 2020_data/data_20200724_final_field_install/preprocessed/20200727-1630_TRS_M00507_com2.csv\n",
      "INFO:root:saved file 2020_data/data_20200724_final_field_install/preprocessed/20200727-1300_TRS_M00507_com2.csv\n",
      "INFO:root:saved file 2020_data/data_20200724_final_field_install/preprocessed/20200728-1230_TRS_M00507_com2.csv\n",
      "INFO:root:saved file 2020_data/data_20200724_final_field_install/preprocessed/20200727-0630_TRS_M00507_com2.csv\n",
      "INFO:root:saved file 2020_data/data_20200724_final_field_install/preprocessed/20200725-2230_TRS_M00507_com2.csv\n",
      "INFO:root:saved file 2020_data/data_20200724_final_field_install/preprocessed/20200725-1000_TRS_M00507_com2.csv\n",
      "INFO:root:saved file 2020_data/data_20200724_final_field_install/preprocessed/20200726-1830_TRS_M00507_com2.csv\n",
      "INFO:root:saved file 2020_data/data_20200724_final_field_install/preprocessed/20200725-2330_TRS_M00507_com2.csv\n",
      "INFO:root:saved file 2020_data/data_20200724_final_field_install/preprocessed/20200727-1700_TRS_M00507_com2.csv\n",
      "INFO:root:saved file 2020_data/data_20200724_final_field_install/preprocessed/20200727-0600_TRS_M00507_com2.csv\n",
      "INFO:root:saved file 2020_data/data_20200724_final_field_install/preprocessed/20200725-2300_TRS_M00507_com2.csv\n",
      "INFO:root:saved file 2020_data/data_20200724_final_field_install/preprocessed/20200728-0000_TRS_M00507_com2.csv\n",
      "INFO:root:saved file 2020_data/data_20200724_final_field_install/preprocessed/20200726-1630_TRS_M00507_com2.csv\n",
      "INFO:root:saved file 2020_data/data_20200724_final_field_install/preprocessed/20200726-1100_TRS_M00507_com2.csv\n",
      "INFO:root:saved file 2020_data/data_20200724_final_field_install/preprocessed/20200728-1500_TRS_M00507_com2.csv\n",
      "INFO:root:saved file 2020_data/data_20200724_final_field_install/preprocessed/20200725-0500_TRS_M00507_com2.csv\n",
      "INFO:root:saved file 2020_data/data_20200724_final_field_install/preprocessed/20200725-0030_TRS_M00507_com2.csv\n",
      "INFO:root:saved file 2020_data/data_20200724_final_field_install/preprocessed/20200726-1900_TRS_M00507_com2.csv\n",
      "INFO:root:saved file 2020_data/data_20200724_final_field_install/preprocessed/20200724-1930_TRS_M00507_com2.csv\n",
      "INFO:root:saved file 2020_data/data_20200724_final_field_install/preprocessed/20200727-0830_TRS_M00507_com2.csv\n",
      "INFO:root:saved file 2020_data/data_20200724_final_field_install/preprocessed/20200724-2030_TRS_M00507_com2.csv\n",
      "INFO:root:saved file 2020_data/data_20200724_final_field_install/preprocessed/20200726-0200_TRS_M00507_com2.csv\n",
      "INFO:root:saved file 2020_data/data_20200724_final_field_install/preprocessed/20200727-0500_TRS_M00507_com2.csv\n",
      "INFO:root:saved file 2020_data/data_20200724_final_field_install/preprocessed/20200728-0430_TRS_M00507_com2.csv\n",
      "INFO:root:saved file 2020_data/data_20200724_final_field_install/preprocessed/20200726-2130_TRS_M00507_com2.csv\n",
      "INFO:root:saved file 2020_data/data_20200724_final_field_install/preprocessed/20200724-1330_TRS_M00507_com2.csv\n",
      "INFO:root:saved file 2020_data/data_20200724_final_field_install/preprocessed/20200726-1600_TRS_M00507_com2.csv\n",
      "INFO:root:saved file 2020_data/data_20200724_final_field_install/preprocessed/20200725-2130_TRS_M00507_com2.csv\n",
      "INFO:root:saved file 2020_data/data_20200724_final_field_install/preprocessed/20200725-0200_TRS_M00507_com2.csv\n",
      "INFO:root:saved file 2020_data/data_20200724_final_field_install/preprocessed/20200725-1330_TRS_M00507_com2.csv\n",
      "INFO:root:saved file 2020_data/data_20200724_final_field_install/preprocessed/20200726-0430_TRS_M00507_com2.csv\n",
      "INFO:root:saved file 2020_data/data_20200724_final_field_install/preprocessed/20200728-1400_TRS_M00507_com2.csv\n",
      "INFO:root:saved file 2020_data/data_20200724_final_field_install/preprocessed/20200727-1830_TRS_M00507_com2.csv\n",
      "INFO:root:saved file 2020_data/data_20200724_final_field_install/preprocessed/20200724-2200_TRS_M00507_com2.csv\n",
      "INFO:root:saved file 2020_data/data_20200724_final_field_install/preprocessed/20200727-1530_TRS_M00507_com2.csv\n",
      "INFO:root:saved file 2020_data/data_20200724_final_field_install/preprocessed/20200725-1900_TRS_M00507_com2.csv\n",
      "INFO:root:saved file 2020_data/data_20200724_final_field_install/preprocessed/20200727-0030_TRS_M00507_com2.csv\n",
      "INFO:root:saved file 2020_data/data_20200724_final_field_install/preprocessed/20200727-1330_TRS_M00507_com2.csv\n",
      "INFO:root:saved file 2020_data/data_20200724_final_field_install/preprocessed/20200726-1930_TRS_M00507_com2.csv\n",
      "INFO:root:saved file 2020_data/data_20200724_final_field_install/preprocessed/20200727-2330_TRS_M00507_com2.csv\n",
      "INFO:root:saved file 2020_data/data_20200724_final_field_install/preprocessed/20200724-2300_TRS_M00507_com2.csv\n",
      "INFO:root:saved file 2020_data/data_20200724_final_field_install/preprocessed/20200726-1800_TRS_M00507_com2.csv\n",
      "INFO:root:saved file 2020_data/data_20200724_final_field_install/preprocessed/20200725-0130_TRS_M00507_com2.csv\n",
      "INFO:root:saved file 2020_data/data_20200724_final_field_install/preprocessed/20200726-2330_TRS_M00507_com2.csv\n",
      "INFO:root:saved file 2020_data/data_20200724_final_field_install/preprocessed/20200727-1930_TRS_M00507_com2.csv\n",
      "INFO:root:saved file 2020_data/data_20200724_final_field_install/preprocessed/20200727-0800_TRS_M00507_com2.csv\n",
      "INFO:root:saved file 2020_data/data_20200724_final_field_install/preprocessed/20200726-0630_TRS_M00507_com2.csv\n",
      "INFO:root:saved file 2020_data/data_20200724_final_field_install/preprocessed/20200727-0100_TRS_M00507_com2.csv\n",
      "INFO:root:saved file 2020_data/data_20200724_final_field_install/preprocessed/20200727-0200_TRS_M00507_com2.csv\n",
      "INFO:root:saved file 2020_data/data_20200724_final_field_install/preprocessed/20200727-0300_TRS_M00507_com2.csv\n",
      "INFO:root:saved file 2020_data/data_20200724_final_field_install/preprocessed/20200724-2000_TRS_M00507_com2.csv\n",
      "INFO:root:saved file 2020_data/data_20200724_final_field_install/preprocessed/20200727-0400_TRS_M00507_com2.csv\n",
      "INFO:root:saved file 2020_data/data_20200724_final_field_install/preprocessed/20200725-1230_TRS_M00507_com2.csv\n",
      "INFO:root:saved file 2020_data/data_20200724_final_field_install/preprocessed/20200727-2100_TRS_M00507_com2.csv\n",
      "INFO:root:saved file 2020_data/data_20200724_final_field_install/preprocessed/20200727-1030_TRS_M00507_com2.csv\n",
      "INFO:root:saved file 2020_data/data_20200724_final_field_install/preprocessed/20200726-0530_TRS_M00507_com2.csv\n",
      "INFO:root:saved file 2020_data/data_20200724_final_field_install/preprocessed/20200726-0700_TRS_M00507_com2.csv\n",
      "INFO:root:saved file 2020_data/data_20200724_final_field_install/preprocessed/20200725-1730_TRS_M00507_com2.csv\n",
      "INFO:root:saved file 2020_data/data_20200724_final_field_install/preprocessed/20200728-0300_TRS_M00507_com2.csv\n",
      "INFO:root:saved file 2020_data/data_20200724_final_field_install/preprocessed/20200727-0700_TRS_M00507_com2.csv\n",
      "INFO:root:saved file 2020_data/data_20200724_final_field_install/preprocessed/20200725-0100_TRS_M00507_com2.csv\n",
      "INFO:root:saved file 2020_data/data_20200724_final_field_install/preprocessed/20200725-1600_TRS_M00507_com2.csv\n",
      "INFO:root:saved file 2020_data/data_20200724_final_field_install/preprocessed/20200728-0100_TRS_M00507_com2.csv\n",
      "INFO:root:saved file 2020_data/data_20200724_final_field_install/preprocessed/20200726-0100_TRS_M00507_com2.csv\n",
      "INFO:root:saved file 2020_data/data_20200724_final_field_install/preprocessed/20200726-0800_TRS_M00507_com2.csv\n",
      "INFO:root:saved file 2020_data/data_20200724_final_field_install/preprocessed/20200724-1730_TRS_M00507_com2.csv\n",
      "INFO:root:saved file 2020_data/data_20200724_final_field_install/preprocessed/20200727-1400_TRS_M00507_com2.csv\n",
      "INFO:root:saved file 2020_data/data_20200724_final_field_install/preprocessed/20200728-1530_TRS_M00507_com2.csv\n",
      "INFO:root:saved file 2020_data/data_20200724_final_field_install/preprocessed/20200728-1130_TRS_M00507_com2.csv\n",
      "INFO:root:saved file 2020_data/data_20200724_final_field_install/preprocessed/20200728-0800_TRS_M00507_com2.csv\n",
      "INFO:root:saved file 2020_data/data_20200724_final_field_install/preprocessed/20200725-1800_TRS_M00507_com2.csv\n",
      "INFO:root:saved file 2020_data/data_20200724_final_field_install/preprocessed/20200726-2230_TRS_M00507_com2.csv\n",
      "INFO:root:saved file 2020_data/data_20200724_final_field_install/preprocessed/20200728-0330_TRS_M00507_com2.csv\n",
      "INFO:root:saved file 2020_data/data_20200724_final_field_install/preprocessed/20200728-0530_TRS_M00507_com2.csv\n",
      "INFO:root:saved file 2020_data/data_20200724_final_field_install/preprocessed/20200725-0730_TRS_M00507_com2.csv\n",
      "INFO:root:saved file 2020_data/data_20200724_final_field_install/preprocessed/20200726-2200_TRS_M00507_com2.csv\n",
      "INFO:root:saved file 2020_data/data_20200724_final_field_install/preprocessed/20200724-2230_TRS_M00507_com2.csv\n",
      "INFO:root:saved file 2020_data/data_20200724_final_field_install/preprocessed/20200726-2030_TRS_M00507_com2.csv\n",
      "INFO:root:saved file 2020_data/data_20200724_final_field_install/preprocessed/20200725-1530_TRS_M00507_com2.csv\n",
      "INFO:root:saved file 2020_data/data_20200724_final_field_install/preprocessed/20200727-1500_TRS_M00507_com2.csv\n",
      "INFO:root:saved file 2020_data/data_20200724_final_field_install/preprocessed/20200728-0030_TRS_M00507_com2.csv\n",
      "INFO:root:saved file 2020_data/data_20200724_final_field_install/preprocessed/20200727-2300_TRS_M00507_com2.csv\n",
      "INFO:root:saved file 2020_data/data_20200724_final_field_install/preprocessed/20200725-0930_TRS_M00507_com2.csv\n",
      "INFO:root:saved file 2020_data/data_20200724_final_field_install/preprocessed/20200724-1400_TRS_M00507_com2.csv\n",
      "INFO:root:saved file 2020_data/data_20200724_final_field_install/preprocessed/20200728-1330_TRS_M00507_com2.csv\n",
      "INFO:root:saved file 2020_data/data_20200724_final_field_install/preprocessed/20200724-2130_TRS_M00507_com2.csv\n",
      "INFO:root:saved file 2020_data/data_20200724_final_field_install/preprocessed/20200725-1500_TRS_M00507_com2.csv\n",
      "INFO:root:saved file 2020_data/data_20200724_final_field_install/preprocessed/20200726-0400_TRS_M00507_com2.csv\n",
      "INFO:root:saved file 2020_data/data_20200724_final_field_install/preprocessed/20200726-0930_TRS_M00507_com2.csv\n",
      "INFO:root:saved file 2020_data/data_20200724_final_field_install/preprocessed/20200726-0900_TRS_M00507_com2.csv\n",
      "INFO:root:saved file 2020_data/data_20200724_final_field_install/preprocessed/20200727-2230_TRS_M00507_com2.csv\n",
      "INFO:root:saved file 2020_data/data_20200724_final_field_install/preprocessed/20200724-1900_TRS_M00507_com2.csv\n",
      "INFO:root:saved file 2020_data/data_20200724_final_field_install/preprocessed/20200728-1000_TRS_M00507_com2.csv\n",
      "INFO:root:saved file 2020_data/data_20200724_final_field_install/preprocessed/20200728-1030_TRS_M00507_com2.csv\n",
      "INFO:root:saved file 2020_data/data_20200724_final_field_install/preprocessed/20200725-0700_TRS_M00507_com2.csv\n",
      "INFO:root:saved file 2020_data/data_20200724_final_field_install/preprocessed/20200726-0130_TRS_M00507_com2.csv\n",
      "INFO:root:saved file 2020_data/data_20200724_final_field_install/preprocessed/20200725-0300_TRS_M00507_com2.csv\n",
      "INFO:root:saved file 2020_data/data_20200724_final_field_install/preprocessed/20200727-0900_TRS_M00507_com2.csv\n",
      "INFO:root:saved file 2020_data/data_20200724_final_field_install/preprocessed/20200726-1530_TRS_M00507_com2.csv\n",
      "INFO:root:saved file 2020_data/data_20200724_final_field_install/preprocessed/20200725-1830_TRS_M00507_com2.csv\n",
      "INFO:root:saved file 2020_data/data_20200724_final_field_install/preprocessed/20200728-0700_TRS_M00507_com2.csv\n",
      "INFO:root:saved file 2020_data/data_20200724_final_field_install/preprocessed/20200726-1330_TRS_M00507_com2.csv\n",
      "INFO:root:saved file 2020_data/data_20200724_final_field_install/preprocessed/20200727-1430_TRS_M00507_com2.csv\n",
      "INFO:root:saved file 2020_data/data_20200724_final_field_install/preprocessed/20200726-1230_TRS_M00507_com2.csv\n",
      "INFO:root:saved file 2020_data/data_20200724_final_field_install/preprocessed/20200727-2130_TRS_M00507_com2.csv\n",
      "INFO:root:saved file 2020_data/data_20200724_final_field_install/preprocessed/20200726-1400_TRS_M00507_com2.csv\n",
      "INFO:root:saved file 2020_data/data_20200724_final_field_install/preprocessed/20200728-0200_TRS_M00507_com2.csv\n",
      "INFO:root:saved file 2020_data/data_20200724_final_field_install/preprocessed/20200724-2100_TRS_M00507_com2.csv\n",
      "INFO:root:saved file 2020_data/data_20200724_final_field_install/preprocessed/20200725-1400_TRS_M00507_com2.csv\n",
      "INFO:root:saved file 2020_data/data_20200724_final_field_install/preprocessed/20200725-2000_TRS_M00507_com2.csv\n",
      "INFO:root:saved file 2020_data/data_20200724_final_field_install/preprocessed/20200725-0800_TRS_M00507_com2.csv\n",
      "INFO:root:saved file 2020_data/data_20200724_final_field_install/preprocessed/20200725-0900_TRS_M00507_com2.csv\n",
      "INFO:root:saved file 2020_data/data_20200724_final_field_install/preprocessed/20200724-1430_TRS_M00507_com2.csv\n",
      "INFO:root:saved file 2020_data/data_20200724_final_field_install/preprocessed/20200724-1630_TRS_M00507_com2.csv\n",
      "INFO:root:saved file 2020_data/data_20200724_final_field_install/preprocessed/20200726-0300_TRS_M00507_com2.csv\n",
      "INFO:root:saved file 2020_data/data_20200724_final_field_install/preprocessed/20200727-1200_TRS_M00507_com2.csv\n",
      "INFO:root:saved file 2020_data/data_20200724_final_field_install/preprocessed/20200727-0730_TRS_M00507_com2.csv\n",
      "INFO:root:saved file 2020_data/data_20200724_final_field_install/preprocessed/20200727-1000_TRS_M00507_com2.csv\n",
      "INFO:root:saved file 2020_data/data_20200724_final_field_install/preprocessed/20200725-0830_TRS_M00507_com2.csv\n",
      "INFO:root:saved file 2020_data/data_20200724_final_field_install/preprocessed/20200728-0630_TRS_M00507_com2.csv\n",
      "INFO:root:saved file 2020_data/data_20200724_final_field_install/preprocessed/20200724-1700_TRS_M00507_com2.csv\n",
      "INFO:root:saved file 2020_data/data_20200724_final_field_install/preprocessed/20200727-0930_TRS_M00507_com2.csv\n",
      "INFO:root:saved file 2020_data/data_20200724_final_field_install/preprocessed/20200726-0230_TRS_M00507_com2.csv\n",
      "INFO:root:saved file 2020_data/data_20200724_final_field_install/preprocessed/20200724-1800_TRS_M00507_com2.csv\n",
      "INFO:root:saved file 2020_data/data_20200724_final_field_install/preprocessed/20200728-0400_TRS_M00507_com2.csv\n",
      "INFO:root:saved file 2020_data/data_20200724_final_field_install/preprocessed/20200726-1200_TRS_M00507_com2.csv\n",
      "INFO:root:saved file 2020_data/data_20200724_final_field_install/preprocessed/20200728-1300_TRS_M00507_com2.csv\n",
      "INFO:root:saved file 2020_data/data_20200724_final_field_install/preprocessed/20200725-1430_TRS_M00507_com2.csv\n",
      "INFO:root:saved file 2020_data/data_20200724_final_field_install/preprocessed/20200726-2100_TRS_M00507_com2.csv\n",
      "INFO:root:saved file 2020_data/data_20200724_final_field_install/preprocessed/20200728-0830_TRS_M00507_com2.csv\n",
      "INFO:root:saved file 2020_data/data_20200724_final_field_install/preprocessed/20200726-0600_TRS_M00507_com2.csv\n",
      "INFO:root:saved file 2020_data/data_20200724_final_field_install/preprocessed/20200724-1300_TRS_M00507_com2.csv\n",
      "INFO:root:saved file 2020_data/data_20200724_final_field_install/preprocessed/20200726-1130_TRS_M00507_com2.csv\n",
      "INFO:root:saved file 2020_data/data_20200724_final_field_install/preprocessed/20200727-1800_TRS_M00507_com2.csv\n",
      "INFO:root:saved file 2020_data/data_20200724_final_field_install/preprocessed/20200728-0500_TRS_M00507_com2.csv\n",
      "INFO:root:saved file 2020_data/data_20200724_final_field_install/preprocessed/20200725-1100_TRS_M00507_com2.csv\n",
      "INFO:root:saved file 2020_data/data_20200724_final_field_install/preprocessed/20200727-0330_TRS_M00507_com2.csv\n",
      "INFO:root:saved file 2020_data/data_20200724_final_field_install/preprocessed/20200726-1700_TRS_M00507_com2.csv\n",
      "INFO:root:saved file 2020_data/data_20200724_final_field_install/preprocessed/20200727-1130_TRS_M00507_com2.csv\n",
      "INFO:root:saved file 2020_data/data_20200724_final_field_install/preprocessed/20200726-1500_TRS_M00507_com2.csv\n",
      "INFO:root: exists, skipping 2020_data/data_20200724_final_field_install/preprocessed/20200725-1630_TRS_M00506_com3_inv_v.csv\n",
      "INFO:root: exists, skipping 2020_data/data_20200724_final_field_install/preprocessed/20200724-2030_TRS_M00506_com3_inv_v.csv\n",
      "INFO:root: exists, skipping 2020_data/data_20200724_final_field_install/preprocessed/20200726-2000_TRS_M00506_com3_inv_v.csv\n",
      "INFO:root: exists, skipping 2020_data/data_20200724_final_field_install/preprocessed/20200726-1900_TRS_M00506_com3_inv_v.csv\n",
      "INFO:root: exists, skipping 2020_data/data_20200724_final_field_install/preprocessed/20200728-0900_TRS_M00506_com3_inv_v.csv\n",
      "INFO:root: exists, skipping 2020_data/data_20200724_final_field_install/preprocessed/20200724-2300_TRS_M00506_com3_inv_v.csv\n",
      "INFO:root: exists, skipping 2020_data/data_20200724_final_field_install/preprocessed/20200728-0200_TRS_M00506_com3_inv_v.csv\n",
      "INFO:root: exists, skipping 2020_data/data_20200724_final_field_install/preprocessed/20200725-1330_TRS_M00506_com3_inv_v.csv\n",
      "INFO:root: exists, skipping 2020_data/data_20200724_final_field_install/preprocessed/20200726-1300_TRS_M00506_com3_inv_v.csv\n",
      "INFO:root: exists, skipping 2020_data/data_20200724_final_field_install/preprocessed/20200728-0630_TRS_M00506_com3_inv_v.csv\n",
      "INFO:root: exists, skipping 2020_data/data_20200724_final_field_install/preprocessed/20200727-0300_TRS_M00506_com3_inv_v.csv\n",
      "INFO:root: exists, skipping 2020_data/data_20200724_final_field_install/preprocessed/20200725-1130_TRS_M00506_com3_inv_v.csv\n",
      "INFO:root: exists, skipping 2020_data/data_20200724_final_field_install/preprocessed/20200727-0900_TRS_M00506_com3_inv_v.csv\n",
      "INFO:root: exists, skipping 2020_data/data_20200724_final_field_install/preprocessed/20200727-1900_TRS_M00506_com3_inv_v.csv\n",
      "INFO:root: exists, skipping 2020_data/data_20200724_final_field_install/preprocessed/20200726-0400_TRS_M00506_com3_inv_v.csv\n",
      "INFO:root: exists, skipping 2020_data/data_20200724_final_field_install/preprocessed/20200726-0500_TRS_M00506_com3_inv_v.csv\n",
      "INFO:root: exists, skipping 2020_data/data_20200724_final_field_install/preprocessed/20200726-0200_TRS_M00506_com3_inv_v.csv\n",
      "INFO:root: exists, skipping 2020_data/data_20200724_final_field_install/preprocessed/20200724-1730_TRS_M00506_com3_inv_v.csv\n",
      "INFO:root: exists, skipping 2020_data/data_20200724_final_field_install/preprocessed/20200726-2030_TRS_M00506_com3_inv_v.csv\n",
      "INFO:root: exists, skipping 2020_data/data_20200724_final_field_install/preprocessed/20200725-2030_TRS_M00506_com3_inv_v.csv\n",
      "INFO:root: exists, skipping 2020_data/data_20200724_final_field_install/preprocessed/20200726-1730_TRS_M00506_com3_inv_v.csv\n",
      "INFO:root: exists, skipping 2020_data/data_20200724_final_field_install/preprocessed/20200726-2300_TRS_M00506_com3_inv_v.csv\n",
      "INFO:root: exists, skipping 2020_data/data_20200724_final_field_install/preprocessed/20200725-1730_TRS_M00506_com3_inv_v.csv\n",
      "INFO:root: exists, skipping 2020_data/data_20200724_final_field_install/preprocessed/20200728-0700_TRS_M00506_com3_inv_v.csv\n",
      "INFO:root: exists, skipping 2020_data/data_20200724_final_field_install/preprocessed/20200727-2030_TRS_M00506_com3_inv_v.csv\n",
      "INFO:root: exists, skipping 2020_data/data_20200724_final_field_install/preprocessed/20200725-0430_TRS_M00506_com3_inv_v.csv\n",
      "INFO:root: exists, skipping 2020_data/data_20200724_final_field_install/preprocessed/20200725-2130_TRS_M00506_com3_inv_v.csv\n",
      "INFO:root: exists, skipping 2020_data/data_20200724_final_field_install/preprocessed/20200728-0030_TRS_M00506_com3_inv_v.csv\n",
      "INFO:root: exists, skipping 2020_data/data_20200724_final_field_install/preprocessed/20200724-2330_TRS_M00506_com3_inv_v.csv\n",
      "INFO:root: exists, skipping 2020_data/data_20200724_final_field_install/preprocessed/20200725-0630_TRS_M00506_com3_inv_v.csv\n",
      "INFO:root: exists, skipping 2020_data/data_20200724_final_field_install/preprocessed/20200727-1330_TRS_M00506_com3_inv_v.csv\n",
      "INFO:root: exists, skipping 2020_data/data_20200724_final_field_install/preprocessed/20200727-0000_TRS_M00506_com3_inv_v.csv\n",
      "INFO:root: exists, skipping 2020_data/data_20200724_final_field_install/preprocessed/20200726-0800_TRS_M00506_com3_inv_v.csv\n",
      "INFO:root: exists, skipping 2020_data/data_20200724_final_field_install/preprocessed/20200726-1400_TRS_M00506_com3_inv_v.csv\n",
      "INFO:root: exists, skipping 2020_data/data_20200724_final_field_install/preprocessed/20200724-1800_TRS_M00506_com3_inv_v.csv\n",
      "INFO:root: exists, skipping 2020_data/data_20200724_final_field_install/preprocessed/20200728-0930_TRS_M00506_com3_inv_v.csv\n",
      "INFO:root: exists, skipping 2020_data/data_20200724_final_field_install/preprocessed/20200727-1130_TRS_M00506_com3_inv_v.csv\n",
      "INFO:root: exists, skipping 2020_data/data_20200724_final_field_install/preprocessed/20200726-1600_TRS_M00506_com3_inv_v.csv\n",
      "INFO:root: exists, skipping 2020_data/data_20200724_final_field_install/preprocessed/20200725-1930_TRS_M00506_com3_inv_v.csv\n",
      "INFO:root: exists, skipping 2020_data/data_20200724_final_field_install/preprocessed/20200727-0830_TRS_M00506_com3_inv_v.csv\n",
      "INFO:root: exists, skipping 2020_data/data_20200724_final_field_install/preprocessed/20200724-1500_TRS_M00506_com3_inv_v.csv\n",
      "INFO:root: exists, skipping 2020_data/data_20200724_final_field_install/preprocessed/20200725-1300_TRS_M00506_com3_inv_v.csv\n",
      "INFO:root: exists, skipping 2020_data/data_20200724_final_field_install/preprocessed/20200725-2000_TRS_M00506_com3_inv_v.csv\n",
      "INFO:root: exists, skipping 2020_data/data_20200724_final_field_install/preprocessed/20200728-0300_TRS_M00506_com3_inv_v.csv\n",
      "INFO:root: exists, skipping 2020_data/data_20200724_final_field_install/preprocessed/20200727-1700_TRS_M00506_com3_inv_v.csv\n",
      "INFO:root: exists, skipping 2020_data/data_20200724_final_field_install/preprocessed/20200725-0000_TRS_M00506_com3_inv_v.csv\n",
      "INFO:root: exists, skipping 2020_data/data_20200724_final_field_install/preprocessed/20200726-0830_TRS_M00506_com3_inv_v.csv\n",
      "INFO:root: exists, skipping 2020_data/data_20200724_final_field_install/preprocessed/20200726-2100_TRS_M00506_com3_inv_v.csv\n",
      "INFO:root: exists, skipping 2020_data/data_20200724_final_field_install/preprocessed/20200725-1900_TRS_M00506_com3_inv_v.csv\n",
      "INFO:root: exists, skipping 2020_data/data_20200724_final_field_install/preprocessed/20200728-1200_TRS_M00506_com3_inv_v.csv\n",
      "INFO:root: exists, skipping 2020_data/data_20200724_final_field_install/preprocessed/20200724-2230_TRS_M00506_com3_inv_v.csv\n",
      "INFO:root: exists, skipping 2020_data/data_20200724_final_field_install/preprocessed/20200726-0130_TRS_M00506_com3_inv_v.csv\n",
      "INFO:root: exists, skipping 2020_data/data_20200724_final_field_install/preprocessed/20200725-0100_TRS_M00506_com3_inv_v.csv\n",
      "INFO:root: exists, skipping 2020_data/data_20200724_final_field_install/preprocessed/20200727-1030_TRS_M00506_com3_inv_v.csv\n",
      "INFO:root: exists, skipping 2020_data/data_20200724_final_field_install/preprocessed/20200725-1700_TRS_M00506_com3_inv_v.csv\n",
      "INFO:root: exists, skipping 2020_data/data_20200724_final_field_install/preprocessed/20200728-1230_TRS_M00506_com3_inv_v.csv\n",
      "INFO:root: exists, skipping 2020_data/data_20200724_final_field_install/preprocessed/20200726-0300_TRS_M00506_com3_inv_v.csv\n",
      "INFO:root: exists, skipping 2020_data/data_20200724_final_field_install/preprocessed/20200728-0230_TRS_M00506_com3_inv_v.csv\n",
      "INFO:root: exists, skipping 2020_data/data_20200724_final_field_install/preprocessed/20200725-1100_TRS_M00506_com3_inv_v.csv\n",
      "INFO:root: exists, skipping 2020_data/data_20200724_final_field_install/preprocessed/20200725-1530_TRS_M00506_com3_inv_v.csv\n",
      "INFO:root: exists, skipping 2020_data/data_20200724_final_field_install/preprocessed/20200728-0000_TRS_M00506_com3_inv_v.csv\n",
      "INFO:root: exists, skipping 2020_data/data_20200724_final_field_install/preprocessed/20200728-0600_TRS_M00506_com3_inv_v.csv\n",
      "INFO:root: exists, skipping 2020_data/data_20200724_final_field_install/preprocessed/20200726-0700_TRS_M00506_com3_inv_v.csv\n",
      "INFO:root: exists, skipping 2020_data/data_20200724_final_field_install/preprocessed/20200726-2200_TRS_M00506_com3_inv_v.csv\n",
      "INFO:root: exists, skipping 2020_data/data_20200724_final_field_install/preprocessed/20200726-1130_TRS_M00506_com3_inv_v.csv\n",
      "INFO:root: exists, skipping 2020_data/data_20200724_final_field_install/preprocessed/20200725-0800_TRS_M00506_com3_inv_v.csv\n",
      "INFO:root: exists, skipping 2020_data/data_20200724_final_field_install/preprocessed/20200727-2000_TRS_M00506_com3_inv_v.csv\n",
      "INFO:root: exists, skipping 2020_data/data_20200724_final_field_install/preprocessed/20200726-0430_TRS_M00506_com3_inv_v.csv\n",
      "INFO:root: exists, skipping 2020_data/data_20200724_final_field_install/preprocessed/20200728-1530_TRS_M00506_com3_inv_v.csv\n",
      "INFO:root: exists, skipping 2020_data/data_20200724_final_field_install/preprocessed/20200726-1530_TRS_M00506_com3_inv_v.csv\n",
      "INFO:root: exists, skipping 2020_data/data_20200724_final_field_install/preprocessed/20200725-1430_TRS_M00506_com3_inv_v.csv\n",
      "INFO:root: exists, skipping 2020_data/data_20200724_final_field_install/preprocessed/20200727-0700_TRS_M00506_com3_inv_v.csv\n",
      "INFO:root: exists, skipping 2020_data/data_20200724_final_field_install/preprocessed/20200727-1530_TRS_M00506_com3_inv_v.csv\n",
      "INFO:root: exists, skipping 2020_data/data_20200724_final_field_install/preprocessed/20200727-2300_TRS_M00506_com3_inv_v.csv\n",
      "INFO:root: exists, skipping 2020_data/data_20200724_final_field_install/preprocessed/20200725-1000_TRS_M00506_com3_inv_v.csv\n",
      "INFO:root: exists, skipping 2020_data/data_20200724_final_field_install/preprocessed/20200725-2100_TRS_M00506_com3_inv_v.csv\n",
      "INFO:root: exists, skipping 2020_data/data_20200724_final_field_install/preprocessed/20200725-1400_TRS_M00506_com3_inv_v.csv\n",
      "INFO:root: exists, skipping 2020_data/data_20200724_final_field_install/preprocessed/20200726-1700_TRS_M00506_com3_inv_v.csv\n",
      "INFO:root: exists, skipping 2020_data/data_20200724_final_field_install/preprocessed/20200727-1430_TRS_M00506_com3_inv_v.csv\n",
      "INFO:root: exists, skipping 2020_data/data_20200724_final_field_install/preprocessed/20200725-2200_TRS_M00506_com3_inv_v.csv\n",
      "INFO:root: exists, skipping 2020_data/data_20200724_final_field_install/preprocessed/20200727-0030_TRS_M00506_com3_inv_v.csv\n",
      "INFO:root: exists, skipping 2020_data/data_20200724_final_field_install/preprocessed/20200725-2330_TRS_M00506_com3_inv_v.csv\n",
      "INFO:root: exists, skipping 2020_data/data_20200724_final_field_install/preprocessed/20200727-0500_TRS_M00506_com3_inv_v.csv\n",
      "INFO:root: exists, skipping 2020_data/data_20200724_final_field_install/preprocessed/20200726-1100_TRS_M00506_com3_inv_v.csv\n",
      "INFO:root: exists, skipping 2020_data/data_20200724_final_field_install/preprocessed/20200725-0830_TRS_M00506_com3_inv_v.csv\n",
      "INFO:root: exists, skipping 2020_data/data_20200724_final_field_install/preprocessed/20200725-1600_TRS_M00506_com3_inv_v.csv\n",
      "INFO:root: exists, skipping 2020_data/data_20200724_final_field_install/preprocessed/20200724-1630_TRS_M00506_com3_inv_v.csv\n",
      "INFO:root: exists, skipping 2020_data/data_20200724_final_field_install/preprocessed/20200728-1130_TRS_M00506_com3_inv_v.csv\n",
      "INFO:root: exists, skipping 2020_data/data_20200724_final_field_install/preprocessed/20200726-0030_TRS_M00506_com3_inv_v.csv\n",
      "INFO:root: exists, skipping 2020_data/data_20200724_final_field_install/preprocessed/20200725-2230_TRS_M00506_com3_inv_v.csv\n",
      "INFO:root: exists, skipping 2020_data/data_20200724_final_field_install/preprocessed/20200725-0400_TRS_M00506_com3_inv_v.csv\n",
      "INFO:root: exists, skipping 2020_data/data_20200724_final_field_install/preprocessed/20200727-1630_TRS_M00506_com3_inv_v.csv\n",
      "INFO:root: exists, skipping 2020_data/data_20200724_final_field_install/preprocessed/20200727-0600_TRS_M00506_com3_inv_v.csv\n",
      "INFO:root: exists, skipping 2020_data/data_20200724_final_field_install/preprocessed/20200725-0330_TRS_M00506_com3_inv_v.csv\n",
      "INFO:root: exists, skipping 2020_data/data_20200724_final_field_install/preprocessed/20200724-1830_TRS_M00506_com3_inv_v.csv\n",
      "INFO:root: exists, skipping 2020_data/data_20200724_final_field_install/preprocessed/20200726-1200_TRS_M00506_com3_inv_v.csv\n",
      "INFO:root: exists, skipping 2020_data/data_20200724_final_field_install/preprocessed/20200726-1500_TRS_M00506_com3_inv_v.csv\n",
      "INFO:root: exists, skipping 2020_data/data_20200724_final_field_install/preprocessed/20200725-0230_TRS_M00506_com3_inv_v.csv\n",
      "INFO:root: exists, skipping 2020_data/data_20200724_final_field_install/preprocessed/20200726-1830_TRS_M00506_com3_inv_v.csv\n",
      "INFO:root: exists, skipping 2020_data/data_20200724_final_field_install/preprocessed/20200725-0700_TRS_M00506_com3_inv_v.csv\n",
      "INFO:root: exists, skipping 2020_data/data_20200724_final_field_install/preprocessed/20200728-1330_TRS_M00506_com3_inv_v.csv\n",
      "INFO:root: exists, skipping 2020_data/data_20200724_final_field_install/preprocessed/20200728-0530_TRS_M00506_com3_inv_v.csv\n",
      "INFO:root: exists, skipping 2020_data/data_20200724_final_field_install/preprocessed/20200728-0730_TRS_M00506_com3_inv_v.csv\n",
      "INFO:root: exists, skipping 2020_data/data_20200724_final_field_install/preprocessed/20200725-0130_TRS_M00506_com3_inv_v.csv\n",
      "INFO:root: exists, skipping 2020_data/data_20200724_final_field_install/preprocessed/20200726-2130_TRS_M00506_com3_inv_v.csv\n",
      "INFO:root: exists, skipping 2020_data/data_20200724_final_field_install/preprocessed/20200727-0930_TRS_M00506_com3_inv_v.csv\n",
      "INFO:root: exists, skipping 2020_data/data_20200724_final_field_install/preprocessed/20200727-1830_TRS_M00506_com3_inv_v.csv\n",
      "INFO:root: exists, skipping 2020_data/data_20200724_final_field_install/preprocessed/20200726-0530_TRS_M00506_com3_inv_v.csv\n",
      "INFO:root: exists, skipping 2020_data/data_20200724_final_field_install/preprocessed/20200728-1030_TRS_M00506_com3_inv_v.csv\n",
      "INFO:root: exists, skipping 2020_data/data_20200724_final_field_install/preprocessed/20200727-1730_TRS_M00506_com3_inv_v.csv\n",
      "INFO:root: exists, skipping 2020_data/data_20200724_final_field_install/preprocessed/20200727-1200_TRS_M00506_com3_inv_v.csv\n",
      "INFO:root: exists, skipping 2020_data/data_20200724_final_field_install/preprocessed/20200728-1000_TRS_M00506_com3_inv_v.csv\n",
      "INFO:root: exists, skipping 2020_data/data_20200724_final_field_install/preprocessed/20200727-2230_TRS_M00506_com3_inv_v.csv\n",
      "INFO:root: exists, skipping 2020_data/data_20200724_final_field_install/preprocessed/20200724-1430_TRS_M00506_com3_inv_v.csv\n",
      "INFO:root: exists, skipping 2020_data/data_20200724_final_field_install/preprocessed/20200727-2200_TRS_M00506_com3_inv_v.csv\n",
      "INFO:root: exists, skipping 2020_data/data_20200724_final_field_install/preprocessed/20200728-0330_TRS_M00506_com3_inv_v.csv\n",
      "INFO:root: exists, skipping 2020_data/data_20200724_final_field_install/preprocessed/20200724-2200_TRS_M00506_com3_inv_v.csv\n",
      "INFO:root: exists, skipping 2020_data/data_20200724_final_field_install/preprocessed/20200724-1700_TRS_M00506_com3_inv_v.csv\n",
      "INFO:root: exists, skipping 2020_data/data_20200724_final_field_install/preprocessed/20200727-1800_TRS_M00506_com3_inv_v.csv\n",
      "INFO:root: exists, skipping 2020_data/data_20200724_final_field_install/preprocessed/20200725-0930_TRS_M00506_com3_inv_v.csv\n",
      "INFO:root: exists, skipping 2020_data/data_20200724_final_field_install/preprocessed/20200727-0100_TRS_M00506_com3_inv_v.csv\n",
      "INFO:root: exists, skipping 2020_data/data_20200724_final_field_install/preprocessed/20200725-1800_TRS_M00506_com3_inv_v.csv\n",
      "INFO:root: exists, skipping 2020_data/data_20200724_final_field_install/preprocessed/20200726-1030_TRS_M00506_com3_inv_v.csv\n",
      "INFO:root: exists, skipping 2020_data/data_20200724_final_field_install/preprocessed/20200726-2230_TRS_M00506_com3_inv_v.csv\n",
      "INFO:root: exists, skipping 2020_data/data_20200724_final_field_install/preprocessed/20200728-1300_TRS_M00506_com3_inv_v.csv\n",
      "INFO:root: exists, skipping 2020_data/data_20200724_final_field_install/preprocessed/20200727-1600_TRS_M00506_com3_inv_v.csv\n",
      "INFO:root: exists, skipping 2020_data/data_20200724_final_field_install/preprocessed/20200727-1930_TRS_M00506_com3_inv_v.csv\n",
      "INFO:root: exists, skipping 2020_data/data_20200724_final_field_install/preprocessed/20200727-0400_TRS_M00506_com3_inv_v.csv\n",
      "INFO:root: exists, skipping 2020_data/data_20200724_final_field_install/preprocessed/20200726-0330_TRS_M00506_com3_inv_v.csv\n",
      "INFO:root: exists, skipping 2020_data/data_20200724_final_field_install/preprocessed/20200728-1430_TRS_M00506_com3_inv_v.csv\n",
      "INFO:root: exists, skipping 2020_data/data_20200724_final_field_install/preprocessed/20200726-1000_TRS_M00506_com3_inv_v.csv\n",
      "INFO:root: exists, skipping 2020_data/data_20200724_final_field_install/preprocessed/20200727-0730_TRS_M00506_com3_inv_v.csv\n",
      "INFO:root: exists, skipping 2020_data/data_20200724_final_field_install/preprocessed/20200726-0730_TRS_M00506_com3_inv_v.csv\n",
      "INFO:root: exists, skipping 2020_data/data_20200724_final_field_install/preprocessed/20200726-0930_TRS_M00506_com3_inv_v.csv\n",
      "INFO:root: exists, skipping 2020_data/data_20200724_final_field_install/preprocessed/20200727-0130_TRS_M00506_com3_inv_v.csv\n",
      "INFO:root: exists, skipping 2020_data/data_20200724_final_field_install/preprocessed/20200727-0330_TRS_M00506_com3_inv_v.csv\n",
      "INFO:root: exists, skipping 2020_data/data_20200724_final_field_install/preprocessed/20200726-0600_TRS_M00506_com3_inv_v.csv\n",
      "INFO:root: exists, skipping 2020_data/data_20200724_final_field_install/preprocessed/20200726-0900_TRS_M00506_com3_inv_v.csv\n",
      "INFO:root: exists, skipping 2020_data/data_20200724_final_field_install/preprocessed/20200725-1030_TRS_M00506_com3_inv_v.csv\n",
      "INFO:root: exists, skipping 2020_data/data_20200724_final_field_install/preprocessed/20200725-1230_TRS_M00506_com3_inv_v.csv\n",
      "INFO:root: exists, skipping 2020_data/data_20200724_final_field_install/preprocessed/20200727-1230_TRS_M00506_com3_inv_v.csv\n",
      "INFO:root: exists, skipping 2020_data/data_20200724_final_field_install/preprocessed/20200726-1800_TRS_M00506_com3_inv_v.csv\n",
      "INFO:root: exists, skipping 2020_data/data_20200724_final_field_install/preprocessed/20200727-0200_TRS_M00506_com3_inv_v.csv\n",
      "INFO:root: exists, skipping 2020_data/data_20200724_final_field_install/preprocessed/20200728-0430_TRS_M00506_com3_inv_v.csv\n",
      "INFO:root: exists, skipping 2020_data/data_20200724_final_field_install/preprocessed/20200726-1930_TRS_M00506_com3_inv_v.csv\n",
      "INFO:root: exists, skipping 2020_data/data_20200724_final_field_install/preprocessed/20200727-0230_TRS_M00506_com3_inv_v.csv\n",
      "INFO:root: exists, skipping 2020_data/data_20200724_final_field_install/preprocessed/20200725-0300_TRS_M00506_com3_inv_v.csv\n",
      "INFO:root: exists, skipping 2020_data/data_20200724_final_field_install/preprocessed/20200724-1330_TRS_M00506_com3_inv_v.csv\n",
      "INFO:root: exists, skipping 2020_data/data_20200724_final_field_install/preprocessed/20200727-1300_TRS_M00506_com3_inv_v.csv\n",
      "INFO:root: exists, skipping 2020_data/data_20200724_final_field_install/preprocessed/20200728-0100_TRS_M00506_com3_inv_v.csv\n",
      "INFO:root: exists, skipping 2020_data/data_20200724_final_field_install/preprocessed/20200727-2130_TRS_M00506_com3_inv_v.csv\n",
      "INFO:root: exists, skipping 2020_data/data_20200724_final_field_install/preprocessed/20200724-2000_TRS_M00506_com3_inv_v.csv\n",
      "INFO:root: exists, skipping 2020_data/data_20200724_final_field_install/preprocessed/20200727-1100_TRS_M00506_com3_inv_v.csv\n",
      "INFO:root: exists, skipping 2020_data/data_20200724_final_field_install/preprocessed/20200725-0730_TRS_M00506_com3_inv_v.csv\n",
      "INFO:root: exists, skipping 2020_data/data_20200724_final_field_install/preprocessed/20200726-1430_TRS_M00506_com3_inv_v.csv\n",
      "INFO:root: exists, skipping 2020_data/data_20200724_final_field_install/preprocessed/20200725-0900_TRS_M00506_com3_inv_v.csv\n",
      "INFO:root: exists, skipping 2020_data/data_20200724_final_field_install/preprocessed/20200724-1400_TRS_M00506_com3_inv_v.csv\n",
      "INFO:root: exists, skipping 2020_data/data_20200724_final_field_install/preprocessed/20200724-1530_TRS_M00506_com3_inv_v.csv\n",
      "INFO:root: exists, skipping 2020_data/data_20200724_final_field_install/preprocessed/20200728-0130_TRS_M00506_com3_inv_v.csv\n",
      "INFO:root: exists, skipping 2020_data/data_20200724_final_field_install/preprocessed/20200726-1230_TRS_M00506_com3_inv_v.csv\n",
      "INFO:root: exists, skipping 2020_data/data_20200724_final_field_install/preprocessed/20200724-1300_TRS_M00506_com3_inv_v.csv\n",
      "INFO:root: exists, skipping 2020_data/data_20200724_final_field_install/preprocessed/20200726-0630_TRS_M00506_com3_inv_v.csv\n",
      "INFO:root: exists, skipping 2020_data/data_20200724_final_field_install/preprocessed/20200725-1200_TRS_M00506_com3_inv_v.csv\n",
      "INFO:root: exists, skipping 2020_data/data_20200724_final_field_install/preprocessed/20200728-0500_TRS_M00506_com3_inv_v.csv\n",
      "INFO:root: exists, skipping 2020_data/data_20200724_final_field_install/preprocessed/20200725-1830_TRS_M00506_com3_inv_v.csv\n",
      "INFO:root: exists, skipping 2020_data/data_20200724_final_field_install/preprocessed/20200727-1000_TRS_M00506_com3_inv_v.csv\n",
      "INFO:root: exists, skipping 2020_data/data_20200724_final_field_install/preprocessed/20200725-0530_TRS_M00506_com3_inv_v.csv\n",
      "INFO:root: exists, skipping 2020_data/data_20200724_final_field_install/preprocessed/20200727-0530_TRS_M00506_com3_inv_v.csv\n",
      "INFO:root: exists, skipping 2020_data/data_20200724_final_field_install/preprocessed/20200727-2330_TRS_M00506_com3_inv_v.csv\n",
      "INFO:root: exists, skipping 2020_data/data_20200724_final_field_install/preprocessed/20200728-0400_TRS_M00506_com3_inv_v.csv\n",
      "INFO:root: exists, skipping 2020_data/data_20200724_final_field_install/preprocessed/20200727-0630_TRS_M00506_com3_inv_v.csv\n",
      "INFO:root: exists, skipping 2020_data/data_20200724_final_field_install/preprocessed/20200728-0830_TRS_M00506_com3_inv_v.csv\n",
      "INFO:root: exists, skipping 2020_data/data_20200724_final_field_install/preprocessed/20200726-0100_TRS_M00506_com3_inv_v.csv\n",
      "INFO:root: exists, skipping 2020_data/data_20200724_final_field_install/preprocessed/20200727-2100_TRS_M00506_com3_inv_v.csv\n",
      "INFO:root: exists, skipping 2020_data/data_20200724_final_field_install/preprocessed/20200725-0500_TRS_M00506_com3_inv_v.csv\n",
      "INFO:root: exists, skipping 2020_data/data_20200724_final_field_install/preprocessed/20200728-1100_TRS_M00506_com3_inv_v.csv\n",
      "INFO:root: exists, skipping 2020_data/data_20200724_final_field_install/preprocessed/20200727-1500_TRS_M00506_com3_inv_v.csv\n",
      "INFO:root: exists, skipping 2020_data/data_20200724_final_field_install/preprocessed/20200725-0600_TRS_M00506_com3_inv_v.csv\n",
      "INFO:root: exists, skipping 2020_data/data_20200724_final_field_install/preprocessed/20200728-1400_TRS_M00506_com3_inv_v.csv\n",
      "INFO:root: exists, skipping 2020_data/data_20200724_final_field_install/preprocessed/20200727-1400_TRS_M00506_com3_inv_v.csv\n",
      "INFO:root: exists, skipping 2020_data/data_20200724_final_field_install/preprocessed/20200726-2330_TRS_M00506_com3_inv_v.csv\n",
      "INFO:root: exists, skipping 2020_data/data_20200724_final_field_install/preprocessed/20200724-1600_TRS_M00506_com3_inv_v.csv\n",
      "INFO:root: exists, skipping 2020_data/data_20200724_final_field_install/preprocessed/20200724-2130_TRS_M00506_com3_inv_v.csv\n",
      "INFO:root: exists, skipping 2020_data/data_20200724_final_field_install/preprocessed/20200728-0800_TRS_M00506_com3_inv_v.csv\n",
      "INFO:root: exists, skipping 2020_data/data_20200724_final_field_install/preprocessed/20200726-1630_TRS_M00506_com3_inv_v.csv\n",
      "INFO:root: exists, skipping 2020_data/data_20200724_final_field_install/preprocessed/20200724-1930_TRS_M00506_com3_inv_v.csv\n",
      "INFO:root: exists, skipping 2020_data/data_20200724_final_field_install/preprocessed/20200727-0430_TRS_M00506_com3_inv_v.csv\n",
      "INFO:root: exists, skipping 2020_data/data_20200724_final_field_install/preprocessed/20200726-0000_TRS_M00506_com3_inv_v.csv\n",
      "INFO:root: exists, skipping 2020_data/data_20200724_final_field_install/preprocessed/20200726-1330_TRS_M00506_com3_inv_v.csv\n",
      "INFO:root: exists, skipping 2020_data/data_20200724_final_field_install/preprocessed/20200725-1500_TRS_M00506_com3_inv_v.csv\n",
      "INFO:root: exists, skipping 2020_data/data_20200724_final_field_install/preprocessed/20200725-0030_TRS_M00506_com3_inv_v.csv\n",
      "INFO:root: exists, skipping 2020_data/data_20200724_final_field_install/preprocessed/20200725-2300_TRS_M00506_com3_inv_v.csv\n",
      "INFO:root: exists, skipping 2020_data/data_20200724_final_field_install/preprocessed/20200727-0800_TRS_M00506_com3_inv_v.csv\n",
      "INFO:root: exists, skipping 2020_data/data_20200724_final_field_install/preprocessed/20200724-2100_TRS_M00506_com3_inv_v.csv\n",
      "INFO:root: exists, skipping 2020_data/data_20200724_final_field_install/preprocessed/20200724-1900_TRS_M00506_com3_inv_v.csv\n",
      "INFO:root: exists, skipping 2020_data/data_20200724_final_field_install/preprocessed/20200725-0200_TRS_M00506_com3_inv_v.csv\n",
      "INFO:root: exists, skipping 2020_data/data_20200724_final_field_install/preprocessed/20200728-1500_TRS_M00506_com3_inv_v.csv\n",
      "INFO:root: exists, skipping 2020_data/data_20200724_final_field_install/preprocessed/20200726-0230_TRS_M00506_com3_inv_v.csv\n"
     ]
    }
   ],
   "source": [
    "main()"
   ]
  },
  {
   "cell_type": "markdown",
   "metadata": {},
   "source": [
    "# OLD Testing -> can be discarded"
   ]
  },
  {
   "cell_type": "code",
   "execution_count": null,
   "metadata": {},
   "outputs": [],
   "source": [
    "f = Path(\"2020_data/data_20200724_final_field_install/raw/20200724-1300_TRS_M00506_com3.raw\")"
   ]
  },
  {
   "cell_type": "code",
   "execution_count": null,
   "metadata": {},
   "outputs": [],
   "source": [
    "def printme(*args, **kwargs):\n",
    "    print(args, kwargs)"
   ]
  },
  {
   "cell_type": "code",
   "execution_count": null,
   "metadata": {},
   "outputs": [
    {
     "name": "stdout",
     "output_type": "stream",
     "text": [
      "((10, 12, 14, 16), <function process_trs1 at 0x7f0b080ece60>, PosixPath('2020_data/dati_test1_20200723/20200722-1734_TRS_M00506_com3.raw'))\n",
      "((10, 12, 14, 16), <function process_m507 at 0x7f0b081287a0>, PosixPath('2020_data/dati_test1_20200723/20200722-1734_TRS_M00506_com3.raw'))\n"
     ]
    }
   ],
   "source": [
    "for setg in settings.values():\n",
    "    \n",
    "    proc = partial(printme, usecols=setg[\"usecols\"], setg[\"processor\"])\n",
    "    proc(f)"
   ]
  },
  {
   "cell_type": "code",
   "execution_count": null,
   "metadata": {},
   "outputs": [],
   "source": [
    "# tested parsing using pandas but not working"
   ]
  },
  {
   "cell_type": "code",
   "execution_count": null,
   "metadata": {},
   "outputs": [],
   "source": [
    "data = np.genfromtxt(f, usecols=(10, 12, 14, 16), invalid_raise=False)[:, [u,v, w]]\n",
    "data = pd.DataFrame(data)\n",
    "data.columns = ['u','v', 'w']"
   ]
  },
  {
   "cell_type": "code",
   "execution_count": null,
   "metadata": {},
   "outputs": [
    {
     "data": {
      "text/html": [
       "<div>\n",
       "<style scoped>\n",
       "    .dataframe tbody tr th:only-of-type {\n",
       "        vertical-align: middle;\n",
       "    }\n",
       "\n",
       "    .dataframe tbody tr th {\n",
       "        vertical-align: top;\n",
       "    }\n",
       "\n",
       "    .dataframe thead th {\n",
       "        text-align: right;\n",
       "    }\n",
       "</style>\n",
       "<table border=\"1\" class=\"dataframe\">\n",
       "  <thead>\n",
       "    <tr style=\"text-align: right;\">\n",
       "      <th></th>\n",
       "      <th>u</th>\n",
       "      <th>v</th>\n",
       "      <th>w</th>\n",
       "    </tr>\n",
       "  </thead>\n",
       "  <tbody>\n",
       "    <tr>\n",
       "      <th>0</th>\n",
       "      <td>2.89</td>\n",
       "      <td>1.32</td>\n",
       "      <td>0.38</td>\n",
       "    </tr>\n",
       "    <tr>\n",
       "      <th>1</th>\n",
       "      <td>3.75</td>\n",
       "      <td>1.44</td>\n",
       "      <td>0.19</td>\n",
       "    </tr>\n",
       "    <tr>\n",
       "      <th>2</th>\n",
       "      <td>3.37</td>\n",
       "      <td>0.38</td>\n",
       "      <td>0.06</td>\n",
       "    </tr>\n",
       "    <tr>\n",
       "      <th>3</th>\n",
       "      <td>2.87</td>\n",
       "      <td>1.72</td>\n",
       "      <td>0.09</td>\n",
       "    </tr>\n",
       "    <tr>\n",
       "      <th>4</th>\n",
       "      <td>3.40</td>\n",
       "      <td>1.26</td>\n",
       "      <td>0.46</td>\n",
       "    </tr>\n",
       "    <tr>\n",
       "      <th>...</th>\n",
       "      <td>...</td>\n",
       "      <td>...</td>\n",
       "      <td>...</td>\n",
       "    </tr>\n",
       "    <tr>\n",
       "      <th>17995</th>\n",
       "      <td>1.91</td>\n",
       "      <td>1.00</td>\n",
       "      <td>-0.77</td>\n",
       "    </tr>\n",
       "    <tr>\n",
       "      <th>17996</th>\n",
       "      <td>2.92</td>\n",
       "      <td>1.17</td>\n",
       "      <td>-0.06</td>\n",
       "    </tr>\n",
       "    <tr>\n",
       "      <th>17997</th>\n",
       "      <td>3.43</td>\n",
       "      <td>1.85</td>\n",
       "      <td>0.32</td>\n",
       "    </tr>\n",
       "    <tr>\n",
       "      <th>17998</th>\n",
       "      <td>3.54</td>\n",
       "      <td>0.37</td>\n",
       "      <td>0.18</td>\n",
       "    </tr>\n",
       "    <tr>\n",
       "      <th>17999</th>\n",
       "      <td>3.90</td>\n",
       "      <td>-0.04</td>\n",
       "      <td>0.05</td>\n",
       "    </tr>\n",
       "  </tbody>\n",
       "</table>\n",
       "<p>18000 rows × 3 columns</p>\n",
       "</div>"
      ],
      "text/plain": [
       "          u     v     w\n",
       "0      2.89  1.32  0.38\n",
       "1      3.75  1.44  0.19\n",
       "2      3.37  0.38  0.06\n",
       "3      2.87  1.72  0.09\n",
       "4      3.40  1.26  0.46\n",
       "...     ...   ...   ...\n",
       "17995  1.91  1.00 -0.77\n",
       "17996  2.92  1.17 -0.06\n",
       "17997  3.43  1.85  0.32\n",
       "17998  3.54  0.37  0.18\n",
       "17999  3.90 -0.04  0.05\n",
       "\n",
       "[18000 rows x 3 columns]"
      ]
     },
     "execution_count": null,
     "metadata": {},
     "output_type": "execute_result"
    }
   ],
   "source": [
    "data"
   ]
  },
  {
   "cell_type": "code",
   "execution_count": null,
   "metadata": {},
   "outputs": [],
   "source": [
    "def direction(wind):\n",
    "    return np.rad2deg(np.arctan2(wind[:, v], wind[:, u]))"
   ]
  },
  {
   "cell_type": "code",
   "execution_count": null,
   "metadata": {},
   "outputs": [],
   "source": [
    "def to_polar(data):\n",
    "    x = data[:, u]\n",
    "    y = data[:, v]\n",
    "    return np.column_stack([np.sqrt(x**2+y**2), np.rad2deg(np.arctan2(y,x))])"
   ]
  },
  {
   "cell_type": "code",
   "execution_count": null,
   "metadata": {},
   "outputs": [],
   "source": [
    "def wind_dir(wind):\n",
    "    return np.rad2deg(np.pi - np.rad2deg((np.arctan2(wind[:, v], wind[:, u]))))"
   ]
  },
  {
   "cell_type": "code",
   "execution_count": null,
   "metadata": {},
   "outputs": [
    {
     "data": {
      "text/plain": [
       "array([155.4515727 , 158.99321057, 173.56652312, ..., 151.65941401,\n",
       "       174.03312328, 180.58762842])"
      ]
     },
     "execution_count": null,
     "metadata": {},
     "output_type": "execute_result"
    }
   ],
   "source": [
    "wind_dir(data)"
   ]
  },
  {
   "cell_type": "code",
   "execution_count": null,
   "metadata": {},
   "outputs": [
    {
     "data": {
      "text/plain": [
       "array([24.5484273 , 21.00678943,  6.43347688, ..., 28.34058599,\n",
       "        5.96687672, -0.58762842])"
      ]
     },
     "execution_count": null,
     "metadata": {},
     "output_type": "execute_result"
    }
   ],
   "source": [
    "np.rad2deg(to_polar(data)[:, 1])"
   ]
  },
  {
   "cell_type": "code",
   "execution_count": null,
   "metadata": {},
   "outputs": [
    {
     "data": {
      "text/plain": [
       "array([24.5484273 , 21.00678943,  6.43347688, ..., 28.34058599,\n",
       "        5.96687672, -0.58762842])"
      ]
     },
     "execution_count": null,
     "metadata": {},
     "output_type": "execute_result"
    }
   ],
   "source": [
    "direction(data)"
   ]
  },
  {
   "cell_type": "code",
   "execution_count": null,
   "metadata": {},
   "outputs": [],
   "source": [
    "rot = rotate(data, 60, [u,v])"
   ]
  },
  {
   "cell_type": "code",
   "execution_count": null,
   "metadata": {},
   "outputs": [
    {
     "data": {
      "text/plain": [
       "-22.246770784939237"
      ]
     },
     "execution_count": null,
     "metadata": {},
     "output_type": "execute_result"
    }
   ],
   "source": [
    "(direction(rot) - direction(data)).mean()"
   ]
  },
  {
   "cell_type": "code",
   "execution_count": null,
   "metadata": {},
   "outputs": [],
   "source": [
    "rot = R.from_rotvec([0, np.pi/4,1])"
   ]
  },
  {
   "cell_type": "code",
   "execution_count": null,
   "metadata": {},
   "outputs": [],
   "source": [
    "rot = to_polar(rotate(data, 90, [u,v]))"
   ]
  },
  {
   "cell_type": "code",
   "execution_count": null,
   "metadata": {},
   "outputs": [],
   "source": [
    "org = to_polar(data)"
   ]
  },
  {
   "cell_type": "code",
   "execution_count": null,
   "metadata": {},
   "outputs": [],
   "source": [
    "def wrap(polar_wind):\n",
    "    polar_wind[:, 1] = polar_wind[:, 1] % 360\n",
    "    return polar_wind"
   ]
  },
  {
   "cell_type": "code",
   "execution_count": null,
   "metadata": {},
   "outputs": [
    {
     "data": {
      "text/plain": [
       "array([[   3.17718429,  -92.07172887],\n",
       "       [   4.01697647,  -95.61336675],\n",
       "       [   3.39135666, -110.1866793 ],\n",
       "       ...,\n",
       "       [   3.89710149,  -88.27957019],\n",
       "       [   3.55928364, -110.65327946],\n",
       "       [   3.90020512, -117.20778459]])"
      ]
     },
     "execution_count": null,
     "metadata": {},
     "output_type": "execute_result"
    }
   ],
   "source": [
    "to_polar(rotate(data, 90, [u,v]))"
   ]
  },
  {
   "cell_type": "code",
   "execution_count": null,
   "metadata": {},
   "outputs": [
    {
     "data": {
      "text/plain": [
       "array([[  3.17718429, 267.92827113],\n",
       "       [  4.01697647, 264.38663325],\n",
       "       [  3.39135666, 249.8133207 ],\n",
       "       ...,\n",
       "       [  3.89710149, 271.72042981],\n",
       "       [  3.55928364, 249.34672054],\n",
       "       [  3.90020512, 242.79221541]])"
      ]
     },
     "execution_count": null,
     "metadata": {},
     "output_type": "execute_result"
    }
   ],
   "source": [
    "rot = wrap(rot); rot"
   ]
  },
  {
   "cell_type": "code",
   "execution_count": null,
   "metadata": {},
   "outputs": [
    {
     "data": {
      "text/plain": [
       "array([[  3.17718429,  24.5484273 ],\n",
       "       [  4.01697647,  21.00678943],\n",
       "       [  3.39135666,   6.43347688],\n",
       "       ...,\n",
       "       [  3.89710149,  28.34058599],\n",
       "       [  3.55928364,   5.96687672],\n",
       "       [  3.90020512, 359.41237158]])"
      ]
     },
     "execution_count": null,
     "metadata": {},
     "output_type": "execute_result"
    }
   ],
   "source": [
    "org = wrap(org); org"
   ]
  },
  {
   "cell_type": "code",
   "execution_count": null,
   "metadata": {},
   "outputs": [
    {
     "data": {
      "text/plain": [
       "array([[ 0.00000000e+00,  2.43379844e+02],\n",
       "       [ 0.00000000e+00,  2.43379844e+02],\n",
       "       [-4.44089210e-16,  2.43379844e+02],\n",
       "       ...,\n",
       "       [ 0.00000000e+00,  2.43379844e+02],\n",
       "       [-4.44089210e-16,  2.43379844e+02],\n",
       "       [ 0.00000000e+00,  2.43379844e+02]])"
      ]
     },
     "execution_count": null,
     "metadata": {},
     "output_type": "execute_result"
    }
   ],
   "source": [
    "wrap(rot - org)"
   ]
  },
  {
   "cell_type": "code",
   "execution_count": null,
   "metadata": {},
   "outputs": [
    {
     "data": {
      "text/plain": [
       "array([[  0, 243],\n",
       "       [  0, 243],\n",
       "       [  0, 243],\n",
       "       ...,\n",
       "       [  0, 243],\n",
       "       [  0, 243],\n",
       "       [  0, 243]])"
      ]
     },
     "execution_count": null,
     "metadata": {},
     "output_type": "execute_result"
    }
   ],
   "source": [
    "diff = wrap(rot - org).astype(np.int); diff"
   ]
  },
  {
   "cell_type": "code",
   "execution_count": null,
   "metadata": {},
   "outputs": [
    {
     "data": {
      "text/plain": [
       "array([[  0, 243],\n",
       "       [  0, 243],\n",
       "       [  0, 243],\n",
       "       [  0, 243],\n",
       "       [  0, 243],\n",
       "       [  0, 243],\n",
       "       [  0, 243],\n",
       "       [  0, 243],\n",
       "       [  0, 243],\n",
       "       [  0, 243],\n",
       "       [  0, 243],\n",
       "       [  0, 243],\n",
       "       [  0, 243],\n",
       "       [  0, 243],\n",
       "       [  0, 243],\n",
       "       [  0, 243],\n",
       "       [  0, 243],\n",
       "       [  0, 243],\n",
       "       [  0, 243],\n",
       "       [  0, 243],\n",
       "       [  0, 243],\n",
       "       [  0, 243],\n",
       "       [  0, 243],\n",
       "       [  0, 243],\n",
       "       [  0, 243],\n",
       "       [  0, 243],\n",
       "       [  0, 243],\n",
       "       [  0, 243],\n",
       "       [  0, 243],\n",
       "       [  0, 243],\n",
       "       [  0, 243],\n",
       "       [  0, 243],\n",
       "       [  0, 243],\n",
       "       [  0, 243],\n",
       "       [  0, 243],\n",
       "       [  0, 243],\n",
       "       [  0, 243],\n",
       "       [  0, 243],\n",
       "       [  0, 243],\n",
       "       [  0, 243],\n",
       "       [  0, 243],\n",
       "       [  0, 243],\n",
       "       [  0, 243],\n",
       "       [  0, 243],\n",
       "       [  0, 243],\n",
       "       [  0, 243],\n",
       "       [  0, 243],\n",
       "       [  0, 243],\n",
       "       [  0, 243],\n",
       "       [  0, 243],\n",
       "       [  0, 243],\n",
       "       [  0, 243],\n",
       "       [  0, 243],\n",
       "       [  0, 243],\n",
       "       [  0, 243],\n",
       "       [  0, 243],\n",
       "       [  0, 243],\n",
       "       [  0, 243],\n",
       "       [  0, 243],\n",
       "       [  0, 243],\n",
       "       [  0, 243],\n",
       "       [  0, 243],\n",
       "       [  0, 243],\n",
       "       [  0, 243],\n",
       "       [  0, 243],\n",
       "       [  0, 243],\n",
       "       [  0, 243],\n",
       "       [  0, 243],\n",
       "       [  0, 243],\n",
       "       [  0, 243],\n",
       "       [  0, 243],\n",
       "       [  0, 243],\n",
       "       [  0, 243],\n",
       "       [  0, 243],\n",
       "       [  0, 243],\n",
       "       [  0, 243],\n",
       "       [  0, 243],\n",
       "       [  0, 243],\n",
       "       [  0, 243],\n",
       "       [  0, 243],\n",
       "       [  0, 243],\n",
       "       [  0, 243],\n",
       "       [  0, 243],\n",
       "       [  0, 243],\n",
       "       [  0, 243],\n",
       "       [  0, 243],\n",
       "       [  0, 243],\n",
       "       [  0, 243],\n",
       "       [  0, 243],\n",
       "       [  0, 243],\n",
       "       [  0, 243],\n",
       "       [  0, 243],\n",
       "       [  0, 243],\n",
       "       [  0, 243],\n",
       "       [  0, 243],\n",
       "       [  0, 243],\n",
       "       [  0, 243],\n",
       "       [  0, 243],\n",
       "       [  0, 243],\n",
       "       [  0, 243]])"
      ]
     },
     "execution_count": null,
     "metadata": {},
     "output_type": "execute_result"
    }
   ],
   "source": [
    "diff[:100]"
   ]
  },
  {
   "cell_type": "code",
   "execution_count": null,
   "metadata": {},
   "outputs": [],
   "source": [
    "def cart2pol(x, y):\n",
    "    theta = np.arctan2(y,x)\n",
    "    r = np.sqrt(x**2+y**2)\n",
    "    return (theta, r)\n",
    "def pol2cart(theta, r):\n",
    "    x = np.cos(theta) * r\n",
    "    y = np.sin(theta) * r\n",
    "    return (x, y)"
   ]
  },
  {
   "cell_type": "code",
   "execution_count": null,
   "metadata": {},
   "outputs": [],
   "source": [
    "def rotate_ang(df, ang):\n",
    "    wind_dir, wind_speed = cart2pol(df.u, df.v)\n",
    "    wind_dir += np.deg2rad(ang)\n",
    "    return np.column_stack(pol2cart(wind_dir, wind_speed))"
   ]
  },
  {
   "cell_type": "code",
   "execution_count": null,
   "metadata": {},
   "outputs": [
    {
     "data": {
      "text/plain": [
       "array([[-1.32,  2.89],\n",
       "       [-1.44,  3.75],\n",
       "       [-0.38,  3.37],\n",
       "       ...,\n",
       "       [-1.85,  3.43],\n",
       "       [-0.37,  3.54],\n",
       "       [ 0.04,  3.9 ]])"
      ]
     },
     "execution_count": null,
     "metadata": {},
     "output_type": "execute_result"
    }
   ],
   "source": [
    "np.column_stack(rotate_ang(data, 90))"
   ]
  },
  {
   "cell_type": "code",
   "execution_count": null,
   "metadata": {},
   "outputs": [],
   "source": [
    "a = data.to_numpy()[:, [0,1]]"
   ]
  },
  {
   "cell_type": "code",
   "execution_count": null,
   "metadata": {},
   "outputs": [
    {
     "data": {
      "text/plain": [
       "array([[  3.17718429, 294.5484273 ],\n",
       "       [  4.01697647, 291.00678943],\n",
       "       [  3.39135666, 276.43347688],\n",
       "       ...,\n",
       "       [  3.89710149, 298.34058599],\n",
       "       [  3.55928364, 275.96687672],\n",
       "       [  3.90020512, 269.41237158]])"
      ]
     },
     "execution_count": null,
     "metadata": {},
     "output_type": "execute_result"
    }
   ],
   "source": [
    "rot = wrap(to_polar(rotate_ang(data, -90))); rot"
   ]
  },
  {
   "cell_type": "code",
   "execution_count": null,
   "metadata": {},
   "outputs": [
    {
     "data": {
      "text/plain": [
       "array([[  3.17718429,  24.5484273 ],\n",
       "       [  4.01697647,  21.00678943],\n",
       "       [  3.39135666,   6.43347688],\n",
       "       ...,\n",
       "       [  3.89710149,  28.34058599],\n",
       "       [  3.55928364,   5.96687672],\n",
       "       [  3.90020512, 359.41237158]])"
      ]
     },
     "execution_count": null,
     "metadata": {},
     "output_type": "execute_result"
    }
   ],
   "source": [
    "org = wrap(org); org"
   ]
  },
  {
   "cell_type": "code",
   "execution_count": null,
   "metadata": {},
   "outputs": [
    {
     "data": {
      "text/plain": [
       "array([[0.0000000e+00, 2.7000000e+02],\n",
       "       [0.0000000e+00, 2.7000000e+02],\n",
       "       [4.4408921e-16, 2.7000000e+02],\n",
       "       ...,\n",
       "       [0.0000000e+00, 2.7000000e+02],\n",
       "       [0.0000000e+00, 2.7000000e+02],\n",
       "       [0.0000000e+00, 2.7000000e+02]])"
      ]
     },
     "execution_count": null,
     "metadata": {},
     "output_type": "execute_result"
    }
   ],
   "source": [
    "wrap(rot - org)"
   ]
  },
  {
   "cell_type": "code",
   "execution_count": null,
   "metadata": {},
   "outputs": [
    {
     "data": {
      "text/plain": [
       "array([[  0, 270],\n",
       "       [  0, 270],\n",
       "       [  0, 270],\n",
       "       ...,\n",
       "       [  0, 270],\n",
       "       [  0, 270],\n",
       "       [  0, 270]])"
      ]
     },
     "execution_count": null,
     "metadata": {},
     "output_type": "execute_result"
    }
   ],
   "source": [
    "diff = wrap(rot - org).astype(np.int); diff"
   ]
  },
  {
   "cell_type": "code",
   "execution_count": null,
   "metadata": {},
   "outputs": [],
   "source": []
  },
  {
   "cell_type": "code",
   "execution_count": null,
   "metadata": {},
   "outputs": [],
   "source": [
    "import pandas as pd"
   ]
  },
  {
   "cell_type": "code",
   "execution_count": null,
   "metadata": {},
   "outputs": [],
   "source": [
    "diff = pd.DataFrame(rot -org)"
   ]
  },
  {
   "cell_type": "code",
   "execution_count": null,
   "metadata": {},
   "outputs": [
    {
     "data": {
      "text/plain": [
       "<AxesSubplot:>"
      ]
     },
     "execution_count": null,
     "metadata": {},
     "output_type": "execute_result"
    },
    {
     "data": {
      "image/png": "[encoded data removed]",
      "text/plain": [
       "<Figure size 432x288 with 1 Axes>"
      ]
     },
     "metadata": {
      "needs_background": "light"
     },
     "output_type": "display_data"
    }
   ],
   "source": [
    "diff[0].plot()"
   ]
  },
  {
   "cell_type": "code",
   "execution_count": null,
   "metadata": {},
   "outputs": [
    {
     "data": {
      "text/plain": [
       "<AxesSubplot:>"
      ]
     },
     "execution_count": null,
     "metadata": {},
     "output_type": "execute_result"
    },
    {
     "data": {
      "image/png": "[encoded data removed]",
      "text/plain": [
       "<Figure size 432x288 with 1 Axes>"
      ]
     },
     "metadata": {
      "needs_background": "light"
     },
     "output_type": "display_data"
    }
   ],
   "source": [
    "diff[1].plot()"
   ]
  },
  {
   "cell_type": "code",
   "execution_count": null,
   "metadata": {},
   "outputs": [
    {
     "data": {
      "text/html": [
       "<div>\n",
       "<style scoped>\n",
       "    .dataframe tbody tr th:only-of-type {\n",
       "        vertical-align: middle;\n",
       "    }\n",
       "\n",
       "    .dataframe tbody tr th {\n",
       "        vertical-align: top;\n",
       "    }\n",
       "\n",
       "    .dataframe thead th {\n",
       "        text-align: right;\n",
       "    }\n",
       "</style>\n",
       "<table border=\"1\" class=\"dataframe\">\n",
       "  <thead>\n",
       "    <tr style=\"text-align: right;\">\n",
       "      <th></th>\n",
       "      <th>0</th>\n",
       "      <th>1</th>\n",
       "    </tr>\n",
       "  </thead>\n",
       "  <tbody>\n",
       "    <tr>\n",
       "      <th>count</th>\n",
       "      <td>1.800000e+04</td>\n",
       "      <td>18000.000000</td>\n",
       "    </tr>\n",
       "    <tr>\n",
       "      <th>mean</th>\n",
       "      <td>-1.190163e-16</td>\n",
       "      <td>-95.000156</td>\n",
       "    </tr>\n",
       "    <tr>\n",
       "      <th>std</th>\n",
       "      <td>2.456228e-16</td>\n",
       "      <td>85.534683</td>\n",
       "    </tr>\n",
       "    <tr>\n",
       "      <th>min</th>\n",
       "      <td>-1.776357e-15</td>\n",
       "      <td>-116.620156</td>\n",
       "    </tr>\n",
       "    <tr>\n",
       "      <th>25%</th>\n",
       "      <td>-2.220446e-16</td>\n",
       "      <td>-116.620156</td>\n",
       "    </tr>\n",
       "    <tr>\n",
       "      <th>50%</th>\n",
       "      <td>0.000000e+00</td>\n",
       "      <td>-116.620156</td>\n",
       "    </tr>\n",
       "    <tr>\n",
       "      <th>75%</th>\n",
       "      <td>0.000000e+00</td>\n",
       "      <td>-116.620156</td>\n",
       "    </tr>\n",
       "    <tr>\n",
       "      <th>max</th>\n",
       "      <td>1.776357e-15</td>\n",
       "      <td>243.379844</td>\n",
       "    </tr>\n",
       "  </tbody>\n",
       "</table>\n",
       "</div>"
      ],
      "text/plain": [
       "                  0             1\n",
       "count  1.800000e+04  18000.000000\n",
       "mean  -1.190163e-16    -95.000156\n",
       "std    2.456228e-16     85.534683\n",
       "min   -1.776357e-15   -116.620156\n",
       "25%   -2.220446e-16   -116.620156\n",
       "50%    0.000000e+00   -116.620156\n",
       "75%    0.000000e+00   -116.620156\n",
       "max    1.776357e-15    243.379844"
      ]
     },
     "execution_count": null,
     "metadata": {},
     "output_type": "execute_result"
    }
   ],
   "source": [
    "diff.describe()"
   ]
  },
  {
   "cell_type": "code",
   "execution_count": null,
   "metadata": {},
   "outputs": [
    {
     "data": {
      "text/plain": [
       "array([[ 2.89,  1.32,  0.38],\n",
       "       [ 3.75,  1.44,  0.19],\n",
       "       [ 3.37,  0.38,  0.06],\n",
       "       ...,\n",
       "       [ 3.43,  1.85,  0.32],\n",
       "       [ 3.54,  0.37,  0.18],\n",
       "       [ 3.9 , -0.04,  0.05]])"
      ]
     },
     "execution_count": null,
     "metadata": {},
     "output_type": "execute_result"
    }
   ],
   "source": [
    "data"
   ]
  },
  {
   "cell_type": "code",
   "execution_count": null,
   "metadata": {},
   "outputs": [],
   "source": []
  }
 ],
 "metadata": {
  "kernelspec": {
   "display_name": "Python [conda env:root] *",
   "language": "python",
   "name": "conda-root-py"
  }
 },
 "nbformat": 4,
 "nbformat_minor": 4
}
