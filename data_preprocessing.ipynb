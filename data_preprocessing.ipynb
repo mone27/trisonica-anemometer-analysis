{
 "cells": [
  {
   "cell_type": "markdown",
   "metadata": {},
   "source": [
    "This notebook preprocessed raw trisonica data to adjust the reference system to the EP one "
   ]
  },
  {
   "cell_type": "code",
   "execution_count": null,
   "metadata": {},
   "outputs": [],
   "source": [
    "from pathlib import Path\n",
    "import numpy as np\n",
    "from multiprocessing import Pool\n",
    "import logging as log\n",
    "from functools import partial\n",
    "from wind_tools import get_wind_dir, filter_by_wind_dir_single, mod\n",
    "from scipy.spatial.transform import Rotation as R\n",
    "from copy import deepcopy\n",
    "log.basicConfig(level=log.INFO) #uncomment to see messages from extract\n",
    "# name_re = r\"*_TRS_M00506_com3.raw\"\n",
    "u, v, w = 0, 1, 2 #defing costants for accessing data"
   ]
  },
  {
   "cell_type": "code",
   "execution_count": null,
   "metadata": {},
   "outputs": [],
   "source": [
    "# in_dir = Path(\"2020_data/data_20200724_final_field_install/raw\")\n",
    "# out_dir = Path(\"2020_data/data_20200724_final_field_install/preprocessed\")"
   ]
  },
  {
   "cell_type": "code",
   "execution_count": null,
   "metadata": {},
   "outputs": [],
   "source": [
    "in_dir = Path(\"2020_data/data_field_v2_from_20208010/raw\")\n",
    "out_dir = Path(\"2020_data/data_field_v2_from_20208010/preprocessed\")"
   ]
  },
  {
   "cell_type": "markdown",
   "metadata": {},
   "source": [
    "In TRS default reference system, the u xis is inverted compared to the EP one, fix this"
   ]
  },
  {
   "cell_type": "code",
   "execution_count": null,
   "metadata": {},
   "outputs": [],
   "source": [
    "def process_m506(data):\n",
    "    # fix TRS1 u and v ax by inverting it, due to different coordinate system between trisonica and EP\n",
    "    data[:, u] = -1 * data[:, u]\n",
    "    data[:, v] = -1 * data[:, v]\n",
    "    return data"
   ]
  },
  {
   "cell_type": "code",
   "execution_count": null,
   "metadata": {},
   "outputs": [],
   "source": [
    "rot_m507 = R.from_euler('XYZ', [-100.,    0.,   32.], degrees=True)\n",
    "\n",
    "def process_m507(data):  \n",
    "    data[:, u] = -1 * data[:, u]\n",
    "    rot_data = data.copy() #to preserve temperature\n",
    "    rot_data[:, [u,v,w]] = rot_m507.apply(data[:, [u,v,w]])\n",
    "    \n",
    "    return rot_data\n"
   ]
  },
  {
   "cell_type": "code",
   "execution_count": null,
   "metadata": {},
   "outputs": [],
   "source": [
    "start_angle = 230\n",
    "range_angle = 30\n",
    "wm_basename = '_WM_174605_com1.raw'\n",
    "wm_offset = 310\n",
    "\n",
    "def wm_dir_filter(f):\n",
    "    \"\"\"f is the filename of another anemometer at the same time\"\"\"\n",
    "    wm_path = f.parent / (f.name[:13] + wm_basename) # the first 13 is the date info\n",
    "    wm = np.genfromtxt(wm_path, usecols=(2,3), invalid_raise=False, delimiter=',')\n",
    "    wd = mod(get_wind_dir(wm[:, 0], wm[:, 1]) + wm_offset)\n",
    "    return filter_by_wind_dir_single(wd, start_angle, range_angle) \n",
    "\n",
    "def get_filtered_proc(filt):\n",
    "    def _inner(data):\n",
    "        new_data = data\n",
    "        length = min(len(data), len(filt))\n",
    "        new_data[:length][~filt[:length ]] = -9999\n",
    "        return new_data\n",
    "    return _inner\n",
    "\n",
    "def extract_filtered(setting, f):\n",
    "    \n",
    "    filt = wm_dir_filter(f)\n",
    "    old_processor = deepcopy(getordef(setting, 'processor'))\n",
    "    def my_proc(data):\n",
    "        data = old_processor(data)\n",
    "        return get_filtered_proc(filt)(data)\n",
    "    setting['processor'] = my_proc\n",
    "    extract(setting,f)\n"
   ]
  },
  {
   "cell_type": "code",
   "execution_count": null,
   "metadata": {},
   "outputs": [],
   "source": [
    "def extract(setting, f):\n",
    "    usecols, delimiter, name_suffix, processor = map(partial(getordef, setting), ['usecols', 'delimiter', 'name_suffix', 'processor'])\n",
    "    # log.info(f\"opening {f}\")\n",
    "    out_name = out_dir / f\"{f.name[:-4]}{name_suffix}.csv\"\n",
    "    if out_name.exists():\n",
    "        log.debug(f\" exists, skipping {out_name}\")\n",
    "    else:\n",
    "        data = np.genfromtxt(f, usecols=usecols, invalid_raise=False, delimiter=delimiter)\n",
    "        data = processor(data)\n",
    "        np.savetxt(out_name, data, header=\"u,v,w,t\", delimiter=',', fmt='%2.2f', comments='')\n",
    "        log.info(f\"saved file {out_name}\")"
   ]
  },
  {
   "cell_type": "markdown",
   "metadata": {},
   "source": [
    "settings for each anemometer, the processor take in input an array where columns are u,v,w,t and returns a transformed array"
   ]
  },
  {
   "cell_type": "code",
   "execution_count": null,
   "metadata": {},
   "outputs": [],
   "source": [
    "def nothing(x): return x\n",
    "settings = {\n",
    "    'm506': {\n",
    "        'usecols': (10, 12, 14, 16),\n",
    "        'name_re': r\"*_TRS_M00506_com3.raw\",\n",
    "        'processor': process_m506\n",
    "        },\n",
    "    'm507': {\n",
    "        'usecols': (10, 12, 14, 16),\n",
    "        'name_re': r\"*_TRS_M00507_com2.raw\",\n",
    "        'processor': process_m507  \n",
    "    },\n",
    "    'm507_raw': { #Does nothing but allow to use EP to aggregate data\n",
    "        'usecols': (10, 12, 14, 16),\n",
    "        'name_re': r\"*_TRS_M00507_com2.raw\",\n",
    "        'processor': nothing,\n",
    "        'name_suffix': '_raw'\n",
    "    },\n",
    "    'm507_filtered':{\n",
    "        'usecols': (10, 12, 14, 16),\n",
    "        'name_re': r\"*_TRS_M00507_com2.raw\",\n",
    "        'extractor': extract_filtered,\n",
    "        'processor': process_m507,\n",
    "        'name_suffix': '_filtered_230_30',\n",
    "    },\n",
    "    'wm1_filtered':{\n",
    "        'usecols': (2,3, 4, 5),\n",
    "        'name_re': r\"*_WM_174605_com1.raw\",\n",
    "        'extractor': extract_filtered,\n",
    "        'name_suffix': '_filtered_230_30',\n",
    "        'delimiter': ','\n",
    "    }\n",
    "}\n",
    "\n",
    "settings_default = {\n",
    "        'usecols': (10, 12, 14, 16),\n",
    "        'processor': nothing,\n",
    "        'extractor': extract,\n",
    "        'name_suffix': '',\n",
    "        'delimiter': None\n",
    "    }\n",
    "\n",
    "\n",
    "#     'm506_v_inv': {\n",
    "#         'usecols': (10, 12, 14, 16),\n",
    "#         'name_re': r\"*_TRS_M00506_com3.raw\",\n",
    "#         'processor': process_trs1_inv_v,\n",
    "#         'name_suffix': '_inv_v'\n",
    "#     }\n",
    "\n",
    "\n",
    "# wm = {'usecols': ()}"
   ]
  },
  {
   "cell_type": "code",
   "execution_count": null,
   "metadata": {},
   "outputs": [],
   "source": [
    "def getordef(setg, item):\n",
    "    return setg.get(item, settings_default.get(item, \"\"))"
   ]
  },
  {
   "cell_type": "code",
   "execution_count": null,
   "metadata": {},
   "outputs": [],
   "source": [
    "def main():\n",
    "    print(\"starting processing...\")\n",
    "    if not out_dir.is_dir(): out_dir.mkdir(parents=True, exist_ok=True)\n",
    "    with Pool() as p:\n",
    "        for setg in settings.values():\n",
    "            proc = partial(getordef(setg, 'extractor'), setg)\n",
    "            p.map(proc, in_dir.glob(getordef(setg, \"name_re\")))\n",
    "    print(\"done\")\n",
    "    # for f in in_dir.glob(name_re):\n",
    "    #     extract(f)"
   ]
  },
  {
   "cell_type": "code",
   "execution_count": null,
   "metadata": {},
   "outputs": [
    {
     "name": "stdout",
     "output_type": "stream",
     "text": [
      "starting processing...\n"
     ]
    },
    {
     "name": "stderr",
     "output_type": "stream",
     "text": [
      "INFO:root:saved file 2020_data/data_field_v2_from_20208010/preprocessed/20200811-0630_TRS_M00506_com3.csv\n",
      "INFO:root:saved file 2020_data/data_field_v2_from_20208010/preprocessed/20200811-0400_TRS_M00506_com3.csv\n",
      "INFO:root:saved file 2020_data/data_field_v2_from_20208010/preprocessed/20200810-2030_TRS_M00506_com3.csv\n",
      "INFO:root:saved file 2020_data/data_field_v2_from_20208010/preprocessed/20200810-1700_TRS_M00506_com3.csv\n",
      "INFO:root:saved file 2020_data/data_field_v2_from_20208010/preprocessed/20200811-0500_TRS_M00506_com3.csv\n",
      "INFO:root:saved file 2020_data/data_field_v2_from_20208010/preprocessed/20200810-2300_TRS_M00506_com3.csv\n",
      "INFO:root:saved file 2020_data/data_field_v2_from_20208010/preprocessed/20200811-0830_TRS_M00506_com3.csv\n",
      "INFO:root:saved file 2020_data/data_field_v2_from_20208010/preprocessed/20200811-0930_TRS_M00506_com3.csv\n",
      "INFO:root:saved file 2020_data/data_field_v2_from_20208010/preprocessed/20200810-1830_TRS_M00506_com3.csv\n",
      "INFO:root:saved file 2020_data/data_field_v2_from_20208010/preprocessed/20200811-1130_TRS_M00506_com3.csv\n",
      "INFO:root:saved file 2020_data/data_field_v2_from_20208010/preprocessed/20200810-1430_TRS_M00506_com3.csv\n",
      "INFO:root:saved file 2020_data/data_field_v2_from_20208010/preprocessed/20200811-0730_TRS_M00506_com3.csv\n",
      "INFO:root:saved file 2020_data/data_field_v2_from_20208010/preprocessed/20200811-0330_TRS_M00506_com3.csv\n",
      "INFO:root:saved file 2020_data/data_field_v2_from_20208010/preprocessed/20200811-0000_TRS_M00506_com3.csv\n",
      "INFO:root:saved file 2020_data/data_field_v2_from_20208010/preprocessed/20200811-0130_TRS_M00506_com3.csv\n",
      "INFO:root:saved file 2020_data/data_field_v2_from_20208010/preprocessed/20200810-2330_TRS_M00506_com3.csv\n",
      "INFO:root:saved file 2020_data/data_field_v2_from_20208010/preprocessed/20200810-2000_TRS_M00506_com3.csv\n",
      "INFO:root:saved file 2020_data/data_field_v2_from_20208010/preprocessed/20200810-2100_TRS_M00506_com3.csv\n",
      "INFO:root:saved file 2020_data/data_field_v2_from_20208010/preprocessed/20200810-1930_TRS_M00506_com3.csv\n",
      "INFO:root:saved file 2020_data/data_field_v2_from_20208010/preprocessed/20200810-1500_TRS_M00506_com3.csv\n",
      "INFO:root:saved file 2020_data/data_field_v2_from_20208010/preprocessed/20200811-1030_TRS_M00506_com3.csv\n",
      "INFO:root:saved file 2020_data/data_field_v2_from_20208010/preprocessed/20200811-1200_TRS_M00506_com3.csv\n",
      "INFO:root:saved file 2020_data/data_field_v2_from_20208010/preprocessed/20200810-1630_TRS_M00506_com3.csv\n",
      "INFO:root:saved file 2020_data/data_field_v2_from_20208010/preprocessed/20200810-2200_TRS_M00506_com3.csv\n",
      "INFO:root:saved file 2020_data/data_field_v2_from_20208010/preprocessed/20200811-0100_TRS_M00506_com3.csv\n",
      "INFO:root:saved file 2020_data/data_field_v2_from_20208010/preprocessed/20200811-1000_TRS_M00506_com3.csv\n",
      "INFO:root:saved file 2020_data/data_field_v2_from_20208010/preprocessed/20200810-2230_TRS_M00506_com3.csv\n",
      "INFO:root:saved file 2020_data/data_field_v2_from_20208010/preprocessed/20200811-0430_TRS_M00506_com3.csv\n",
      "INFO:root:saved file 2020_data/data_field_v2_from_20208010/preprocessed/20200810-1730_TRS_M00506_com3.csv\n",
      "INFO:root:saved file 2020_data/data_field_v2_from_20208010/preprocessed/20200810-2130_TRS_M00506_com3.csv\n",
      "INFO:root:saved file 2020_data/data_field_v2_from_20208010/preprocessed/20200811-0230_TRS_M00506_com3.csv\n",
      "INFO:root:saved file 2020_data/data_field_v2_from_20208010/preprocessed/20200811-0800_TRS_M00506_com3.csv\n",
      "INFO:root:saved file 2020_data/data_field_v2_from_20208010/preprocessed/20200811-1100_TRS_M00506_com3.csv\n",
      "INFO:root:saved file 2020_data/data_field_v2_from_20208010/preprocessed/20200811-0900_TRS_M00506_com3.csv\n",
      "INFO:root:saved file 2020_data/data_field_v2_from_20208010/preprocessed/20200811-0030_TRS_M00506_com3.csv\n",
      "INFO:root:saved file 2020_data/data_field_v2_from_20208010/preprocessed/20200810-1600_TRS_M00506_com3.csv\n",
      "INFO:root:saved file 2020_data/data_field_v2_from_20208010/preprocessed/20200811-0700_TRS_M00506_com3.csv\n",
      "INFO:root:saved file 2020_data/data_field_v2_from_20208010/preprocessed/20200811-0200_TRS_M00506_com3.csv\n",
      "INFO:root:saved file 2020_data/data_field_v2_from_20208010/preprocessed/20200811-0600_TRS_M00506_com3.csv\n",
      "INFO:root:saved file 2020_data/data_field_v2_from_20208010/preprocessed/20200810-1800_TRS_M00506_com3.csv\n",
      "INFO:root:saved file 2020_data/data_field_v2_from_20208010/preprocessed/20200811-0300_TRS_M00506_com3.csv\n",
      "INFO:root:saved file 2020_data/data_field_v2_from_20208010/preprocessed/20200811-0530_TRS_M00506_com3.csv\n",
      "INFO:root:saved file 2020_data/data_field_v2_from_20208010/preprocessed/20200810-1530_TRS_M00506_com3.csv\n",
      "INFO:root:saved file 2020_data/data_field_v2_from_20208010/preprocessed/20200810-1900_TRS_M00506_com3.csv\n",
      "INFO:root:saved file 2020_data/data_field_v2_from_20208010/preprocessed/20200811-0030_TRS_M00507_com2.csv\n",
      "INFO:root:saved file 2020_data/data_field_v2_from_20208010/preprocessed/20200811-0830_TRS_M00507_com2.csv\n",
      "INFO:root:saved file 2020_data/data_field_v2_from_20208010/preprocessed/20200811-0700_TRS_M00507_com2.csv\n",
      "INFO:root:saved file 2020_data/data_field_v2_from_20208010/preprocessed/20200811-1030_TRS_M00507_com2.csv\n",
      "INFO:root:saved file 2020_data/data_field_v2_from_20208010/preprocessed/20200811-0100_TRS_M00507_com2.csv\n",
      "INFO:root:saved file 2020_data/data_field_v2_from_20208010/preprocessed/20200810-1500_TRS_M00507_com2.csv\n",
      "INFO:root:saved file 2020_data/data_field_v2_from_20208010/preprocessed/20200811-1000_TRS_M00507_com2.csv\n",
      "INFO:root:saved file 2020_data/data_field_v2_from_20208010/preprocessed/20200811-0730_TRS_M00507_com2.csv\n",
      "INFO:root:saved file 2020_data/data_field_v2_from_20208010/preprocessed/20200810-2200_TRS_M00507_com2.csv\n",
      "INFO:root:saved file 2020_data/data_field_v2_from_20208010/preprocessed/20200810-2230_TRS_M00507_com2.csv\n",
      "INFO:root:saved file 2020_data/data_field_v2_from_20208010/preprocessed/20200810-1800_TRS_M00507_com2.csv\n",
      "INFO:root:saved file 2020_data/data_field_v2_from_20208010/preprocessed/20200810-1900_TRS_M00507_com2.csv\n",
      "INFO:root:saved file 2020_data/data_field_v2_from_20208010/preprocessed/20200811-0630_TRS_M00507_com2.csv\n",
      "INFO:root:saved file 2020_data/data_field_v2_from_20208010/preprocessed/20200810-1700_TRS_M00507_com2.csv\n",
      "INFO:root:saved file 2020_data/data_field_v2_from_20208010/preprocessed/20200810-1930_TRS_M00507_com2.csv\n",
      "INFO:root:saved file 2020_data/data_field_v2_from_20208010/preprocessed/20200811-0600_TRS_M00507_com2.csv\n",
      "INFO:root:saved file 2020_data/data_field_v2_from_20208010/preprocessed/20200810-1730_TRS_M00507_com2.csv\n",
      "INFO:root:saved file 2020_data/data_field_v2_from_20208010/preprocessed/20200811-0200_TRS_M00507_com2.csv\n",
      "INFO:root:saved file 2020_data/data_field_v2_from_20208010/preprocessed/20200810-2030_TRS_M00507_com2.csv\n",
      "INFO:root:saved file 2020_data/data_field_v2_from_20208010/preprocessed/20200810-2100_TRS_M00507_com2.csv\n",
      "INFO:root:saved file 2020_data/data_field_v2_from_20208010/preprocessed/20200810-1630_TRS_M00507_com2.csv\n",
      "INFO:root:saved file 2020_data/data_field_v2_from_20208010/preprocessed/20200810-1600_TRS_M00507_com2.csv\n",
      "INFO:root:saved file 2020_data/data_field_v2_from_20208010/preprocessed/20200811-0900_TRS_M00507_com2.csv\n",
      "INFO:root:saved file 2020_data/data_field_v2_from_20208010/preprocessed/20200810-2130_TRS_M00507_com2.csv\n",
      "INFO:root:saved file 2020_data/data_field_v2_from_20208010/preprocessed/20200811-1130_TRS_M00507_com2.csv\n",
      "INFO:root:saved file 2020_data/data_field_v2_from_20208010/preprocessed/20200811-0300_TRS_M00507_com2.csv\n",
      "INFO:root:saved file 2020_data/data_field_v2_from_20208010/preprocessed/20200811-0500_TRS_M00507_com2.csv\n",
      "INFO:root:saved file 2020_data/data_field_v2_from_20208010/preprocessed/20200810-2330_TRS_M00507_com2.csv\n",
      "INFO:root:saved file 2020_data/data_field_v2_from_20208010/preprocessed/20200811-0930_TRS_M00507_com2.csv\n",
      "INFO:root:saved file 2020_data/data_field_v2_from_20208010/preprocessed/20200811-0400_TRS_M00507_com2.csv\n",
      "INFO:root:saved file 2020_data/data_field_v2_from_20208010/preprocessed/20200810-2300_TRS_M00507_com2.csv\n",
      "INFO:root:saved file 2020_data/data_field_v2_from_20208010/preprocessed/20200811-0000_TRS_M00507_com2.csv\n",
      "INFO:root:saved file 2020_data/data_field_v2_from_20208010/preprocessed/20200810-1830_TRS_M00507_com2.csv\n",
      "INFO:root:saved file 2020_data/data_field_v2_from_20208010/preprocessed/20200811-0430_TRS_M00507_com2.csv\n",
      "INFO:root:saved file 2020_data/data_field_v2_from_20208010/preprocessed/20200811-1200_TRS_M00507_com2.csv\n",
      "INFO:root:saved file 2020_data/data_field_v2_from_20208010/preprocessed/20200810-2000_TRS_M00507_com2.csv\n",
      "INFO:root:saved file 2020_data/data_field_v2_from_20208010/preprocessed/20200811-0130_TRS_M00507_com2.csv\n",
      "INFO:root:saved file 2020_data/data_field_v2_from_20208010/preprocessed/20200810-1530_TRS_M00507_com2.csv\n",
      "INFO:root:saved file 2020_data/data_field_v2_from_20208010/preprocessed/20200811-0530_TRS_M00507_com2.csv\n",
      "INFO:root:saved file 2020_data/data_field_v2_from_20208010/preprocessed/20200811-0800_TRS_M00507_com2.csv\n",
      "INFO:root:saved file 2020_data/data_field_v2_from_20208010/preprocessed/20200811-0230_TRS_M00507_com2.csv\n",
      "INFO:root:saved file 2020_data/data_field_v2_from_20208010/preprocessed/20200810-1430_TRS_M00507_com2.csv\n",
      "INFO:root:saved file 2020_data/data_field_v2_from_20208010/preprocessed/20200811-0330_TRS_M00507_com2.csv\n",
      "INFO:root:saved file 2020_data/data_field_v2_from_20208010/preprocessed/20200811-1100_TRS_M00507_com2.csv\n",
      "INFO:root:saved file 2020_data/data_field_v2_from_20208010/preprocessed/20200810-1800_TRS_M00507_com2_raw.csv\n",
      "INFO:root:saved file 2020_data/data_field_v2_from_20208010/preprocessed/20200810-1900_TRS_M00507_com2_raw.csv\n",
      "INFO:root:saved file 2020_data/data_field_v2_from_20208010/preprocessed/20200811-1000_TRS_M00507_com2_raw.csv\n",
      "INFO:root:saved file 2020_data/data_field_v2_from_20208010/preprocessed/20200810-2200_TRS_M00507_com2_raw.csv\n",
      "INFO:root:saved file 2020_data/data_field_v2_from_20208010/preprocessed/20200811-0830_TRS_M00507_com2_raw.csv\n",
      "INFO:root:saved file 2020_data/data_field_v2_from_20208010/preprocessed/20200811-0100_TRS_M00507_com2_raw.csv\n",
      "INFO:root:saved file 2020_data/data_field_v2_from_20208010/preprocessed/20200810-1500_TRS_M00507_com2_raw.csv\n",
      "INFO:root:saved file 2020_data/data_field_v2_from_20208010/preprocessed/20200811-0700_TRS_M00507_com2_raw.csv\n",
      "INFO:root:saved file 2020_data/data_field_v2_from_20208010/preprocessed/20200811-0730_TRS_M00507_com2_raw.csv\n",
      "INFO:root:saved file 2020_data/data_field_v2_from_20208010/preprocessed/20200811-0030_TRS_M00507_com2_raw.csv\n",
      "INFO:root:saved file 2020_data/data_field_v2_from_20208010/preprocessed/20200810-2230_TRS_M00507_com2_raw.csv\n",
      "INFO:root:saved file 2020_data/data_field_v2_from_20208010/preprocessed/20200811-1030_TRS_M00507_com2_raw.csv\n",
      "INFO:root:saved file 2020_data/data_field_v2_from_20208010/preprocessed/20200811-0600_TRS_M00507_com2_raw.csv\n",
      "INFO:root:saved file 2020_data/data_field_v2_from_20208010/preprocessed/20200810-1730_TRS_M00507_com2_raw.csv\n",
      "INFO:root:saved file 2020_data/data_field_v2_from_20208010/preprocessed/20200810-1930_TRS_M00507_com2_raw.csv\n",
      "INFO:root:saved file 2020_data/data_field_v2_from_20208010/preprocessed/20200810-1700_TRS_M00507_com2_raw.csv\n",
      "INFO:root:saved file 2020_data/data_field_v2_from_20208010/preprocessed/20200811-0630_TRS_M00507_com2_raw.csv\n",
      "INFO:root:saved file 2020_data/data_field_v2_from_20208010/preprocessed/20200810-1630_TRS_M00507_com2_raw.csv\n",
      "INFO:root:saved file 2020_data/data_field_v2_from_20208010/preprocessed/20200810-2030_TRS_M00507_com2_raw.csv\n",
      "INFO:root:saved file 2020_data/data_field_v2_from_20208010/preprocessed/20200810-2130_TRS_M00507_com2_raw.csv\n",
      "INFO:root:saved file 2020_data/data_field_v2_from_20208010/preprocessed/20200810-2100_TRS_M00507_com2_raw.csv\n",
      "INFO:root:saved file 2020_data/data_field_v2_from_20208010/preprocessed/20200810-1600_TRS_M00507_com2_raw.csv\n",
      "INFO:root:saved file 2020_data/data_field_v2_from_20208010/preprocessed/20200811-1130_TRS_M00507_com2_raw.csv\n",
      "INFO:root:saved file 2020_data/data_field_v2_from_20208010/preprocessed/20200811-0200_TRS_M00507_com2_raw.csv\n",
      "INFO:root:saved file 2020_data/data_field_v2_from_20208010/preprocessed/20200811-0300_TRS_M00507_com2_raw.csv\n",
      "INFO:root:saved file 2020_data/data_field_v2_from_20208010/preprocessed/20200811-0500_TRS_M00507_com2_raw.csv\n",
      "INFO:root:saved file 2020_data/data_field_v2_from_20208010/preprocessed/20200811-0930_TRS_M00507_com2_raw.csv\n",
      "INFO:root:saved file 2020_data/data_field_v2_from_20208010/preprocessed/20200811-0000_TRS_M00507_com2_raw.csv\n",
      "INFO:root:saved file 2020_data/data_field_v2_from_20208010/preprocessed/20200810-2330_TRS_M00507_com2_raw.csv\n",
      "INFO:root:saved file 2020_data/data_field_v2_from_20208010/preprocessed/20200810-2300_TRS_M00507_com2_raw.csv\n",
      "INFO:root:saved file 2020_data/data_field_v2_from_20208010/preprocessed/20200811-0900_TRS_M00507_com2_raw.csv\n",
      "INFO:root:saved file 2020_data/data_field_v2_from_20208010/preprocessed/20200811-0400_TRS_M00507_com2_raw.csv\n",
      "INFO:root:saved file 2020_data/data_field_v2_from_20208010/preprocessed/20200811-1100_TRS_M00507_com2_raw.csv\n",
      "INFO:root:saved file 2020_data/data_field_v2_from_20208010/preprocessed/20200811-1200_TRS_M00507_com2_raw.csv\n",
      "INFO:root:saved file 2020_data/data_field_v2_from_20208010/preprocessed/20200811-0430_TRS_M00507_com2_raw.csv\n",
      "INFO:root:saved file 2020_data/data_field_v2_from_20208010/preprocessed/20200810-1830_TRS_M00507_com2_raw.csv\n",
      "INFO:root:saved file 2020_data/data_field_v2_from_20208010/preprocessed/20200811-0130_TRS_M00507_com2_raw.csv\n",
      "INFO:root:saved file 2020_data/data_field_v2_from_20208010/preprocessed/20200810-2000_TRS_M00507_com2_raw.csv\n",
      "INFO:root:saved file 2020_data/data_field_v2_from_20208010/preprocessed/20200810-1430_TRS_M00507_com2_raw.csv\n",
      "INFO:root:saved file 2020_data/data_field_v2_from_20208010/preprocessed/20200811-0530_TRS_M00507_com2_raw.csv\n",
      "INFO:root:saved file 2020_data/data_field_v2_from_20208010/preprocessed/20200811-0230_TRS_M00507_com2_raw.csv\n",
      "INFO:root:saved file 2020_data/data_field_v2_from_20208010/preprocessed/20200811-0330_TRS_M00507_com2_raw.csv\n",
      "INFO:root:saved file 2020_data/data_field_v2_from_20208010/preprocessed/20200810-1530_TRS_M00507_com2_raw.csv\n",
      "INFO:root:saved file 2020_data/data_field_v2_from_20208010/preprocessed/20200811-0800_TRS_M00507_com2_raw.csv\n",
      "INFO:root:saved file 2020_data/data_field_v2_from_20208010/preprocessed/20200810-2230_TRS_M00507_com2_filtered_230_30.csv\n",
      "INFO:root:saved file 2020_data/data_field_v2_from_20208010/preprocessed/20200811-0830_TRS_M00507_com2_filtered_230_30.csv\n",
      "INFO:root:saved file 2020_data/data_field_v2_from_20208010/preprocessed/20200811-0030_TRS_M00507_com2_filtered_230_30.csv\n",
      "INFO:root:saved file 2020_data/data_field_v2_from_20208010/preprocessed/20200811-0100_TRS_M00507_com2_filtered_230_30.csv\n",
      "INFO:root:saved file 2020_data/data_field_v2_from_20208010/preprocessed/20200811-1000_TRS_M00507_com2_filtered_230_30.csv\n",
      "INFO:root:saved file 2020_data/data_field_v2_from_20208010/preprocessed/20200810-1800_TRS_M00507_com2_filtered_230_30.csv\n",
      "INFO:root:saved file 2020_data/data_field_v2_from_20208010/preprocessed/20200811-0730_TRS_M00507_com2_filtered_230_30.csv\n",
      "INFO:root:saved file 2020_data/data_field_v2_from_20208010/preprocessed/20200810-1900_TRS_M00507_com2_filtered_230_30.csv\n",
      "INFO:root:saved file 2020_data/data_field_v2_from_20208010/preprocessed/20200811-1030_TRS_M00507_com2_filtered_230_30.csv\n",
      "INFO:root:saved file 2020_data/data_field_v2_from_20208010/preprocessed/20200811-0700_TRS_M00507_com2_filtered_230_30.csv\n",
      "INFO:root:saved file 2020_data/data_field_v2_from_20208010/preprocessed/20200810-2200_TRS_M00507_com2_filtered_230_30.csv\n",
      "INFO:root:saved file 2020_data/data_field_v2_from_20208010/preprocessed/20200810-1500_TRS_M00507_com2_filtered_230_30.csv\n",
      "INFO:root:saved file 2020_data/data_field_v2_from_20208010/preprocessed/20200810-1730_TRS_M00507_com2_filtered_230_30.csv\n",
      "INFO:root:saved file 2020_data/data_field_v2_from_20208010/preprocessed/20200810-1930_TRS_M00507_com2_filtered_230_30.csv\n",
      "INFO:root:saved file 2020_data/data_field_v2_from_20208010/preprocessed/20200811-0600_TRS_M00507_com2_filtered_230_30.csv\n",
      "INFO:root:saved file 2020_data/data_field_v2_from_20208010/preprocessed/20200810-1630_TRS_M00507_com2_filtered_230_30.csv\n",
      "INFO:root:saved file 2020_data/data_field_v2_from_20208010/preprocessed/20200810-2130_TRS_M00507_com2_filtered_230_30.csv\n",
      "INFO:root:saved file 2020_data/data_field_v2_from_20208010/preprocessed/20200810-1700_TRS_M00507_com2_filtered_230_30.csv\n",
      "INFO:root:saved file 2020_data/data_field_v2_from_20208010/preprocessed/20200810-2100_TRS_M00507_com2_filtered_230_30.csv\n",
      "INFO:root:saved file 2020_data/data_field_v2_from_20208010/preprocessed/20200810-2030_TRS_M00507_com2_filtered_230_30.csv\n",
      "INFO:root:saved file 2020_data/data_field_v2_from_20208010/preprocessed/20200811-1130_TRS_M00507_com2_filtered_230_30.csv\n",
      "INFO:root:saved file 2020_data/data_field_v2_from_20208010/preprocessed/20200811-0630_TRS_M00507_com2_filtered_230_30.csv\n",
      "INFO:root:saved file 2020_data/data_field_v2_from_20208010/preprocessed/20200811-0200_TRS_M00507_com2_filtered_230_30.csv\n",
      "INFO:root:saved file 2020_data/data_field_v2_from_20208010/preprocessed/20200810-1600_TRS_M00507_com2_filtered_230_30.csv\n",
      "INFO:root:saved file 2020_data/data_field_v2_from_20208010/preprocessed/20200811-0900_TRS_M00507_com2_filtered_230_30.csv\n",
      "INFO:root:saved file 2020_data/data_field_v2_from_20208010/preprocessed/20200811-0930_TRS_M00507_com2_filtered_230_30.csv\n",
      "INFO:root:saved file 2020_data/data_field_v2_from_20208010/preprocessed/20200811-0500_TRS_M00507_com2_filtered_230_30.csv\n",
      "INFO:root:saved file 2020_data/data_field_v2_from_20208010/preprocessed/20200811-0000_TRS_M00507_com2_filtered_230_30.csv\n",
      "INFO:root:saved file 2020_data/data_field_v2_from_20208010/preprocessed/20200810-2330_TRS_M00507_com2_filtered_230_30.csv\n",
      "INFO:root:saved file 2020_data/data_field_v2_from_20208010/preprocessed/20200811-0300_TRS_M00507_com2_filtered_230_30.csv\n",
      "INFO:root:saved file 2020_data/data_field_v2_from_20208010/preprocessed/20200811-0430_TRS_M00507_com2_filtered_230_30.csv\n",
      "INFO:root:saved file 2020_data/data_field_v2_from_20208010/preprocessed/20200811-0400_TRS_M00507_com2_filtered_230_30.csv\n",
      "INFO:root:saved file 2020_data/data_field_v2_from_20208010/preprocessed/20200810-2300_TRS_M00507_com2_filtered_230_30.csv\n",
      "INFO:root:saved file 2020_data/data_field_v2_from_20208010/preprocessed/20200811-1200_TRS_M00507_com2_filtered_230_30.csv\n",
      "INFO:root:saved file 2020_data/data_field_v2_from_20208010/preprocessed/20200810-2000_TRS_M00507_com2_filtered_230_30.csv\n",
      "INFO:root:saved file 2020_data/data_field_v2_from_20208010/preprocessed/20200810-1830_TRS_M00507_com2_filtered_230_30.csv\n",
      "INFO:root:saved file 2020_data/data_field_v2_from_20208010/preprocessed/20200811-0530_TRS_M00507_com2_filtered_230_30.csv\n",
      "INFO:root:saved file 2020_data/data_field_v2_from_20208010/preprocessed/20200811-0130_TRS_M00507_com2_filtered_230_30.csv\n",
      "INFO:root:saved file 2020_data/data_field_v2_from_20208010/preprocessed/20200810-1430_TRS_M00507_com2_filtered_230_30.csv\n",
      "INFO:root:saved file 2020_data/data_field_v2_from_20208010/preprocessed/20200811-1100_TRS_M00507_com2_filtered_230_30.csv\n",
      "INFO:root:saved file 2020_data/data_field_v2_from_20208010/preprocessed/20200811-0330_TRS_M00507_com2_filtered_230_30.csv\n",
      "INFO:root:saved file 2020_data/data_field_v2_from_20208010/preprocessed/20200811-0230_TRS_M00507_com2_filtered_230_30.csv\n",
      "INFO:root:saved file 2020_data/data_field_v2_from_20208010/preprocessed/20200810-1530_TRS_M00507_com2_filtered_230_30.csv\n",
      "INFO:root:saved file 2020_data/data_field_v2_from_20208010/preprocessed/20200811-0800_TRS_M00507_com2_filtered_230_30.csv\n",
      "INFO:root:saved file 2020_data/data_field_v2_from_20208010/preprocessed/20200810-1430_WM_174605_com1_filtered_230_30.csv\n",
      "INFO:root:saved file 2020_data/data_field_v2_from_20208010/preprocessed/20200810-1500_WM_174605_com1_filtered_230_30.csv\n",
      "INFO:root:saved file 2020_data/data_field_v2_from_20208010/preprocessed/20200811-0430_WM_174605_com1_filtered_230_30.csv\n",
      "INFO:root:saved file 2020_data/data_field_v2_from_20208010/preprocessed/20200811-0900_WM_174605_com1_filtered_230_30.csv\n",
      "INFO:root:saved file 2020_data/data_field_v2_from_20208010/preprocessed/20200810-1600_WM_174605_com1_filtered_230_30.csv\n",
      "INFO:root:saved file 2020_data/data_field_v2_from_20208010/preprocessed/20200811-0300_WM_174605_com1_filtered_230_30.csv\n",
      "INFO:root:saved file 2020_data/data_field_v2_from_20208010/preprocessed/20200811-1200_WM_174605_com1_filtered_230_30.csv\n",
      "INFO:root:saved file 2020_data/data_field_v2_from_20208010/preprocessed/20200811-0400_WM_174605_com1_filtered_230_30.csv\n",
      "INFO:root:saved file 2020_data/data_field_v2_from_20208010/preprocessed/20200810-1900_WM_174605_com1_filtered_230_30.csv\n",
      "INFO:root:saved file 2020_data/data_field_v2_from_20208010/preprocessed/20200810-1800_WM_174605_com1_filtered_230_30.csv\n",
      "INFO:root:saved file 2020_data/data_field_v2_from_20208010/preprocessed/20200810-1630_WM_174605_com1_filtered_230_30.csv\n",
      "INFO:root:saved file 2020_data/data_field_v2_from_20208010/preprocessed/20200810-2230_WM_174605_com1_filtered_230_30.csv\n",
      "INFO:root:saved file 2020_data/data_field_v2_from_20208010/preprocessed/20200811-0100_WM_174605_com1_filtered_230_30.csv\n",
      "INFO:root:saved file 2020_data/data_field_v2_from_20208010/preprocessed/20200810-2130_WM_174605_com1_filtered_230_30.csv\n",
      "INFO:root:saved file 2020_data/data_field_v2_from_20208010/preprocessed/20200810-1830_WM_174605_com1_filtered_230_30.csv\n",
      "INFO:root:saved file 2020_data/data_field_v2_from_20208010/preprocessed/20200811-0530_WM_174605_com1_filtered_230_30.csv\n",
      "INFO:root:saved file 2020_data/data_field_v2_from_20208010/preprocessed/20200811-0600_WM_174605_com1_filtered_230_30.csv\n",
      "INFO:root:saved file 2020_data/data_field_v2_from_20208010/preprocessed/20200811-0930_WM_174605_com1_filtered_230_30.csv\n",
      "INFO:root:saved file 2020_data/data_field_v2_from_20208010/preprocessed/20200811-0230_WM_174605_com1_filtered_230_30.csv\n",
      "INFO:root:saved file 2020_data/data_field_v2_from_20208010/preprocessed/20200810-2330_WM_174605_com1_filtered_230_30.csv\n",
      "INFO:root:saved file 2020_data/data_field_v2_from_20208010/preprocessed/20200811-0030_WM_174605_com1_filtered_230_30.csv\n",
      "INFO:root:saved file 2020_data/data_field_v2_from_20208010/preprocessed/20200810-1930_WM_174605_com1_filtered_230_30.csv\n",
      "INFO:root:saved file 2020_data/data_field_v2_from_20208010/preprocessed/20200811-0830_WM_174605_com1_filtered_230_30.csv\n",
      "INFO:root:saved file 2020_data/data_field_v2_from_20208010/preprocessed/20200810-2100_WM_174605_com1_filtered_230_30.csv\n",
      "INFO:root:saved file 2020_data/data_field_v2_from_20208010/preprocessed/20200811-0500_WM_174605_com1_filtered_230_30.csv\n",
      "INFO:root:saved file 2020_data/data_field_v2_from_20208010/preprocessed/20200811-0700_WM_174605_com1_filtered_230_30.csv\n",
      "INFO:root:saved file 2020_data/data_field_v2_from_20208010/preprocessed/20200811-0330_WM_174605_com1_filtered_230_30.csv\n",
      "INFO:root:saved file 2020_data/data_field_v2_from_20208010/preprocessed/20200811-0730_WM_174605_com1_filtered_230_30.csv\n",
      "INFO:root:saved file 2020_data/data_field_v2_from_20208010/preprocessed/20200810-1730_WM_174605_com1_filtered_230_30.csv\n",
      "INFO:root:saved file 2020_data/data_field_v2_from_20208010/preprocessed/20200811-1000_WM_174605_com1_filtered_230_30.csv\n",
      "INFO:root:saved file 2020_data/data_field_v2_from_20208010/preprocessed/20200810-2300_WM_174605_com1_filtered_230_30.csv\n",
      "INFO:root:saved file 2020_data/data_field_v2_from_20208010/preprocessed/20200810-1530_WM_174605_com1_filtered_230_30.csv\n",
      "INFO:root:saved file 2020_data/data_field_v2_from_20208010/preprocessed/20200811-0630_WM_174605_com1_filtered_230_30.csv\n",
      "INFO:root:saved file 2020_data/data_field_v2_from_20208010/preprocessed/20200810-1700_WM_174605_com1_filtered_230_30.csv\n",
      "INFO:root:saved file 2020_data/data_field_v2_from_20208010/preprocessed/20200811-0130_WM_174605_com1_filtered_230_30.csv\n",
      "INFO:root:saved file 2020_data/data_field_v2_from_20208010/preprocessed/20200811-0800_WM_174605_com1_filtered_230_30.csv\n",
      "INFO:root:saved file 2020_data/data_field_v2_from_20208010/preprocessed/20200810-2000_WM_174605_com1_filtered_230_30.csv\n",
      "INFO:root:saved file 2020_data/data_field_v2_from_20208010/preprocessed/20200810-2030_WM_174605_com1_filtered_230_30.csv\n",
      "INFO:root:saved file 2020_data/data_field_v2_from_20208010/preprocessed/20200811-1130_WM_174605_com1_filtered_230_30.csv\n",
      "INFO:root:saved file 2020_data/data_field_v2_from_20208010/preprocessed/20200811-0200_WM_174605_com1_filtered_230_30.csv\n",
      "INFO:root:saved file 2020_data/data_field_v2_from_20208010/preprocessed/20200811-1030_WM_174605_com1_filtered_230_30.csv\n",
      "INFO:root:saved file 2020_data/data_field_v2_from_20208010/preprocessed/20200811-1100_WM_174605_com1_filtered_230_30.csv\n",
      "INFO:root:saved file 2020_data/data_field_v2_from_20208010/preprocessed/20200810-2200_WM_174605_com1_filtered_230_30.csv\n",
      "INFO:root:saved file 2020_data/data_field_v2_from_20208010/preprocessed/20200811-0000_WM_174605_com1_filtered_230_30.csv\n"
     ]
    },
    {
     "name": "stdout",
     "output_type": "stream",
     "text": [
      "done\n"
     ]
    }
   ],
   "source": [
    "main()"
   ]
  },
  {
   "cell_type": "code",
   "execution_count": null,
   "metadata": {},
   "outputs": [],
   "source": []
  },
  {
   "cell_type": "markdown",
   "metadata": {},
   "source": [
    "## Testing M507 wind filter"
   ]
  },
  {
   "cell_type": "code",
   "execution_count": null,
   "metadata": {},
   "outputs": [],
   "source": [
    "#interesting period with EP data is\n",
    "testf = in_dir / \"20200724-2200_WM_174605_com1.raw\"\n",
    "tfilt = wm_dir_filter(testf)"
   ]
  },
  {
   "cell_type": "code",
   "execution_count": null,
   "metadata": {},
   "outputs": [
    {
     "data": {
      "text/plain": [
       "array([False, False, False, ..., False, False, False])"
      ]
     },
     "execution_count": null,
     "metadata": {},
     "output_type": "execute_result"
    }
   ],
   "source": [
    "tfilt[:1210]"
   ]
  },
  {
   "cell_type": "code",
   "execution_count": null,
   "metadata": {},
   "outputs": [],
   "source": [
    "ep_outf = in_dir / \"../processed/eddypro_raw_datasets/level_1/20200724-2202_raw_dataset_2020-08-07T163138_adv.txt\""
   ]
  },
  {
   "cell_type": "code",
   "execution_count": null,
   "metadata": {},
   "outputs": [],
   "source": [
    "ep_out = np.genfromtxt(ep_outf, skip_header=10)"
   ]
  },
  {
   "cell_type": "code",
   "execution_count": null,
   "metadata": {},
   "outputs": [],
   "source": [
    "ep_out[ep_out==-9999.] = np.nan"
   ]
  },
  {
   "cell_type": "code",
   "execution_count": null,
   "metadata": {},
   "outputs": [
    {
     "data": {
      "text/plain": [
       "array([nan, nan, nan, nan])"
      ]
     },
     "execution_count": null,
     "metadata": {},
     "output_type": "execute_result"
    }
   ],
   "source": [
    "ep_out[181]"
   ]
  },
  {
   "cell_type": "code",
   "execution_count": null,
   "metadata": {},
   "outputs": [],
   "source": [
    "wd = mod(get_wind_dir(ep_out[:, 0], ep_out[:, 1]) + wm_offset)"
   ]
  },
  {
   "cell_type": "code",
   "execution_count": null,
   "metadata": {},
   "outputs": [],
   "source": [
    "wdr = get_wind_dir(ep_out[:, 0], ep_out[:, 1])"
   ]
  },
  {
   "cell_type": "code",
   "execution_count": null,
   "metadata": {},
   "outputs": [
    {
     "data": {
      "text/plain": [
       "19.65297272650223"
      ]
     },
     "execution_count": null,
     "metadata": {},
     "output_type": "execute_result"
    }
   ],
   "source": [
    "wdr[~np.isnan(wdr)].mean()"
   ]
  },
  {
   "cell_type": "code",
   "execution_count": null,
   "metadata": {},
   "outputs": [
    {
     "data": {
      "text/plain": [
       "329.65297272650224"
      ]
     },
     "execution_count": null,
     "metadata": {},
     "output_type": "execute_result"
    }
   ],
   "source": [
    "wd[~np.isnan(wd)].mean()"
   ]
  },
  {
   "cell_type": "code",
   "execution_count": null,
   "metadata": {},
   "outputs": [],
   "source": []
  }
 ],
 "metadata": {
  "kernelspec": {
   "display_name": "Python [conda env:root] *",
   "language": "python",
   "name": "conda-root-py"
  }
 },
 "nbformat": 4,
 "nbformat_minor": 4
}
