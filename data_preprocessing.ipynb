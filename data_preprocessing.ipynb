{
 "cells": [
  {
   "cell_type": "markdown",
   "metadata": {},
   "source": [
    "Notebook to easily run preprocessing "
   ]
  },
  {
   "cell_type": "code",
   "execution_count": null,
   "metadata": {},
   "outputs": [],
   "source": [
    "from preprocessing_tools import *"
   ]
  },
  {
   "cell_type": "code",
   "execution_count": null,
   "metadata": {},
   "outputs": [
    {
     "name": "stdout",
     "output_type": "stream",
     "text": [
      "process for *_TRS_M00506_com3.raw\n",
      "process for *_TRS_M00507_com2.raw\n",
      "process for *_WM_174605_com1.raw\n",
      "process_filt_aoa for *_TRS_M00506_com3.raw\n"
     ]
    },
    {
     "name": "stderr",
     "output_type": "stream",
     "text": [
      "/home/simone/Documents/Tesi/trisonica-anemometer-comparison/wind_tools.py:179: RuntimeWarning: invalid value encountered in greater\n",
      "  filt = (wind_dir > mod((start_ang - range_ang))) & (wind_dir < mod(start_ang + range_ang))\n",
      "/home/simone/Documents/Tesi/trisonica-anemometer-comparison/wind_tools.py:179: RuntimeWarning: invalid value encountered in less\n",
      "  filt = (wind_dir > mod((start_ang - range_ang))) & (wind_dir < mod(start_ang + range_ang))\n",
      "/home/simone/Documents/Tesi/trisonica-anemometer-comparison/wind_tools.py:180: RuntimeWarning: invalid value encountered in greater\n",
      "  if both_dirs: filt = filt | ((wind_dir > mod(((start_ang-180) - range_ang))) & (wind_dir< mod((start_ang-180) + range_ang)))\n",
      "/home/simone/Documents/Tesi/trisonica-anemometer-comparison/wind_tools.py:180: RuntimeWarning: invalid value encountered in less\n",
      "  if both_dirs: filt = filt | ((wind_dir > mod(((start_ang-180) - range_ang))) & (wind_dir< mod((start_ang-180) + range_ang)))\n"
     ]
    },
    {
     "name": "stdout",
     "output_type": "stream",
     "text": [
      "process_filt_aoa for *_TRS_M00507_com2.raw\n"
     ]
    },
    {
     "name": "stderr",
     "output_type": "stream",
     "text": [
      "/home/simone/Documents/Tesi/trisonica-anemometer-comparison/wind_tools.py:179: RuntimeWarning: invalid value encountered in greater\n",
      "  filt = (wind_dir > mod((start_ang - range_ang))) & (wind_dir < mod(start_ang + range_ang))\n",
      "/home/simone/Documents/Tesi/trisonica-anemometer-comparison/wind_tools.py:179: RuntimeWarning: invalid value encountered in less\n",
      "  filt = (wind_dir > mod((start_ang - range_ang))) & (wind_dir < mod(start_ang + range_ang))\n",
      "/home/simone/Documents/Tesi/trisonica-anemometer-comparison/wind_tools.py:180: RuntimeWarning: invalid value encountered in greater\n",
      "  if both_dirs: filt = filt | ((wind_dir > mod(((start_ang-180) - range_ang))) & (wind_dir< mod((start_ang-180) + range_ang)))\n",
      "/home/simone/Documents/Tesi/trisonica-anemometer-comparison/wind_tools.py:180: RuntimeWarning: invalid value encountered in less\n",
      "  if both_dirs: filt = filt | ((wind_dir > mod(((start_ang-180) - range_ang))) & (wind_dir< mod((start_ang-180) + range_ang)))\n"
     ]
    },
    {
     "name": "stdout",
     "output_type": "stream",
     "text": [
      "process_filt_aoa for *_WM_174605_com1.raw\n",
      "process_filt_dir for *_TRS_M00506_com3.raw\n"
     ]
    },
    {
     "name": "stderr",
     "output_type": "stream",
     "text": [
      "/home/simone/Documents/Tesi/trisonica-anemometer-comparison/wind_tools.py:179: RuntimeWarning: invalid value encountered in greater\n",
      "  filt = (wind_dir > mod((start_ang - range_ang))) & (wind_dir < mod(start_ang + range_ang))\n",
      "/home/simone/Documents/Tesi/trisonica-anemometer-comparison/wind_tools.py:179: RuntimeWarning: invalid value encountered in less\n",
      "  filt = (wind_dir > mod((start_ang - range_ang))) & (wind_dir < mod(start_ang + range_ang))\n",
      "/home/simone/Documents/Tesi/trisonica-anemometer-comparison/wind_tools.py:180: RuntimeWarning: invalid value encountered in greater\n",
      "  if both_dirs: filt = filt | ((wind_dir > mod(((start_ang-180) - range_ang))) & (wind_dir< mod((start_ang-180) + range_ang)))\n",
      "/home/simone/Documents/Tesi/trisonica-anemometer-comparison/wind_tools.py:180: RuntimeWarning: invalid value encountered in less\n",
      "  if both_dirs: filt = filt | ((wind_dir > mod(((start_ang-180) - range_ang))) & (wind_dir< mod((start_ang-180) + range_ang)))\n"
     ]
    },
    {
     "name": "stdout",
     "output_type": "stream",
     "text": [
      "process_filt_dir for *_TRS_M00507_com2.raw\n",
      "process_filt_dir for *_WM_174605_com1.raw\n"
     ]
    },
    {
     "name": "stderr",
     "output_type": "stream",
     "text": [
      "/home/simone/Documents/Tesi/trisonica-anemometer-comparison/wind_tools.py:179: RuntimeWarning: invalid value encountered in greater\n",
      "  filt = (wind_dir > mod((start_ang - range_ang))) & (wind_dir < mod(start_ang + range_ang))\n",
      "/home/simone/Documents/Tesi/trisonica-anemometer-comparison/wind_tools.py:179: RuntimeWarning: invalid value encountered in less\n",
      "  filt = (wind_dir > mod((start_ang - range_ang))) & (wind_dir < mod(start_ang + range_ang))\n",
      "/home/simone/Documents/Tesi/trisonica-anemometer-comparison/wind_tools.py:180: RuntimeWarning: invalid value encountered in greater\n",
      "  if both_dirs: filt = filt | ((wind_dir > mod(((start_ang-180) - range_ang))) & (wind_dir< mod((start_ang-180) + range_ang)))\n",
      "/home/simone/Documents/Tesi/trisonica-anemometer-comparison/wind_tools.py:180: RuntimeWarning: invalid value encountered in less\n",
      "  if both_dirs: filt = filt | ((wind_dir > mod(((start_ang-180) - range_ang))) & (wind_dir< mod((start_ang-180) + range_ang)))\n"
     ]
    }
   ],
   "source": [
    "main(log.WARNING)"
   ]
  },
  {
   "cell_type": "code",
   "execution_count": null,
   "metadata": {},
   "outputs": [],
   "source": []
  }
 ],
 "metadata": {
  "kernelspec": {
   "display_name": "Python [conda env:root] *",
   "language": "python",
   "name": "conda-root-py"
  }
 },
 "nbformat": 4,
 "nbformat_minor": 4
}
