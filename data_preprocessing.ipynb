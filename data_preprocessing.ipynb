{
 "cells": [
  {
   "cell_type": "code",
   "execution_count": 33,
   "metadata": {},
   "outputs": [],
   "source": [
    "# fix axes for TRS1\n",
    "\n",
    "from pathlib import Path\n",
    "import numpy as np\n",
    "from multiprocessing import Pool\n",
    "import logging as log\n",
    "from functools import partial\n",
    "log.basicConfig(level=log.INFO)\n",
    "# name_re = r\"*_TRS_M00506_com3.raw\"\n",
    "# in_dir = Path(\"2020_data/dati_test1_20200723\")\n",
    "# out_dir = Path(\"2020_data/dati_test1_20200723/preprocessed\")"
   ]
  },
  {
   "cell_type": "code",
   "execution_count": 35,
   "metadata": {},
   "outputs": [],
   "source": [
    "def process_trs1(data):\n",
    "    # fix TRS1 u ax by inverting it, due to different coordinate system between trisonica and EP\n",
    "    data[:, u] = -1 * data[:, u]\n",
    "    return data"
   ]
  },
  {
   "cell_type": "code",
   "execution_count": 70,
   "metadata": {},
   "outputs": [],
   "source": [
    "def process_m507(data):\n",
    "    # this needs to rotate the axis of M507 (old TRS2) to take into account it is mounted horizontally and it is rotated.\n",
    "    data[:, u] = -1 * data[:, u]\n",
    "    data[:, v] = -1 * data[:, w]\n",
    "    \n",
    "    data[:, [u, w]] = rotate(data, np.pi/4, [u, w])\n",
    "    return data\n",
    "\n",
    "def rotate(tens, ang, axes):\n",
    "    rot_matrix = np.array([[np.cos(ang), -np.sin(ang)],\n",
    "                       [np.sin(ang), np.cos(ang)]])\n",
    "    return np.matmul(tens[:, axes], rot_matrix)"
   ]
  },
  {
   "cell_type": "markdown",
   "metadata": {},
   "source": [
    "settings for each anemometer, the processor take in input an array where columns are u,v,w,t and returns a transformed array"
   ]
  },
  {
   "cell_type": "code",
   "execution_count": 71,
   "metadata": {},
   "outputs": [],
   "source": [
    "settings = {\n",
    "    'm506': {\n",
    "        'usecols': (10, 12, 14, 16),\n",
    "        'name_re': r\"*_TRS_M00506_com3.raw\",\n",
    "        'processor': process_trs1\n",
    "        },\n",
    "    'm507': {\n",
    "        'usecols': (10, 12, 14, 16),\n",
    "        'name_re': r\"*_TRS_M00507_com4.raw\",\n",
    "        'processor': process_m507  \n",
    "    }\n",
    "}\n",
    "\n",
    "u, v, w = 0, 1, 2 #defing costants for accessing data\n",
    "# wm = {'usecols': ()}"
   ]
  },
  {
   "cell_type": "code",
   "execution_count": 72,
   "metadata": {},
   "outputs": [],
   "source": [
    "def extract(usecols, processor, f):\n",
    "    # log.info(f\"opening {f}\")\n",
    "    data = np.genfromtxt(f, usecols=usecols, invalid_raise=False)\n",
    "    out_name = out_dir / f\"{f.name[:-4]}.csv\"\n",
    "    data = processor(data)\n",
    "    np.savetxt(out_name, data, header=\"u, v, w, t\", delimiter=',', fmt='%2.2f')\n",
    "    log.info(f\"saved file {out_name}\")"
   ]
  },
  {
   "cell_type": "code",
   "execution_count": 73,
   "metadata": {},
   "outputs": [],
   "source": [
    "def main():\n",
    "    print(\"starting processing\")\n",
    "    if not out_dir.is_dir(): out_dir.mkdir(parents=True, exist_ok=True)\n",
    "    with Pool() as p:\n",
    "        for setg in settings.values():\n",
    "            proc = partial(extract, setg[\"usecols\"], setg[\"processor\"])\n",
    "            p.map(proc, in_dir.glob(setg[\"name_re\"]))\n",
    "    # for f in in_dir.glob(name_re):\n",
    "    #     extract(f)"
   ]
  },
  {
   "cell_type": "code",
   "execution_count": 74,
   "metadata": {},
   "outputs": [
    {
     "name": "stdout",
     "output_type": "stream",
     "text": [
      "starting processing\n"
     ]
    },
    {
     "name": "stderr",
     "output_type": "stream",
     "text": [
      "INFO:root:saved file 2020_data/dati_test1_20200723/preprocessed/20200722-1734_TRS_M00506_com3.csv\n",
      "INFO:root:saved file 2020_data/dati_test1_20200723/preprocessed/20200723-0400_TRS_M00506_com3.csv\n",
      "INFO:root:saved file 2020_data/dati_test1_20200723/preprocessed/20200722-2100_TRS_M00506_com3.csv\n",
      "INFO:root:saved file 2020_data/dati_test1_20200723/preprocessed/20200722-2330_TRS_M00506_com3.csv\n",
      "INFO:root:saved file 2020_data/dati_test1_20200723/preprocessed/20200723-0700_TRS_M00506_com3.csv\n",
      "INFO:root:saved file 2020_data/dati_test1_20200723/preprocessed/20200723-0830_TRS_M00506_com3.csv\n",
      "INFO:root:saved file 2020_data/dati_test1_20200723/preprocessed/20200723-0930_TRS_M00506_com3.csv\n",
      "INFO:root:saved file 2020_data/dati_test1_20200723/preprocessed/20200723-0630_TRS_M00506_com3.csv\n",
      "INFO:root:saved file 2020_data/dati_test1_20200723/preprocessed/20200722-2030_TRS_M00506_com3.csv\n",
      "INFO:root:saved file 2020_data/dati_test1_20200723/preprocessed/20200723-0600_TRS_M00506_com3.csv\n",
      "INFO:root:saved file 2020_data/dati_test1_20200723/preprocessed/20200723-0900_TRS_M00506_com3.csv\n",
      "INFO:root:saved file 2020_data/dati_test1_20200723/preprocessed/20200722-2000_TRS_M00506_com3.csv\n",
      "INFO:root:saved file 2020_data/dati_test1_20200723/preprocessed/20200723-0800_TRS_M00506_com3.csv\n",
      "INFO:root:saved file 2020_data/dati_test1_20200723/preprocessed/20200722-1830_TRS_M00506_com3.csv\n",
      "INFO:root:saved file 2020_data/dati_test1_20200723/preprocessed/20200722-2300_TRS_M00506_com3.csv\n",
      "INFO:root:saved file 2020_data/dati_test1_20200723/preprocessed/20200722-1735_TRS_M00506_com3.csv\n",
      "INFO:root:saved file 2020_data/dati_test1_20200723/preprocessed/20200723-0530_TRS_M00506_com3.csv\n",
      "INFO:root:saved file 2020_data/dati_test1_20200723/preprocessed/20200722-1800_TRS_M00506_com3.csv\n",
      "INFO:root:saved file 2020_data/dati_test1_20200723/preprocessed/20200723-0330_TRS_M00506_com3.csv\n",
      "INFO:root:saved file 2020_data/dati_test1_20200723/preprocessed/20200723-0730_TRS_M00506_com3.csv\n",
      "INFO:root:saved file 2020_data/dati_test1_20200723/preprocessed/20200723-0300_TRS_M00506_com3.csv\n",
      "INFO:root:saved file 2020_data/dati_test1_20200723/preprocessed/20200722-2130_TRS_M00506_com3.csv\n",
      "INFO:root:saved file 2020_data/dati_test1_20200723/preprocessed/20200722-2200_TRS_M00506_com3.csv\n",
      "INFO:root:saved file 2020_data/dati_test1_20200723/preprocessed/20200723-0000_TRS_M00506_com3.csv\n",
      "INFO:root:saved file 2020_data/dati_test1_20200723/preprocessed/20200723-0100_TRS_M00506_com3.csv\n",
      "INFO:root:saved file 2020_data/dati_test1_20200723/preprocessed/20200723-0200_TRS_M00506_com3.csv\n",
      "INFO:root:saved file 2020_data/dati_test1_20200723/preprocessed/20200723-0230_TRS_M00506_com3.csv\n",
      "INFO:root:saved file 2020_data/dati_test1_20200723/preprocessed/20200723-0430_TRS_M00506_com3.csv\n",
      "INFO:root:saved file 2020_data/dati_test1_20200723/preprocessed/20200723-0030_TRS_M00506_com3.csv\n",
      "INFO:root:saved file 2020_data/dati_test1_20200723/preprocessed/20200723-0130_TRS_M00506_com3.csv\n",
      "INFO:root:saved file 2020_data/dati_test1_20200723/preprocessed/20200722-2230_TRS_M00506_com3.csv\n",
      "INFO:root:saved file 2020_data/dati_test1_20200723/preprocessed/20200722-1900_TRS_M00506_com3.csv\n",
      "INFO:root:saved file 2020_data/dati_test1_20200723/preprocessed/20200722-1930_TRS_M00506_com3.csv\n",
      "INFO:root:saved file 2020_data/dati_test1_20200723/preprocessed/20200723-0500_TRS_M00506_com3.csv\n",
      "INFO:root:saved file 2020_data/dati_test1_20200723/preprocessed/20200722-2200_TRS_M00507_com4.csv\n",
      "INFO:root:saved file 2020_data/dati_test1_20200723/preprocessed/20200723-0530_TRS_M00507_com4.csv\n",
      "INFO:root:saved file 2020_data/dati_test1_20200723/preprocessed/20200723-0100_TRS_M00507_com4.csv\n",
      "INFO:root:saved file 2020_data/dati_test1_20200723/preprocessed/20200722-2100_TRS_M00507_com4.csv\n",
      "INFO:root:saved file 2020_data/dati_test1_20200723/preprocessed/20200722-2130_TRS_M00507_com4.csv\n",
      "INFO:root:saved file 2020_data/dati_test1_20200723/preprocessed/20200722-1900_TRS_M00507_com4.csv\n",
      "INFO:root:saved file 2020_data/dati_test1_20200723/preprocessed/20200723-0930_TRS_M00507_com4.csv\n",
      "INFO:root:saved file 2020_data/dati_test1_20200723/preprocessed/20200722-2300_TRS_M00507_com4.csv\n",
      "INFO:root:saved file 2020_data/dati_test1_20200723/preprocessed/20200722-2030_TRS_M00507_com4.csv\n",
      "INFO:root:saved file 2020_data/dati_test1_20200723/preprocessed/20200722-2000_TRS_M00507_com4.csv\n",
      "INFO:root:saved file 2020_data/dati_test1_20200723/preprocessed/20200723-0630_TRS_M00507_com4.csv\n",
      "INFO:root:saved file 2020_data/dati_test1_20200723/preprocessed/20200723-0200_TRS_M00507_com4.csv\n",
      "INFO:root:saved file 2020_data/dati_test1_20200723/preprocessed/20200723-0830_TRS_M00507_com4.csv\n",
      "INFO:root:saved file 2020_data/dati_test1_20200723/preprocessed/20200722-1930_TRS_M00507_com4.csv\n",
      "INFO:root:saved file 2020_data/dati_test1_20200723/preprocessed/20200723-0800_TRS_M00507_com4.csv\n",
      "INFO:root:saved file 2020_data/dati_test1_20200723/preprocessed/20200723-0330_TRS_M00507_com4.csv\n",
      "INFO:root:saved file 2020_data/dati_test1_20200723/preprocessed/20200723-0430_TRS_M00507_com4.csv\n",
      "INFO:root:saved file 2020_data/dati_test1_20200723/preprocessed/20200723-0130_TRS_M00507_com4.csv\n",
      "INFO:root:saved file 2020_data/dati_test1_20200723/preprocessed/20200722-2330_TRS_M00507_com4.csv\n",
      "INFO:root:saved file 2020_data/dati_test1_20200723/preprocessed/20200722-1734_TRS_M00507_com4.csv\n",
      "INFO:root:saved file 2020_data/dati_test1_20200723/preprocessed/20200723-0300_TRS_M00507_com4.csv\n",
      "INFO:root:saved file 2020_data/dati_test1_20200723/preprocessed/20200723-0230_TRS_M00507_com4.csv\n",
      "INFO:root:saved file 2020_data/dati_test1_20200723/preprocessed/20200722-1800_TRS_M00507_com4.csv\n",
      "INFO:root:saved file 2020_data/dati_test1_20200723/preprocessed/20200723-0400_TRS_M00507_com4.csv\n",
      "INFO:root:saved file 2020_data/dati_test1_20200723/preprocessed/20200722-2230_TRS_M00507_com4.csv\n",
      "INFO:root:saved file 2020_data/dati_test1_20200723/preprocessed/20200723-0030_TRS_M00507_com4.csv\n",
      "INFO:root:saved file 2020_data/dati_test1_20200723/preprocessed/20200723-0700_TRS_M00507_com4.csv\n",
      "INFO:root:saved file 2020_data/dati_test1_20200723/preprocessed/20200723-0730_TRS_M00507_com4.csv\n",
      "INFO:root:saved file 2020_data/dati_test1_20200723/preprocessed/20200723-0900_TRS_M00507_com4.csv\n",
      "INFO:root:saved file 2020_data/dati_test1_20200723/preprocessed/20200722-1735_TRS_M00507_com4.csv\n",
      "INFO:root:saved file 2020_data/dati_test1_20200723/preprocessed/20200723-0000_TRS_M00507_com4.csv\n",
      "INFO:root:saved file 2020_data/dati_test1_20200723/preprocessed/20200722-1830_TRS_M00507_com4.csv\n",
      "INFO:root:saved file 2020_data/dati_test1_20200723/preprocessed/20200723-0600_TRS_M00507_com4.csv\n",
      "INFO:root:saved file 2020_data/dati_test1_20200723/preprocessed/20200723-0500_TRS_M00507_com4.csv\n"
     ]
    }
   ],
   "source": [
    "main()"
   ]
  },
  {
   "cell_type": "markdown",
   "metadata": {},
   "source": [
    "Testing"
   ]
  },
  {
   "cell_type": "code",
   "execution_count": 52,
   "metadata": {},
   "outputs": [],
   "source": [
    "f = Path(\"2020_data/dati_test1_20200723/20200722-1734_TRS_M00506_com3.raw\")"
   ]
  },
  {
   "cell_type": "code",
   "execution_count": 57,
   "metadata": {},
   "outputs": [],
   "source": [
    "def printme(*args, **kwargs):\n",
    "    print(args, kwargs)"
   ]
  },
  {
   "cell_type": "code",
   "execution_count": 58,
   "metadata": {},
   "outputs": [
    {
     "name": "stdout",
     "output_type": "stream",
     "text": [
      "((10, 12, 14, 16), <function process_trs1 at 0x7f0b080ece60>, PosixPath('2020_data/dati_test1_20200723/20200722-1734_TRS_M00506_com3.raw'))\n",
      "((10, 12, 14, 16), <function process_m507 at 0x7f0b081287a0>, PosixPath('2020_data/dati_test1_20200723/20200722-1734_TRS_M00506_com3.raw'))\n"
     ]
    }
   ],
   "source": [
    "for setg in settings.values():\n",
    "    \n",
    "    proc = partial(printme, usecols=setg[\"usecols\"], setg[\"processor\"])\n",
    "    proc(f)"
   ]
  },
  {
   "cell_type": "code",
   "execution_count": 17,
   "metadata": {},
   "outputs": [],
   "source": []
  },
  {
   "cell_type": "code",
   "execution_count": 18,
   "metadata": {},
   "outputs": [
    {
     "data": {
      "text/plain": [
       "array([[ 2.93,  0.24,  0.29, 28.13],\n",
       "       [ 3.16,  0.28,  0.18, 27.99],\n",
       "       [ 3.12,  0.27,  0.27, 27.91],\n",
       "       ...,\n",
       "       [ 2.91, -0.57,  0.17, 27.64],\n",
       "       [ 2.66,  0.14,  0.06, 27.73],\n",
       "       [ 2.56,  0.05, -0.1 , 27.69]])"
      ]
     },
     "execution_count": 18,
     "metadata": {},
     "output_type": "execute_result"
    }
   ],
   "source": [
    "data"
   ]
  },
  {
   "cell_type": "code",
   "execution_count": null,
   "metadata": {},
   "outputs": [],
   "source": []
  }
 ],
 "metadata": {
  "kernelspec": {
   "display_name": "Python [conda env:root] *",
   "language": "python",
   "name": "conda-root-py"
  },
  "language_info": {
   "codemirror_mode": {
    "name": "ipython",
    "version": 3
   },
   "file_extension": ".py",
   "mimetype": "text/x-python",
   "name": "python",
   "nbconvert_exporter": "python",
   "pygments_lexer": "ipython3",
   "version": "3.7.6"
  }
 },
 "nbformat": 4,
 "nbformat_minor": 4
}
