{
 "cells": [
  {
   "cell_type": "markdown",
   "metadata": {},
   "source": [
    "This notebook preprocessed raw trisonica data to adjust the reference system to the EP one "
   ]
  },
  {
   "cell_type": "code",
   "execution_count": null,
   "metadata": {},
   "outputs": [],
   "source": [
    "from pathlib import Path\n",
    "import numpy as np\n",
    "from multiprocessing import Pool\n",
    "import logging as log\n",
    "from functools import partial\n",
    "from wind_tools import *\n",
    "from scipy.spatial.transform import Rotation as R\n",
    "from copy import deepcopy\n",
    "log.basicConfig(level=log.INFO) #uncomment to see messages from extract\n",
    "# name_re = r\"*_TRS_M00506_com3.raw\"\n",
    "u, v, w = 0, 1, 2 #defing costants for accessing data"
   ]
  },
  {
   "cell_type": "code",
   "execution_count": null,
   "metadata": {},
   "outputs": [],
   "source": [
    "import matplotlib\n",
    "matplotlib.rcParams['figure.figsize'] = (18,10)"
   ]
  },
  {
   "cell_type": "code",
   "execution_count": null,
   "metadata": {},
   "outputs": [],
   "source": [
    "# in_dir = Path(\"2020_data/data_20200724_final_field_install/raw\")\n",
    "# out_dir = Path(\"2020_data/data_20200724_final_field_install/preprocessed\")"
   ]
  },
  {
   "cell_type": "code",
   "execution_count": null,
   "metadata": {},
   "outputs": [],
   "source": [
    "in_dir = Path(\"2020_data/data_field_v2_from_20208010/raw\")\n",
    "out_dir = Path(\"2020_data/data_field_v2_from_20208010/preprocessed\")"
   ]
  },
  {
   "cell_type": "markdown",
   "metadata": {},
   "source": [
    "## Filtered wind directions"
   ]
  },
  {
   "cell_type": "code",
   "execution_count": null,
   "metadata": {},
   "outputs": [],
   "source": [
    "start_angle = 230\n",
    "range_angle = 30\n",
    "wm_basename = '_WM_174605_com1.raw'\n",
    "wm_offset = 310\n",
    "\n",
    "def wm_dir_filter(f):\n",
    "    \"\"\"f is the filename of another anemometer at the same time\"\"\"\n",
    "    wm_path = f.parent / (f.name[:13] + wm_basename) # the first 13 is the date info\n",
    "    wm = np.genfromtxt(wm_path, usecols=(2,3), invalid_raise=False, delimiter=',')\n",
    "    wd = mod(get_wind_dir(wm[:, 0], wm[:, 1]) + wm_offset)\n",
    "    return filter_by_wind_dir_single(wd, start_angle, range_angle) \n",
    "\n",
    "def get_filtered_proc(filt):\n",
    "    def _inner(data):\n",
    "        new_data = data\n",
    "        length = min(len(data), len(filt))\n",
    "        new_data[:length][~filt[:length ]] = -9999\n",
    "        return new_data\n",
    "    return _inner\n",
    "\n",
    "def extract_filtered(setting, f):\n",
    "    \n",
    "    filt = wm_dir_filter(f)\n",
    "    old_processor = deepcopy(getordef(setting, 'processor'))\n",
    "    def my_proc(data):\n",
    "        data = old_processor(data)\n",
    "        return get_filtered_proc(filt)(data)\n",
    "    setting['processor'] = my_proc\n",
    "    extract(setting,f)\n"
   ]
  },
  {
   "cell_type": "markdown",
   "metadata": {},
   "source": [
    "### General funcs"
   ]
  },
  {
   "cell_type": "code",
   "execution_count": null,
   "metadata": {},
   "outputs": [],
   "source": [
    "def extract(setting, f):\n",
    "    usecols, delimiter, name_suffix, transform, replace = map(partial(getordef, setting), ['usecols', 'delimiter', 'name_suffix', 'transform', 'replace'])\n",
    "    # log.info(f\"opening {f}\")\n",
    "    out_name = out_dir / f\"{f.name[:-4]}{name_suffix}.csv\"\n",
    "    if not replace and out_name.exists():\n",
    "        log.debug(f\" exists, skipping {out_name}\")\n",
    "    else:\n",
    "        data = np.genfromtxt(f, usecols=usecols, invalid_raise=False, delimiter=delimiter)\n",
    "        data = transform(setting, data)\n",
    "        np.savetxt(out_name, data, header=\"u,v,w,t\", delimiter=',', fmt='%2.2f', comments='')\n",
    "        log.info(f\"saved file {out_name}\")\n",
    "\n",
    "def nothing(setting, x):\n",
    "    return x\n",
    "\n",
    "def getordef(setg, item):\n",
    "    if item in setg:\n",
    "        return setg[item]\n",
    "    elif item in settings_default:\n",
    "        return settings_default[item]\n",
    "    else:\n",
    "        raise KeyError(\"Key not found in default settings\")"
   ]
  },
  {
   "cell_type": "code",
   "execution_count": null,
   "metadata": {},
   "outputs": [],
   "source": [
    "def rotate(setting, data):\n",
    "    rot = getordef(setting, 'rotation')\n",
    "    rot_data = data.copy() #to preserve temperature\n",
    "    rot_data[:, [0,1,2]] = rot.apply(data[:, [0,1,2]])\n",
    "    \n",
    "    return rot_data"
   ]
  },
  {
   "cell_type": "code",
   "execution_count": null,
   "metadata": {},
   "outputs": [],
   "source": [
    "def main():\n",
    "    print(\"starting processing...\")\n",
    "    if not out_dir.is_dir(): out_dir.mkdir(parents=True, exist_ok=True)\n",
    "    with Pool() as p:\n",
    "        for key in settings:\n",
    "            print(f\"processing {key}\")\n",
    "            proc = partial(getordef(settings[key], 'extractor'), settings[key])\n",
    "            p.map(proc, in_dir.glob(getordef(settings[key], \"name_re\")))\n",
    "    print(\"done\")\n",
    "    # for f in in_dir.glob(name_re):\n",
    "    #     extract(f)"
   ]
  },
  {
   "cell_type": "markdown",
   "metadata": {},
   "source": [
    "## Settings"
   ]
  },
  {
   "cell_type": "markdown",
   "metadata": {},
   "source": [
    "settings for each anemometer, the processor take in input an array where columns are u,v,w,t and returns a transformed array"
   ]
  },
  {
   "cell_type": "code",
   "execution_count": null,
   "metadata": {},
   "outputs": [],
   "source": [
    "settings_default = {\n",
    "        \n",
    "        'extractor': extract, # Function that extracts from the text file the data array and saves it to the disk\n",
    "        'usecols': None, # columns that should be considered by extract function\n",
    "        'delimiter': None, #delimi tween column in the input file\n",
    "    \n",
    "        'transform': nothing, # function to tranform the data before saving like rotating or filtering. signature is process(setting, data) -> transformed data\n",
    "        'rotation': None, # scipy rotation for the rotate function      \n",
    "    \n",
    "        'name_suffix': '', #suffix that is appened on the file name before saving\n",
    "        'replace': True, # if should replace exiting file with same name        \n",
    "    }"
   ]
  },
  {
   "cell_type": "code",
   "execution_count": null,
   "metadata": {},
   "outputs": [],
   "source": [
    "rot_m507 = R.from_euler('XYZ', [90, -250,  135], degrees=True) # 250 can be +/- 10 °\n",
    "\n",
    "rot_m506 = R.from_euler('z', [-90.], degrees=True)\n",
    "rot_wm1 = R.from_euler('z', [50], degrees=True) # why here 50 and there -90 bohhh but who cares basta che va\n",
    "\n",
    "\n",
    "wm_cols = (2,3, 4, 6)\n",
    "trs_cols = (10, 12, 14, 16)\n",
    "\n",
    "settings = {\n",
    "    'm506': {\n",
    "        'usecols': trs_cols,\n",
    "        'name_re': r\"*_TRS_M00506_com3.raw\",\n",
    "        'transform': rotate,\n",
    "        'rotation': rot_m506,\n",
    "        },\n",
    "    'm507': {\n",
    "        'usecols': trs_cols,\n",
    "        'name_re': r\"*_TRS_M00507_com2.raw\",\n",
    "        'transform': rotate,\n",
    "        'rotation': rot_m507\n",
    "    },\n",
    "    'm506_raw': {\n",
    "        'usecols': trs_cols,\n",
    "        'name_re': r\"*_TRS_M00506_com3.raw\",\n",
    "        'name_suffix': \"_raw\",\n",
    "        'transform': nothing,\n",
    "        },\n",
    "    'wm1':{\n",
    "        'usecols': wm_cols,\n",
    "        'name_re': r\"*_WM_174605_com1.raw\",\n",
    "        'delimiter': ',',\n",
    "        'transform': rotate,\n",
    "        'rotation': rot_wm1,        \n",
    "    }\n",
    "\n",
    "#     'm507_raw': { #Does nothing but allow to use EP to aggregate data\n",
    "#         'usecols': (10, 12, 14, 16),\n",
    "#         'name_re': r\"*_TRS_M00507_com2.raw\",\n",
    "#         'processor': nothing,\n",
    "#         'name_suffix': '_raw'\n",
    "#     },\n",
    "#     'm507_filtered':{\n",
    "#         'usecols': (10, 12, 14, 16),\n",
    "#         'name_re': r\"*_TRS_M00507_com2.raw\",\n",
    "#         'extractor': extract_filtered,\n",
    "#         'processor': process_m507,\n",
    "#         'name_suffix': '_filtered_230_30',\n",
    "#     },\n",
    "#     'wm1_filtered':{\n",
    "#         'usecols': (2,3, 4, 5),\n",
    "#         'name_re': r\"*_WM_174605_com1.raw\",\n",
    "#         'extractor': extract_filtered,\n",
    "#         'name_suffix': '_filtered_230_30',\n",
    "#         'delimiter': ','\n",
    "#     }\n",
    "}"
   ]
  },
  {
   "cell_type": "code",
   "execution_count": null,
   "metadata": {},
   "outputs": [
    {
     "name": "stdout",
     "output_type": "stream",
     "text": [
      "starting processing...\n",
      "processing m506\n"
     ]
    },
    {
     "name": "stderr",
     "output_type": "stream",
     "text": [
      "INFO:root:saved file 2020_data/data_field_v2_from_20208010/preprocessed/20200810-2300_TRS_M00506_com3.csv\n",
      "INFO:root:saved file 2020_data/data_field_v2_from_20208010/preprocessed/20200812-0630_TRS_M00506_com3.csv\n",
      "INFO:root:saved file 2020_data/data_field_v2_from_20208010/preprocessed/20200812-0530_TRS_M00506_com3.csv\n",
      "INFO:root:saved file 2020_data/data_field_v2_from_20208010/preprocessed/20200812-0730_TRS_M00506_com3.csv\n",
      "INFO:root:saved file 2020_data/data_field_v2_from_20208010/preprocessed/20200810-1830_TRS_M00506_com3.csv\n",
      "INFO:root:saved file 2020_data/data_field_v2_from_20208010/preprocessed/20200811-0930_TRS_M00506_com3.csv\n",
      "INFO:root:saved file 2020_data/data_field_v2_from_20208010/preprocessed/20200811-0830_TRS_M00506_com3.csv\n",
      "INFO:root:saved file 2020_data/data_field_v2_from_20208010/preprocessed/20200811-1900_TRS_M00506_com3.csv\n",
      "INFO:root:saved file 2020_data/data_field_v2_from_20208010/preprocessed/20200811-0400_TRS_M00506_com3.csv\n",
      "INFO:root:saved file 2020_data/data_field_v2_from_20208010/preprocessed/20200812-0030_TRS_M00506_com3.csv\n",
      "INFO:root:saved file 2020_data/data_field_v2_from_20208010/preprocessed/20200812-0000_TRS_M00506_com3.csv\n",
      "INFO:root:saved file 2020_data/data_field_v2_from_20208010/preprocessed/20200811-2100_TRS_M00506_com3.csv\n",
      "INFO:root:saved file 2020_data/data_field_v2_from_20208010/preprocessed/20200810-2030_TRS_M00506_com3.csv\n",
      "INFO:root:saved file 2020_data/data_field_v2_from_20208010/preprocessed/20200811-2000_TRS_M00506_com3.csv\n",
      "INFO:root:saved file 2020_data/data_field_v2_from_20208010/preprocessed/20200811-1700_TRS_M00506_com3.csv\n",
      "INFO:root:saved file 2020_data/data_field_v2_from_20208010/preprocessed/20200811-1400_TRS_M00506_com3.csv\n",
      "INFO:root:saved file 2020_data/data_field_v2_from_20208010/preprocessed/20200812-0500_TRS_M00506_com3.csv\n",
      "INFO:root:saved file 2020_data/data_field_v2_from_20208010/preprocessed/20200811-0630_TRS_M00506_com3.csv\n",
      "INFO:root:saved file 2020_data/data_field_v2_from_20208010/preprocessed/20200810-1430_TRS_M00506_com3.csv\n",
      "INFO:root:saved file 2020_data/data_field_v2_from_20208010/preprocessed/20200810-1700_TRS_M00506_com3.csv\n",
      "INFO:root:saved file 2020_data/data_field_v2_from_20208010/preprocessed/20200811-1430_TRS_M00506_com3.csv\n",
      "INFO:root:saved file 2020_data/data_field_v2_from_20208010/preprocessed/20200812-0830_TRS_M00506_com3.csv\n",
      "INFO:root:saved file 2020_data/data_field_v2_from_20208010/preprocessed/20200811-1130_TRS_M00506_com3.csv\n",
      "INFO:root:saved file 2020_data/data_field_v2_from_20208010/preprocessed/20200811-0730_TRS_M00506_com3.csv\n",
      "INFO:root:saved file 2020_data/data_field_v2_from_20208010/preprocessed/20200810-1500_TRS_M00506_com3.csv\n",
      "INFO:root:saved file 2020_data/data_field_v2_from_20208010/preprocessed/20200811-0500_TRS_M00506_com3.csv\n",
      "INFO:root:saved file 2020_data/data_field_v2_from_20208010/preprocessed/20200810-2000_TRS_M00506_com3.csv\n",
      "INFO:root:saved file 2020_data/data_field_v2_from_20208010/preprocessed/20200810-2100_TRS_M00506_com3.csv\n",
      "INFO:root:saved file 2020_data/data_field_v2_from_20208010/preprocessed/20200810-1930_TRS_M00506_com3.csv\n",
      "INFO:root:saved file 2020_data/data_field_v2_from_20208010/preprocessed/20200811-0130_TRS_M00506_com3.csv\n",
      "INFO:root:saved file 2020_data/data_field_v2_from_20208010/preprocessed/20200810-1630_TRS_M00506_com3.csv\n",
      "INFO:root:saved file 2020_data/data_field_v2_from_20208010/preprocessed/20200812-0130_TRS_M00506_com3.csv\n",
      "INFO:root:saved file 2020_data/data_field_v2_from_20208010/preprocessed/20200811-2330_TRS_M00506_com3.csv\n",
      "INFO:root:saved file 2020_data/data_field_v2_from_20208010/preprocessed/20200812-0330_TRS_M00506_com3.csv\n",
      "INFO:root:saved file 2020_data/data_field_v2_from_20208010/preprocessed/20200812-0700_TRS_M00506_com3.csv\n",
      "INFO:root:saved file 2020_data/data_field_v2_from_20208010/preprocessed/20200811-2130_TRS_M00506_com3.csv\n",
      "INFO:root:saved file 2020_data/data_field_v2_from_20208010/preprocessed/20200811-1200_TRS_M00506_com3.csv\n",
      "INFO:root:saved file 2020_data/data_field_v2_from_20208010/preprocessed/20200811-1730_TRS_M00506_com3.csv\n",
      "INFO:root:saved file 2020_data/data_field_v2_from_20208010/preprocessed/20200811-1630_TRS_M00506_com3.csv\n",
      "INFO:root:saved file 2020_data/data_field_v2_from_20208010/preprocessed/20200810-2200_TRS_M00506_com3.csv\n",
      "INFO:root:saved file 2020_data/data_field_v2_from_20208010/preprocessed/20200810-1730_TRS_M00506_com3.csv\n",
      "INFO:root:saved file 2020_data/data_field_v2_from_20208010/preprocessed/20200811-0330_TRS_M00506_com3.csv\n",
      "INFO:root:saved file 2020_data/data_field_v2_from_20208010/preprocessed/20200810-2330_TRS_M00506_com3.csv\n",
      "INFO:root:saved file 2020_data/data_field_v2_from_20208010/preprocessed/20200811-0000_TRS_M00506_com3.csv\n",
      "INFO:root:saved file 2020_data/data_field_v2_from_20208010/preprocessed/20200812-0600_TRS_M00506_com3.csv\n",
      "INFO:root:saved file 2020_data/data_field_v2_from_20208010/preprocessed/20200811-0800_TRS_M00506_com3.csv\n",
      "INFO:root:saved file 2020_data/data_field_v2_from_20208010/preprocessed/20200812-0430_TRS_M00506_com3.csv\n",
      "INFO:root:saved file 2020_data/data_field_v2_from_20208010/preprocessed/20200811-1000_TRS_M00506_com3.csv\n",
      "INFO:root:saved file 2020_data/data_field_v2_from_20208010/preprocessed/20200811-1030_TRS_M00506_com3.csv\n",
      "INFO:root:saved file 2020_data/data_field_v2_from_20208010/preprocessed/20200811-0230_TRS_M00506_com3.csv\n",
      "INFO:root:saved file 2020_data/data_field_v2_from_20208010/preprocessed/20200811-0100_TRS_M00506_com3.csv\n",
      "INFO:root:saved file 2020_data/data_field_v2_from_20208010/preprocessed/20200812-0100_TRS_M00506_com3.csv\n",
      "INFO:root:saved file 2020_data/data_field_v2_from_20208010/preprocessed/20200810-1800_TRS_M00506_com3.csv\n",
      "INFO:root:saved file 2020_data/data_field_v2_from_20208010/preprocessed/20200811-0430_TRS_M00506_com3.csv\n",
      "INFO:root:saved file 2020_data/data_field_v2_from_20208010/preprocessed/20200811-1100_TRS_M00506_com3.csv\n",
      "INFO:root:saved file 2020_data/data_field_v2_from_20208010/preprocessed/20200811-2030_TRS_M00506_com3.csv\n",
      "INFO:root:saved file 2020_data/data_field_v2_from_20208010/preprocessed/20200810-1600_TRS_M00506_com3.csv\n",
      "INFO:root:saved file 2020_data/data_field_v2_from_20208010/preprocessed/20200811-0600_TRS_M00506_com3.csv\n",
      "INFO:root:saved file 2020_data/data_field_v2_from_20208010/preprocessed/20200810-2130_TRS_M00506_com3.csv\n",
      "INFO:root:saved file 2020_data/data_field_v2_from_20208010/preprocessed/20200811-0200_TRS_M00506_com3.csv\n",
      "INFO:root:saved file 2020_data/data_field_v2_from_20208010/preprocessed/20200811-2230_TRS_M00506_com3.csv\n",
      "INFO:root:saved file 2020_data/data_field_v2_from_20208010/preprocessed/20200812-0800_TRS_M00506_com3.csv\n",
      "INFO:root:saved file 2020_data/data_field_v2_from_20208010/preprocessed/20200811-0900_TRS_M00506_com3.csv\n",
      "INFO:root:saved file 2020_data/data_field_v2_from_20208010/preprocessed/20200812-0900_TRS_M00506_com3.csv\n",
      "INFO:root:saved file 2020_data/data_field_v2_from_20208010/preprocessed/20200810-2230_TRS_M00506_com3.csv\n",
      "INFO:root:saved file 2020_data/data_field_v2_from_20208010/preprocessed/20200812-0200_TRS_M00506_com3.csv\n",
      "INFO:root:saved file 2020_data/data_field_v2_from_20208010/preprocessed/20200811-0700_TRS_M00506_com3.csv\n",
      "INFO:root:saved file 2020_data/data_field_v2_from_20208010/preprocessed/20200811-1600_TRS_M00506_com3.csv\n",
      "INFO:root:saved file 2020_data/data_field_v2_from_20208010/preprocessed/20200811-1800_TRS_M00506_com3.csv\n",
      "INFO:root:saved file 2020_data/data_field_v2_from_20208010/preprocessed/20200811-1930_TRS_M00506_com3.csv\n",
      "INFO:root:saved file 2020_data/data_field_v2_from_20208010/preprocessed/20200811-0030_TRS_M00506_com3.csv\n",
      "INFO:root:saved file 2020_data/data_field_v2_from_20208010/preprocessed/20200811-0300_TRS_M00506_com3.csv\n",
      "INFO:root:saved file 2020_data/data_field_v2_from_20208010/preprocessed/20200811-2300_TRS_M00506_com3.csv\n",
      "INFO:root:saved file 2020_data/data_field_v2_from_20208010/preprocessed/20200811-2200_TRS_M00506_com3.csv\n",
      "INFO:root:saved file 2020_data/data_field_v2_from_20208010/preprocessed/20200811-0530_TRS_M00506_com3.csv\n",
      "INFO:root:saved file 2020_data/data_field_v2_from_20208010/preprocessed/20200810-1530_TRS_M00506_com3.csv\n",
      "INFO:root:saved file 2020_data/data_field_v2_from_20208010/preprocessed/20200812-0230_TRS_M00506_com3.csv\n",
      "INFO:root:saved file 2020_data/data_field_v2_from_20208010/preprocessed/20200812-0300_TRS_M00506_com3.csv\n",
      "INFO:root:saved file 2020_data/data_field_v2_from_20208010/preprocessed/20200810-1900_TRS_M00506_com3.csv\n",
      "INFO:root:saved file 2020_data/data_field_v2_from_20208010/preprocessed/20200811-1830_TRS_M00506_com3.csv\n",
      "INFO:root:saved file 2020_data/data_field_v2_from_20208010/preprocessed/20200812-0400_TRS_M00506_com3.csv\n",
      "INFO:root:saved file 2020_data/data_field_v2_from_20208010/preprocessed/20200811-1705_TRS_M00507_com2.csv\n"
     ]
    },
    {
     "name": "stdout",
     "output_type": "stream",
     "text": [
      "processing m507\n"
     ]
    },
    {
     "name": "stderr",
     "output_type": "stream",
     "text": [
      "INFO:root:saved file 2020_data/data_field_v2_from_20208010/preprocessed/20200810-1730_TRS_M00507_com2.csv\n",
      "INFO:root:saved file 2020_data/data_field_v2_from_20208010/preprocessed/20200810-2230_TRS_M00507_com2.csv\n",
      "INFO:root:saved file 2020_data/data_field_v2_from_20208010/preprocessed/20200812-0230_TRS_M00507_com2.csv\n",
      "INFO:root:saved file 2020_data/data_field_v2_from_20208010/preprocessed/20200811-0830_TRS_M00507_com2.csv\n",
      "INFO:root:saved file 2020_data/data_field_v2_from_20208010/preprocessed/20200811-1030_TRS_M00507_com2.csv\n",
      "INFO:root:saved file 2020_data/data_field_v2_from_20208010/preprocessed/20200812-0430_TRS_M00507_com2.csv\n",
      "INFO:root:saved file 2020_data/data_field_v2_from_20208010/preprocessed/20200811-1706_TRS_M00507_com2.csv\n",
      "INFO:root:saved file 2020_data/data_field_v2_from_20208010/preprocessed/20200812-0500_TRS_M00507_com2.csv\n",
      "INFO:root:saved file 2020_data/data_field_v2_from_20208010/preprocessed/20200811-1600_TRS_M00507_com2.csv\n",
      "INFO:root:saved file 2020_data/data_field_v2_from_20208010/preprocessed/20200810-1500_TRS_M00507_com2.csv\n",
      "INFO:root:saved file 2020_data/data_field_v2_from_20208010/preprocessed/20200811-0700_TRS_M00507_com2.csv\n",
      "INFO:root:saved file 2020_data/data_field_v2_from_20208010/preprocessed/20200811-2030_TRS_M00507_com2.csv\n",
      "INFO:root:saved file 2020_data/data_field_v2_from_20208010/preprocessed/20200810-1800_TRS_M00507_com2.csv\n",
      "INFO:root:saved file 2020_data/data_field_v2_from_20208010/preprocessed/20200811-1000_TRS_M00507_com2.csv\n",
      "INFO:root:saved file 2020_data/data_field_v2_from_20208010/preprocessed/20200810-1900_TRS_M00507_com2.csv\n",
      "INFO:root:saved file 2020_data/data_field_v2_from_20208010/preprocessed/20200811-0030_TRS_M00507_com2.csv\n",
      "INFO:root:saved file 2020_data/data_field_v2_from_20208010/preprocessed/20200810-1930_TRS_M00507_com2.csv\n",
      "INFO:root:saved file 2020_data/data_field_v2_from_20208010/preprocessed/20200812-0730_TRS_M00507_com2.csv\n",
      "INFO:root:saved file 2020_data/data_field_v2_from_20208010/preprocessed/20200810-2200_TRS_M00507_com2.csv\n",
      "INFO:root:saved file 2020_data/data_field_v2_from_20208010/preprocessed/20200812-0130_TRS_M00507_com2.csv\n",
      "INFO:root:saved file 2020_data/data_field_v2_from_20208010/preprocessed/20200812-0000_TRS_M00507_com2.csv\n",
      "INFO:root:saved file 2020_data/data_field_v2_from_20208010/preprocessed/20200812-0400_TRS_M00507_com2.csv\n",
      "INFO:root:saved file 2020_data/data_field_v2_from_20208010/preprocessed/20200811-0100_TRS_M00507_com2.csv\n",
      "INFO:root:saved file 2020_data/data_field_v2_from_20208010/preprocessed/20200811-1900_TRS_M00507_com2.csv\n",
      "INFO:root:saved file 2020_data/data_field_v2_from_20208010/preprocessed/20200812-0600_TRS_M00507_com2.csv\n",
      "INFO:root:saved file 2020_data/data_field_v2_from_20208010/preprocessed/20200811-1730_TRS_M00507_com2.csv\n",
      "INFO:root:saved file 2020_data/data_field_v2_from_20208010/preprocessed/20200811-0730_TRS_M00507_com2.csv\n",
      "INFO:root:saved file 2020_data/data_field_v2_from_20208010/preprocessed/20200812-0900_TRS_M00507_com2.csv\n",
      "INFO:root:saved file 2020_data/data_field_v2_from_20208010/preprocessed/20200812-0330_TRS_M00507_com2.csv\n",
      "INFO:root:saved file 2020_data/data_field_v2_from_20208010/preprocessed/20200812-0200_TRS_M00507_com2.csv\n",
      "INFO:root:saved file 2020_data/data_field_v2_from_20208010/preprocessed/20200812-0300_TRS_M00507_com2.csv\n",
      "INFO:root:saved file 2020_data/data_field_v2_from_20208010/preprocessed/20200812-0830_TRS_M00507_com2.csv\n",
      "INFO:root:saved file 2020_data/data_field_v2_from_20208010/preprocessed/20200810-2030_TRS_M00507_com2.csv\n",
      "INFO:root:saved file 2020_data/data_field_v2_from_20208010/preprocessed/20200811-2330_TRS_M00507_com2.csv\n",
      "INFO:root:saved file 2020_data/data_field_v2_from_20208010/preprocessed/20200811-0630_TRS_M00507_com2.csv\n",
      "INFO:root:saved file 2020_data/data_field_v2_from_20208010/preprocessed/20200811-0600_TRS_M00507_com2.csv\n",
      "INFO:root:saved file 2020_data/data_field_v2_from_20208010/preprocessed/20200810-1700_TRS_M00507_com2.csv\n",
      "INFO:root:saved file 2020_data/data_field_v2_from_20208010/preprocessed/20200810-1630_TRS_M00507_com2.csv\n",
      "INFO:root:saved file 2020_data/data_field_v2_from_20208010/preprocessed/20200811-0200_TRS_M00507_com2.csv\n",
      "INFO:root:saved file 2020_data/data_field_v2_from_20208010/preprocessed/20200811-1639_TRS_M00507_com2.csv\n",
      "INFO:root:saved file 2020_data/data_field_v2_from_20208010/preprocessed/20200812-0530_TRS_M00507_com2.csv\n",
      "INFO:root:saved file 2020_data/data_field_v2_from_20208010/preprocessed/20200811-1638_TRS_M00507_com2.csv\n",
      "INFO:root:saved file 2020_data/data_field_v2_from_20208010/preprocessed/20200811-2200_TRS_M00507_com2.csv\n",
      "INFO:root:saved file 2020_data/data_field_v2_from_20208010/preprocessed/20200811-1130_TRS_M00507_com2.csv\n",
      "INFO:root:saved file 2020_data/data_field_v2_from_20208010/preprocessed/20200810-1600_TRS_M00507_com2.csv\n",
      "INFO:root:saved file 2020_data/data_field_v2_from_20208010/preprocessed/20200810-2130_TRS_M00507_com2.csv\n",
      "INFO:root:saved file 2020_data/data_field_v2_from_20208010/preprocessed/20200810-2100_TRS_M00507_com2.csv\n",
      "INFO:root:saved file 2020_data/data_field_v2_from_20208010/preprocessed/20200811-1930_TRS_M00507_com2.csv\n",
      "INFO:root:saved file 2020_data/data_field_v2_from_20208010/preprocessed/20200811-2100_TRS_M00507_com2.csv\n",
      "INFO:root:saved file 2020_data/data_field_v2_from_20208010/preprocessed/20200811-1830_TRS_M00507_com2.csv\n",
      "INFO:root:saved file 2020_data/data_field_v2_from_20208010/preprocessed/20200811-0930_TRS_M00507_com2.csv\n",
      "INFO:root:saved file 2020_data/data_field_v2_from_20208010/preprocessed/20200811-1800_TRS_M00507_com2.csv\n",
      "INFO:root:saved file 2020_data/data_field_v2_from_20208010/preprocessed/20200811-0000_TRS_M00507_com2.csv\n",
      "INFO:root:saved file 2020_data/data_field_v2_from_20208010/preprocessed/20200811-0400_TRS_M00507_com2.csv\n",
      "INFO:root:saved file 2020_data/data_field_v2_from_20208010/preprocessed/20200811-2000_TRS_M00507_com2.csv\n",
      "INFO:root:saved file 2020_data/data_field_v2_from_20208010/preprocessed/20200810-1830_TRS_M00507_com2.csv\n",
      "INFO:root:saved file 2020_data/data_field_v2_from_20208010/preprocessed/20200811-0430_TRS_M00507_com2.csv\n",
      "INFO:root:saved file 2020_data/data_field_v2_from_20208010/preprocessed/20200810-2330_TRS_M00507_com2.csv\n",
      "INFO:root:saved file 2020_data/data_field_v2_from_20208010/preprocessed/20200811-0500_TRS_M00507_com2.csv\n",
      "INFO:root:saved file 2020_data/data_field_v2_from_20208010/preprocessed/20200810-2300_TRS_M00507_com2.csv\n",
      "INFO:root:saved file 2020_data/data_field_v2_from_20208010/preprocessed/20200812-0800_TRS_M00507_com2.csv\n",
      "INFO:root:saved file 2020_data/data_field_v2_from_20208010/preprocessed/20200812-0630_TRS_M00507_com2.csv\n",
      "INFO:root:saved file 2020_data/data_field_v2_from_20208010/preprocessed/20200811-2130_TRS_M00507_com2.csv\n",
      "INFO:root:saved file 2020_data/data_field_v2_from_20208010/preprocessed/20200812-0100_TRS_M00507_com2.csv\n",
      "INFO:root:saved file 2020_data/data_field_v2_from_20208010/preprocessed/20200811-2230_TRS_M00507_com2.csv\n",
      "INFO:root:saved file 2020_data/data_field_v2_from_20208010/preprocessed/20200811-0900_TRS_M00507_com2.csv\n",
      "INFO:root:saved file 2020_data/data_field_v2_from_20208010/preprocessed/20200811-2300_TRS_M00507_com2.csv\n",
      "INFO:root:saved file 2020_data/data_field_v2_from_20208010/preprocessed/20200811-1200_TRS_M00507_com2.csv\n",
      "INFO:root:saved file 2020_data/data_field_v2_from_20208010/preprocessed/20200810-2000_TRS_M00507_com2.csv\n",
      "INFO:root:saved file 2020_data/data_field_v2_from_20208010/preprocessed/20200811-1430_TRS_M00507_com2.csv\n",
      "INFO:root:saved file 2020_data/data_field_v2_from_20208010/preprocessed/20200812-0700_TRS_M00507_com2.csv\n",
      "INFO:root:saved file 2020_data/data_field_v2_from_20208010/preprocessed/20200811-0300_TRS_M00507_com2.csv\n",
      "INFO:root:saved file 2020_data/data_field_v2_from_20208010/preprocessed/20200811-1100_TRS_M00507_com2.csv\n",
      "INFO:root:saved file 2020_data/data_field_v2_from_20208010/preprocessed/20200811-0230_TRS_M00507_com2.csv\n",
      "INFO:root:saved file 2020_data/data_field_v2_from_20208010/preprocessed/20200812-0030_TRS_M00507_com2.csv\n",
      "INFO:root:saved file 2020_data/data_field_v2_from_20208010/preprocessed/20200811-0130_TRS_M00507_com2.csv\n",
      "INFO:root:saved file 2020_data/data_field_v2_from_20208010/preprocessed/20200811-0800_TRS_M00507_com2.csv\n",
      "INFO:root:saved file 2020_data/data_field_v2_from_20208010/preprocessed/20200810-1530_TRS_M00507_com2.csv\n",
      "INFO:root:saved file 2020_data/data_field_v2_from_20208010/preprocessed/20200811-0530_TRS_M00507_com2.csv\n",
      "INFO:root:saved file 2020_data/data_field_v2_from_20208010/preprocessed/20200810-1430_TRS_M00507_com2.csv\n",
      "INFO:root:saved file 2020_data/data_field_v2_from_20208010/preprocessed/20200811-1400_TRS_M00507_com2.csv\n",
      "INFO:root:saved file 2020_data/data_field_v2_from_20208010/preprocessed/20200811-0330_TRS_M00507_com2.csv\n"
     ]
    },
    {
     "name": "stdout",
     "output_type": "stream",
     "text": [
      "processing m506_raw\n"
     ]
    },
    {
     "name": "stderr",
     "output_type": "stream",
     "text": [
      "INFO:root:saved file 2020_data/data_field_v2_from_20208010/preprocessed/20200811-1900_TRS_M00506_com3_raw.csv\n",
      "INFO:root:saved file 2020_data/data_field_v2_from_20208010/preprocessed/20200812-0730_TRS_M00506_com3_raw.csv\n",
      "INFO:root:saved file 2020_data/data_field_v2_from_20208010/preprocessed/20200812-0530_TRS_M00506_com3_raw.csv\n",
      "INFO:root:saved file 2020_data/data_field_v2_from_20208010/preprocessed/20200811-0400_TRS_M00506_com3_raw.csv\n",
      "INFO:root:saved file 2020_data/data_field_v2_from_20208010/preprocessed/20200811-2100_TRS_M00506_com3_raw.csv\n",
      "INFO:root:saved file 2020_data/data_field_v2_from_20208010/preprocessed/20200812-0000_TRS_M00506_com3_raw.csv\n",
      "INFO:root:saved file 2020_data/data_field_v2_from_20208010/preprocessed/20200812-0630_TRS_M00506_com3_raw.csv\n",
      "INFO:root:saved file 2020_data/data_field_v2_from_20208010/preprocessed/20200810-2300_TRS_M00506_com3_raw.csv\n",
      "INFO:root:saved file 2020_data/data_field_v2_from_20208010/preprocessed/20200811-0930_TRS_M00506_com3_raw.csv\n",
      "INFO:root:saved file 2020_data/data_field_v2_from_20208010/preprocessed/20200810-1830_TRS_M00506_com3_raw.csv\n",
      "INFO:root:saved file 2020_data/data_field_v2_from_20208010/preprocessed/20200812-0030_TRS_M00506_com3_raw.csv\n",
      "INFO:root:saved file 2020_data/data_field_v2_from_20208010/preprocessed/20200811-0830_TRS_M00506_com3_raw.csv\n",
      "INFO:root:saved file 2020_data/data_field_v2_from_20208010/preprocessed/20200811-0730_TRS_M00506_com3_raw.csv\n",
      "INFO:root:saved file 2020_data/data_field_v2_from_20208010/preprocessed/20200812-0830_TRS_M00506_com3_raw.csv\n",
      "INFO:root:saved file 2020_data/data_field_v2_from_20208010/preprocessed/20200810-1700_TRS_M00506_com3_raw.csv\n",
      "INFO:root:saved file 2020_data/data_field_v2_from_20208010/preprocessed/20200810-2030_TRS_M00506_com3_raw.csv\n",
      "INFO:root:saved file 2020_data/data_field_v2_from_20208010/preprocessed/20200811-0630_TRS_M00506_com3_raw.csv\n",
      "INFO:root:saved file 2020_data/data_field_v2_from_20208010/preprocessed/20200810-1430_TRS_M00506_com3_raw.csv\n",
      "INFO:root:saved file 2020_data/data_field_v2_from_20208010/preprocessed/20200812-0500_TRS_M00506_com3_raw.csv\n",
      "INFO:root:saved file 2020_data/data_field_v2_from_20208010/preprocessed/20200811-2000_TRS_M00506_com3_raw.csv\n",
      "INFO:root:saved file 2020_data/data_field_v2_from_20208010/preprocessed/20200811-1400_TRS_M00506_com3_raw.csv\n",
      "INFO:root:saved file 2020_data/data_field_v2_from_20208010/preprocessed/20200811-1700_TRS_M00506_com3_raw.csv\n",
      "INFO:root:saved file 2020_data/data_field_v2_from_20208010/preprocessed/20200811-1130_TRS_M00506_com3_raw.csv\n",
      "INFO:root:saved file 2020_data/data_field_v2_from_20208010/preprocessed/20200811-1430_TRS_M00506_com3_raw.csv\n",
      "INFO:root:saved file 2020_data/data_field_v2_from_20208010/preprocessed/20200812-0130_TRS_M00506_com3_raw.csv\n",
      "INFO:root:saved file 2020_data/data_field_v2_from_20208010/preprocessed/20200810-2000_TRS_M00506_com3_raw.csv\n",
      "INFO:root:saved file 2020_data/data_field_v2_from_20208010/preprocessed/20200811-0500_TRS_M00506_com3_raw.csv\n",
      "INFO:root:saved file 2020_data/data_field_v2_from_20208010/preprocessed/20200811-0130_TRS_M00506_com3_raw.csv\n",
      "INFO:root:saved file 2020_data/data_field_v2_from_20208010/preprocessed/20200810-2100_TRS_M00506_com3_raw.csv\n",
      "INFO:root:saved file 2020_data/data_field_v2_from_20208010/preprocessed/20200810-1930_TRS_M00506_com3_raw.csv\n",
      "INFO:root:saved file 2020_data/data_field_v2_from_20208010/preprocessed/20200811-2330_TRS_M00506_com3_raw.csv\n",
      "INFO:root:saved file 2020_data/data_field_v2_from_20208010/preprocessed/20200810-1500_TRS_M00506_com3_raw.csv\n",
      "INFO:root:saved file 2020_data/data_field_v2_from_20208010/preprocessed/20200812-0330_TRS_M00506_com3_raw.csv\n",
      "INFO:root:saved file 2020_data/data_field_v2_from_20208010/preprocessed/20200811-2130_TRS_M00506_com3_raw.csv\n",
      "INFO:root:saved file 2020_data/data_field_v2_from_20208010/preprocessed/20200810-1630_TRS_M00506_com3_raw.csv\n",
      "INFO:root:saved file 2020_data/data_field_v2_from_20208010/preprocessed/20200812-0700_TRS_M00506_com3_raw.csv\n",
      "INFO:root:saved file 2020_data/data_field_v2_from_20208010/preprocessed/20200810-1730_TRS_M00506_com3_raw.csv\n",
      "INFO:root:saved file 2020_data/data_field_v2_from_20208010/preprocessed/20200811-1200_TRS_M00506_com3_raw.csv\n",
      "INFO:root:saved file 2020_data/data_field_v2_from_20208010/preprocessed/20200811-0330_TRS_M00506_com3_raw.csv\n",
      "INFO:root:saved file 2020_data/data_field_v2_from_20208010/preprocessed/20200811-1630_TRS_M00506_com3_raw.csv\n",
      "INFO:root:saved file 2020_data/data_field_v2_from_20208010/preprocessed/20200812-0430_TRS_M00506_com3_raw.csv\n",
      "INFO:root:saved file 2020_data/data_field_v2_from_20208010/preprocessed/20200810-2330_TRS_M00506_com3_raw.csv\n",
      "INFO:root:saved file 2020_data/data_field_v2_from_20208010/preprocessed/20200810-2200_TRS_M00506_com3_raw.csv\n",
      "INFO:root:saved file 2020_data/data_field_v2_from_20208010/preprocessed/20200811-0000_TRS_M00506_com3_raw.csv\n",
      "INFO:root:saved file 2020_data/data_field_v2_from_20208010/preprocessed/20200811-1030_TRS_M00506_com3_raw.csv\n",
      "INFO:root:saved file 2020_data/data_field_v2_from_20208010/preprocessed/20200811-1000_TRS_M00506_com3_raw.csv\n",
      "INFO:root:saved file 2020_data/data_field_v2_from_20208010/preprocessed/20200811-1730_TRS_M00506_com3_raw.csv\n",
      "INFO:root:saved file 2020_data/data_field_v2_from_20208010/preprocessed/20200812-0600_TRS_M00506_com3_raw.csv\n",
      "INFO:root:saved file 2020_data/data_field_v2_from_20208010/preprocessed/20200811-0230_TRS_M00506_com3_raw.csv\n",
      "INFO:root:saved file 2020_data/data_field_v2_from_20208010/preprocessed/20200811-0430_TRS_M00506_com3_raw.csv\n",
      "INFO:root:saved file 2020_data/data_field_v2_from_20208010/preprocessed/20200810-1800_TRS_M00506_com3_raw.csv\n",
      "INFO:root:saved file 2020_data/data_field_v2_from_20208010/preprocessed/20200811-0100_TRS_M00506_com3_raw.csv\n",
      "INFO:root:saved file 2020_data/data_field_v2_from_20208010/preprocessed/20200811-2230_TRS_M00506_com3_raw.csv\n",
      "INFO:root:saved file 2020_data/data_field_v2_from_20208010/preprocessed/20200811-2030_TRS_M00506_com3_raw.csv\n",
      "INFO:root:saved file 2020_data/data_field_v2_from_20208010/preprocessed/20200811-0800_TRS_M00506_com3_raw.csv\n",
      "INFO:root:saved file 2020_data/data_field_v2_from_20208010/preprocessed/20200812-0100_TRS_M00506_com3_raw.csv\n",
      "INFO:root:saved file 2020_data/data_field_v2_from_20208010/preprocessed/20200810-1600_TRS_M00506_com3_raw.csv\n",
      "INFO:root:saved file 2020_data/data_field_v2_from_20208010/preprocessed/20200811-1100_TRS_M00506_com3_raw.csv\n",
      "INFO:root:saved file 2020_data/data_field_v2_from_20208010/preprocessed/20200811-0900_TRS_M00506_com3_raw.csv\n",
      "INFO:root:saved file 2020_data/data_field_v2_from_20208010/preprocessed/20200812-0200_TRS_M00506_com3_raw.csv\n",
      "INFO:root:saved file 2020_data/data_field_v2_from_20208010/preprocessed/20200810-2230_TRS_M00506_com3_raw.csv\n",
      "INFO:root:saved file 2020_data/data_field_v2_from_20208010/preprocessed/20200812-0900_TRS_M00506_com3_raw.csv\n",
      "INFO:root:saved file 2020_data/data_field_v2_from_20208010/preprocessed/20200810-2130_TRS_M00506_com3_raw.csv\n",
      "INFO:root:saved file 2020_data/data_field_v2_from_20208010/preprocessed/20200812-0800_TRS_M00506_com3_raw.csv\n",
      "INFO:root:saved file 2020_data/data_field_v2_from_20208010/preprocessed/20200811-0600_TRS_M00506_com3_raw.csv\n",
      "INFO:root:saved file 2020_data/data_field_v2_from_20208010/preprocessed/20200811-2300_TRS_M00506_com3_raw.csv\n",
      "INFO:root:saved file 2020_data/data_field_v2_from_20208010/preprocessed/20200811-0030_TRS_M00506_com3_raw.csv\n",
      "INFO:root:saved file 2020_data/data_field_v2_from_20208010/preprocessed/20200811-1600_TRS_M00506_com3_raw.csv\n",
      "INFO:root:saved file 2020_data/data_field_v2_from_20208010/preprocessed/20200811-0200_TRS_M00506_com3_raw.csv\n",
      "INFO:root:saved file 2020_data/data_field_v2_from_20208010/preprocessed/20200811-0700_TRS_M00506_com3_raw.csv\n",
      "INFO:root:saved file 2020_data/data_field_v2_from_20208010/preprocessed/20200810-1530_TRS_M00506_com3_raw.csv\n",
      "INFO:root:saved file 2020_data/data_field_v2_from_20208010/preprocessed/20200811-2200_TRS_M00506_com3_raw.csv\n",
      "INFO:root:saved file 2020_data/data_field_v2_from_20208010/preprocessed/20200811-0300_TRS_M00506_com3_raw.csv\n",
      "INFO:root:saved file 2020_data/data_field_v2_from_20208010/preprocessed/20200811-1800_TRS_M00506_com3_raw.csv\n",
      "INFO:root:saved file 2020_data/data_field_v2_from_20208010/preprocessed/20200811-1930_TRS_M00506_com3_raw.csv\n",
      "INFO:root:saved file 2020_data/data_field_v2_from_20208010/preprocessed/20200811-0530_TRS_M00506_com3_raw.csv\n",
      "INFO:root:saved file 2020_data/data_field_v2_from_20208010/preprocessed/20200812-0230_TRS_M00506_com3_raw.csv\n",
      "INFO:root:saved file 2020_data/data_field_v2_from_20208010/preprocessed/20200811-1830_TRS_M00506_com3_raw.csv\n",
      "INFO:root:saved file 2020_data/data_field_v2_from_20208010/preprocessed/20200810-1900_TRS_M00506_com3_raw.csv\n",
      "INFO:root:saved file 2020_data/data_field_v2_from_20208010/preprocessed/20200812-0300_TRS_M00506_com3_raw.csv\n",
      "INFO:root:saved file 2020_data/data_field_v2_from_20208010/preprocessed/20200812-0400_TRS_M00506_com3_raw.csv\n",
      "INFO:root:saved file 2020_data/data_field_v2_from_20208010/preprocessed/20200810-2230_WM_174605_com1.csv\n",
      "INFO:root:saved file 2020_data/data_field_v2_from_20208010/preprocessed/20200810-1800_WM_174605_com1.csv\n",
      "INFO:root:saved file 2020_data/data_field_v2_from_20208010/preprocessed/20200811-0900_WM_174605_com1.csv\n"
     ]
    },
    {
     "name": "stdout",
     "output_type": "stream",
     "text": [
      "processing wm1\n"
     ]
    },
    {
     "name": "stderr",
     "output_type": "stream",
     "text": [
      "INFO:root:saved file 2020_data/data_field_v2_from_20208010/preprocessed/20200811-1430_WM_174605_com1.csv\n",
      "INFO:root:saved file 2020_data/data_field_v2_from_20208010/preprocessed/20200812-0230_WM_174605_com1.csv\n",
      "INFO:root:saved file 2020_data/data_field_v2_from_20208010/preprocessed/20200811-1600_WM_174605_com1.csv\n",
      "INFO:root:saved file 2020_data/data_field_v2_from_20208010/preprocessed/20200810-1630_WM_174605_com1.csv\n",
      "INFO:root:saved file 2020_data/data_field_v2_from_20208010/preprocessed/20200810-1600_WM_174605_com1.csv\n",
      "INFO:root:saved file 2020_data/data_field_v2_from_20208010/preprocessed/20200811-0430_WM_174605_com1.csv\n",
      "INFO:root:saved file 2020_data/data_field_v2_from_20208010/preprocessed/20200811-1830_WM_174605_com1.csv\n",
      "INFO:root:saved file 2020_data/data_field_v2_from_20208010/preprocessed/20200811-2000_WM_174605_com1.csv\n",
      "INFO:root:saved file 2020_data/data_field_v2_from_20208010/preprocessed/20200810-1500_WM_174605_com1.csv\n",
      "INFO:root:saved file 2020_data/data_field_v2_from_20208010/preprocessed/20200810-1430_WM_174605_com1.csv\n",
      "INFO:root:saved file 2020_data/data_field_v2_from_20208010/preprocessed/20200812-0500_WM_174605_com1.csv\n",
      "INFO:root:saved file 2020_data/data_field_v2_from_20208010/preprocessed/20200811-1200_WM_174605_com1.csv\n",
      "INFO:root:saved file 2020_data/data_field_v2_from_20208010/preprocessed/20200812-0600_WM_174605_com1.csv\n",
      "INFO:root:saved file 2020_data/data_field_v2_from_20208010/preprocessed/20200811-1800_WM_174605_com1.csv\n",
      "INFO:root:saved file 2020_data/data_field_v2_from_20208010/preprocessed/20200811-2030_WM_174605_com1.csv\n",
      "INFO:root:saved file 2020_data/data_field_v2_from_20208010/preprocessed/20200811-2130_WM_174605_com1.csv\n",
      "INFO:root:saved file 2020_data/data_field_v2_from_20208010/preprocessed/20200811-0400_WM_174605_com1.csv\n",
      "INFO:root:saved file 2020_data/data_field_v2_from_20208010/preprocessed/20200810-1900_WM_174605_com1.csv\n",
      "INFO:root:saved file 2020_data/data_field_v2_from_20208010/preprocessed/20200811-2200_WM_174605_com1.csv\n",
      "INFO:root:saved file 2020_data/data_field_v2_from_20208010/preprocessed/20200811-0300_WM_174605_com1.csv\n",
      "INFO:root:saved file 2020_data/data_field_v2_from_20208010/preprocessed/20200812-0630_WM_174605_com1.csv\n",
      "INFO:root:saved file 2020_data/data_field_v2_from_20208010/preprocessed/20200811-0100_WM_174605_com1.csv\n",
      "INFO:root:saved file 2020_data/data_field_v2_from_20208010/preprocessed/20200811-0500_WM_174605_com1.csv\n",
      "INFO:root:saved file 2020_data/data_field_v2_from_20208010/preprocessed/20200811-0530_WM_174605_com1.csv\n",
      "INFO:root:saved file 2020_data/data_field_v2_from_20208010/preprocessed/20200811-2330_WM_174605_com1.csv\n",
      "INFO:root:saved file 2020_data/data_field_v2_from_20208010/preprocessed/20200811-0600_WM_174605_com1.csv\n",
      "INFO:root:saved file 2020_data/data_field_v2_from_20208010/preprocessed/20200812-0400_WM_174605_com1.csv\n",
      "INFO:root:saved file 2020_data/data_field_v2_from_20208010/preprocessed/20200812-0200_WM_174605_com1.csv\n",
      "INFO:root:saved file 2020_data/data_field_v2_from_20208010/preprocessed/20200810-2330_WM_174605_com1.csv\n",
      "INFO:root:saved file 2020_data/data_field_v2_from_20208010/preprocessed/20200810-1930_WM_174605_com1.csv\n",
      "INFO:root:saved file 2020_data/data_field_v2_from_20208010/preprocessed/20200810-2100_WM_174605_com1.csv\n",
      "INFO:root:saved file 2020_data/data_field_v2_from_20208010/preprocessed/20200811-1900_WM_174605_com1.csv\n",
      "INFO:root:saved file 2020_data/data_field_v2_from_20208010/preprocessed/20200812-0100_WM_174605_com1.csv\n",
      "INFO:root:saved file 2020_data/data_field_v2_from_20208010/preprocessed/20200810-2130_WM_174605_com1.csv\n",
      "INFO:root:saved file 2020_data/data_field_v2_from_20208010/preprocessed/20200812-0700_WM_174605_com1.csv\n",
      "INFO:root:saved file 2020_data/data_field_v2_from_20208010/preprocessed/20200811-0230_WM_174605_com1.csv\n",
      "INFO:root:saved file 2020_data/data_field_v2_from_20208010/preprocessed/20200810-1830_WM_174605_com1.csv\n",
      "INFO:root:saved file 2020_data/data_field_v2_from_20208010/preprocessed/20200812-0830_WM_174605_com1.csv\n",
      "INFO:root:saved file 2020_data/data_field_v2_from_20208010/preprocessed/20200811-1400_WM_174605_com1.csv\n",
      "INFO:root:saved file 2020_data/data_field_v2_from_20208010/preprocessed/20200811-2230_WM_174605_com1.csv\n",
      "INFO:root:saved file 2020_data/data_field_v2_from_20208010/preprocessed/20200811-0830_WM_174605_com1.csv\n",
      "INFO:root:saved file 2020_data/data_field_v2_from_20208010/preprocessed/20200811-0930_WM_174605_com1.csv\n",
      "INFO:root:saved file 2020_data/data_field_v2_from_20208010/preprocessed/20200811-0030_WM_174605_com1.csv\n",
      "INFO:root:saved file 2020_data/data_field_v2_from_20208010/preprocessed/20200811-0730_WM_174605_com1.csv\n",
      "INFO:root:saved file 2020_data/data_field_v2_from_20208010/preprocessed/20200811-2100_WM_174605_com1.csv\n",
      "INFO:root:saved file 2020_data/data_field_v2_from_20208010/preprocessed/20200810-2030_WM_174605_com1.csv\n",
      "INFO:root:saved file 2020_data/data_field_v2_from_20208010/preprocessed/20200812-0000_WM_174605_com1.csv\n",
      "INFO:root:saved file 2020_data/data_field_v2_from_20208010/preprocessed/20200811-1700_WM_174605_com1.csv\n",
      "INFO:root:saved file 2020_data/data_field_v2_from_20208010/preprocessed/20200811-2300_WM_174605_com1.csv\n",
      "INFO:root:saved file 2020_data/data_field_v2_from_20208010/preprocessed/20200811-0330_WM_174605_com1.csv\n",
      "INFO:root:saved file 2020_data/data_field_v2_from_20208010/preprocessed/20200812-0800_WM_174605_com1.csv\n",
      "INFO:root:saved file 2020_data/data_field_v2_from_20208010/preprocessed/20200811-1030_WM_174605_com1.csv\n",
      "INFO:root:saved file 2020_data/data_field_v2_from_20208010/preprocessed/20200810-1730_WM_174605_com1.csv\n",
      "INFO:root:saved file 2020_data/data_field_v2_from_20208010/preprocessed/20200812-0300_WM_174605_com1.csv\n",
      "INFO:root:saved file 2020_data/data_field_v2_from_20208010/preprocessed/20200810-1700_WM_174605_com1.csv\n",
      "INFO:root:saved file 2020_data/data_field_v2_from_20208010/preprocessed/20200811-1730_WM_174605_com1.csv\n",
      "INFO:root:saved file 2020_data/data_field_v2_from_20208010/preprocessed/20200810-2000_WM_174605_com1.csv\n",
      "INFO:root:saved file 2020_data/data_field_v2_from_20208010/preprocessed/20200812-0430_WM_174605_com1.csv\n",
      "INFO:root:saved file 2020_data/data_field_v2_from_20208010/preprocessed/20200811-0700_WM_174605_com1.csv\n",
      "INFO:root:saved file 2020_data/data_field_v2_from_20208010/preprocessed/20200812-0030_WM_174605_com1.csv\n",
      "INFO:root:saved file 2020_data/data_field_v2_from_20208010/preprocessed/20200811-1630_WM_174605_com1.csv\n",
      "INFO:root:saved file 2020_data/data_field_v2_from_20208010/preprocessed/20200811-0630_WM_174605_com1.csv\n",
      "INFO:root:saved file 2020_data/data_field_v2_from_20208010/preprocessed/20200811-1130_WM_174605_com1.csv\n",
      "INFO:root:saved file 2020_data/data_field_v2_from_20208010/preprocessed/20200810-2300_WM_174605_com1.csv\n",
      "INFO:root:saved file 2020_data/data_field_v2_from_20208010/preprocessed/20200811-1000_WM_174605_com1.csv\n",
      "INFO:root:saved file 2020_data/data_field_v2_from_20208010/preprocessed/20200811-0800_WM_174605_com1.csv\n",
      "INFO:root:saved file 2020_data/data_field_v2_from_20208010/preprocessed/20200810-1530_WM_174605_com1.csv\n",
      "INFO:root:saved file 2020_data/data_field_v2_from_20208010/preprocessed/20200812-0730_WM_174605_com1.csv\n",
      "INFO:root:saved file 2020_data/data_field_v2_from_20208010/preprocessed/20200811-0130_WM_174605_com1.csv\n",
      "INFO:root:saved file 2020_data/data_field_v2_from_20208010/preprocessed/20200811-0200_WM_174605_com1.csv\n",
      "INFO:root:saved file 2020_data/data_field_v2_from_20208010/preprocessed/20200812-0330_WM_174605_com1.csv\n",
      "INFO:root:saved file 2020_data/data_field_v2_from_20208010/preprocessed/20200812-0130_WM_174605_com1.csv\n",
      "INFO:root:saved file 2020_data/data_field_v2_from_20208010/preprocessed/20200811-1930_WM_174605_com1.csv\n",
      "INFO:root:saved file 2020_data/data_field_v2_from_20208010/preprocessed/20200811-0000_WM_174605_com1.csv\n",
      "INFO:root:saved file 2020_data/data_field_v2_from_20208010/preprocessed/20200812-0530_WM_174605_com1.csv\n",
      "INFO:root:saved file 2020_data/data_field_v2_from_20208010/preprocessed/20200810-2200_WM_174605_com1.csv\n",
      "INFO:root:saved file 2020_data/data_field_v2_from_20208010/preprocessed/20200811-1100_WM_174605_com1.csv\n",
      "INFO:root:saved file 2020_data/data_field_v2_from_20208010/preprocessed/20200812-0900_WM_174605_com1.csv\n"
     ]
    },
    {
     "name": "stdout",
     "output_type": "stream",
     "text": [
      "done\n"
     ]
    }
   ],
   "source": [
    "main()"
   ]
  },
  {
   "cell_type": "code",
   "execution_count": null,
   "metadata": {},
   "outputs": [],
   "source": []
  },
  {
   "cell_type": "code",
   "execution_count": null,
   "metadata": {},
   "outputs": [
    {
     "data": {
      "text/plain": [
       "array([[ 2., -1.,  3.]])"
      ]
     },
     "execution_count": null,
     "metadata": {},
     "output_type": "execute_result"
    }
   ],
   "source": [
    "rot_m506.apply(np.array([[1,2,3]]))"
   ]
  },
  {
   "cell_type": "markdown",
   "metadata": {},
   "source": [
    "# Tests and Explanations"
   ]
  },
  {
   "cell_type": "code",
   "execution_count": null,
   "metadata": {},
   "outputs": [],
   "source": [
    "def vecs3d_legend(name=\"\", colors=['r', 'g', 'b', 'fuchsia', 'yellow', 'cyan'], labels=['u', 'v', 'w', 'u reference system', 'v reference system', 'w reference system']):\n",
    "    handles = []\n",
    "    for col, label in zip(colors, labels):\n",
    "        handles.append(mpatches.Patch(color=col, label=label))\n",
    "    \n",
    "    plt.legend(handles=handles)"
   ]
  },
  {
   "cell_type": "markdown",
   "metadata": {},
   "source": [
    "###  M506"
   ]
  },
  {
   "cell_type": "code",
   "execution_count": null,
   "metadata": {},
   "outputs": [],
   "source": [
    "rot_m506 = R.from_euler('z', [-90.], degrees=True)\n",
    "def process_m506(data):\n",
    "    # fix TRS1 u and v ax by inverting it, due to different coordinate system between trisonica and EP\n",
    "    rot_data = data.copy() #to preserve temperature\n",
    "    rot_data[:, [u,v,w]] = rot_m506.apply(data[:, [u,v,w]])\n",
    "    return data"
   ]
  },
  {
   "cell_type": "code",
   "execution_count": null,
   "metadata": {},
   "outputs": [
    {
     "data": {
      "image/png": "[encoded data removed]",
      "text/plain": [
       "<Figure size 1296x720 with 1 Axes>"
      ]
     },
     "metadata": {
      "needs_background": "light"
     },
     "output_type": "display_data"
    }
   ],
   "source": [
    "ax = plt.figure().add_subplot(111, projection='3d')\n",
    "ax.set_title(\"M507 reference frame compared to the world one \")\n",
    "plot_vecs3d(rot_m506.apply(v0), colors=['r', 'g', 'b'], ax=ax, lw=5 )\n",
    "plot_vecs3d(v0, colors=['fuchsia', 'yellow', 'cyan'], ax=ax, lw=2) # plot origins as reference only on the last one\n",
    "\n",
    "vecs3d_legend()"
   ]
  },
  {
   "cell_type": "markdown",
   "metadata": {},
   "source": [
    "#### Tests"
   ]
  },
  {
   "cell_type": "code",
   "execution_count": null,
   "metadata": {},
   "outputs": [],
   "source": [
    "v1 = [1,2,3]"
   ]
  },
  {
   "cell_type": "code",
   "execution_count": null,
   "metadata": {},
   "outputs": [],
   "source": [
    "test_close(rot_m506.apply(v1),[ 2., -1.,  3.] )"
   ]
  },
  {
   "cell_type": "markdown",
   "metadata": {},
   "source": [
    "### M507"
   ]
  },
  {
   "cell_type": "code",
   "execution_count": null,
   "metadata": {},
   "outputs": [],
   "source": [
    "rot_m507 = R.from_euler('XYZ', [90, 0,  135], degrees=True) \n",
    "\n",
    "def process_m507(data):      \n",
    "    rot_data = data.copy() #to preserve temperature\n",
    "    rot_data[:, [u,v,w]] = rot_m507.apply(data[:, [u,v,w]])\n",
    "    \n",
    "    return rot_data\n"
   ]
  },
  {
   "cell_type": "code",
   "execution_count": null,
   "metadata": {},
   "outputs": [
    {
     "data": {
      "application/vnd.jupyter.widget-view+json": {
       "model_id": "4819009e9deb4237b70f6988d798d47a",
       "version_major": 2,
       "version_minor": 0
      },
      "text/plain": [
       "Canvas(toolbar=Toolbar(toolitems=[('Home', 'Reset original view', 'home', 'home'), ('Back', 'Back to previous …"
      ]
     },
     "metadata": {},
     "output_type": "display_data"
    }
   ],
   "source": [
    "ax = plt.figure().add_subplot(111, projection='3d')\n",
    "ax.set_title(\"M507 reference frame compared to the world one \")\n",
    "plot_vecs3d(rot_m507.apply(v0), colors=['r', 'g', 'b'], ax=ax, lw=5 )\n",
    "plot_vecs3d(v0, colors=['fuchsia', 'yellow', 'cyan'], ax=ax, lw=2) # plot origins as reference only on the last one\n",
    "\n",
    "vecs3d_legend()"
   ]
  },
  {
   "cell_type": "markdown",
   "metadata": {},
   "source": [
    "**Those tests works only no rotation on the y** TODO fix this"
   ]
  },
  {
   "cell_type": "code",
   "execution_count": null,
   "metadata": {},
   "outputs": [],
   "source": [
    "v2 = [1,1,2],"
   ]
  },
  {
   "cell_type": "code",
   "execution_count": null,
   "metadata": {},
   "outputs": [
    {
     "data": {
      "text/plain": [
       "array([[1.41421356e+00, 2.00000000e+00, 3.33066907e-16]])"
      ]
     },
     "execution_count": null,
     "metadata": {},
     "output_type": "execute_result"
    }
   ],
   "source": [
    "rot_m507.apply(v2)"
   ]
  },
  {
   "cell_type": "code",
   "execution_count": null,
   "metadata": {},
   "outputs": [],
   "source": [
    "test_close(rot_m507.apply(v2), [-np.sqrt(2), -2., 0.])"
   ]
  },
  {
   "cell_type": "code",
   "execution_count": null,
   "metadata": {},
   "outputs": [],
   "source": [
    "v3 = [0,1,3]"
   ]
  },
  {
   "cell_type": "code",
   "execution_count": null,
   "metadata": {},
   "outputs": [],
   "source": [
    "test_close(rot_m507.apply(v3), [-np.sin(np.pi/4),-3,-np.sin(np.pi/4)])"
   ]
  },
  {
   "cell_type": "markdown",
   "metadata": {},
   "source": [
    "## Testing M507 wind filter"
   ]
  },
  {
   "cell_type": "code",
   "execution_count": null,
   "metadata": {},
   "outputs": [],
   "source": [
    "#interesting period with EP data is\n",
    "testf = in_dir / \"20200724-2200_WM_174605_com1.raw\"\n",
    "tfilt = wm_dir_filter(testf)"
   ]
  },
  {
   "cell_type": "code",
   "execution_count": null,
   "metadata": {},
   "outputs": [
    {
     "data": {
      "text/plain": [
       "array([False, False, False, ..., False, False, False])"
      ]
     },
     "execution_count": null,
     "metadata": {},
     "output_type": "execute_result"
    }
   ],
   "source": [
    "tfilt[:1210]"
   ]
  },
  {
   "cell_type": "code",
   "execution_count": null,
   "metadata": {},
   "outputs": [],
   "source": [
    "ep_outf = in_dir / \"../processed/eddypro_raw_datasets/level_1/20200724-2202_raw_dataset_2020-08-07T163138_adv.txt\""
   ]
  },
  {
   "cell_type": "code",
   "execution_count": null,
   "metadata": {},
   "outputs": [],
   "source": [
    "ep_out = np.genfromtxt(ep_outf, skip_header=10)"
   ]
  },
  {
   "cell_type": "code",
   "execution_count": null,
   "metadata": {},
   "outputs": [],
   "source": [
    "ep_out[ep_out==-9999.] = np.nan"
   ]
  },
  {
   "cell_type": "code",
   "execution_count": null,
   "metadata": {},
   "outputs": [
    {
     "data": {
      "text/plain": [
       "array([nan, nan, nan, nan])"
      ]
     },
     "execution_count": null,
     "metadata": {},
     "output_type": "execute_result"
    }
   ],
   "source": [
    "ep_out[181]"
   ]
  },
  {
   "cell_type": "code",
   "execution_count": null,
   "metadata": {},
   "outputs": [],
   "source": [
    "wd = mod(get_wind_dir(ep_out[:, 0], ep_out[:, 1]) + wm_offset)"
   ]
  },
  {
   "cell_type": "code",
   "execution_count": null,
   "metadata": {},
   "outputs": [],
   "source": [
    "wdr = get_wind_dir(ep_out[:, 0], ep_out[:, 1])"
   ]
  },
  {
   "cell_type": "code",
   "execution_count": null,
   "metadata": {},
   "outputs": [
    {
     "data": {
      "text/plain": [
       "19.65297272650223"
      ]
     },
     "execution_count": null,
     "metadata": {},
     "output_type": "execute_result"
    }
   ],
   "source": [
    "wdr[~np.isnan(wdr)].mean()"
   ]
  },
  {
   "cell_type": "code",
   "execution_count": null,
   "metadata": {},
   "outputs": [
    {
     "data": {
      "text/plain": [
       "329.65297272650224"
      ]
     },
     "execution_count": null,
     "metadata": {},
     "output_type": "execute_result"
    }
   ],
   "source": [
    "wd[~np.isnan(wd)].mean()"
   ]
  },
  {
   "cell_type": "code",
   "execution_count": null,
   "metadata": {},
   "outputs": [],
   "source": []
  }
 ],
 "metadata": {
  "kernelspec": {
   "display_name": "Python [conda env:root] *",
   "language": "python",
   "name": "conda-root-py"
  }
 },
 "nbformat": 4,
 "nbformat_minor": 4
}
