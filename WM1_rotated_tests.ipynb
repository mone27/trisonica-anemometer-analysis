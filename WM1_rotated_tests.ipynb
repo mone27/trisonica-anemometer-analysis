{
 "cells": [
  {
   "cell_type": "code",
   "execution_count": 1,
   "metadata": {},
   "outputs": [],
   "source": [
    "%load_ext autoreload\n",
    "%autoreload 2"
   ]
  },
  {
   "cell_type": "code",
   "execution_count": 2,
   "metadata": {},
   "outputs": [],
   "source": [
    "%matplotlib widget\n",
    "import matplotlib.pyplot as plt"
   ]
  },
  {
   "cell_type": "code",
   "execution_count": 3,
   "metadata": {},
   "outputs": [
    {
     "data": {
      "application/vnd.jupyter.widget-view+json": {
       "model_id": "424134a337634a718bcf9e78f1dbd017",
       "version_major": 2,
       "version_minor": 0
      },
      "text/plain": [
       "Canvas(toolbar=Toolbar(toolitems=[('Home', 'Reset original view', 'home', 'home'), ('Back', 'Back to  previous…"
      ]
     },
     "metadata": {},
     "output_type": "display_data"
    },
    {
     "data": {
      "text/plain": [
       "[<matplotlib.lines.Line2D at 0x7f24505bb050>]"
      ]
     },
     "execution_count": 3,
     "metadata": {},
     "output_type": "execute_result"
    }
   ],
   "source": [
    "plt.plot(5)"
   ]
  },
  {
   "cell_type": "code",
   "execution_count": 117,
   "metadata": {},
   "outputs": [],
   "source": [
    "from wind_tools import *\n",
    "# matplotlib.rcParams['figure.figsize'] = (16,12) "
   ]
  },
  {
   "cell_type": "code",
   "execution_count": 11,
   "metadata": {
    "collapsed": false,
    "jupyter": {
     "outputs_hidden": false
    },
    "pycharm": {
     "is_executing": false,
     "name": "#%% define constants\n"
    }
   },
   "outputs": [],
   "source": [
    "proc_dir = Path(\"/run/media/simone/Simone DATI/TRISONICA_DATA/Processed/\")\n",
    "trs1_path = proc_dir / \"TRS1_ep_fixed_axes_ago_sept\" / \"eddypro_TRS_1_fixed_axes_full_output_2019-12-30T133606_exp.csv\"\n",
    "trs2_uncor_path = proc_dir / \"TRS2_cor\" / \"eddypro_TRS_2_uncor_full_output_2019-12-21T140050_exp.csv\"\n",
    "wm1_path = proc_dir / \"WM1_ago_sept\" / \"eddypro_WM1_full_output_2019-12-20T105458_exp.csv\"\n",
    "wm2_path = proc_dir / \"WM1_ago_sept\" / \"eddypro_WM2_full_output_2019-12-20T124352_exp.csv\"\n",
    "cache_dir = Path(\"./processed_data\")\n",
    "start_date = '2018-08-10 00:00:05' #no data in the frist 5 mins for TRS2\n",
    "end_date = '2018-08-13'  # after 14 problems with TRS2\n",
    "wm1_offset = 310\n",
    "wm2_offset = 310"
   ]
  },
  {
   "cell_type": "code",
   "execution_count": 12,
   "metadata": {
    "pycharm": {
     "is_executing": false
    }
   },
   "outputs": [],
   "source": [
    "wm1, wm2, trs1, trs2 = map(\n",
    "    lambda p: load_ep_cache(p).loc[start_date:end_date].loc[:,wind_cols].rename(columns=wind_comp_rename),\n",
    "    [wm1_path, wm2_path, trs1_path, trs2_uncor_path])\n"
   ]
  },
  {
   "cell_type": "code",
   "execution_count": 74,
   "metadata": {},
   "outputs": [],
   "source": [
    "dirf = (wm1.wind_dir > 10)& (wm1.wind_dir < 80)"
   ]
  },
  {
   "cell_type": "code",
   "execution_count": 75,
   "metadata": {},
   "outputs": [
    {
     "name": "stderr",
     "output_type": "stream",
     "text": [
      "/home/simone/.local/lib/python3.7/site-packages/ipykernel_launcher.py:2: UserWarning: Boolean Series key will be reindexed to match DataFrame index.\n",
      "  \n"
     ]
    }
   ],
   "source": [
    "wm1f = wm1[dirf]\n",
    "trs2f = trs2[dirf]"
   ]
  },
  {
   "cell_type": "markdown",
   "metadata": {},
   "source": [
    "# Getting correct rotation angle for TRS2"
   ]
  },
  {
   "cell_type": "code",
   "execution_count": 26,
   "metadata": {},
   "outputs": [],
   "source": [
    "def wind_speed_comp(df, w_comp):\n",
    "    \"\"\"calculate wind speed only with given components\"\"\"\n",
    "    return np.sqrt(df.loc[:, list(w_comp)].pow(2).sum(axis=1)).copy()"
   ]
  },
  {
   "cell_type": "code",
   "execution_count": 16,
   "metadata": {},
   "outputs": [],
   "source": [
    "def map_trs2_axes(trs2raw):\n",
    "    # no rotation!! only mapping end trs2 would have w and u rotated\n",
    "    trs2 = trs2raw.copy()\n",
    "    trs2.u = -trs2raw.u\n",
    "    trs2.v = -trs2raw.w\n",
    "    trs2.w = trs2raw.v\n",
    "    return trs2"
   ]
  },
  {
   "cell_type": "code",
   "execution_count": 18,
   "metadata": {},
   "outputs": [],
   "source": [
    "trs2f = map_trs2_axes(trs2f)"
   ]
  },
  {
   "cell_type": "code",
   "execution_count": 12,
   "metadata": {},
   "outputs": [
    {
     "data": {
      "text/html": [
       "<div>\n",
       "<style scoped>\n",
       "    .dataframe tbody tr th:only-of-type {\n",
       "        vertical-align: middle;\n",
       "    }\n",
       "\n",
       "    .dataframe tbody tr th {\n",
       "        vertical-align: top;\n",
       "    }\n",
       "\n",
       "    .dataframe thead th {\n",
       "        text-align: right;\n",
       "    }\n",
       "</style>\n",
       "<table border=\"1\" class=\"dataframe\">\n",
       "  <thead>\n",
       "    <tr style=\"text-align: right;\">\n",
       "      <th></th>\n",
       "      <th>u</th>\n",
       "      <th>v</th>\n",
       "      <th>w</th>\n",
       "      <th>wind_speed</th>\n",
       "      <th>wind_dir</th>\n",
       "    </tr>\n",
       "    <tr>\n",
       "      <th>date_time</th>\n",
       "      <th></th>\n",
       "      <th></th>\n",
       "      <th></th>\n",
       "      <th></th>\n",
       "      <th></th>\n",
       "    </tr>\n",
       "  </thead>\n",
       "  <tbody>\n",
       "    <tr>\n",
       "      <th>2018-08-10 00:10:00</th>\n",
       "      <td>0.083662</td>\n",
       "      <td>0.027778</td>\n",
       "      <td>-0.246330</td>\n",
       "      <td>0.261628</td>\n",
       "      <td>285.745</td>\n",
       "    </tr>\n",
       "    <tr>\n",
       "      <th>2018-08-10 00:25:00</th>\n",
       "      <td>0.150920</td>\n",
       "      <td>0.021840</td>\n",
       "      <td>-0.251783</td>\n",
       "      <td>0.294361</td>\n",
       "      <td>302.242</td>\n",
       "    </tr>\n",
       "    <tr>\n",
       "      <th>2018-08-10 00:30:00</th>\n",
       "      <td>0.160804</td>\n",
       "      <td>0.025494</td>\n",
       "      <td>-0.179350</td>\n",
       "      <td>0.242227</td>\n",
       "      <td>311.462</td>\n",
       "    </tr>\n",
       "    <tr>\n",
       "      <th>2018-08-10 01:25:00</th>\n",
       "      <td>0.050527</td>\n",
       "      <td>-0.018900</td>\n",
       "      <td>-0.233428</td>\n",
       "      <td>0.239581</td>\n",
       "      <td>274.192</td>\n",
       "    </tr>\n",
       "    <tr>\n",
       "      <th>2018-08-10 01:30:00</th>\n",
       "      <td>0.142103</td>\n",
       "      <td>0.008496</td>\n",
       "      <td>-0.261334</td>\n",
       "      <td>0.297592</td>\n",
       "      <td>293.670</td>\n",
       "    </tr>\n",
       "    <tr>\n",
       "      <th>...</th>\n",
       "      <td>...</td>\n",
       "      <td>...</td>\n",
       "      <td>...</td>\n",
       "      <td>...</td>\n",
       "      <td>...</td>\n",
       "    </tr>\n",
       "    <tr>\n",
       "      <th>2018-08-13 12:00:00</th>\n",
       "      <td>0.270108</td>\n",
       "      <td>0.067230</td>\n",
       "      <td>-0.241196</td>\n",
       "      <td>0.368312</td>\n",
       "      <td>309.518</td>\n",
       "    </tr>\n",
       "    <tr>\n",
       "      <th>2018-08-13 22:05:00</th>\n",
       "      <td>0.107237</td>\n",
       "      <td>0.062873</td>\n",
       "      <td>-0.276375</td>\n",
       "      <td>0.303044</td>\n",
       "      <td>284.532</td>\n",
       "    </tr>\n",
       "    <tr>\n",
       "      <th>2018-08-13 22:35:00</th>\n",
       "      <td>0.045070</td>\n",
       "      <td>0.077730</td>\n",
       "      <td>-0.344097</td>\n",
       "      <td>0.355634</td>\n",
       "      <td>277.894</td>\n",
       "    </tr>\n",
       "    <tr>\n",
       "      <th>2018-08-13 22:55:00</th>\n",
       "      <td>-0.000232</td>\n",
       "      <td>0.095340</td>\n",
       "      <td>-0.306850</td>\n",
       "      <td>0.321320</td>\n",
       "      <td>264.887</td>\n",
       "    </tr>\n",
       "    <tr>\n",
       "      <th>2018-08-13 23:35:00</th>\n",
       "      <td>0.133953</td>\n",
       "      <td>0.103550</td>\n",
       "      <td>-0.263960</td>\n",
       "      <td>0.313594</td>\n",
       "      <td>285.754</td>\n",
       "    </tr>\n",
       "  </tbody>\n",
       "</table>\n",
       "<p>222 rows × 5 columns</p>\n",
       "</div>"
      ],
      "text/plain": [
       "                            u         v         w  wind_speed  wind_dir\n",
       "date_time                                                              \n",
       "2018-08-10 00:10:00  0.083662  0.027778 -0.246330    0.261628   285.745\n",
       "2018-08-10 00:25:00  0.150920  0.021840 -0.251783    0.294361   302.242\n",
       "2018-08-10 00:30:00  0.160804  0.025494 -0.179350    0.242227   311.462\n",
       "2018-08-10 01:25:00  0.050527 -0.018900 -0.233428    0.239581   274.192\n",
       "2018-08-10 01:30:00  0.142103  0.008496 -0.261334    0.297592   293.670\n",
       "...                       ...       ...       ...         ...       ...\n",
       "2018-08-13 12:00:00  0.270108  0.067230 -0.241196    0.368312   309.518\n",
       "2018-08-13 22:05:00  0.107237  0.062873 -0.276375    0.303044   284.532\n",
       "2018-08-13 22:35:00  0.045070  0.077730 -0.344097    0.355634   277.894\n",
       "2018-08-13 22:55:00 -0.000232  0.095340 -0.306850    0.321320   264.887\n",
       "2018-08-13 23:35:00  0.133953  0.103550 -0.263960    0.313594   285.754\n",
       "\n",
       "[222 rows x 5 columns]"
      ]
     },
     "execution_count": 12,
     "metadata": {},
     "output_type": "execute_result"
    }
   ],
   "source": [
    "trs2m"
   ]
  },
  {
   "cell_type": "code",
   "execution_count": 21,
   "metadata": {},
   "outputs": [
    {
     "data": {
      "text/html": [
       "<div>\n",
       "<style scoped>\n",
       "    .dataframe tbody tr th:only-of-type {\n",
       "        vertical-align: middle;\n",
       "    }\n",
       "\n",
       "    .dataframe tbody tr th {\n",
       "        vertical-align: top;\n",
       "    }\n",
       "\n",
       "    .dataframe thead th {\n",
       "        text-align: right;\n",
       "    }\n",
       "</style>\n",
       "<table border=\"1\" class=\"dataframe\">\n",
       "  <thead>\n",
       "    <tr style=\"text-align: right;\">\n",
       "      <th></th>\n",
       "      <th>u</th>\n",
       "      <th>v</th>\n",
       "      <th>w</th>\n",
       "      <th>wind_speed</th>\n",
       "      <th>wind_dir</th>\n",
       "    </tr>\n",
       "  </thead>\n",
       "  <tbody>\n",
       "    <tr>\n",
       "      <th>count</th>\n",
       "      <td>262.000000</td>\n",
       "      <td>262.000000</td>\n",
       "      <td>262.000000</td>\n",
       "      <td>262.000000</td>\n",
       "      <td>262.000000</td>\n",
       "    </tr>\n",
       "    <tr>\n",
       "      <th>mean</th>\n",
       "      <td>0.175517</td>\n",
       "      <td>0.041866</td>\n",
       "      <td>-0.378391</td>\n",
       "      <td>0.436595</td>\n",
       "      <td>286.336653</td>\n",
       "    </tr>\n",
       "    <tr>\n",
       "      <th>std</th>\n",
       "      <td>0.166963</td>\n",
       "      <td>0.043873</td>\n",
       "      <td>0.182380</td>\n",
       "      <td>0.219387</td>\n",
       "      <td>17.362749</td>\n",
       "    </tr>\n",
       "    <tr>\n",
       "      <th>min</th>\n",
       "      <td>-0.341193</td>\n",
       "      <td>-0.074933</td>\n",
       "      <td>-0.970140</td>\n",
       "      <td>0.102963</td>\n",
       "      <td>213.158000</td>\n",
       "    </tr>\n",
       "    <tr>\n",
       "      <th>25%</th>\n",
       "      <td>0.058805</td>\n",
       "      <td>0.013827</td>\n",
       "      <td>-0.484594</td>\n",
       "      <td>0.277655</td>\n",
       "      <td>276.437250</td>\n",
       "    </tr>\n",
       "    <tr>\n",
       "      <th>50%</th>\n",
       "      <td>0.145850</td>\n",
       "      <td>0.032058</td>\n",
       "      <td>-0.327904</td>\n",
       "      <td>0.371649</td>\n",
       "      <td>287.039500</td>\n",
       "    </tr>\n",
       "    <tr>\n",
       "      <th>75%</th>\n",
       "      <td>0.257986</td>\n",
       "      <td>0.065258</td>\n",
       "      <td>-0.246499</td>\n",
       "      <td>0.542580</td>\n",
       "      <td>297.913250</td>\n",
       "    </tr>\n",
       "    <tr>\n",
       "      <th>max</th>\n",
       "      <td>0.819310</td>\n",
       "      <td>0.170133</td>\n",
       "      <td>-0.084183</td>\n",
       "      <td>1.270580</td>\n",
       "      <td>334.825000</td>\n",
       "    </tr>\n",
       "  </tbody>\n",
       "</table>\n",
       "</div>"
      ],
      "text/plain": [
       "                u           v           w  wind_speed    wind_dir\n",
       "count  262.000000  262.000000  262.000000  262.000000  262.000000\n",
       "mean     0.175517    0.041866   -0.378391    0.436595  286.336653\n",
       "std      0.166963    0.043873    0.182380    0.219387   17.362749\n",
       "min     -0.341193   -0.074933   -0.970140    0.102963  213.158000\n",
       "25%      0.058805    0.013827   -0.484594    0.277655  276.437250\n",
       "50%      0.145850    0.032058   -0.327904    0.371649  287.039500\n",
       "75%      0.257986    0.065258   -0.246499    0.542580  297.913250\n",
       "max      0.819310    0.170133   -0.084183    1.270580  334.825000"
      ]
     },
     "execution_count": 21,
     "metadata": {},
     "output_type": "execute_result"
    }
   ],
   "source": [
    "trs2m.describe()"
   ]
  },
  {
   "cell_type": "code",
   "execution_count": 19,
   "metadata": {},
   "outputs": [],
   "source": [
    "trs2_wsuw = wind_speed_comp(trs2f, 'uw')"
   ]
  },
  {
   "cell_type": "code",
   "execution_count": 20,
   "metadata": {},
   "outputs": [],
   "source": [
    "wm1_wsuw = wind_speed_comp(wm1f, ['u', 'w'])"
   ]
  },
  {
   "cell_type": "code",
   "execution_count": 21,
   "metadata": {},
   "outputs": [
    {
     "data": {
      "text/plain": [
       "(count    222.000000\n",
       " mean       0.180833\n",
       " std        0.118995\n",
       " min        0.003291\n",
       " 25%        0.078366\n",
       " 50%        0.164884\n",
       " 75%        0.254814\n",
       " max        0.584778\n",
       " dtype: float64, count    222.000000\n",
       " mean       0.461773\n",
       " std        0.223498\n",
       " min        0.167709\n",
       " 25%        0.287578\n",
       " 50%        0.399006\n",
       " 75%        0.597856\n",
       " max        1.269819\n",
       " dtype: float64)"
      ]
     },
     "execution_count": 21,
     "metadata": {},
     "output_type": "execute_result"
    }
   ],
   "source": [
    "wm1_wsuw.describe(), trs2_wsuw.describe()"
   ]
  },
  {
   "cell_type": "code",
   "execution_count": 17,
   "metadata": {},
   "outputs": [
    {
     "data": {
      "text/plain": [
       "[<matplotlib.lines.Line2D at 0x7fd8d80a4290>]"
      ]
     },
     "execution_count": 17,
     "metadata": {},
     "output_type": "execute_result"
    }
   ],
   "source": [
    "plt.plot(3)"
   ]
  },
  {
   "cell_type": "code",
   "execution_count": 16,
   "metadata": {},
   "outputs": [],
   "source": [
    "plt.scatter(wm1_wsuw, trs2_wsuw)"
   ]
  },
  {
   "cell_type": "code",
   "execution_count": 20,
   "metadata": {},
   "outputs": [],
   "source": [
    "trs2f = add_wind_speed(trs2f)\n",
    "wm1f = add_wind_speed(wm1f)"
   ]
  },
  {
   "cell_type": "code",
   "execution_count": 21,
   "metadata": {},
   "outputs": [
    {
     "data": {
      "application/vnd.jupyter.widget-view+json": {
       "model_id": "29fdae352a27420e887cafd670f80d99",
       "version_major": 2,
       "version_minor": 0
      },
      "text/plain": [
       "FigureCanvasNbAgg()"
      ]
     },
     "metadata": {},
     "output_type": "display_data"
    }
   ],
   "source": [
    "plot_components_scatter([wm1f, trs2f], ['wind_speed'])"
   ]
  },
  {
   "cell_type": "code",
   "execution_count": 92,
   "metadata": {},
   "outputs": [],
   "source": [
    "# diffs = pd.DataFrame([wm1f.wind_speed - trs2f.wind_speed, 45 - wm1f.wind_dir ]). transpose()"
   ]
  },
  {
   "cell_type": "code",
   "execution_count": 91,
   "metadata": {},
   "outputs": [
    {
     "data": {
      "text/plain": [
       "<matplotlib.axes._subplots.AxesSubplot at 0x7fd13288d050>"
      ]
     },
     "execution_count": 91,
     "metadata": {},
     "output_type": "execute_result"
    }
   ],
   "source": [
    "# sns.distplot(diffs.wind_speed)"
   ]
  },
  {
   "cell_type": "code",
   "execution_count": 93,
   "metadata": {},
   "outputs": [
    {
     "data": {
      "text/plain": [
       "<matplotlib.collections.PathCollection at 0x7fd132973990>"
      ]
     },
     "execution_count": 93,
     "metadata": {},
     "output_type": "execute_result"
    }
   ],
   "source": [
    "# plt.scatter(diffs.wind_speed, diffs.wind_dir.abs())"
   ]
  },
  {
   "cell_type": "code",
   "execution_count": 101,
   "metadata": {},
   "outputs": [
    {
     "data": {
      "text/plain": [
       "<matplotlib.collections.PathCollection at 0x7fd12ad9d510>"
      ]
     },
     "execution_count": 101,
     "metadata": {},
     "output_type": "execute_result"
    },
    {
     "data": {
      "image/png": "[encoded data removed]",
      "text/plain": [
       "<Figure size 432x288 with 1 Axes>"
      ]
     },
     "metadata": {
      "needs_background": "light"
     },
     "output_type": "display_data"
    }
   ],
   "source": [
    "plt.scatter(wind_speed_comp(trs2f, 'uwv'), wind_speed_comp(trs2f, 'uw'))"
   ]
  },
  {
   "cell_type": "code",
   "execution_count": 139,
   "metadata": {},
   "outputs": [],
   "source": [
    "trs2f_r = trs2f.drop(columns='wind_dir')\n",
    "trs2f_r = rotate_wind_comp(trs2f, -45, ['u', 'w'])\n",
    "trs2f_r = add_wind_speed(trs2f_r)"
   ]
  },
  {
   "cell_type": "code",
   "execution_count": 126,
   "metadata": {},
   "outputs": [],
   "source": [
    "test_close(wind_speed(trs2f), wind_speed(trs2f_r))"
   ]
  },
  {
   "cell_type": "code",
   "execution_count": 140,
   "metadata": {},
   "outputs": [
    {
     "data": {
      "text/html": [
       "<div>\n",
       "<style scoped>\n",
       "    .dataframe tbody tr th:only-of-type {\n",
       "        vertical-align: middle;\n",
       "    }\n",
       "\n",
       "    .dataframe tbody tr th {\n",
       "        vertical-align: top;\n",
       "    }\n",
       "\n",
       "    .dataframe thead th {\n",
       "        text-align: right;\n",
       "    }\n",
       "</style>\n",
       "<table border=\"1\" class=\"dataframe\">\n",
       "  <thead>\n",
       "    <tr style=\"text-align: right;\">\n",
       "      <th></th>\n",
       "      <th>u</th>\n",
       "      <th>v</th>\n",
       "      <th>w</th>\n",
       "      <th>wind_speed</th>\n",
       "      <th>wind_dir</th>\n",
       "    </tr>\n",
       "  </thead>\n",
       "  <tbody>\n",
       "    <tr>\n",
       "      <th>count</th>\n",
       "      <td>222.000000</td>\n",
       "      <td>222.000000</td>\n",
       "      <td>222.000000</td>\n",
       "      <td>222.000000</td>\n",
       "      <td>222.000000</td>\n",
       "    </tr>\n",
       "    <tr>\n",
       "      <th>mean</th>\n",
       "      <td>-0.107634</td>\n",
       "      <td>-0.405387</td>\n",
       "      <td>-0.166473</td>\n",
       "      <td>0.466225</td>\n",
       "      <td>287.137293</td>\n",
       "    </tr>\n",
       "    <tr>\n",
       "      <th>std</th>\n",
       "      <td>0.119963</td>\n",
       "      <td>0.182485</td>\n",
       "      <td>0.124767</td>\n",
       "      <td>0.222414</td>\n",
       "      <td>15.145200</td>\n",
       "    </tr>\n",
       "    <tr>\n",
       "      <th>min</th>\n",
       "      <td>-0.548307</td>\n",
       "      <td>-0.970140</td>\n",
       "      <td>-0.610372</td>\n",
       "      <td>0.168869</td>\n",
       "      <td>232.866000</td>\n",
       "    </tr>\n",
       "    <tr>\n",
       "      <th>25%</th>\n",
       "      <td>-0.169240</td>\n",
       "      <td>-0.538622</td>\n",
       "      <td>-0.220661</td>\n",
       "      <td>0.296719</td>\n",
       "      <td>278.448000</td>\n",
       "    </tr>\n",
       "    <tr>\n",
       "      <th>50%</th>\n",
       "      <td>-0.087226</td>\n",
       "      <td>-0.351492</td>\n",
       "      <td>-0.141319</td>\n",
       "      <td>0.400958</td>\n",
       "      <td>287.100500</td>\n",
       "    </tr>\n",
       "    <tr>\n",
       "      <th>75%</th>\n",
       "      <td>-0.021348</td>\n",
       "      <td>-0.259952</td>\n",
       "      <td>-0.081183</td>\n",
       "      <td>0.599506</td>\n",
       "      <td>297.281500</td>\n",
       "    </tr>\n",
       "    <tr>\n",
       "      <th>max</th>\n",
       "      <td>0.165235</td>\n",
       "      <td>-0.127283</td>\n",
       "      <td>0.163976</td>\n",
       "      <td>1.270577</td>\n",
       "      <td>319.420000</td>\n",
       "    </tr>\n",
       "  </tbody>\n",
       "</table>\n",
       "</div>"
      ],
      "text/plain": [
       "                u           v           w  wind_speed    wind_dir\n",
       "count  222.000000  222.000000  222.000000  222.000000  222.000000\n",
       "mean    -0.107634   -0.405387   -0.166473    0.466225  287.137293\n",
       "std      0.119963    0.182485    0.124767    0.222414   15.145200\n",
       "min     -0.548307   -0.970140   -0.610372    0.168869  232.866000\n",
       "25%     -0.169240   -0.538622   -0.220661    0.296719  278.448000\n",
       "50%     -0.087226   -0.351492   -0.141319    0.400958  287.100500\n",
       "75%     -0.021348   -0.259952   -0.081183    0.599506  297.281500\n",
       "max      0.165235   -0.127283    0.163976    1.270577  319.420000"
      ]
     },
     "execution_count": 140,
     "metadata": {},
     "output_type": "execute_result"
    }
   ],
   "source": [
    "trs2f_r.describe()"
   ]
  },
  {
   "cell_type": "code",
   "execution_count": 128,
   "metadata": {},
   "outputs": [
    {
     "data": {
      "text/html": [
       "<div>\n",
       "<style scoped>\n",
       "    .dataframe tbody tr th:only-of-type {\n",
       "        vertical-align: middle;\n",
       "    }\n",
       "\n",
       "    .dataframe tbody tr th {\n",
       "        vertical-align: top;\n",
       "    }\n",
       "\n",
       "    .dataframe thead th {\n",
       "        text-align: right;\n",
       "    }\n",
       "</style>\n",
       "<table border=\"1\" class=\"dataframe\">\n",
       "  <thead>\n",
       "    <tr style=\"text-align: right;\">\n",
       "      <th></th>\n",
       "      <th>u</th>\n",
       "      <th>v</th>\n",
       "      <th>w</th>\n",
       "      <th>wind_speed</th>\n",
       "      <th>wind_dir</th>\n",
       "    </tr>\n",
       "  </thead>\n",
       "  <tbody>\n",
       "    <tr>\n",
       "      <th>count</th>\n",
       "      <td>222.000000</td>\n",
       "      <td>222.000000</td>\n",
       "      <td>222.000000</td>\n",
       "      <td>222.000000</td>\n",
       "      <td>222.000000</td>\n",
       "    </tr>\n",
       "    <tr>\n",
       "      <th>mean</th>\n",
       "      <td>-0.020171</td>\n",
       "      <td>0.398125</td>\n",
       "      <td>0.034410</td>\n",
       "      <td>0.445203</td>\n",
       "      <td>39.657079</td>\n",
       "    </tr>\n",
       "    <tr>\n",
       "      <th>std</th>\n",
       "      <td>0.203912</td>\n",
       "      <td>0.233694</td>\n",
       "      <td>0.061889</td>\n",
       "      <td>0.248476</td>\n",
       "      <td>21.687798</td>\n",
       "    </tr>\n",
       "    <tr>\n",
       "      <th>min</th>\n",
       "      <td>-0.584190</td>\n",
       "      <td>0.027800</td>\n",
       "      <td>-0.108043</td>\n",
       "      <td>0.048692</td>\n",
       "      <td>10.098200</td>\n",
       "    </tr>\n",
       "    <tr>\n",
       "      <th>25%</th>\n",
       "      <td>-0.169606</td>\n",
       "      <td>0.221943</td>\n",
       "      <td>-0.011996</td>\n",
       "      <td>0.256387</td>\n",
       "      <td>18.707875</td>\n",
       "    </tr>\n",
       "    <tr>\n",
       "      <th>50%</th>\n",
       "      <td>-0.019742</td>\n",
       "      <td>0.336838</td>\n",
       "      <td>0.028365</td>\n",
       "      <td>0.384748</td>\n",
       "      <td>34.541100</td>\n",
       "    </tr>\n",
       "    <tr>\n",
       "      <th>75%</th>\n",
       "      <td>0.133717</td>\n",
       "      <td>0.562023</td>\n",
       "      <td>0.080427</td>\n",
       "      <td>0.630531</td>\n",
       "      <td>60.275675</td>\n",
       "    </tr>\n",
       "    <tr>\n",
       "      <th>max</th>\n",
       "      <td>0.509007</td>\n",
       "      <td>1.533880</td>\n",
       "      <td>0.214643</td>\n",
       "      <td>1.563550</td>\n",
       "      <td>79.741100</td>\n",
       "    </tr>\n",
       "  </tbody>\n",
       "</table>\n",
       "</div>"
      ],
      "text/plain": [
       "                u           v           w  wind_speed    wind_dir\n",
       "count  222.000000  222.000000  222.000000  222.000000  222.000000\n",
       "mean    -0.020171    0.398125    0.034410    0.445203   39.657079\n",
       "std      0.203912    0.233694    0.061889    0.248476   21.687798\n",
       "min     -0.584190    0.027800   -0.108043    0.048692   10.098200\n",
       "25%     -0.169606    0.221943   -0.011996    0.256387   18.707875\n",
       "50%     -0.019742    0.336838    0.028365    0.384748   34.541100\n",
       "75%      0.133717    0.562023    0.080427    0.630531   60.275675\n",
       "max      0.509007    1.533880    0.214643    1.563550   79.741100"
      ]
     },
     "execution_count": 128,
     "metadata": {},
     "output_type": "execute_result"
    }
   ],
   "source": [
    "wm1f.describe()"
   ]
  },
  {
   "cell_type": "code",
   "execution_count": 136,
   "metadata": {},
   "outputs": [
    {
     "data": {
      "text/plain": [
       "count    222.000000\n",
       "mean       0.439328\n",
       "std        0.248879\n",
       "min        0.047072\n",
       "25%        0.249700\n",
       "50%        0.378846\n",
       "75%        0.626100\n",
       "max        1.559300\n",
       "dtype: float64"
      ]
     },
     "execution_count": 136,
     "metadata": {},
     "output_type": "execute_result"
    }
   ],
   "source": [
    "wm1f_hor_ws = wind_speed_comp(wm1f, 'uv')\n",
    "wm1f_hor_ws.describe()"
   ]
  },
  {
   "cell_type": "code",
   "execution_count": 141,
   "metadata": {},
   "outputs": [
    {
     "data": {
      "text/plain": [
       "count    222.000000\n",
       "mean       0.427565\n",
       "std        0.201923\n",
       "min        0.145461\n",
       "25%        0.268965\n",
       "50%        0.362928\n",
       "75%        0.572671\n",
       "max        1.114366\n",
       "dtype: float64"
      ]
     },
     "execution_count": 141,
     "metadata": {},
     "output_type": "execute_result"
    }
   ],
   "source": [
    "trs2f_r_hor_ws = wind_speed_comp(trs2f_r, 'uv')\n",
    "trs2f_r_hor_ws.describe()"
   ]
  },
  {
   "cell_type": "code",
   "execution_count": null,
   "metadata": {},
   "outputs": [],
   "source": [
    "def mbe(a,b): return (a-b).abs().mean()"
   ]
  },
  {
   "cell_type": "code",
   "execution_count": 142,
   "metadata": {},
   "outputs": [
    {
     "data": {
      "text/plain": [
       "count    222.000000\n",
       "mean       0.090994\n",
       "std        0.079752\n",
       "min        0.000519\n",
       "25%        0.035238\n",
       "50%        0.073940\n",
       "75%        0.124571\n",
       "max        0.605790\n",
       "dtype: float64"
      ]
     },
     "execution_count": 142,
     "metadata": {},
     "output_type": "execute_result"
    }
   ],
   "source": [
    "(trs2f_r_hor_ws - wm1f_hor_ws).abs().describe()"
   ]
  },
  {
   "cell_type": "code",
   "execution_count": 98,
   "metadata": {
    "collapsed": true,
    "jupyter": {
     "outputs_hidden": true
    }
   },
   "outputs": [
    {
     "data": {
      "text/html": [
       "<div>\n",
       "<style scoped>\n",
       "    .dataframe tbody tr th:only-of-type {\n",
       "        vertical-align: middle;\n",
       "    }\n",
       "\n",
       "    .dataframe tbody tr th {\n",
       "        vertical-align: top;\n",
       "    }\n",
       "\n",
       "    .dataframe thead th {\n",
       "        text-align: right;\n",
       "    }\n",
       "</style>\n",
       "<table border=\"1\" class=\"dataframe\">\n",
       "  <thead>\n",
       "    <tr style=\"text-align: right;\">\n",
       "      <th></th>\n",
       "      <th>u</th>\n",
       "      <th>v</th>\n",
       "      <th>w</th>\n",
       "      <th>wind_speed</th>\n",
       "      <th>wind_dir</th>\n",
       "    </tr>\n",
       "  </thead>\n",
       "  <tbody>\n",
       "    <tr>\n",
       "      <th>count</th>\n",
       "      <td>222.000000</td>\n",
       "      <td>222.000000</td>\n",
       "      <td>222.000000</td>\n",
       "      <td>222.000000</td>\n",
       "      <td>222.000000</td>\n",
       "    </tr>\n",
       "    <tr>\n",
       "      <th>mean</th>\n",
       "      <td>-0.193823</td>\n",
       "      <td>-0.405387</td>\n",
       "      <td>-0.041606</td>\n",
       "      <td>0.466225</td>\n",
       "      <td>287.137293</td>\n",
       "    </tr>\n",
       "    <tr>\n",
       "      <th>std</th>\n",
       "      <td>0.167421</td>\n",
       "      <td>0.182485</td>\n",
       "      <td>0.043911</td>\n",
       "      <td>0.222414</td>\n",
       "      <td>15.145200</td>\n",
       "    </tr>\n",
       "    <tr>\n",
       "      <th>min</th>\n",
       "      <td>-0.819310</td>\n",
       "      <td>-0.970140</td>\n",
       "      <td>-0.170133</td>\n",
       "      <td>0.168869</td>\n",
       "      <td>232.866000</td>\n",
       "    </tr>\n",
       "    <tr>\n",
       "      <th>25%</th>\n",
       "      <td>-0.274060</td>\n",
       "      <td>-0.538622</td>\n",
       "      <td>-0.064003</td>\n",
       "      <td>0.296719</td>\n",
       "      <td>278.448000</td>\n",
       "    </tr>\n",
       "    <tr>\n",
       "      <th>50%</th>\n",
       "      <td>-0.152496</td>\n",
       "      <td>-0.351492</td>\n",
       "      <td>-0.030520</td>\n",
       "      <td>0.400957</td>\n",
       "      <td>287.100500</td>\n",
       "    </tr>\n",
       "    <tr>\n",
       "      <th>75%</th>\n",
       "      <td>-0.074388</td>\n",
       "      <td>-0.259952</td>\n",
       "      <td>-0.014895</td>\n",
       "      <td>0.599506</td>\n",
       "      <td>297.281500</td>\n",
       "    </tr>\n",
       "    <tr>\n",
       "      <th>max</th>\n",
       "      <td>0.232787</td>\n",
       "      <td>-0.127283</td>\n",
       "      <td>0.074933</td>\n",
       "      <td>1.270580</td>\n",
       "      <td>319.420000</td>\n",
       "    </tr>\n",
       "  </tbody>\n",
       "</table>\n",
       "</div>"
      ],
      "text/plain": [
       "                u           v           w  wind_speed    wind_dir\n",
       "count  222.000000  222.000000  222.000000  222.000000  222.000000\n",
       "mean    -0.193823   -0.405387   -0.041606    0.466225  287.137293\n",
       "std      0.167421    0.182485    0.043911    0.222414   15.145200\n",
       "min     -0.819310   -0.970140   -0.170133    0.168869  232.866000\n",
       "25%     -0.274060   -0.538622   -0.064003    0.296719  278.448000\n",
       "50%     -0.152496   -0.351492   -0.030520    0.400957  287.100500\n",
       "75%     -0.074388   -0.259952   -0.014895    0.599506  297.281500\n",
       "max      0.232787   -0.127283    0.074933    1.270580  319.420000"
      ]
     },
     "execution_count": 98,
     "metadata": {},
     "output_type": "execute_result"
    }
   ],
   "source": [
    "trs2f.describe()"
   ]
  },
  {
   "cell_type": "code",
   "execution_count": 48,
   "metadata": {
    "collapsed": true,
    "jupyter": {
     "outputs_hidden": true
    }
   },
   "outputs": [
    {
     "data": {
      "text/plain": [
       "count    223.000000\n",
       "mean       0.443206\n",
       "std        0.249702\n",
       "min        0.000000\n",
       "25%        0.253511\n",
       "50%        0.382897\n",
       "75%        0.629811\n",
       "max        1.563557\n",
       "dtype: float64"
      ]
     },
     "execution_count": 48,
     "metadata": {},
     "output_type": "execute_result"
    }
   ],
   "source": [
    "wind_speed_comp(wm1f, ['hor_wind_speed', 'w']).describe()"
   ]
  },
  {
   "cell_type": "code",
   "execution_count": 50,
   "metadata": {
    "collapsed": true,
    "jupyter": {
     "outputs_hidden": true
    }
   },
   "outputs": [
    {
     "data": {
      "text/plain": [
       "count    222.000000\n",
       "mean       0.461773\n",
       "std        0.223498\n",
       "min        0.167709\n",
       "25%        0.287578\n",
       "50%        0.399006\n",
       "75%        0.597856\n",
       "max        1.269819\n",
       "dtype: float64"
      ]
     },
     "execution_count": 50,
     "metadata": {},
     "output_type": "execute_result"
    }
   ],
   "source": [
    "wind_speed_comp(trs2f_r, 'uw').describe()"
   ]
  },
  {
   "cell_type": "code",
   "execution_count": 115,
   "metadata": {},
   "outputs": [
    {
     "data": {
      "application/vnd.jupyter.widget-view+json": {
       "model_id": "53a3387bea6145e48ea805e99965dc14",
       "version_major": 2,
       "version_minor": 0
      },
      "text/plain": [
       "Canvas(toolbar=Toolbar(toolitems=[('Home', 'Reset original view', 'home', 'home'), ('Back', 'Back to  previous…"
      ]
     },
     "metadata": {},
     "output_type": "display_data"
    }
   ],
   "source": [
    "plot_components_scatter([trs2f_r, wm1f], ['w'])"
   ]
  },
  {
   "cell_type": "code",
   "execution_count": 123,
   "metadata": {},
   "outputs": [
    {
     "data": {
      "application/vnd.jupyter.widget-view+json": {
       "model_id": "0f4f4c50d77245438d4adad875f6200d",
       "version_major": 2,
       "version_minor": 0
      },
      "text/plain": [
       "Canvas(toolbar=Toolbar(toolitems=[('Home', 'Reset original view', 'home', 'home'), ('Back', 'Back to  previous…"
      ]
     },
     "metadata": {},
     "output_type": "display_data"
    },
    {
     "data": {
      "text/plain": [
       "<matplotlib.legend.Legend at 0x7f26b3881290>"
      ]
     },
     "execution_count": 123,
     "metadata": {},
     "output_type": "execute_result"
    }
   ],
   "source": [
    "ax = get_ax()\n",
    "sns.distplot(trs2f_r.w, label=\"TRS2\", ax=ax)\n",
    "sns.distplot(wm1f.w,label=\"WM1\", ax=ax)\n",
    "ax.legend()"
   ]
  },
  {
   "cell_type": "code",
   "execution_count": 124,
   "metadata": {},
   "outputs": [
    {
     "data": {
      "application/vnd.jupyter.widget-view+json": {
       "model_id": "bf24e6c517be44bbb3e1e94eb3df1ff9",
       "version_major": 2,
       "version_minor": 0
      },
      "text/plain": [
       "Canvas(toolbar=Toolbar(toolitems=[('Home', 'Reset original view', 'home', 'home'), ('Back', 'Back to  previous…"
      ]
     },
     "metadata": {},
     "output_type": "display_data"
    },
    {
     "data": {
      "text/plain": [
       "<matplotlib.axes._subplots.AxesSubplot at 0x7f26b3397d10>"
      ]
     },
     "execution_count": 124,
     "metadata": {},
     "output_type": "execute_result"
    }
   ],
   "source": [
    "ax = get_ax()\n",
    "sns.distplot(wm1f.w-trs2f_r.w, ax = ax )"
   ]
  },
  {
   "cell_type": "markdown",
   "metadata": {},
   "source": [
    "# minimize w error"
   ]
  },
  {
   "cell_type": "code",
   "execution_count": 80,
   "metadata": {},
   "outputs": [],
   "source": [
    "def mse(x, y): return (x-y).pow(2).mean()\n",
    "errs = []\n",
    "for i in range(0, 360):\n",
    "    pred = rotate_wind_comp(trs2f, i, ['u', 'w'])\n",
    "    errs.append((i, mse(pred.w , wm1f.w)))\n",
    "errs = pd.DataFrame(errs, columns=['ang','mse'])"
   ]
  },
  {
   "cell_type": "code",
   "execution_count": 83,
   "metadata": {},
   "outputs": [
    {
     "data": {
      "text/html": [
       "<div>\n",
       "<style scoped>\n",
       "    .dataframe tbody tr th:only-of-type {\n",
       "        vertical-align: middle;\n",
       "    }\n",
       "\n",
       "    .dataframe tbody tr th {\n",
       "        vertical-align: top;\n",
       "    }\n",
       "\n",
       "    .dataframe thead th {\n",
       "        text-align: right;\n",
       "    }\n",
       "</style>\n",
       "<table border=\"1\" class=\"dataframe\">\n",
       "  <thead>\n",
       "    <tr style=\"text-align: right;\">\n",
       "      <th></th>\n",
       "      <th>ang</th>\n",
       "      <th>mse</th>\n",
       "    </tr>\n",
       "  </thead>\n",
       "  <tbody>\n",
       "    <tr>\n",
       "      <th>0</th>\n",
       "      <td>0</td>\n",
       "      <td>0.010281</td>\n",
       "    </tr>\n",
       "    <tr>\n",
       "      <th>1</th>\n",
       "      <td>1</td>\n",
       "      <td>0.009769</td>\n",
       "    </tr>\n",
       "    <tr>\n",
       "      <th>2</th>\n",
       "      <td>2</td>\n",
       "      <td>0.009293</td>\n",
       "    </tr>\n",
       "    <tr>\n",
       "      <th>3</th>\n",
       "      <td>3</td>\n",
       "      <td>0.008856</td>\n",
       "    </tr>\n",
       "    <tr>\n",
       "      <th>4</th>\n",
       "      <td>4</td>\n",
       "      <td>0.008457</td>\n",
       "    </tr>\n",
       "    <tr>\n",
       "      <th>...</th>\n",
       "      <td>...</td>\n",
       "      <td>...</td>\n",
       "    </tr>\n",
       "    <tr>\n",
       "      <th>355</th>\n",
       "      <td>355</td>\n",
       "      <td>0.013393</td>\n",
       "    </tr>\n",
       "    <tr>\n",
       "      <th>356</th>\n",
       "      <td>356</td>\n",
       "      <td>0.012699</td>\n",
       "    </tr>\n",
       "    <tr>\n",
       "      <th>357</th>\n",
       "      <td>357</td>\n",
       "      <td>0.012041</td>\n",
       "    </tr>\n",
       "    <tr>\n",
       "      <th>358</th>\n",
       "      <td>358</td>\n",
       "      <td>0.011418</td>\n",
       "    </tr>\n",
       "    <tr>\n",
       "      <th>359</th>\n",
       "      <td>359</td>\n",
       "      <td>0.010831</td>\n",
       "    </tr>\n",
       "  </tbody>\n",
       "</table>\n",
       "<p>360 rows × 2 columns</p>\n",
       "</div>"
      ],
      "text/plain": [
       "     ang       mse\n",
       "0      0  0.010281\n",
       "1      1  0.009769\n",
       "2      2  0.009293\n",
       "3      3  0.008856\n",
       "4      4  0.008457\n",
       "..   ...       ...\n",
       "355  355  0.013393\n",
       "356  356  0.012699\n",
       "357  357  0.012041\n",
       "358  358  0.011418\n",
       "359  359  0.010831\n",
       "\n",
       "[360 rows x 2 columns]"
      ]
     },
     "execution_count": 83,
     "metadata": {},
     "output_type": "execute_result"
    }
   ],
   "source": [
    "errs"
   ]
  },
  {
   "cell_type": "code",
   "execution_count": 85,
   "metadata": {},
   "outputs": [
    {
     "data": {
      "text/html": [
       "<div>\n",
       "<style scoped>\n",
       "    .dataframe tbody tr th:only-of-type {\n",
       "        vertical-align: middle;\n",
       "    }\n",
       "\n",
       "    .dataframe tbody tr th {\n",
       "        vertical-align: top;\n",
       "    }\n",
       "\n",
       "    .dataframe thead th {\n",
       "        text-align: right;\n",
       "    }\n",
       "</style>\n",
       "<table border=\"1\" class=\"dataframe\">\n",
       "  <thead>\n",
       "    <tr style=\"text-align: right;\">\n",
       "      <th></th>\n",
       "      <th>ang</th>\n",
       "      <th>mse</th>\n",
       "    </tr>\n",
       "  </thead>\n",
       "  <tbody>\n",
       "    <tr>\n",
       "      <th>14</th>\n",
       "      <td>14</td>\n",
       "      <td>0.006610</td>\n",
       "    </tr>\n",
       "    <tr>\n",
       "      <th>13</th>\n",
       "      <td>13</td>\n",
       "      <td>0.006619</td>\n",
       "    </tr>\n",
       "    <tr>\n",
       "      <th>15</th>\n",
       "      <td>15</td>\n",
       "      <td>0.006639</td>\n",
       "    </tr>\n",
       "    <tr>\n",
       "      <th>12</th>\n",
       "      <td>12</td>\n",
       "      <td>0.006666</td>\n",
       "    </tr>\n",
       "    <tr>\n",
       "      <th>16</th>\n",
       "      <td>16</td>\n",
       "      <td>0.006707</td>\n",
       "    </tr>\n",
       "    <tr>\n",
       "      <th>11</th>\n",
       "      <td>11</td>\n",
       "      <td>0.006753</td>\n",
       "    </tr>\n",
       "    <tr>\n",
       "      <th>17</th>\n",
       "      <td>17</td>\n",
       "      <td>0.006814</td>\n",
       "    </tr>\n",
       "    <tr>\n",
       "      <th>10</th>\n",
       "      <td>10</td>\n",
       "      <td>0.006879</td>\n",
       "    </tr>\n",
       "    <tr>\n",
       "      <th>182</th>\n",
       "      <td>182</td>\n",
       "      <td>0.006945</td>\n",
       "    </tr>\n",
       "    <tr>\n",
       "      <th>18</th>\n",
       "      <td>18</td>\n",
       "      <td>0.006958</td>\n",
       "    </tr>\n",
       "  </tbody>\n",
       "</table>\n",
       "</div>"
      ],
      "text/plain": [
       "     ang       mse\n",
       "14    14  0.006610\n",
       "13    13  0.006619\n",
       "15    15  0.006639\n",
       "12    12  0.006666\n",
       "16    16  0.006707\n",
       "11    11  0.006753\n",
       "17    17  0.006814\n",
       "10    10  0.006879\n",
       "182  182  0.006945\n",
       "18    18  0.006958"
      ]
     },
     "execution_count": 85,
     "metadata": {},
     "output_type": "execute_result"
    }
   ],
   "source": [
    "errs.iloc[errs.mse.nsmallest(10).index]"
   ]
  },
  {
   "cell_type": "code",
   "execution_count": 86,
   "metadata": {},
   "outputs": [],
   "source": [
    "#try to rotate with 15 degrees to see what happens"
   ]
  },
  {
   "cell_type": "code",
   "execution_count": 90,
   "metadata": {},
   "outputs": [
    {
     "data": {
      "application/vnd.jupyter.widget-view+json": {
       "model_id": "7929fcc4e9844fbebb25c3b8be3655e8",
       "version_major": 2,
       "version_minor": 0
      },
      "text/plain": [
       "Canvas(toolbar=Toolbar(toolitems=[('Home', 'Reset original view', 'home', 'home'), ('Back', 'Back to  previous…"
      ]
     },
     "metadata": {},
     "output_type": "display_data"
    }
   ],
   "source": [
    "trs2f_r = trs2f.drop(columns='wind_dir')\n",
    "trs2f_r[['u', 'w']] = rotate_wind_comp(trs2f, -45, ['u', 'w'])\n",
    "plot_components_scatter([trs2f_r, wm1f], ['w'])"
   ]
  },
  {
   "cell_type": "markdown",
   "metadata": {},
   "source": [
    "# minimize horizontal wind error"
   ]
  },
  {
   "cell_type": "code",
   "execution_count": 144,
   "metadata": {},
   "outputs": [],
   "source": [
    "errs = []\n",
    "for i in range(0, 360):\n",
    "    pred = rotate_wind_comp(trs2f, i, ['u', 'w'])\n",
    "    hor_ws = wind_speed_comp(pred, 'uv')\n",
    "    errs.append((i, mse(hor_ws, wm1f_hor_ws)))\n",
    "errs = pd.DataFrame(errs, columns=['ang','mse'])"
   ]
  },
  {
   "cell_type": "code",
   "execution_count": 145,
   "metadata": {},
   "outputs": [
    {
     "data": {
      "text/html": [
       "<div>\n",
       "<style scoped>\n",
       "    .dataframe tbody tr th:only-of-type {\n",
       "        vertical-align: middle;\n",
       "    }\n",
       "\n",
       "    .dataframe tbody tr th {\n",
       "        vertical-align: top;\n",
       "    }\n",
       "\n",
       "    .dataframe thead th {\n",
       "        text-align: right;\n",
       "    }\n",
       "</style>\n",
       "<table border=\"1\" class=\"dataframe\">\n",
       "  <thead>\n",
       "    <tr style=\"text-align: right;\">\n",
       "      <th></th>\n",
       "      <th>ang</th>\n",
       "      <th>mse</th>\n",
       "    </tr>\n",
       "  </thead>\n",
       "  <tbody>\n",
       "    <tr>\n",
       "      <th>0</th>\n",
       "      <td>0</td>\n",
       "      <td>0.012296</td>\n",
       "    </tr>\n",
       "    <tr>\n",
       "      <th>1</th>\n",
       "      <td>1</td>\n",
       "      <td>0.012299</td>\n",
       "    </tr>\n",
       "    <tr>\n",
       "      <th>2</th>\n",
       "      <td>2</td>\n",
       "      <td>0.012302</td>\n",
       "    </tr>\n",
       "    <tr>\n",
       "      <th>3</th>\n",
       "      <td>3</td>\n",
       "      <td>0.012306</td>\n",
       "    </tr>\n",
       "    <tr>\n",
       "      <th>4</th>\n",
       "      <td>4</td>\n",
       "      <td>0.012310</td>\n",
       "    </tr>\n",
       "    <tr>\n",
       "      <th>...</th>\n",
       "      <td>...</td>\n",
       "      <td>...</td>\n",
       "    </tr>\n",
       "    <tr>\n",
       "      <th>355</th>\n",
       "      <td>355</td>\n",
       "      <td>0.012287</td>\n",
       "    </tr>\n",
       "    <tr>\n",
       "      <th>356</th>\n",
       "      <td>356</td>\n",
       "      <td>0.012287</td>\n",
       "    </tr>\n",
       "    <tr>\n",
       "      <th>357</th>\n",
       "      <td>357</td>\n",
       "      <td>0.012288</td>\n",
       "    </tr>\n",
       "    <tr>\n",
       "      <th>358</th>\n",
       "      <td>358</td>\n",
       "      <td>0.012290</td>\n",
       "    </tr>\n",
       "    <tr>\n",
       "      <th>359</th>\n",
       "      <td>359</td>\n",
       "      <td>0.012293</td>\n",
       "    </tr>\n",
       "  </tbody>\n",
       "</table>\n",
       "<p>360 rows × 2 columns</p>\n",
       "</div>"
      ],
      "text/plain": [
       "     ang       mse\n",
       "0      0  0.012296\n",
       "1      1  0.012299\n",
       "2      2  0.012302\n",
       "3      3  0.012306\n",
       "4      4  0.012310\n",
       "..   ...       ...\n",
       "355  355  0.012287\n",
       "356  356  0.012287\n",
       "357  357  0.012288\n",
       "358  358  0.012290\n",
       "359  359  0.012293\n",
       "\n",
       "[360 rows x 2 columns]"
      ]
     },
     "execution_count": 145,
     "metadata": {},
     "output_type": "execute_result"
    }
   ],
   "source": [
    "errs"
   ]
  },
  {
   "cell_type": "code",
   "execution_count": 146,
   "metadata": {},
   "outputs": [
    {
     "data": {
      "text/html": [
       "<div>\n",
       "<style scoped>\n",
       "    .dataframe tbody tr th:only-of-type {\n",
       "        vertical-align: middle;\n",
       "    }\n",
       "\n",
       "    .dataframe tbody tr th {\n",
       "        vertical-align: top;\n",
       "    }\n",
       "\n",
       "    .dataframe thead th {\n",
       "        text-align: right;\n",
       "    }\n",
       "</style>\n",
       "<table border=\"1\" class=\"dataframe\">\n",
       "  <thead>\n",
       "    <tr style=\"text-align: right;\">\n",
       "      <th></th>\n",
       "      <th>ang</th>\n",
       "      <th>mse</th>\n",
       "    </tr>\n",
       "  </thead>\n",
       "  <tbody>\n",
       "    <tr>\n",
       "      <th>175</th>\n",
       "      <td>175</td>\n",
       "      <td>0.012287</td>\n",
       "    </tr>\n",
       "    <tr>\n",
       "      <th>355</th>\n",
       "      <td>355</td>\n",
       "      <td>0.012287</td>\n",
       "    </tr>\n",
       "    <tr>\n",
       "      <th>176</th>\n",
       "      <td>176</td>\n",
       "      <td>0.012287</td>\n",
       "    </tr>\n",
       "    <tr>\n",
       "      <th>356</th>\n",
       "      <td>356</td>\n",
       "      <td>0.012287</td>\n",
       "    </tr>\n",
       "    <tr>\n",
       "      <th>174</th>\n",
       "      <td>174</td>\n",
       "      <td>0.012287</td>\n",
       "    </tr>\n",
       "    <tr>\n",
       "      <th>354</th>\n",
       "      <td>354</td>\n",
       "      <td>0.012287</td>\n",
       "    </tr>\n",
       "    <tr>\n",
       "      <th>357</th>\n",
       "      <td>357</td>\n",
       "      <td>0.012288</td>\n",
       "    </tr>\n",
       "    <tr>\n",
       "      <th>177</th>\n",
       "      <td>177</td>\n",
       "      <td>0.012288</td>\n",
       "    </tr>\n",
       "    <tr>\n",
       "      <th>173</th>\n",
       "      <td>173</td>\n",
       "      <td>0.012289</td>\n",
       "    </tr>\n",
       "    <tr>\n",
       "      <th>353</th>\n",
       "      <td>353</td>\n",
       "      <td>0.012289</td>\n",
       "    </tr>\n",
       "  </tbody>\n",
       "</table>\n",
       "</div>"
      ],
      "text/plain": [
       "     ang       mse\n",
       "175  175  0.012287\n",
       "355  355  0.012287\n",
       "176  176  0.012287\n",
       "356  356  0.012287\n",
       "174  174  0.012287\n",
       "354  354  0.012287\n",
       "357  357  0.012288\n",
       "177  177  0.012288\n",
       "173  173  0.012289\n",
       "353  353  0.012289"
      ]
     },
     "execution_count": 146,
     "metadata": {},
     "output_type": "execute_result"
    }
   ],
   "source": [
    "errs.iloc[errs.mse.nsmallest(10).index]"
   ]
  },
  {
   "cell_type": "code",
   "execution_count": 86,
   "metadata": {},
   "outputs": [],
   "source": [
    "#try to rotate with 15 degrees to see what happens"
   ]
  },
  {
   "cell_type": "code",
   "execution_count": 90,
   "metadata": {},
   "outputs": [
    {
     "data": {
      "application/vnd.jupyter.widget-view+json": {
       "model_id": "7929fcc4e9844fbebb25c3b8be3655e8",
       "version_major": 2,
       "version_minor": 0
      },
      "text/plain": [
       "Canvas(toolbar=Toolbar(toolitems=[('Home', 'Reset original view', 'home', 'home'), ('Back', 'Back to  previous…"
      ]
     },
     "metadata": {},
     "output_type": "display_data"
    }
   ],
   "source": [
    "trs2f_r = trs2f.drop(columns='wind_dir')\n",
    "trs2f_r[['u', 'w']] = rotate_wind_comp(trs2f, -45, ['u', 'w'])\n",
    "plot_components_scatter([trs2f_r, wm1f], ['w'])"
   ]
  },
  {
   "cell_type": "code",
   "execution_count": null,
   "metadata": {},
   "outputs": [],
   "source": []
  },
  {
   "cell_type": "markdown",
   "metadata": {},
   "source": [
    "## Rotate wm1 and wm2"
   ]
  },
  {
   "cell_type": "code",
   "execution_count": 94,
   "metadata": {},
   "outputs": [],
   "source": [
    "wm1[['u', 'v']] = rotate_wind(wm1, wm1_offset)\n",
    "wm2[['u', 'v']] = rotate_wind(wm2, wm2_offset)\n",
    "wm2[['u', 'v']] = rotate_wind(wm2, wm2_offset)"
   ]
  },
  {
   "cell_type": "code",
   "execution_count": 16,
   "metadata": {
    "collapsed": true,
    "jupyter": {
     "outputs_hidden": true
    }
   },
   "outputs": [
    {
     "data": {
      "text/html": [
       "<div>\n",
       "<style scoped>\n",
       "    .dataframe tbody tr th:only-of-type {\n",
       "        vertical-align: middle;\n",
       "    }\n",
       "\n",
       "    .dataframe tbody tr th {\n",
       "        vertical-align: top;\n",
       "    }\n",
       "\n",
       "    .dataframe thead th {\n",
       "        text-align: right;\n",
       "    }\n",
       "</style>\n",
       "<table border=\"1\" class=\"dataframe\">\n",
       "  <thead>\n",
       "    <tr style=\"text-align: right;\">\n",
       "      <th></th>\n",
       "      <th>u</th>\n",
       "      <th>v</th>\n",
       "      <th>w</th>\n",
       "      <th>wind_speed</th>\n",
       "      <th>wind_dir</th>\n",
       "    </tr>\n",
       "    <tr>\n",
       "      <th>date_time</th>\n",
       "      <th></th>\n",
       "      <th></th>\n",
       "      <th></th>\n",
       "      <th></th>\n",
       "      <th></th>\n",
       "    </tr>\n",
       "  </thead>\n",
       "  <tbody>\n",
       "    <tr>\n",
       "      <th>2018-08-10 00:00:00</th>\n",
       "      <td>-0.089814</td>\n",
       "      <td>0.328250</td>\n",
       "      <td>-0.040250</td>\n",
       "      <td>0.342688</td>\n",
       "      <td>70.18500</td>\n",
       "    </tr>\n",
       "    <tr>\n",
       "      <th>2018-08-10 00:05:00</th>\n",
       "      <td>-0.053267</td>\n",
       "      <td>-0.073972</td>\n",
       "      <td>-0.011260</td>\n",
       "      <td>0.091848</td>\n",
       "      <td>324.05700</td>\n",
       "    </tr>\n",
       "    <tr>\n",
       "      <th>2018-08-10 00:10:00</th>\n",
       "      <td>-0.092270</td>\n",
       "      <td>0.257561</td>\n",
       "      <td>0.002430</td>\n",
       "      <td>0.273601</td>\n",
       "      <td>63.15740</td>\n",
       "    </tr>\n",
       "    <tr>\n",
       "      <th>2018-08-10 00:15:00</th>\n",
       "      <td>0.013693</td>\n",
       "      <td>0.548216</td>\n",
       "      <td>-0.038427</td>\n",
       "      <td>0.549732</td>\n",
       "      <td>88.82570</td>\n",
       "    </tr>\n",
       "    <tr>\n",
       "      <th>2018-08-10 00:20:00</th>\n",
       "      <td>-0.196309</td>\n",
       "      <td>0.072619</td>\n",
       "      <td>-0.000057</td>\n",
       "      <td>0.209310</td>\n",
       "      <td>7.57064</td>\n",
       "    </tr>\n",
       "  </tbody>\n",
       "</table>\n",
       "</div>"
      ],
      "text/plain": [
       "                            u         v         w  wind_speed   wind_dir\n",
       "date_time                                                               \n",
       "2018-08-10 00:00:00 -0.089814  0.328250 -0.040250    0.342688   70.18500\n",
       "2018-08-10 00:05:00 -0.053267 -0.073972 -0.011260    0.091848  324.05700\n",
       "2018-08-10 00:10:00 -0.092270  0.257561  0.002430    0.273601   63.15740\n",
       "2018-08-10 00:15:00  0.013693  0.548216 -0.038427    0.549732   88.82570\n",
       "2018-08-10 00:20:00 -0.196309  0.072619 -0.000057    0.209310    7.57064"
      ]
     },
     "execution_count": 16,
     "metadata": {},
     "output_type": "execute_result"
    }
   ],
   "source": [
    "wm1.head()"
   ]
  },
  {
   "cell_type": "code",
   "execution_count": 24,
   "metadata": {
    "collapsed": true,
    "jupyter": {
     "outputs_hidden": true
    }
   },
   "outputs": [
    {
     "data": {
      "text/plain": [
       "date_time\n",
       "2018-08-10 00:00:00     74.697560\n",
       "2018-08-10 00:05:00    305.757571\n",
       "2018-08-10 00:10:00     70.290144\n",
       "2018-08-10 00:15:00     91.430833\n",
       "2018-08-10 00:20:00     20.300695\n",
       "                          ...    \n",
       "2018-08-13 23:35:00     78.487743\n",
       "2018-08-13 23:40:00     85.581399\n",
       "2018-08-13 23:45:00    251.099107\n",
       "2018-08-13 23:50:00    245.202655\n",
       "2018-08-13 23:55:00     94.587208\n",
       "Length: 1152, dtype: float64"
      ]
     },
     "execution_count": 24,
     "metadata": {},
     "output_type": "execute_result"
    }
   ],
   "source": [
    "get_wind_dir(wm1)"
   ]
  },
  {
   "cell_type": "markdown",
   "metadata": {},
   "source": [
    "## Plots"
   ]
  },
  {
   "cell_type": "code",
   "execution_count": 23,
   "metadata": {},
   "outputs": [],
   "source": [
    "plot_components_scatter(wm1, trs1)"
   ]
  },
  {
   "cell_type": "code",
   "execution_count": 26,
   "metadata": {},
   "outputs": [],
   "source": [
    "# TRS2"
   ]
  },
  {
   "cell_type": "code",
   "execution_count": 6,
   "metadata": {},
   "outputs": [],
   "source": [
    "trs2.u = -trs2.u"
   ]
  },
  {
   "cell_type": "code",
   "execution_count": 31,
   "metadata": {},
   "outputs": [
    {
     "data": {
      "text/html": [
       "<div>\n",
       "<style scoped>\n",
       "    .dataframe tbody tr th:only-of-type {\n",
       "        vertical-align: middle;\n",
       "    }\n",
       "\n",
       "    .dataframe tbody tr th {\n",
       "        vertical-align: top;\n",
       "    }\n",
       "\n",
       "    .dataframe thead th {\n",
       "        text-align: right;\n",
       "    }\n",
       "</style>\n",
       "<table border=\"1\" class=\"dataframe\">\n",
       "  <thead>\n",
       "    <tr style=\"text-align: right;\">\n",
       "      <th></th>\n",
       "      <th>u</th>\n",
       "      <th>v</th>\n",
       "    </tr>\n",
       "  </thead>\n",
       "  <tbody>\n",
       "    <tr>\n",
       "      <th>count</th>\n",
       "      <td>1151.000000</td>\n",
       "      <td>1151.000000</td>\n",
       "    </tr>\n",
       "    <tr>\n",
       "      <th>mean</th>\n",
       "      <td>-0.065467</td>\n",
       "      <td>-0.063058</td>\n",
       "    </tr>\n",
       "    <tr>\n",
       "      <th>std</th>\n",
       "      <td>0.220570</td>\n",
       "      <td>0.498316</td>\n",
       "    </tr>\n",
       "    <tr>\n",
       "      <th>min</th>\n",
       "      <td>-0.723961</td>\n",
       "      <td>-1.540158</td>\n",
       "    </tr>\n",
       "    <tr>\n",
       "      <th>25%</th>\n",
       "      <td>-0.203559</td>\n",
       "      <td>-0.361809</td>\n",
       "    </tr>\n",
       "    <tr>\n",
       "      <th>50%</th>\n",
       "      <td>-0.119599</td>\n",
       "      <td>-0.156856</td>\n",
       "    </tr>\n",
       "    <tr>\n",
       "      <th>75%</th>\n",
       "      <td>0.024361</td>\n",
       "      <td>0.239518</td>\n",
       "    </tr>\n",
       "    <tr>\n",
       "      <th>max</th>\n",
       "      <td>0.709804</td>\n",
       "      <td>1.501328</td>\n",
       "    </tr>\n",
       "  </tbody>\n",
       "</table>\n",
       "</div>"
      ],
      "text/plain": [
       "                 u            v\n",
       "count  1151.000000  1151.000000\n",
       "mean     -0.065467    -0.063058\n",
       "std       0.220570     0.498316\n",
       "min      -0.723961    -1.540158\n",
       "25%      -0.203559    -0.361809\n",
       "50%      -0.119599    -0.156856\n",
       "75%       0.024361     0.239518\n",
       "max       0.709804     1.501328"
      ]
     },
     "execution_count": 31,
     "metadata": {},
     "output_type": "execute_result"
    }
   ],
   "source": [
    "rotate_wind(trs2, 45).describe()"
   ]
  },
  {
   "cell_type": "code",
   "execution_count": 7,
   "metadata": {},
   "outputs": [],
   "source": [
    "dirf = (wm1.wind_dir > 10)& (wm1.wind_dir < 90)"
   ]
  },
  {
   "cell_type": "code",
   "execution_count": 9,
   "metadata": {},
   "outputs": [],
   "source": [
    "wm1f = wm1[dirf]\n",
    "trs2f = trs2[dirf]"
   ]
  },
  {
   "cell_type": "code",
   "execution_count": 101,
   "metadata": {
    "collapsed": true,
    "jupyter": {
     "outputs_hidden": true
    }
   },
   "outputs": [
    {
     "data": {
      "text/html": [
       "<div>\n",
       "<style scoped>\n",
       "    .dataframe tbody tr th:only-of-type {\n",
       "        vertical-align: middle;\n",
       "    }\n",
       "\n",
       "    .dataframe tbody tr th {\n",
       "        vertical-align: top;\n",
       "    }\n",
       "\n",
       "    .dataframe thead th {\n",
       "        text-align: right;\n",
       "    }\n",
       "</style>\n",
       "<table border=\"1\" class=\"dataframe\">\n",
       "  <thead>\n",
       "    <tr style=\"text-align: right;\">\n",
       "      <th></th>\n",
       "      <th>u</th>\n",
       "      <th>v</th>\n",
       "      <th>w</th>\n",
       "      <th>wind_speed</th>\n",
       "      <th>wind_dir</th>\n",
       "    </tr>\n",
       "    <tr>\n",
       "      <th>date_time</th>\n",
       "      <th></th>\n",
       "      <th></th>\n",
       "      <th></th>\n",
       "      <th></th>\n",
       "      <th></th>\n",
       "    </tr>\n",
       "  </thead>\n",
       "  <tbody>\n",
       "    <tr>\n",
       "      <th>2018-08-10 00:05:00</th>\n",
       "      <td>-0.053267</td>\n",
       "      <td>-0.073972</td>\n",
       "      <td>-0.011260</td>\n",
       "      <td>0.091848</td>\n",
       "      <td>324.05700</td>\n",
       "    </tr>\n",
       "    <tr>\n",
       "      <th>2018-08-10 00:10:00</th>\n",
       "      <td>-0.092270</td>\n",
       "      <td>0.257561</td>\n",
       "      <td>0.002430</td>\n",
       "      <td>0.273601</td>\n",
       "      <td>63.15740</td>\n",
       "    </tr>\n",
       "    <tr>\n",
       "      <th>2018-08-10 00:15:00</th>\n",
       "      <td>0.013693</td>\n",
       "      <td>0.548216</td>\n",
       "      <td>-0.038427</td>\n",
       "      <td>0.549732</td>\n",
       "      <td>88.82570</td>\n",
       "    </tr>\n",
       "    <tr>\n",
       "      <th>2018-08-10 00:20:00</th>\n",
       "      <td>-0.196309</td>\n",
       "      <td>0.072619</td>\n",
       "      <td>-0.000057</td>\n",
       "      <td>0.209310</td>\n",
       "      <td>7.57064</td>\n",
       "    </tr>\n",
       "    <tr>\n",
       "      <th>2018-08-10 00:25:00</th>\n",
       "      <td>-0.139077</td>\n",
       "      <td>0.163990</td>\n",
       "      <td>-0.044640</td>\n",
       "      <td>0.219609</td>\n",
       "      <td>44.61870</td>\n",
       "    </tr>\n",
       "    <tr>\n",
       "      <th>...</th>\n",
       "      <td>...</td>\n",
       "      <td>...</td>\n",
       "      <td>...</td>\n",
       "      <td>...</td>\n",
       "      <td>...</td>\n",
       "    </tr>\n",
       "    <tr>\n",
       "      <th>2018-08-13 23:35:00</th>\n",
       "      <td>-0.079398</td>\n",
       "      <td>0.389829</td>\n",
       "      <td>-0.007867</td>\n",
       "      <td>0.397910</td>\n",
       "      <td>68.55510</td>\n",
       "    </tr>\n",
       "    <tr>\n",
       "      <th>2018-08-13 23:40:00</th>\n",
       "      <td>-0.043165</td>\n",
       "      <td>0.558604</td>\n",
       "      <td>-0.017203</td>\n",
       "      <td>0.560534</td>\n",
       "      <td>87.19810</td>\n",
       "    </tr>\n",
       "    <tr>\n",
       "      <th>2018-08-13 23:45:00</th>\n",
       "      <td>0.103497</td>\n",
       "      <td>-0.302276</td>\n",
       "      <td>-0.040067</td>\n",
       "      <td>0.322006</td>\n",
       "      <td>256.32400</td>\n",
       "    </tr>\n",
       "    <tr>\n",
       "      <th>2018-08-13 23:50:00</th>\n",
       "      <td>0.147853</td>\n",
       "      <td>-0.320022</td>\n",
       "      <td>-0.147400</td>\n",
       "      <td>0.382102</td>\n",
       "      <td>247.45000</td>\n",
       "    </tr>\n",
       "    <tr>\n",
       "      <th>2018-08-13 23:55:00</th>\n",
       "      <td>0.036422</td>\n",
       "      <td>0.453951</td>\n",
       "      <td>-0.061217</td>\n",
       "      <td>0.459506</td>\n",
       "      <td>94.28310</td>\n",
       "    </tr>\n",
       "  </tbody>\n",
       "</table>\n",
       "<p>1151 rows × 5 columns</p>\n",
       "</div>"
      ],
      "text/plain": [
       "                            u         v         w  wind_speed   wind_dir\n",
       "date_time                                                               \n",
       "2018-08-10 00:05:00 -0.053267 -0.073972 -0.011260    0.091848  324.05700\n",
       "2018-08-10 00:10:00 -0.092270  0.257561  0.002430    0.273601   63.15740\n",
       "2018-08-10 00:15:00  0.013693  0.548216 -0.038427    0.549732   88.82570\n",
       "2018-08-10 00:20:00 -0.196309  0.072619 -0.000057    0.209310    7.57064\n",
       "2018-08-10 00:25:00 -0.139077  0.163990 -0.044640    0.219609   44.61870\n",
       "...                       ...       ...       ...         ...        ...\n",
       "2018-08-13 23:35:00 -0.079398  0.389829 -0.007867    0.397910   68.55510\n",
       "2018-08-13 23:40:00 -0.043165  0.558604 -0.017203    0.560534   87.19810\n",
       "2018-08-13 23:45:00  0.103497 -0.302276 -0.040067    0.322006  256.32400\n",
       "2018-08-13 23:50:00  0.147853 -0.320022 -0.147400    0.382102  247.45000\n",
       "2018-08-13 23:55:00  0.036422  0.453951 -0.061217    0.459506   94.28310\n",
       "\n",
       "[1151 rows x 5 columns]"
      ]
     },
     "execution_count": 101,
     "metadata": {},
     "output_type": "execute_result"
    }
   ],
   "source": [
    "wm1"
   ]
  },
  {
   "cell_type": "code",
   "execution_count": 91,
   "metadata": {
    "collapsed": true,
    "jupyter": {
     "outputs_hidden": true
    }
   },
   "outputs": [
    {
     "data": {
      "text/html": [
       "<div>\n",
       "<style scoped>\n",
       "    .dataframe tbody tr th:only-of-type {\n",
       "        vertical-align: middle;\n",
       "    }\n",
       "\n",
       "    .dataframe tbody tr th {\n",
       "        vertical-align: top;\n",
       "    }\n",
       "\n",
       "    .dataframe thead th {\n",
       "        text-align: right;\n",
       "    }\n",
       "</style>\n",
       "<table border=\"1\" class=\"dataframe\">\n",
       "  <thead>\n",
       "    <tr style=\"text-align: right;\">\n",
       "      <th></th>\n",
       "      <th>u</th>\n",
       "      <th>v</th>\n",
       "      <th>w</th>\n",
       "      <th>wind_speed</th>\n",
       "      <th>wind_dir</th>\n",
       "    </tr>\n",
       "    <tr>\n",
       "      <th>date_time</th>\n",
       "      <th></th>\n",
       "      <th></th>\n",
       "      <th></th>\n",
       "      <th></th>\n",
       "      <th></th>\n",
       "    </tr>\n",
       "  </thead>\n",
       "  <tbody>\n",
       "    <tr>\n",
       "      <th>2018-08-10 00:05:00</th>\n",
       "      <td>0.034900</td>\n",
       "      <td>-0.201257</td>\n",
       "      <td>-0.020600</td>\n",
       "      <td>0.205296</td>\n",
       "      <td>277.793</td>\n",
       "    </tr>\n",
       "    <tr>\n",
       "      <th>2018-08-10 00:10:00</th>\n",
       "      <td>0.083662</td>\n",
       "      <td>-0.246330</td>\n",
       "      <td>-0.027778</td>\n",
       "      <td>0.261628</td>\n",
       "      <td>285.745</td>\n",
       "    </tr>\n",
       "    <tr>\n",
       "      <th>2018-08-10 00:15:00</th>\n",
       "      <td>0.125977</td>\n",
       "      <td>-0.225707</td>\n",
       "      <td>-0.004430</td>\n",
       "      <td>0.258521</td>\n",
       "      <td>296.182</td>\n",
       "    </tr>\n",
       "    <tr>\n",
       "      <th>2018-08-10 00:20:00</th>\n",
       "      <td>0.135905</td>\n",
       "      <td>-0.254540</td>\n",
       "      <td>-0.000083</td>\n",
       "      <td>0.288549</td>\n",
       "      <td>295.038</td>\n",
       "    </tr>\n",
       "    <tr>\n",
       "      <th>2018-08-10 00:25:00</th>\n",
       "      <td>0.150920</td>\n",
       "      <td>-0.251783</td>\n",
       "      <td>-0.021840</td>\n",
       "      <td>0.294361</td>\n",
       "      <td>302.242</td>\n",
       "    </tr>\n",
       "    <tr>\n",
       "      <th>...</th>\n",
       "      <td>...</td>\n",
       "      <td>...</td>\n",
       "      <td>...</td>\n",
       "      <td>...</td>\n",
       "      <td>...</td>\n",
       "    </tr>\n",
       "    <tr>\n",
       "      <th>2018-08-13 23:35:00</th>\n",
       "      <td>0.133953</td>\n",
       "      <td>-0.263960</td>\n",
       "      <td>-0.103550</td>\n",
       "      <td>0.313594</td>\n",
       "      <td>285.754</td>\n",
       "    </tr>\n",
       "    <tr>\n",
       "      <th>2018-08-13 23:40:00</th>\n",
       "      <td>0.193568</td>\n",
       "      <td>-0.282000</td>\n",
       "      <td>-0.093720</td>\n",
       "      <td>0.354649</td>\n",
       "      <td>299.575</td>\n",
       "    </tr>\n",
       "    <tr>\n",
       "      <th>2018-08-13 23:45:00</th>\n",
       "      <td>-0.056125</td>\n",
       "      <td>-0.067788</td>\n",
       "      <td>-0.040457</td>\n",
       "      <td>0.096861</td>\n",
       "      <td>226.108</td>\n",
       "    </tr>\n",
       "    <tr>\n",
       "      <th>2018-08-13 23:50:00</th>\n",
       "      <td>-0.013933</td>\n",
       "      <td>0.048100</td>\n",
       "      <td>-0.041040</td>\n",
       "      <td>0.064746</td>\n",
       "      <td>139.968</td>\n",
       "    </tr>\n",
       "    <tr>\n",
       "      <th>2018-08-13 23:55:00</th>\n",
       "      <td>0.064167</td>\n",
       "      <td>-0.234075</td>\n",
       "      <td>-0.065513</td>\n",
       "      <td>0.251397</td>\n",
       "      <td>281.317</td>\n",
       "    </tr>\n",
       "  </tbody>\n",
       "</table>\n",
       "<p>1151 rows × 5 columns</p>\n",
       "</div>"
      ],
      "text/plain": [
       "                            u         v         w  wind_speed  wind_dir\n",
       "date_time                                                              \n",
       "2018-08-10 00:05:00  0.034900 -0.201257 -0.020600    0.205296   277.793\n",
       "2018-08-10 00:10:00  0.083662 -0.246330 -0.027778    0.261628   285.745\n",
       "2018-08-10 00:15:00  0.125977 -0.225707 -0.004430    0.258521   296.182\n",
       "2018-08-10 00:20:00  0.135905 -0.254540 -0.000083    0.288549   295.038\n",
       "2018-08-10 00:25:00  0.150920 -0.251783 -0.021840    0.294361   302.242\n",
       "...                       ...       ...       ...         ...       ...\n",
       "2018-08-13 23:35:00  0.133953 -0.263960 -0.103550    0.313594   285.754\n",
       "2018-08-13 23:40:00  0.193568 -0.282000 -0.093720    0.354649   299.575\n",
       "2018-08-13 23:45:00 -0.056125 -0.067788 -0.040457    0.096861   226.108\n",
       "2018-08-13 23:50:00 -0.013933  0.048100 -0.041040    0.064746   139.968\n",
       "2018-08-13 23:55:00  0.064167 -0.234075 -0.065513    0.251397   281.317\n",
       "\n",
       "[1151 rows x 5 columns]"
      ]
     },
     "execution_count": 91,
     "metadata": {},
     "output_type": "execute_result"
    }
   ],
   "source": [
    "trs2"
   ]
  },
  {
   "cell_type": "code",
   "execution_count": 78,
   "metadata": {},
   "outputs": [
    {
     "data": {
      "text/html": [
       "<div>\n",
       "<style scoped>\n",
       "    .dataframe tbody tr th:only-of-type {\n",
       "        vertical-align: middle;\n",
       "    }\n",
       "\n",
       "    .dataframe tbody tr th {\n",
       "        vertical-align: top;\n",
       "    }\n",
       "\n",
       "    .dataframe thead th {\n",
       "        text-align: right;\n",
       "    }\n",
       "</style>\n",
       "<table border=\"1\" class=\"dataframe\">\n",
       "  <thead>\n",
       "    <tr style=\"text-align: right;\">\n",
       "      <th></th>\n",
       "      <th>u</th>\n",
       "      <th>v</th>\n",
       "      <th>w</th>\n",
       "      <th>wind_speed</th>\n",
       "      <th>wind_dir</th>\n",
       "    </tr>\n",
       "  </thead>\n",
       "  <tbody>\n",
       "    <tr>\n",
       "      <th>count</th>\n",
       "      <td>223.000000</td>\n",
       "      <td>223.000000</td>\n",
       "      <td>223.000000</td>\n",
       "      <td>223.000000</td>\n",
       "      <td>223.000000</td>\n",
       "    </tr>\n",
       "    <tr>\n",
       "      <th>mean</th>\n",
       "      <td>-0.316924</td>\n",
       "      <td>0.240852</td>\n",
       "      <td>0.034075</td>\n",
       "      <td>0.444743</td>\n",
       "      <td>39.793975</td>\n",
       "    </tr>\n",
       "    <tr>\n",
       "      <th>std</th>\n",
       "      <td>0.265727</td>\n",
       "      <td>0.159426</td>\n",
       "      <td>0.061951</td>\n",
       "      <td>0.248010</td>\n",
       "      <td>21.735248</td>\n",
       "    </tr>\n",
       "    <tr>\n",
       "      <th>min</th>\n",
       "      <td>-1.355262</td>\n",
       "      <td>-0.011001</td>\n",
       "      <td>-0.108043</td>\n",
       "      <td>0.048692</td>\n",
       "      <td>10.098200</td>\n",
       "    </tr>\n",
       "    <tr>\n",
       "      <th>25%</th>\n",
       "      <td>-0.491366</td>\n",
       "      <td>0.111809</td>\n",
       "      <td>-0.012272</td>\n",
       "      <td>0.257328</td>\n",
       "      <td>18.732150</td>\n",
       "    </tr>\n",
       "    <tr>\n",
       "      <th>50%</th>\n",
       "      <td>-0.228488</td>\n",
       "      <td>0.208603</td>\n",
       "      <td>0.028043</td>\n",
       "      <td>0.382896</td>\n",
       "      <td>34.690600</td>\n",
       "    </tr>\n",
       "    <tr>\n",
       "      <th>75%</th>\n",
       "      <td>-0.098938</td>\n",
       "      <td>0.324366</td>\n",
       "      <td>0.079912</td>\n",
       "      <td>0.629811</td>\n",
       "      <td>60.710800</td>\n",
       "    </tr>\n",
       "    <tr>\n",
       "      <th>max</th>\n",
       "      <td>0.023164</td>\n",
       "      <td>0.882177</td>\n",
       "      <td>0.214643</td>\n",
       "      <td>1.563550</td>\n",
       "      <td>79.741100</td>\n",
       "    </tr>\n",
       "  </tbody>\n",
       "</table>\n",
       "</div>"
      ],
      "text/plain": [
       "                u           v           w  wind_speed    wind_dir\n",
       "count  223.000000  223.000000  223.000000  223.000000  223.000000\n",
       "mean    -0.316924    0.240852    0.034075    0.444743   39.793975\n",
       "std      0.265727    0.159426    0.061951    0.248010   21.735248\n",
       "min     -1.355262   -0.011001   -0.108043    0.048692   10.098200\n",
       "25%     -0.491366    0.111809   -0.012272    0.257328   18.732150\n",
       "50%     -0.228488    0.208603    0.028043    0.382896   34.690600\n",
       "75%     -0.098938    0.324366    0.079912    0.629811   60.710800\n",
       "max      0.023164    0.882177    0.214643    1.563550   79.741100"
      ]
     },
     "execution_count": 78,
     "metadata": {},
     "output_type": "execute_result"
    }
   ],
   "source": [
    "wm1f.describe()"
   ]
  },
  {
   "cell_type": "code",
   "execution_count": 10,
   "metadata": {},
   "outputs": [
    {
     "data": {
      "text/html": [
       "<div>\n",
       "<style scoped>\n",
       "    .dataframe tbody tr th:only-of-type {\n",
       "        vertical-align: middle;\n",
       "    }\n",
       "\n",
       "    .dataframe tbody tr th {\n",
       "        vertical-align: top;\n",
       "    }\n",
       "\n",
       "    .dataframe thead th {\n",
       "        text-align: right;\n",
       "    }\n",
       "</style>\n",
       "<table border=\"1\" class=\"dataframe\">\n",
       "  <thead>\n",
       "    <tr style=\"text-align: right;\">\n",
       "      <th></th>\n",
       "      <th>u</th>\n",
       "      <th>w</th>\n",
       "    </tr>\n",
       "    <tr>\n",
       "      <th>date_time</th>\n",
       "      <th></th>\n",
       "      <th></th>\n",
       "    </tr>\n",
       "  </thead>\n",
       "  <tbody>\n",
       "    <tr>\n",
       "      <th>2018-08-10 00:10:00</th>\n",
       "      <td>0.233339</td>\n",
       "      <td>-0.115024</td>\n",
       "    </tr>\n",
       "    <tr>\n",
       "      <th>2018-08-10 00:25:00</th>\n",
       "      <td>0.284754</td>\n",
       "      <td>-0.071321</td>\n",
       "    </tr>\n",
       "    <tr>\n",
       "      <th>2018-08-10 00:30:00</th>\n",
       "      <td>0.240525</td>\n",
       "      <td>-0.013114</td>\n",
       "    </tr>\n",
       "    <tr>\n",
       "      <th>2018-08-10 01:25:00</th>\n",
       "      <td>0.200786</td>\n",
       "      <td>-0.129331</td>\n",
       "    </tr>\n",
       "    <tr>\n",
       "      <th>2018-08-10 01:30:00</th>\n",
       "      <td>0.285273</td>\n",
       "      <td>-0.084309</td>\n",
       "    </tr>\n",
       "    <tr>\n",
       "      <th>...</th>\n",
       "      <td>...</td>\n",
       "      <td>...</td>\n",
       "    </tr>\n",
       "    <tr>\n",
       "      <th>2018-08-13 12:00:00</th>\n",
       "      <td>0.361547</td>\n",
       "      <td>0.020444</td>\n",
       "    </tr>\n",
       "    <tr>\n",
       "      <th>2018-08-13 22:05:00</th>\n",
       "      <td>0.271255</td>\n",
       "      <td>-0.119599</td>\n",
       "    </tr>\n",
       "    <tr>\n",
       "      <th>2018-08-13 22:35:00</th>\n",
       "      <td>0.275183</td>\n",
       "      <td>-0.211444</td>\n",
       "    </tr>\n",
       "    <tr>\n",
       "      <th>2018-08-13 22:55:00</th>\n",
       "      <td>0.216812</td>\n",
       "      <td>-0.217140</td>\n",
       "    </tr>\n",
       "    <tr>\n",
       "      <th>2018-08-13 23:35:00</th>\n",
       "      <td>0.281367</td>\n",
       "      <td>-0.091929</td>\n",
       "    </tr>\n",
       "  </tbody>\n",
       "</table>\n",
       "<p>222 rows × 2 columns</p>\n",
       "</div>"
      ],
      "text/plain": [
       "                            u         w\n",
       "date_time                              \n",
       "2018-08-10 00:10:00  0.233339 -0.115024\n",
       "2018-08-10 00:25:00  0.284754 -0.071321\n",
       "2018-08-10 00:30:00  0.240525 -0.013114\n",
       "2018-08-10 01:25:00  0.200786 -0.129331\n",
       "2018-08-10 01:30:00  0.285273 -0.084309\n",
       "...                       ...       ...\n",
       "2018-08-13 12:00:00  0.361547  0.020444\n",
       "2018-08-13 22:05:00  0.271255 -0.119599\n",
       "2018-08-13 22:35:00  0.275183 -0.211444\n",
       "2018-08-13 22:55:00  0.216812 -0.217140\n",
       "2018-08-13 23:35:00  0.281367 -0.091929\n",
       "\n",
       "[222 rows x 2 columns]"
      ]
     },
     "execution_count": 10,
     "metadata": {},
     "output_type": "execute_result"
    }
   ],
   "source": [
    "trs2f_r = rotate_wind(trs2f, -45).rename(columns={'v': 'w'}); trs2f_r"
   ]
  },
  {
   "cell_type": "code",
   "execution_count": 11,
   "metadata": {},
   "outputs": [
    {
     "name": "stderr",
     "output_type": "stream",
     "text": [
      "/home/simone/.local/lib/python3.7/site-packages/ipykernel_launcher.py:1: UserWarning: Pandas doesn't allow columns to be created via a new attribute name - see https://pandas.pydata.org/pandas-docs/stable/indexing.html#attribute-access\n",
      "  \"\"\"Entry point for launching an IPython kernel.\n",
      "/home/simone/.local/lib/python3.7/site-packages/ipykernel_launcher.py:2: UserWarning: Pandas doesn't allow columns to be created via a new attribute name - see https://pandas.pydata.org/pandas-docs/stable/indexing.html#attribute-access\n",
      "  \n"
     ]
    }
   ],
   "source": [
    "trs2f_r.plot_info = {'label': 'TRS2', 'color': \"royalblue\"}\n",
    "wm1f.plot_info = {'label': 'WM1', 'color': \"green\"}"
   ]
  },
  {
   "cell_type": "code",
   "execution_count": 114,
   "metadata": {},
   "outputs": [],
   "source": [
    "\n",
    "plot_components_scatter(trs2f_r, wm1f, \"w\")"
   ]
  },
  {
   "cell_type": "markdown",
   "metadata": {},
   "source": [
    "#### test with wind_speed"
   ]
  },
  {
   "cell_type": "code",
   "execution_count": 12,
   "metadata": {},
   "outputs": [],
   "source": [
    "trs2f_r = add_wind_speed(trs2f)\n",
    "wm1f = add_wind_speed(wm1f)"
   ]
  },
  {
   "cell_type": "code",
   "execution_count": 176,
   "metadata": {},
   "outputs": [],
   "source": []
  },
  {
   "cell_type": "code",
   "execution_count": 15,
   "metadata": {},
   "outputs": [
    {
     "name": "stderr",
     "output_type": "stream",
     "text": [
      "/home/simone/.local/lib/python3.7/site-packages/ipykernel_launcher.py:1: UserWarning: Pandas doesn't allow columns to be created via a new attribute name - see https://pandas.pydata.org/pandas-docs/stable/indexing.html#attribute-access\n",
      "  \"\"\"Entry point for launching an IPython kernel.\n",
      "/home/simone/.local/lib/python3.7/site-packages/ipykernel_launcher.py:2: UserWarning: Pandas doesn't allow columns to be created via a new attribute name - see https://pandas.pydata.org/pandas-docs/stable/indexing.html#attribute-access\n",
      "  \n"
     ]
    }
   ],
   "source": [
    "trs2f.plot_info = {'label': 'TRS2', 'color': \"royalblue\"}\n",
    "wm1f.plot_info = {'label': 'WM1', 'color': \"green\"}"
   ]
  },
  {
   "cell_type": "code",
   "execution_count": 13,
   "metadata": {},
   "outputs": [],
   "source": [
    "plot_components([trs2f, wm1f], ['wind_speed'])"
   ]
  },
  {
   "cell_type": "code",
   "execution_count": 138,
   "metadata": {},
   "outputs": [
    {
     "data": {
      "image/png": "[encoded data removed]",
      "text/plain": [
       "<Figure size 1152x864 with 1 Axes>"
      ]
     },
     "metadata": {
      "needs_background": "light"
     },
     "output_type": "display_data"
    }
   ],
   "source": [
    "plot_components_scatter([trs2f, wm1f], ['wind_speed'])"
   ]
  },
  {
   "cell_type": "code",
   "execution_count": 16,
   "metadata": {},
   "outputs": [],
   "source": [
    "plot_components_scatter([trs2f, wm1f], ['wind_speed'])"
   ]
  },
  {
   "cell_type": "markdown",
   "metadata": {},
   "source": [
    "# Try to fit rotation to find w"
   ]
  },
  {
   "cell_type": "code",
   "execution_count": 121,
   "metadata": {},
   "outputs": [
    {
     "ename": "ModuleNotFoundError",
     "evalue": "No module named 'torch'",
     "output_type": "error",
     "traceback": [
      "\u001b[0;31m---------------------------------------------------------------------------\u001b[0m",
      "\u001b[0;31mModuleNotFoundError\u001b[0m                       Traceback (most recent call last)",
      "\u001b[0;32m<ipython-input-121-eb42ca6e4af3>\u001b[0m in \u001b[0;36m<module>\u001b[0;34m\u001b[0m\n\u001b[0;32m----> 1\u001b[0;31m \u001b[0;32mimport\u001b[0m \u001b[0mtorch\u001b[0m\u001b[0;34m\u001b[0m\u001b[0;34m\u001b[0m\u001b[0m\n\u001b[0m",
      "\u001b[0;31mModuleNotFoundError\u001b[0m: No module named 'torch'"
     ]
    }
   ],
   "source": [
    "import torch"
   ]
  },
  {
   "cell_type": "code",
   "execution_count": 145,
   "metadata": {},
   "outputs": [],
   "source": [
    "def mse(x, y): return (x-y).pow(2).mean()"
   ]
  },
  {
   "cell_type": "code",
   "execution_count": null,
   "metadata": {},
   "outputs": [],
   "source": [
    "y_train = wm1f.w\n",
    "x_train = trs2f"
   ]
  },
  {
   "cell_type": "code",
   "execution_count": 151,
   "metadata": {},
   "outputs": [],
   "source": [
    "errs = []\n",
    "for i in range(-180, 180):\n",
    "    pred = rotate_wind(trs2f, i).v\n",
    "    errs.append((i, mse(pred , wm1f.w)))\n",
    "errs = pd.DataFrame(errs, columns=['ang','mse'])"
   ]
  },
  {
   "cell_type": "code",
   "execution_count": 164,
   "metadata": {},
   "outputs": [
    {
     "data": {
      "text/html": [
       "<div>\n",
       "<style scoped>\n",
       "    .dataframe tbody tr th:only-of-type {\n",
       "        vertical-align: middle;\n",
       "    }\n",
       "\n",
       "    .dataframe tbody tr th {\n",
       "        vertical-align: top;\n",
       "    }\n",
       "\n",
       "    .dataframe thead th {\n",
       "        text-align: right;\n",
       "    }\n",
       "</style>\n",
       "<table border=\"1\" class=\"dataframe\">\n",
       "  <thead>\n",
       "    <tr style=\"text-align: right;\">\n",
       "      <th></th>\n",
       "      <th>ang</th>\n",
       "      <th>mse</th>\n",
       "    </tr>\n",
       "  </thead>\n",
       "  <tbody>\n",
       "    <tr>\n",
       "      <th>57</th>\n",
       "      <td>-123</td>\n",
       "      <td>0.007027</td>\n",
       "    </tr>\n",
       "    <tr>\n",
       "      <th>56</th>\n",
       "      <td>-124</td>\n",
       "      <td>0.007069</td>\n",
       "    </tr>\n",
       "    <tr>\n",
       "      <th>58</th>\n",
       "      <td>-122</td>\n",
       "      <td>0.007132</td>\n",
       "    </tr>\n",
       "    <tr>\n",
       "      <th>55</th>\n",
       "      <td>-125</td>\n",
       "      <td>0.007259</td>\n",
       "    </tr>\n",
       "    <tr>\n",
       "      <th>59</th>\n",
       "      <td>-121</td>\n",
       "      <td>0.007386</td>\n",
       "    </tr>\n",
       "    <tr>\n",
       "      <th>54</th>\n",
       "      <td>-126</td>\n",
       "      <td>0.007595</td>\n",
       "    </tr>\n",
       "    <tr>\n",
       "      <th>60</th>\n",
       "      <td>-120</td>\n",
       "      <td>0.007789</td>\n",
       "    </tr>\n",
       "    <tr>\n",
       "      <th>53</th>\n",
       "      <td>-127</td>\n",
       "      <td>0.008077</td>\n",
       "    </tr>\n",
       "    <tr>\n",
       "      <th>61</th>\n",
       "      <td>-119</td>\n",
       "      <td>0.008341</td>\n",
       "    </tr>\n",
       "    <tr>\n",
       "      <th>52</th>\n",
       "      <td>-128</td>\n",
       "      <td>0.008703</td>\n",
       "    </tr>\n",
       "  </tbody>\n",
       "</table>\n",
       "</div>"
      ],
      "text/plain": [
       "    ang       mse\n",
       "57 -123  0.007027\n",
       "56 -124  0.007069\n",
       "58 -122  0.007132\n",
       "55 -125  0.007259\n",
       "59 -121  0.007386\n",
       "54 -126  0.007595\n",
       "60 -120  0.007789\n",
       "53 -127  0.008077\n",
       "61 -119  0.008341\n",
       "52 -128  0.008703"
      ]
     },
     "execution_count": 164,
     "metadata": {},
     "output_type": "execute_result"
    }
   ],
   "source": [
    "errs.iloc[errs.mse.nsmallest(10).index]"
   ]
  },
  {
   "cell_type": "code",
   "execution_count": 156,
   "metadata": {},
   "outputs": [
    {
     "data": {
      "text/plain": [
       "ang   -123.000000\n",
       "mse      0.007027\n",
       "Name: 57, dtype: float64"
      ]
     },
     "execution_count": 156,
     "metadata": {},
     "output_type": "execute_result"
    }
   ],
   "source": [
    "errs.iloc[57]"
   ]
  },
  {
   "cell_type": "code",
   "execution_count": 10,
   "metadata": {},
   "outputs": [
    {
     "data": {
      "text/html": [
       "<div>\n",
       "<style scoped>\n",
       "    .dataframe tbody tr th:only-of-type {\n",
       "        vertical-align: middle;\n",
       "    }\n",
       "\n",
       "    .dataframe tbody tr th {\n",
       "        vertical-align: top;\n",
       "    }\n",
       "\n",
       "    .dataframe thead th {\n",
       "        text-align: right;\n",
       "    }\n",
       "</style>\n",
       "<table border=\"1\" class=\"dataframe\">\n",
       "  <thead>\n",
       "    <tr style=\"text-align: right;\">\n",
       "      <th></th>\n",
       "      <th>u</th>\n",
       "      <th>w</th>\n",
       "    </tr>\n",
       "    <tr>\n",
       "      <th>date_time</th>\n",
       "      <th></th>\n",
       "      <th></th>\n",
       "    </tr>\n",
       "  </thead>\n",
       "  <tbody>\n",
       "    <tr>\n",
       "      <th>2018-08-10 00:10:00</th>\n",
       "      <td>0.255159</td>\n",
       "      <td>0.050712</td>\n",
       "    </tr>\n",
       "    <tr>\n",
       "      <th>2018-08-10 00:15:00</th>\n",
       "      <td>0.258456</td>\n",
       "      <td>0.003754</td>\n",
       "    </tr>\n",
       "    <tr>\n",
       "      <th>2018-08-10 00:25:00</th>\n",
       "      <td>0.293510</td>\n",
       "      <td>-0.004809</td>\n",
       "    </tr>\n",
       "    <tr>\n",
       "      <th>2018-08-10 00:30:00</th>\n",
       "      <td>0.235724</td>\n",
       "      <td>-0.049585</td>\n",
       "    </tr>\n",
       "    <tr>\n",
       "      <th>2018-08-10 00:45:00</th>\n",
       "      <td>0.202144</td>\n",
       "      <td>-0.032217</td>\n",
       "    </tr>\n",
       "    <tr>\n",
       "      <th>...</th>\n",
       "      <td>...</td>\n",
       "      <td>...</td>\n",
       "    </tr>\n",
       "    <tr>\n",
       "      <th>2018-08-13 22:25:00</th>\n",
       "      <td>0.192021</td>\n",
       "      <td>0.182551</td>\n",
       "    </tr>\n",
       "    <tr>\n",
       "      <th>2018-08-13 22:35:00</th>\n",
       "      <td>0.320532</td>\n",
       "      <td>0.133017</td>\n",
       "    </tr>\n",
       "    <tr>\n",
       "      <th>2018-08-13 22:55:00</th>\n",
       "      <td>0.265624</td>\n",
       "      <td>0.153626</td>\n",
       "    </tr>\n",
       "    <tr>\n",
       "      <th>2018-08-13 23:35:00</th>\n",
       "      <td>0.295573</td>\n",
       "      <td>0.015973</td>\n",
       "    </tr>\n",
       "    <tr>\n",
       "      <th>2018-08-13 23:40:00</th>\n",
       "      <td>0.341003</td>\n",
       "      <td>-0.026635</td>\n",
       "    </tr>\n",
       "  </tbody>\n",
       "</table>\n",
       "<p>262 rows × 2 columns</p>\n",
       "</div>"
      ],
      "text/plain": [
       "                            u         w\n",
       "date_time                              \n",
       "2018-08-10 00:10:00  0.255159  0.050712\n",
       "2018-08-10 00:15:00  0.258456  0.003754\n",
       "2018-08-10 00:25:00  0.293510 -0.004809\n",
       "2018-08-10 00:30:00  0.235724 -0.049585\n",
       "2018-08-10 00:45:00  0.202144 -0.032217\n",
       "...                       ...       ...\n",
       "2018-08-13 22:25:00  0.192021  0.182551\n",
       "2018-08-13 22:35:00  0.320532  0.133017\n",
       "2018-08-13 22:55:00  0.265624  0.153626\n",
       "2018-08-13 23:35:00  0.295573  0.015973\n",
       "2018-08-13 23:40:00  0.341003 -0.026635\n",
       "\n",
       "[262 rows x 2 columns]"
      ]
     },
     "execution_count": 10,
     "metadata": {},
     "output_type": "execute_result"
    }
   ],
   "source": [
    "trs2f_r = rotate_wind(trs2f, -120).rename(columns={'v': 'w'}); trs2f_r"
   ]
  },
  {
   "cell_type": "code",
   "execution_count": 159,
   "metadata": {},
   "outputs": [
    {
     "data": {
      "image/png": "[encoded data removed]",
      "text/plain": [
       "<Figure size 1152x864 with 1 Axes>"
      ]
     },
     "metadata": {
      "needs_background": "light"
     },
     "output_type": "display_data"
    }
   ],
   "source": [
    "plot_components_scatter([wm1f, trs2f_r], 'w')"
   ]
  },
  {
   "cell_type": "code",
   "execution_count": 177,
   "metadata": {},
   "outputs": [
    {
     "data": {
      "image/png": "[encoded data removed]",
      "text/plain": [
       "<Figure size 1152x864 with 1 Axes>"
      ]
     },
     "metadata": {
      "needs_background": "light"
     },
     "output_type": "display_data"
    }
   ],
   "source": [
    "plot_components([wm1f, trs2f_r], 'w', style=\"o:\")"
   ]
  },
  {
   "cell_type": "code",
   "execution_count": 17,
   "metadata": {},
   "outputs": [
    {
     "name": "stderr",
     "output_type": "stream",
     "text": [
      "/home/simone/.local/lib/python3.7/site-packages/ipykernel_launcher.py:2: UserWarning: Pandas doesn't allow columns to be created via a new attribute name - see https://pandas.pydata.org/pandas-docs/stable/indexing.html#attribute-access\n",
      "  \n"
     ]
    }
   ],
   "source": [
    "trs2f_r.plot_info = {'label': 'TRS2', 'color': \"royalblue\"}\n",
    "wm1f.plot_info = {'label': 'WM1', 'color': \"green\"}\n",
    "plot_components([wm1f, trs2f_r], 'w', linestyle=\":\", marker=\"o\")"
   ]
  },
  {
   "cell_type": "code",
   "execution_count": 54,
   "metadata": {},
   "outputs": [
    {
     "data": {
      "text/plain": [
       "date_time\n",
       "2018-08-10 17:20:00    0.000383\n",
       "2018-08-13 00:55:00    0.000916\n",
       "2018-08-10 21:55:00    0.001363\n",
       "2018-08-10 13:15:00    0.001564\n",
       "2018-08-12 21:05:00    0.001780\n",
       "2018-08-12 13:05:00    0.002752\n",
       "2018-08-12 22:20:00    0.003131\n",
       "2018-08-13 02:35:00    0.003180\n",
       "2018-08-11 10:35:00    0.003814\n",
       "2018-08-12 16:05:00    0.003845\n",
       "dtype: float64"
      ]
     },
     "execution_count": 54,
     "metadata": {},
     "output_type": "execute_result"
    }
   ],
   "source": [
    "(rotate_wind(trs2f, -45).v - wm1f.w).abs().nsmallest(10)"
   ]
  },
  {
   "cell_type": "code",
   "execution_count": 49,
   "metadata": {},
   "outputs": [
    {
     "data": {
      "text/plain": [
       "<matplotlib.axes._subplots.AxesSubplot at 0x7fd82c590510>"
      ]
     },
     "execution_count": 49,
     "metadata": {},
     "output_type": "execute_result"
    },
    {
     "data": {
      "image/png": "[encoded data removed]",
      "text/plain": [
       "<Figure size 432x288 with 1 Axes>"
      ]
     },
     "metadata": {
      "needs_background": "light"
     },
     "output_type": "display_data"
    }
   ],
   "source": [
    "sns.distplot(wm1.wind_dir)"
   ]
  },
  {
   "cell_type": "code",
   "execution_count": null,
   "metadata": {},
   "outputs": [],
   "source": []
  }
 ],
 "metadata": {
  "kernelspec": {
   "display_name": "Python [conda env:root] *",
   "language": "python",
   "name": "conda-root-py"
  },
  "language_info": {
   "codemirror_mode": {
    "name": "ipython",
    "version": 3
   },
   "file_extension": ".py",
   "mimetype": "text/x-python",
   "name": "python",
   "nbconvert_exporter": "python",
   "pygments_lexer": "ipython3",
   "version": "3.7.6"
  },
  "varInspector": {
   "cols": {
    "lenName": 16,
    "lenType": 16,
    "lenVar": 40
   },
   "kernels_config": {
    "python": {
     "delete_cmd_postfix": "",
     "delete_cmd_prefix": "del ",
     "library": "var_list.py",
     "varRefreshCmd": "print(var_dic_list())"
    },
    "r": {
     "delete_cmd_postfix": ") ",
     "delete_cmd_prefix": "rm(",
     "library": "var_list.r",
     "varRefreshCmd": "cat(var_dic_list()) "
    }
   },
   "types_to_exclude": [
    "module",
    "function",
    "builtin_function_or_method",
    "instance",
    "_Feature"
   ],
   "window_display": false
  }
 },
 "nbformat": 4,
 "nbformat_minor": 4
}
